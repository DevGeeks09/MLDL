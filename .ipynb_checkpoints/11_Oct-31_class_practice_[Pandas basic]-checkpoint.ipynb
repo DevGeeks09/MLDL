{
 "cells": [
  {
   "cell_type": "code",
   "execution_count": 1,
   "id": "3f19f8d5",
   "metadata": {},
   "outputs": [],
   "source": [
    "import pandas as pd"
   ]
  },
  {
   "cell_type": "code",
   "execution_count": 2,
   "id": "3afdf7f1",
   "metadata": {},
   "outputs": [],
   "source": [
    "dict11 = {\"name\" : [\"ineuron\", \"ankita\", \"abhishek\", \"raman\"],\n",
    "       \"number\" : [12,55,87,26],\n",
    "       \"test\" : [\"xyz\", \"bien\",\"wien\", \"ABC\"],\n",
    "       \"string\" : [\"dhjfbshj\", \"honey\", \"regarder\", \"returned\"]}\n",
    "\n",
    "dict12 = {\"name\" : [\"surya\", \"sudhesh\", \"manish\", \"lovely\"],\n",
    "       \"number\" : [14,65,77,6],\n",
    "       \"test\" : [\"xyz\", \"bien\",\"wien\", \"ABC\"],\n",
    "       \"string\" : [\"djkfdfaa\", \"detail\", \"onus\", \"returned\"]}\n",
    "\n",
    "dict13 = {\"name\" : [\"ineuron13\", \"ankita13\", \"abhishek13\", \"raman13\"],\n",
    "       \"number\" : [12,55,87,26],\n",
    "       \"test\" : [\"xyz13\", \"bien13\",\"wien13\", \"ABC13\"]}\n",
    "\n",
    "dict14 = {\"name\" : [\"ineuron\", \"manish\", \"abhishek\", \"lovely\"],\n",
    "       \"number\" : [12,66,87,26],\n",
    "       \"test\" : [\"xyz\", \"bien\",\"wien\", \"ABC\"],\n",
    "       \"string\" : [\"dhjfbshj\", \"honey\", \"regarder\", \"returned\"]}\n",
    "\n",
    "dict15 = {\"name1\" : [\"ineuron\", \"ankita13\", \"abhishek\", \"raman13\"],\n",
    "       \"number\" : [12,55,87,26],\n",
    "       \"test\" : [\"xyz13\", \"bien13\",\"wien13\", \"ABC13\"]}\n",
    "\n",
    "dict16 = {\"name1\" : [\"ineuron\", \"ankita13\", \"abhishek\", \"raman13\"],\n",
    "       \"number1\" : [12,55,87,26],\n",
    "       \"test1\" : [\"xyz13\", \"bien13\",\"wien13\", \"ABC13\"]}"
   ]
  },
  {
   "cell_type": "code",
   "execution_count": 11,
   "id": "585af26a",
   "metadata": {},
   "outputs": [],
   "source": [
    "df1 = pd.DataFrame(dict11)\n",
    "df2 = pd.DataFrame(dict12)\n",
    "df3 = pd.DataFrame(dict13)\n",
    "df6 = pd.DataFrame(dict14)\n",
    "df7 = pd.DataFrame(dict15)\n",
    "df8 = pd.DataFrame(dict16)\n",
    "df9 = pd.DataFrame(dict16, index=[4,5,6,7])"
   ]
  },
  {
   "cell_type": "code",
   "execution_count": 4,
   "id": "95e0ed2b",
   "metadata": {},
   "outputs": [
    {
     "data": {
      "text/plain": [
       "'Table df1'"
      ]
     },
     "metadata": {},
     "output_type": "display_data"
    },
    {
     "data": {
      "text/html": [
       "<div>\n",
       "<style scoped>\n",
       "    .dataframe tbody tr th:only-of-type {\n",
       "        vertical-align: middle;\n",
       "    }\n",
       "\n",
       "    .dataframe tbody tr th {\n",
       "        vertical-align: top;\n",
       "    }\n",
       "\n",
       "    .dataframe thead th {\n",
       "        text-align: right;\n",
       "    }\n",
       "</style>\n",
       "<table border=\"1\" class=\"dataframe\">\n",
       "  <thead>\n",
       "    <tr style=\"text-align: right;\">\n",
       "      <th></th>\n",
       "      <th>name</th>\n",
       "      <th>number</th>\n",
       "      <th>test</th>\n",
       "      <th>string</th>\n",
       "    </tr>\n",
       "  </thead>\n",
       "  <tbody>\n",
       "    <tr>\n",
       "      <th>0</th>\n",
       "      <td>ineuron</td>\n",
       "      <td>12</td>\n",
       "      <td>xyz</td>\n",
       "      <td>dhjfbshj</td>\n",
       "    </tr>\n",
       "    <tr>\n",
       "      <th>1</th>\n",
       "      <td>ankita</td>\n",
       "      <td>55</td>\n",
       "      <td>bien</td>\n",
       "      <td>honey</td>\n",
       "    </tr>\n",
       "    <tr>\n",
       "      <th>2</th>\n",
       "      <td>abhishek</td>\n",
       "      <td>87</td>\n",
       "      <td>wien</td>\n",
       "      <td>regarder</td>\n",
       "    </tr>\n",
       "    <tr>\n",
       "      <th>3</th>\n",
       "      <td>raman</td>\n",
       "      <td>26</td>\n",
       "      <td>ABC</td>\n",
       "      <td>returned</td>\n",
       "    </tr>\n",
       "  </tbody>\n",
       "</table>\n",
       "</div>"
      ],
      "text/plain": [
       "       name  number  test    string\n",
       "0   ineuron      12   xyz  dhjfbshj\n",
       "1    ankita      55  bien     honey\n",
       "2  abhishek      87  wien  regarder\n",
       "3     raman      26   ABC  returned"
      ]
     },
     "metadata": {},
     "output_type": "display_data"
    },
    {
     "data": {
      "text/plain": [
       "'Table df2'"
      ]
     },
     "metadata": {},
     "output_type": "display_data"
    },
    {
     "data": {
      "text/html": [
       "<div>\n",
       "<style scoped>\n",
       "    .dataframe tbody tr th:only-of-type {\n",
       "        vertical-align: middle;\n",
       "    }\n",
       "\n",
       "    .dataframe tbody tr th {\n",
       "        vertical-align: top;\n",
       "    }\n",
       "\n",
       "    .dataframe thead th {\n",
       "        text-align: right;\n",
       "    }\n",
       "</style>\n",
       "<table border=\"1\" class=\"dataframe\">\n",
       "  <thead>\n",
       "    <tr style=\"text-align: right;\">\n",
       "      <th></th>\n",
       "      <th>name</th>\n",
       "      <th>number</th>\n",
       "      <th>test</th>\n",
       "      <th>string</th>\n",
       "    </tr>\n",
       "  </thead>\n",
       "  <tbody>\n",
       "    <tr>\n",
       "      <th>0</th>\n",
       "      <td>surya</td>\n",
       "      <td>14</td>\n",
       "      <td>xyz</td>\n",
       "      <td>djkfdfaa</td>\n",
       "    </tr>\n",
       "    <tr>\n",
       "      <th>1</th>\n",
       "      <td>sudhesh</td>\n",
       "      <td>65</td>\n",
       "      <td>bien</td>\n",
       "      <td>detail</td>\n",
       "    </tr>\n",
       "    <tr>\n",
       "      <th>2</th>\n",
       "      <td>manish</td>\n",
       "      <td>77</td>\n",
       "      <td>wien</td>\n",
       "      <td>onus</td>\n",
       "    </tr>\n",
       "    <tr>\n",
       "      <th>3</th>\n",
       "      <td>lovely</td>\n",
       "      <td>6</td>\n",
       "      <td>ABC</td>\n",
       "      <td>returned</td>\n",
       "    </tr>\n",
       "  </tbody>\n",
       "</table>\n",
       "</div>"
      ],
      "text/plain": [
       "      name  number  test    string\n",
       "0    surya      14   xyz  djkfdfaa\n",
       "1  sudhesh      65  bien    detail\n",
       "2   manish      77  wien      onus\n",
       "3   lovely       6   ABC  returned"
      ]
     },
     "metadata": {},
     "output_type": "display_data"
    }
   ],
   "source": [
    "display(\"Table df1\",df1)\n",
    "display(\"Table df2\", df2)"
   ]
  },
  {
   "cell_type": "markdown",
   "id": "6cbc7060",
   "metadata": {},
   "source": [
    "## How to concat two dataframes in Pandas"
   ]
  },
  {
   "cell_type": "code",
   "execution_count": 5,
   "id": "ec861457",
   "metadata": {},
   "outputs": [
    {
     "data": {
      "text/plain": [
       "'concat df1 and df2 vertically'"
      ]
     },
     "metadata": {},
     "output_type": "display_data"
    },
    {
     "data": {
      "text/html": [
       "<div>\n",
       "<style scoped>\n",
       "    .dataframe tbody tr th:only-of-type {\n",
       "        vertical-align: middle;\n",
       "    }\n",
       "\n",
       "    .dataframe tbody tr th {\n",
       "        vertical-align: top;\n",
       "    }\n",
       "\n",
       "    .dataframe thead th {\n",
       "        text-align: right;\n",
       "    }\n",
       "</style>\n",
       "<table border=\"1\" class=\"dataframe\">\n",
       "  <thead>\n",
       "    <tr style=\"text-align: right;\">\n",
       "      <th></th>\n",
       "      <th>name</th>\n",
       "      <th>number</th>\n",
       "      <th>test</th>\n",
       "      <th>string</th>\n",
       "    </tr>\n",
       "  </thead>\n",
       "  <tbody>\n",
       "    <tr>\n",
       "      <th>0</th>\n",
       "      <td>ineuron</td>\n",
       "      <td>12</td>\n",
       "      <td>xyz</td>\n",
       "      <td>dhjfbshj</td>\n",
       "    </tr>\n",
       "    <tr>\n",
       "      <th>1</th>\n",
       "      <td>ankita</td>\n",
       "      <td>55</td>\n",
       "      <td>bien</td>\n",
       "      <td>honey</td>\n",
       "    </tr>\n",
       "    <tr>\n",
       "      <th>2</th>\n",
       "      <td>abhishek</td>\n",
       "      <td>87</td>\n",
       "      <td>wien</td>\n",
       "      <td>regarder</td>\n",
       "    </tr>\n",
       "    <tr>\n",
       "      <th>3</th>\n",
       "      <td>raman</td>\n",
       "      <td>26</td>\n",
       "      <td>ABC</td>\n",
       "      <td>returned</td>\n",
       "    </tr>\n",
       "    <tr>\n",
       "      <th>0</th>\n",
       "      <td>surya</td>\n",
       "      <td>14</td>\n",
       "      <td>xyz</td>\n",
       "      <td>djkfdfaa</td>\n",
       "    </tr>\n",
       "    <tr>\n",
       "      <th>1</th>\n",
       "      <td>sudhesh</td>\n",
       "      <td>65</td>\n",
       "      <td>bien</td>\n",
       "      <td>detail</td>\n",
       "    </tr>\n",
       "    <tr>\n",
       "      <th>2</th>\n",
       "      <td>manish</td>\n",
       "      <td>77</td>\n",
       "      <td>wien</td>\n",
       "      <td>onus</td>\n",
       "    </tr>\n",
       "    <tr>\n",
       "      <th>3</th>\n",
       "      <td>lovely</td>\n",
       "      <td>6</td>\n",
       "      <td>ABC</td>\n",
       "      <td>returned</td>\n",
       "    </tr>\n",
       "  </tbody>\n",
       "</table>\n",
       "</div>"
      ],
      "text/plain": [
       "       name  number  test    string\n",
       "0   ineuron      12   xyz  dhjfbshj\n",
       "1    ankita      55  bien     honey\n",
       "2  abhishek      87  wien  regarder\n",
       "3     raman      26   ABC  returned\n",
       "0     surya      14   xyz  djkfdfaa\n",
       "1   sudhesh      65  bien    detail\n",
       "2    manish      77  wien      onus\n",
       "3    lovely       6   ABC  returned"
      ]
     },
     "metadata": {},
     "output_type": "display_data"
    },
    {
     "data": {
      "text/plain": [
       "'concat df1 and df2 horizontally'"
      ]
     },
     "metadata": {},
     "output_type": "display_data"
    },
    {
     "data": {
      "text/html": [
       "<div>\n",
       "<style scoped>\n",
       "    .dataframe tbody tr th:only-of-type {\n",
       "        vertical-align: middle;\n",
       "    }\n",
       "\n",
       "    .dataframe tbody tr th {\n",
       "        vertical-align: top;\n",
       "    }\n",
       "\n",
       "    .dataframe thead th {\n",
       "        text-align: right;\n",
       "    }\n",
       "</style>\n",
       "<table border=\"1\" class=\"dataframe\">\n",
       "  <thead>\n",
       "    <tr style=\"text-align: right;\">\n",
       "      <th></th>\n",
       "      <th>name</th>\n",
       "      <th>number</th>\n",
       "      <th>test</th>\n",
       "      <th>string</th>\n",
       "      <th>name</th>\n",
       "      <th>number</th>\n",
       "      <th>test</th>\n",
       "      <th>string</th>\n",
       "    </tr>\n",
       "  </thead>\n",
       "  <tbody>\n",
       "    <tr>\n",
       "      <th>0</th>\n",
       "      <td>ineuron</td>\n",
       "      <td>12</td>\n",
       "      <td>xyz</td>\n",
       "      <td>dhjfbshj</td>\n",
       "      <td>surya</td>\n",
       "      <td>14</td>\n",
       "      <td>xyz</td>\n",
       "      <td>djkfdfaa</td>\n",
       "    </tr>\n",
       "    <tr>\n",
       "      <th>1</th>\n",
       "      <td>ankita</td>\n",
       "      <td>55</td>\n",
       "      <td>bien</td>\n",
       "      <td>honey</td>\n",
       "      <td>sudhesh</td>\n",
       "      <td>65</td>\n",
       "      <td>bien</td>\n",
       "      <td>detail</td>\n",
       "    </tr>\n",
       "    <tr>\n",
       "      <th>2</th>\n",
       "      <td>abhishek</td>\n",
       "      <td>87</td>\n",
       "      <td>wien</td>\n",
       "      <td>regarder</td>\n",
       "      <td>manish</td>\n",
       "      <td>77</td>\n",
       "      <td>wien</td>\n",
       "      <td>onus</td>\n",
       "    </tr>\n",
       "    <tr>\n",
       "      <th>3</th>\n",
       "      <td>raman</td>\n",
       "      <td>26</td>\n",
       "      <td>ABC</td>\n",
       "      <td>returned</td>\n",
       "      <td>lovely</td>\n",
       "      <td>6</td>\n",
       "      <td>ABC</td>\n",
       "      <td>returned</td>\n",
       "    </tr>\n",
       "  </tbody>\n",
       "</table>\n",
       "</div>"
      ],
      "text/plain": [
       "       name  number  test    string     name  number  test    string\n",
       "0   ineuron      12   xyz  dhjfbshj    surya      14   xyz  djkfdfaa\n",
       "1    ankita      55  bien     honey  sudhesh      65  bien    detail\n",
       "2  abhishek      87  wien  regarder   manish      77  wien      onus\n",
       "3     raman      26   ABC  returned   lovely       6   ABC  returned"
      ]
     },
     "metadata": {},
     "output_type": "display_data"
    },
    {
     "data": {
      "text/plain": [
       "'concat df3 and df1 with uneven columns'"
      ]
     },
     "metadata": {},
     "output_type": "display_data"
    },
    {
     "data": {
      "text/html": [
       "<div>\n",
       "<style scoped>\n",
       "    .dataframe tbody tr th:only-of-type {\n",
       "        vertical-align: middle;\n",
       "    }\n",
       "\n",
       "    .dataframe tbody tr th {\n",
       "        vertical-align: top;\n",
       "    }\n",
       "\n",
       "    .dataframe thead th {\n",
       "        text-align: right;\n",
       "    }\n",
       "</style>\n",
       "<table border=\"1\" class=\"dataframe\">\n",
       "  <thead>\n",
       "    <tr style=\"text-align: right;\">\n",
       "      <th></th>\n",
       "      <th>name</th>\n",
       "      <th>number</th>\n",
       "      <th>test</th>\n",
       "      <th>string</th>\n",
       "    </tr>\n",
       "  </thead>\n",
       "  <tbody>\n",
       "    <tr>\n",
       "      <th>0</th>\n",
       "      <td>ineuron13</td>\n",
       "      <td>12</td>\n",
       "      <td>xyz13</td>\n",
       "      <td>NaN</td>\n",
       "    </tr>\n",
       "    <tr>\n",
       "      <th>1</th>\n",
       "      <td>ankita13</td>\n",
       "      <td>55</td>\n",
       "      <td>bien13</td>\n",
       "      <td>NaN</td>\n",
       "    </tr>\n",
       "    <tr>\n",
       "      <th>2</th>\n",
       "      <td>abhishek13</td>\n",
       "      <td>87</td>\n",
       "      <td>wien13</td>\n",
       "      <td>NaN</td>\n",
       "    </tr>\n",
       "    <tr>\n",
       "      <th>3</th>\n",
       "      <td>raman13</td>\n",
       "      <td>26</td>\n",
       "      <td>ABC13</td>\n",
       "      <td>NaN</td>\n",
       "    </tr>\n",
       "    <tr>\n",
       "      <th>0</th>\n",
       "      <td>ineuron</td>\n",
       "      <td>12</td>\n",
       "      <td>xyz</td>\n",
       "      <td>dhjfbshj</td>\n",
       "    </tr>\n",
       "    <tr>\n",
       "      <th>1</th>\n",
       "      <td>ankita</td>\n",
       "      <td>55</td>\n",
       "      <td>bien</td>\n",
       "      <td>honey</td>\n",
       "    </tr>\n",
       "    <tr>\n",
       "      <th>2</th>\n",
       "      <td>abhishek</td>\n",
       "      <td>87</td>\n",
       "      <td>wien</td>\n",
       "      <td>regarder</td>\n",
       "    </tr>\n",
       "    <tr>\n",
       "      <th>3</th>\n",
       "      <td>raman</td>\n",
       "      <td>26</td>\n",
       "      <td>ABC</td>\n",
       "      <td>returned</td>\n",
       "    </tr>\n",
       "  </tbody>\n",
       "</table>\n",
       "</div>"
      ],
      "text/plain": [
       "         name  number    test    string\n",
       "0   ineuron13      12   xyz13       NaN\n",
       "1    ankita13      55  bien13       NaN\n",
       "2  abhishek13      87  wien13       NaN\n",
       "3     raman13      26   ABC13       NaN\n",
       "0     ineuron      12     xyz  dhjfbshj\n",
       "1      ankita      55    bien     honey\n",
       "2    abhishek      87    wien  regarder\n",
       "3       raman      26     ABC  returned"
      ]
     },
     "metadata": {},
     "output_type": "display_data"
    },
    {
     "data": {
      "text/plain": [
       "'display df4 selected rows and columns data where rows are sequential'"
      ]
     },
     "metadata": {},
     "output_type": "display_data"
    },
    {
     "data": {
      "text/html": [
       "<div>\n",
       "<style scoped>\n",
       "    .dataframe tbody tr th:only-of-type {\n",
       "        vertical-align: middle;\n",
       "    }\n",
       "\n",
       "    .dataframe tbody tr th {\n",
       "        vertical-align: top;\n",
       "    }\n",
       "\n",
       "    .dataframe thead th {\n",
       "        text-align: right;\n",
       "    }\n",
       "</style>\n",
       "<table border=\"1\" class=\"dataframe\">\n",
       "  <thead>\n",
       "    <tr style=\"text-align: right;\">\n",
       "      <th></th>\n",
       "      <th>number</th>\n",
       "      <th>test</th>\n",
       "    </tr>\n",
       "  </thead>\n",
       "  <tbody>\n",
       "    <tr>\n",
       "      <th>1</th>\n",
       "      <td>55</td>\n",
       "      <td>bien13</td>\n",
       "    </tr>\n",
       "    <tr>\n",
       "      <th>2</th>\n",
       "      <td>87</td>\n",
       "      <td>wien13</td>\n",
       "    </tr>\n",
       "  </tbody>\n",
       "</table>\n",
       "</div>"
      ],
      "text/plain": [
       "   number    test\n",
       "1      55  bien13\n",
       "2      87  wien13"
      ]
     },
     "metadata": {},
     "output_type": "display_data"
    },
    {
     "data": {
      "text/plain": [
       "'display df4 selected rows and columns data where rows are not sequential - way 1'"
      ]
     },
     "metadata": {},
     "output_type": "display_data"
    },
    {
     "data": {
      "text/html": [
       "<div>\n",
       "<style scoped>\n",
       "    .dataframe tbody tr th:only-of-type {\n",
       "        vertical-align: middle;\n",
       "    }\n",
       "\n",
       "    .dataframe tbody tr th {\n",
       "        vertical-align: top;\n",
       "    }\n",
       "\n",
       "    .dataframe thead th {\n",
       "        text-align: right;\n",
       "    }\n",
       "</style>\n",
       "<table border=\"1\" class=\"dataframe\">\n",
       "  <thead>\n",
       "    <tr style=\"text-align: right;\">\n",
       "      <th></th>\n",
       "      <th>test</th>\n",
       "      <th>string</th>\n",
       "    </tr>\n",
       "  </thead>\n",
       "  <tbody>\n",
       "    <tr>\n",
       "      <th>1</th>\n",
       "      <td>bien</td>\n",
       "      <td>honey</td>\n",
       "    </tr>\n",
       "    <tr>\n",
       "      <th>3</th>\n",
       "      <td>ABC</td>\n",
       "      <td>returned</td>\n",
       "    </tr>\n",
       "  </tbody>\n",
       "</table>\n",
       "</div>"
      ],
      "text/plain": [
       "   test    string\n",
       "1  bien     honey\n",
       "3   ABC  returned"
      ]
     },
     "metadata": {},
     "output_type": "display_data"
    },
    {
     "data": {
      "text/plain": [
       "'display df4 selected rows and columns data where rows are not sequential - way 2'"
      ]
     },
     "metadata": {},
     "output_type": "display_data"
    },
    {
     "data": {
      "text/html": [
       "<div>\n",
       "<style scoped>\n",
       "    .dataframe tbody tr th:only-of-type {\n",
       "        vertical-align: middle;\n",
       "    }\n",
       "\n",
       "    .dataframe tbody tr th {\n",
       "        vertical-align: top;\n",
       "    }\n",
       "\n",
       "    .dataframe thead th {\n",
       "        text-align: right;\n",
       "    }\n",
       "</style>\n",
       "<table border=\"1\" class=\"dataframe\">\n",
       "  <thead>\n",
       "    <tr style=\"text-align: right;\">\n",
       "      <th></th>\n",
       "      <th>name</th>\n",
       "      <th>name</th>\n",
       "      <th>test</th>\n",
       "      <th>test</th>\n",
       "      <th>string</th>\n",
       "    </tr>\n",
       "  </thead>\n",
       "  <tbody>\n",
       "    <tr>\n",
       "      <th>1</th>\n",
       "      <td>ankita13</td>\n",
       "      <td>ankita</td>\n",
       "      <td>bien13</td>\n",
       "      <td>bien</td>\n",
       "      <td>honey</td>\n",
       "    </tr>\n",
       "    <tr>\n",
       "      <th>3</th>\n",
       "      <td>raman13</td>\n",
       "      <td>raman</td>\n",
       "      <td>ABC13</td>\n",
       "      <td>ABC</td>\n",
       "      <td>returned</td>\n",
       "    </tr>\n",
       "  </tbody>\n",
       "</table>\n",
       "</div>"
      ],
      "text/plain": [
       "       name    name    test  test    string\n",
       "1  ankita13  ankita  bien13  bien     honey\n",
       "3   raman13   raman   ABC13   ABC  returned"
      ]
     },
     "metadata": {},
     "output_type": "display_data"
    }
   ],
   "source": [
    "display(\"concat df1 and df2 vertically\", pd.concat([df1,df2]))\n",
    "display(\"concat df1 and df2 horizontally\", pd.concat([df1,df2], axis = 1))\n",
    "display(\"concat df3 and df1 with uneven columns\",pd.concat([df3,df1]))\n",
    "\n",
    "df4 = pd.concat([df3,df1], axis =1)\n",
    "\n",
    "df5 = df4.iloc[[1,3]]\n",
    "\n",
    "display(\"display df4 selected rows and columns data where rows are sequential\", df4.iloc[1:3, 1:3])\n",
    "display(\"display df4 selected rows and columns data where rows are not sequential - way 1\", df4.iloc[[1,3],5:])\n",
    "\n",
    "display(\"display df4 selected rows and columns data where rows are not sequential - way 2\", df5[['name','test','string']])"
   ]
  },
  {
   "cell_type": "markdown",
   "id": "f8f92559",
   "metadata": {},
   "source": [
    "## How to merge two dataframes in Pandas "
   ]
  },
  {
   "cell_type": "code",
   "execution_count": 6,
   "id": "e7aa02f4",
   "metadata": {},
   "outputs": [
    {
     "data": {
      "text/plain": [
       "'Merge operation based on column name, by default merge type is inner join'"
      ]
     },
     "metadata": {},
     "output_type": "display_data"
    },
    {
     "data": {
      "text/html": [
       "<div>\n",
       "<style scoped>\n",
       "    .dataframe tbody tr th:only-of-type {\n",
       "        vertical-align: middle;\n",
       "    }\n",
       "\n",
       "    .dataframe tbody tr th {\n",
       "        vertical-align: top;\n",
       "    }\n",
       "\n",
       "    .dataframe thead th {\n",
       "        text-align: right;\n",
       "    }\n",
       "</style>\n",
       "<table border=\"1\" class=\"dataframe\">\n",
       "  <thead>\n",
       "    <tr style=\"text-align: right;\">\n",
       "      <th></th>\n",
       "      <th>name</th>\n",
       "      <th>number_x</th>\n",
       "      <th>test_x</th>\n",
       "      <th>string_x</th>\n",
       "      <th>number_y</th>\n",
       "      <th>test_y</th>\n",
       "      <th>string_y</th>\n",
       "    </tr>\n",
       "  </thead>\n",
       "  <tbody>\n",
       "    <tr>\n",
       "      <th>0</th>\n",
       "      <td>ineuron</td>\n",
       "      <td>12</td>\n",
       "      <td>xyz</td>\n",
       "      <td>dhjfbshj</td>\n",
       "      <td>12</td>\n",
       "      <td>xyz</td>\n",
       "      <td>dhjfbshj</td>\n",
       "    </tr>\n",
       "    <tr>\n",
       "      <th>1</th>\n",
       "      <td>abhishek</td>\n",
       "      <td>87</td>\n",
       "      <td>wien</td>\n",
       "      <td>regarder</td>\n",
       "      <td>87</td>\n",
       "      <td>wien</td>\n",
       "      <td>regarder</td>\n",
       "    </tr>\n",
       "  </tbody>\n",
       "</table>\n",
       "</div>"
      ],
      "text/plain": [
       "       name  number_x test_x  string_x  number_y test_y  string_y\n",
       "0   ineuron        12    xyz  dhjfbshj        12    xyz  dhjfbshj\n",
       "1  abhishek        87   wien  regarder        87   wien  regarder"
      ]
     },
     "metadata": {},
     "output_type": "display_data"
    },
    {
     "data": {
      "text/plain": [
       "'Merge operation based on column name, type is left join'"
      ]
     },
     "metadata": {},
     "output_type": "display_data"
    },
    {
     "data": {
      "text/html": [
       "<div>\n",
       "<style scoped>\n",
       "    .dataframe tbody tr th:only-of-type {\n",
       "        vertical-align: middle;\n",
       "    }\n",
       "\n",
       "    .dataframe tbody tr th {\n",
       "        vertical-align: top;\n",
       "    }\n",
       "\n",
       "    .dataframe thead th {\n",
       "        text-align: right;\n",
       "    }\n",
       "</style>\n",
       "<table border=\"1\" class=\"dataframe\">\n",
       "  <thead>\n",
       "    <tr style=\"text-align: right;\">\n",
       "      <th></th>\n",
       "      <th>name</th>\n",
       "      <th>number_x</th>\n",
       "      <th>test_x</th>\n",
       "      <th>string_x</th>\n",
       "      <th>number_y</th>\n",
       "      <th>test_y</th>\n",
       "      <th>string_y</th>\n",
       "    </tr>\n",
       "  </thead>\n",
       "  <tbody>\n",
       "    <tr>\n",
       "      <th>0</th>\n",
       "      <td>ineuron</td>\n",
       "      <td>12</td>\n",
       "      <td>xyz</td>\n",
       "      <td>dhjfbshj</td>\n",
       "      <td>12.0</td>\n",
       "      <td>xyz</td>\n",
       "      <td>dhjfbshj</td>\n",
       "    </tr>\n",
       "    <tr>\n",
       "      <th>1</th>\n",
       "      <td>ankita</td>\n",
       "      <td>55</td>\n",
       "      <td>bien</td>\n",
       "      <td>honey</td>\n",
       "      <td>NaN</td>\n",
       "      <td>NaN</td>\n",
       "      <td>NaN</td>\n",
       "    </tr>\n",
       "    <tr>\n",
       "      <th>2</th>\n",
       "      <td>abhishek</td>\n",
       "      <td>87</td>\n",
       "      <td>wien</td>\n",
       "      <td>regarder</td>\n",
       "      <td>87.0</td>\n",
       "      <td>wien</td>\n",
       "      <td>regarder</td>\n",
       "    </tr>\n",
       "    <tr>\n",
       "      <th>3</th>\n",
       "      <td>raman</td>\n",
       "      <td>26</td>\n",
       "      <td>ABC</td>\n",
       "      <td>returned</td>\n",
       "      <td>NaN</td>\n",
       "      <td>NaN</td>\n",
       "      <td>NaN</td>\n",
       "    </tr>\n",
       "  </tbody>\n",
       "</table>\n",
       "</div>"
      ],
      "text/plain": [
       "       name  number_x test_x  string_x  number_y test_y  string_y\n",
       "0   ineuron        12    xyz  dhjfbshj      12.0    xyz  dhjfbshj\n",
       "1    ankita        55   bien     honey       NaN    NaN       NaN\n",
       "2  abhishek        87   wien  regarder      87.0   wien  regarder\n",
       "3     raman        26    ABC  returned       NaN    NaN       NaN"
      ]
     },
     "metadata": {},
     "output_type": "display_data"
    },
    {
     "data": {
      "text/plain": [
       "'Merge operation based on column name, type is right join'"
      ]
     },
     "metadata": {},
     "output_type": "display_data"
    },
    {
     "data": {
      "text/html": [
       "<div>\n",
       "<style scoped>\n",
       "    .dataframe tbody tr th:only-of-type {\n",
       "        vertical-align: middle;\n",
       "    }\n",
       "\n",
       "    .dataframe tbody tr th {\n",
       "        vertical-align: top;\n",
       "    }\n",
       "\n",
       "    .dataframe thead th {\n",
       "        text-align: right;\n",
       "    }\n",
       "</style>\n",
       "<table border=\"1\" class=\"dataframe\">\n",
       "  <thead>\n",
       "    <tr style=\"text-align: right;\">\n",
       "      <th></th>\n",
       "      <th>name</th>\n",
       "      <th>number_x</th>\n",
       "      <th>test_x</th>\n",
       "      <th>string_x</th>\n",
       "      <th>number_y</th>\n",
       "      <th>test_y</th>\n",
       "      <th>string_y</th>\n",
       "    </tr>\n",
       "  </thead>\n",
       "  <tbody>\n",
       "    <tr>\n",
       "      <th>0</th>\n",
       "      <td>ineuron</td>\n",
       "      <td>12.0</td>\n",
       "      <td>xyz</td>\n",
       "      <td>dhjfbshj</td>\n",
       "      <td>12</td>\n",
       "      <td>xyz</td>\n",
       "      <td>dhjfbshj</td>\n",
       "    </tr>\n",
       "    <tr>\n",
       "      <th>1</th>\n",
       "      <td>manish</td>\n",
       "      <td>NaN</td>\n",
       "      <td>NaN</td>\n",
       "      <td>NaN</td>\n",
       "      <td>66</td>\n",
       "      <td>bien</td>\n",
       "      <td>honey</td>\n",
       "    </tr>\n",
       "    <tr>\n",
       "      <th>2</th>\n",
       "      <td>abhishek</td>\n",
       "      <td>87.0</td>\n",
       "      <td>wien</td>\n",
       "      <td>regarder</td>\n",
       "      <td>87</td>\n",
       "      <td>wien</td>\n",
       "      <td>regarder</td>\n",
       "    </tr>\n",
       "    <tr>\n",
       "      <th>3</th>\n",
       "      <td>lovely</td>\n",
       "      <td>NaN</td>\n",
       "      <td>NaN</td>\n",
       "      <td>NaN</td>\n",
       "      <td>26</td>\n",
       "      <td>ABC</td>\n",
       "      <td>returned</td>\n",
       "    </tr>\n",
       "  </tbody>\n",
       "</table>\n",
       "</div>"
      ],
      "text/plain": [
       "       name  number_x test_x  string_x  number_y test_y  string_y\n",
       "0   ineuron      12.0    xyz  dhjfbshj        12    xyz  dhjfbshj\n",
       "1    manish       NaN    NaN       NaN        66   bien     honey\n",
       "2  abhishek      87.0   wien  regarder        87   wien  regarder\n",
       "3    lovely       NaN    NaN       NaN        26    ABC  returned"
      ]
     },
     "metadata": {},
     "output_type": "display_data"
    },
    {
     "data": {
      "text/plain": [
       "'Merge operation based on column which is only in one dataframe'"
      ]
     },
     "metadata": {},
     "output_type": "display_data"
    },
    {
     "data": {
      "text/html": [
       "<div>\n",
       "<style scoped>\n",
       "    .dataframe tbody tr th:only-of-type {\n",
       "        vertical-align: middle;\n",
       "    }\n",
       "\n",
       "    .dataframe tbody tr th {\n",
       "        vertical-align: top;\n",
       "    }\n",
       "\n",
       "    .dataframe thead th {\n",
       "        text-align: right;\n",
       "    }\n",
       "</style>\n",
       "<table border=\"1\" class=\"dataframe\">\n",
       "  <thead>\n",
       "    <tr style=\"text-align: right;\">\n",
       "      <th></th>\n",
       "      <th>name</th>\n",
       "      <th>number_x</th>\n",
       "      <th>test_x</th>\n",
       "      <th>string</th>\n",
       "      <th>name1</th>\n",
       "      <th>number_y</th>\n",
       "      <th>test_y</th>\n",
       "    </tr>\n",
       "  </thead>\n",
       "  <tbody>\n",
       "    <tr>\n",
       "      <th>0</th>\n",
       "      <td>ineuron</td>\n",
       "      <td>12</td>\n",
       "      <td>xyz</td>\n",
       "      <td>dhjfbshj</td>\n",
       "      <td>ineuron</td>\n",
       "      <td>12</td>\n",
       "      <td>xyz13</td>\n",
       "    </tr>\n",
       "    <tr>\n",
       "      <th>1</th>\n",
       "      <td>abhishek</td>\n",
       "      <td>87</td>\n",
       "      <td>wien</td>\n",
       "      <td>regarder</td>\n",
       "      <td>abhishek</td>\n",
       "      <td>87</td>\n",
       "      <td>wien13</td>\n",
       "    </tr>\n",
       "  </tbody>\n",
       "</table>\n",
       "</div>"
      ],
      "text/plain": [
       "       name  number_x test_x    string     name1  number_y  test_y\n",
       "0   ineuron        12    xyz  dhjfbshj   ineuron        12   xyz13\n",
       "1  abhishek        87   wien  regarder  abhishek        87  wien13"
      ]
     },
     "metadata": {},
     "output_type": "display_data"
    },
    {
     "data": {
      "text/plain": [
       "'Merge operation based on multiple columns'"
      ]
     },
     "metadata": {},
     "output_type": "display_data"
    },
    {
     "data": {
      "text/html": [
       "<div>\n",
       "<style scoped>\n",
       "    .dataframe tbody tr th:only-of-type {\n",
       "        vertical-align: middle;\n",
       "    }\n",
       "\n",
       "    .dataframe tbody tr th {\n",
       "        vertical-align: top;\n",
       "    }\n",
       "\n",
       "    .dataframe thead th {\n",
       "        text-align: right;\n",
       "    }\n",
       "</style>\n",
       "<table border=\"1\" class=\"dataframe\">\n",
       "  <thead>\n",
       "    <tr style=\"text-align: right;\">\n",
       "      <th></th>\n",
       "      <th>name_x</th>\n",
       "      <th>number_x</th>\n",
       "      <th>test</th>\n",
       "      <th>string</th>\n",
       "      <th>name_y</th>\n",
       "      <th>number_y</th>\n",
       "    </tr>\n",
       "  </thead>\n",
       "  <tbody>\n",
       "    <tr>\n",
       "      <th>0</th>\n",
       "      <td>raman</td>\n",
       "      <td>26</td>\n",
       "      <td>ABC</td>\n",
       "      <td>returned</td>\n",
       "      <td>lovely</td>\n",
       "      <td>6</td>\n",
       "    </tr>\n",
       "  </tbody>\n",
       "</table>\n",
       "</div>"
      ],
      "text/plain": [
       "  name_x  number_x test    string  name_y  number_y\n",
       "0  raman        26  ABC  returned  lovely         6"
      ]
     },
     "metadata": {},
     "output_type": "display_data"
    }
   ],
   "source": [
    "display(\"Merge operation based on column name, by default merge type is inner join\", pd.merge(df1,df6, on = 'name'))\n",
    "display(\"Merge operation based on column name, type is left join\", pd.merge(df1,df6, on = 'name', how = \"left\"))\n",
    "display(\"Merge operation based on column name, type is right join\", pd.merge(df1,df6, on = 'name', how = \"right\"))\n",
    "display(\"Merge operation based on column which is only in one dataframe\", pd.merge(df1,df7, left_on = 'name',right_on = 'name1'))\n",
    "display(\"Merge operation based on multiple columns\", pd.merge(df1,df2, on = ['test', 'string']))\n"
   ]
  },
  {
   "cell_type": "code",
   "execution_count": 14,
   "id": "a7f6a9db",
   "metadata": {},
   "outputs": [
    {
     "data": {
      "text/plain": [
       "'join operation using default join method i.e left'"
      ]
     },
     "metadata": {},
     "output_type": "display_data"
    },
    {
     "data": {
      "text/html": [
       "<div>\n",
       "<style scoped>\n",
       "    .dataframe tbody tr th:only-of-type {\n",
       "        vertical-align: middle;\n",
       "    }\n",
       "\n",
       "    .dataframe tbody tr th {\n",
       "        vertical-align: top;\n",
       "    }\n",
       "\n",
       "    .dataframe thead th {\n",
       "        text-align: right;\n",
       "    }\n",
       "</style>\n",
       "<table border=\"1\" class=\"dataframe\">\n",
       "  <thead>\n",
       "    <tr style=\"text-align: right;\">\n",
       "      <th></th>\n",
       "      <th>name</th>\n",
       "      <th>number</th>\n",
       "      <th>test</th>\n",
       "      <th>string</th>\n",
       "      <th>name1</th>\n",
       "      <th>number1</th>\n",
       "      <th>test1</th>\n",
       "    </tr>\n",
       "  </thead>\n",
       "  <tbody>\n",
       "    <tr>\n",
       "      <th>0</th>\n",
       "      <td>ineuron</td>\n",
       "      <td>12</td>\n",
       "      <td>xyz</td>\n",
       "      <td>dhjfbshj</td>\n",
       "      <td>ineuron</td>\n",
       "      <td>12</td>\n",
       "      <td>xyz13</td>\n",
       "    </tr>\n",
       "    <tr>\n",
       "      <th>1</th>\n",
       "      <td>ankita</td>\n",
       "      <td>55</td>\n",
       "      <td>bien</td>\n",
       "      <td>honey</td>\n",
       "      <td>ankita13</td>\n",
       "      <td>55</td>\n",
       "      <td>bien13</td>\n",
       "    </tr>\n",
       "    <tr>\n",
       "      <th>2</th>\n",
       "      <td>abhishek</td>\n",
       "      <td>87</td>\n",
       "      <td>wien</td>\n",
       "      <td>regarder</td>\n",
       "      <td>abhishek</td>\n",
       "      <td>87</td>\n",
       "      <td>wien13</td>\n",
       "    </tr>\n",
       "    <tr>\n",
       "      <th>3</th>\n",
       "      <td>raman</td>\n",
       "      <td>26</td>\n",
       "      <td>ABC</td>\n",
       "      <td>returned</td>\n",
       "      <td>raman13</td>\n",
       "      <td>26</td>\n",
       "      <td>ABC13</td>\n",
       "    </tr>\n",
       "  </tbody>\n",
       "</table>\n",
       "</div>"
      ],
      "text/plain": [
       "       name  number  test    string     name1  number1   test1\n",
       "0   ineuron      12   xyz  dhjfbshj   ineuron       12   xyz13\n",
       "1    ankita      55  bien     honey  ankita13       55  bien13\n",
       "2  abhishek      87  wien  regarder  abhishek       87  wien13\n",
       "3     raman      26   ABC  returned   raman13       26   ABC13"
      ]
     },
     "metadata": {},
     "output_type": "display_data"
    },
    {
     "data": {
      "text/plain": [
       "'join operation using right join method'"
      ]
     },
     "metadata": {},
     "output_type": "display_data"
    },
    {
     "data": {
      "text/html": [
       "<div>\n",
       "<style scoped>\n",
       "    .dataframe tbody tr th:only-of-type {\n",
       "        vertical-align: middle;\n",
       "    }\n",
       "\n",
       "    .dataframe tbody tr th {\n",
       "        vertical-align: top;\n",
       "    }\n",
       "\n",
       "    .dataframe thead th {\n",
       "        text-align: right;\n",
       "    }\n",
       "</style>\n",
       "<table border=\"1\" class=\"dataframe\">\n",
       "  <thead>\n",
       "    <tr style=\"text-align: right;\">\n",
       "      <th></th>\n",
       "      <th>name</th>\n",
       "      <th>number</th>\n",
       "      <th>test</th>\n",
       "      <th>string</th>\n",
       "      <th>name1</th>\n",
       "      <th>number1</th>\n",
       "      <th>test1</th>\n",
       "    </tr>\n",
       "  </thead>\n",
       "  <tbody>\n",
       "    <tr>\n",
       "      <th>0</th>\n",
       "      <td>ineuron</td>\n",
       "      <td>12</td>\n",
       "      <td>xyz</td>\n",
       "      <td>dhjfbshj</td>\n",
       "      <td>ineuron</td>\n",
       "      <td>12</td>\n",
       "      <td>xyz13</td>\n",
       "    </tr>\n",
       "    <tr>\n",
       "      <th>1</th>\n",
       "      <td>ankita</td>\n",
       "      <td>55</td>\n",
       "      <td>bien</td>\n",
       "      <td>honey</td>\n",
       "      <td>ankita13</td>\n",
       "      <td>55</td>\n",
       "      <td>bien13</td>\n",
       "    </tr>\n",
       "    <tr>\n",
       "      <th>2</th>\n",
       "      <td>abhishek</td>\n",
       "      <td>87</td>\n",
       "      <td>wien</td>\n",
       "      <td>regarder</td>\n",
       "      <td>abhishek</td>\n",
       "      <td>87</td>\n",
       "      <td>wien13</td>\n",
       "    </tr>\n",
       "    <tr>\n",
       "      <th>3</th>\n",
       "      <td>raman</td>\n",
       "      <td>26</td>\n",
       "      <td>ABC</td>\n",
       "      <td>returned</td>\n",
       "      <td>raman13</td>\n",
       "      <td>26</td>\n",
       "      <td>ABC13</td>\n",
       "    </tr>\n",
       "  </tbody>\n",
       "</table>\n",
       "</div>"
      ],
      "text/plain": [
       "       name  number  test    string     name1  number1   test1\n",
       "0   ineuron      12   xyz  dhjfbshj   ineuron       12   xyz13\n",
       "1    ankita      55  bien     honey  ankita13       55  bien13\n",
       "2  abhishek      87  wien  regarder  abhishek       87  wien13\n",
       "3     raman      26   ABC  returned   raman13       26   ABC13"
      ]
     },
     "metadata": {},
     "output_type": "display_data"
    },
    {
     "data": {
      "text/plain": [
       "'join operation using inner join method'"
      ]
     },
     "metadata": {},
     "output_type": "display_data"
    },
    {
     "data": {
      "text/html": [
       "<div>\n",
       "<style scoped>\n",
       "    .dataframe tbody tr th:only-of-type {\n",
       "        vertical-align: middle;\n",
       "    }\n",
       "\n",
       "    .dataframe tbody tr th {\n",
       "        vertical-align: top;\n",
       "    }\n",
       "\n",
       "    .dataframe thead th {\n",
       "        text-align: right;\n",
       "    }\n",
       "</style>\n",
       "<table border=\"1\" class=\"dataframe\">\n",
       "  <thead>\n",
       "    <tr style=\"text-align: right;\">\n",
       "      <th></th>\n",
       "      <th>name</th>\n",
       "      <th>number</th>\n",
       "      <th>test</th>\n",
       "      <th>string</th>\n",
       "      <th>name1</th>\n",
       "      <th>number1</th>\n",
       "      <th>test1</th>\n",
       "    </tr>\n",
       "  </thead>\n",
       "  <tbody>\n",
       "    <tr>\n",
       "      <th>0</th>\n",
       "      <td>ineuron</td>\n",
       "      <td>12</td>\n",
       "      <td>xyz</td>\n",
       "      <td>dhjfbshj</td>\n",
       "      <td>ineuron</td>\n",
       "      <td>12</td>\n",
       "      <td>xyz13</td>\n",
       "    </tr>\n",
       "    <tr>\n",
       "      <th>1</th>\n",
       "      <td>ankita</td>\n",
       "      <td>55</td>\n",
       "      <td>bien</td>\n",
       "      <td>honey</td>\n",
       "      <td>ankita13</td>\n",
       "      <td>55</td>\n",
       "      <td>bien13</td>\n",
       "    </tr>\n",
       "    <tr>\n",
       "      <th>2</th>\n",
       "      <td>abhishek</td>\n",
       "      <td>87</td>\n",
       "      <td>wien</td>\n",
       "      <td>regarder</td>\n",
       "      <td>abhishek</td>\n",
       "      <td>87</td>\n",
       "      <td>wien13</td>\n",
       "    </tr>\n",
       "    <tr>\n",
       "      <th>3</th>\n",
       "      <td>raman</td>\n",
       "      <td>26</td>\n",
       "      <td>ABC</td>\n",
       "      <td>returned</td>\n",
       "      <td>raman13</td>\n",
       "      <td>26</td>\n",
       "      <td>ABC13</td>\n",
       "    </tr>\n",
       "  </tbody>\n",
       "</table>\n",
       "</div>"
      ],
      "text/plain": [
       "       name  number  test    string     name1  number1   test1\n",
       "0   ineuron      12   xyz  dhjfbshj   ineuron       12   xyz13\n",
       "1    ankita      55  bien     honey  ankita13       55  bien13\n",
       "2  abhishek      87  wien  regarder  abhishek       87  wien13\n",
       "3     raman      26   ABC  returned   raman13       26   ABC13"
      ]
     },
     "metadata": {},
     "output_type": "display_data"
    },
    {
     "data": {
      "text/plain": [
       "'join operation using outer join method'"
      ]
     },
     "metadata": {},
     "output_type": "display_data"
    },
    {
     "data": {
      "text/html": [
       "<div>\n",
       "<style scoped>\n",
       "    .dataframe tbody tr th:only-of-type {\n",
       "        vertical-align: middle;\n",
       "    }\n",
       "\n",
       "    .dataframe tbody tr th {\n",
       "        vertical-align: top;\n",
       "    }\n",
       "\n",
       "    .dataframe thead th {\n",
       "        text-align: right;\n",
       "    }\n",
       "</style>\n",
       "<table border=\"1\" class=\"dataframe\">\n",
       "  <thead>\n",
       "    <tr style=\"text-align: right;\">\n",
       "      <th></th>\n",
       "      <th>name</th>\n",
       "      <th>number</th>\n",
       "      <th>test</th>\n",
       "      <th>string</th>\n",
       "      <th>name1</th>\n",
       "      <th>number1</th>\n",
       "      <th>test1</th>\n",
       "    </tr>\n",
       "  </thead>\n",
       "  <tbody>\n",
       "    <tr>\n",
       "      <th>0</th>\n",
       "      <td>ineuron</td>\n",
       "      <td>12</td>\n",
       "      <td>xyz</td>\n",
       "      <td>dhjfbshj</td>\n",
       "      <td>ineuron</td>\n",
       "      <td>12</td>\n",
       "      <td>xyz13</td>\n",
       "    </tr>\n",
       "    <tr>\n",
       "      <th>1</th>\n",
       "      <td>ankita</td>\n",
       "      <td>55</td>\n",
       "      <td>bien</td>\n",
       "      <td>honey</td>\n",
       "      <td>ankita13</td>\n",
       "      <td>55</td>\n",
       "      <td>bien13</td>\n",
       "    </tr>\n",
       "    <tr>\n",
       "      <th>2</th>\n",
       "      <td>abhishek</td>\n",
       "      <td>87</td>\n",
       "      <td>wien</td>\n",
       "      <td>regarder</td>\n",
       "      <td>abhishek</td>\n",
       "      <td>87</td>\n",
       "      <td>wien13</td>\n",
       "    </tr>\n",
       "    <tr>\n",
       "      <th>3</th>\n",
       "      <td>raman</td>\n",
       "      <td>26</td>\n",
       "      <td>ABC</td>\n",
       "      <td>returned</td>\n",
       "      <td>raman13</td>\n",
       "      <td>26</td>\n",
       "      <td>ABC13</td>\n",
       "    </tr>\n",
       "  </tbody>\n",
       "</table>\n",
       "</div>"
      ],
      "text/plain": [
       "       name  number  test    string     name1  number1   test1\n",
       "0   ineuron      12   xyz  dhjfbshj   ineuron       12   xyz13\n",
       "1    ankita      55  bien     honey  ankita13       55  bien13\n",
       "2  abhishek      87  wien  regarder  abhishek       87  wien13\n",
       "3     raman      26   ABC  returned   raman13       26   ABC13"
      ]
     },
     "metadata": {},
     "output_type": "display_data"
    }
   ],
   "source": [
    "display(\"join operation using default join method i.e left\", df1.join(df8))\n",
    "display(\"join operation using right join method\", df1.join(df8, how = 'right'))\n",
    "display(\"join operation using inner join method\", df1.join(df8, how = 'inner'))\n",
    "display(\"join operation using outer join method\", df1.join(df8, how = 'outer'))"
   ]
  },
  {
   "cell_type": "code",
   "execution_count": 12,
   "id": "da5279d8",
   "metadata": {},
   "outputs": [
    {
     "data": {
      "text/html": [
       "<div>\n",
       "<style scoped>\n",
       "    .dataframe tbody tr th:only-of-type {\n",
       "        vertical-align: middle;\n",
       "    }\n",
       "\n",
       "    .dataframe tbody tr th {\n",
       "        vertical-align: top;\n",
       "    }\n",
       "\n",
       "    .dataframe thead th {\n",
       "        text-align: right;\n",
       "    }\n",
       "</style>\n",
       "<table border=\"1\" class=\"dataframe\">\n",
       "  <thead>\n",
       "    <tr style=\"text-align: right;\">\n",
       "      <th></th>\n",
       "      <th>name</th>\n",
       "      <th>number</th>\n",
       "      <th>test</th>\n",
       "      <th>string</th>\n",
       "      <th>name1</th>\n",
       "      <th>number1</th>\n",
       "      <th>test1</th>\n",
       "    </tr>\n",
       "  </thead>\n",
       "  <tbody>\n",
       "    <tr>\n",
       "      <th>0</th>\n",
       "      <td>ineuron</td>\n",
       "      <td>12</td>\n",
       "      <td>xyz</td>\n",
       "      <td>dhjfbshj</td>\n",
       "      <td>NaN</td>\n",
       "      <td>NaN</td>\n",
       "      <td>NaN</td>\n",
       "    </tr>\n",
       "    <tr>\n",
       "      <th>1</th>\n",
       "      <td>ankita</td>\n",
       "      <td>55</td>\n",
       "      <td>bien</td>\n",
       "      <td>honey</td>\n",
       "      <td>NaN</td>\n",
       "      <td>NaN</td>\n",
       "      <td>NaN</td>\n",
       "    </tr>\n",
       "    <tr>\n",
       "      <th>2</th>\n",
       "      <td>abhishek</td>\n",
       "      <td>87</td>\n",
       "      <td>wien</td>\n",
       "      <td>regarder</td>\n",
       "      <td>NaN</td>\n",
       "      <td>NaN</td>\n",
       "      <td>NaN</td>\n",
       "    </tr>\n",
       "    <tr>\n",
       "      <th>3</th>\n",
       "      <td>raman</td>\n",
       "      <td>26</td>\n",
       "      <td>ABC</td>\n",
       "      <td>returned</td>\n",
       "      <td>NaN</td>\n",
       "      <td>NaN</td>\n",
       "      <td>NaN</td>\n",
       "    </tr>\n",
       "  </tbody>\n",
       "</table>\n",
       "</div>"
      ],
      "text/plain": [
       "       name  number  test    string name1  number1 test1\n",
       "0   ineuron      12   xyz  dhjfbshj   NaN      NaN   NaN\n",
       "1    ankita      55  bien     honey   NaN      NaN   NaN\n",
       "2  abhishek      87  wien  regarder   NaN      NaN   NaN\n",
       "3     raman      26   ABC  returned   NaN      NaN   NaN"
      ]
     },
     "execution_count": 12,
     "metadata": {},
     "output_type": "execute_result"
    }
   ],
   "source": [
    "df1.join(df9)"
   ]
  },
  {
   "cell_type": "markdown",
   "id": "324b06dd",
   "metadata": {},
   "source": [
    "#### Merge operation is performed based on column condition. Join method is used to merge based on index values of dataframe rows"
   ]
  },
  {
   "cell_type": "markdown",
   "id": "d2613e4b",
   "metadata": {},
   "source": [
    "## Pandas data manipulation examples"
   ]
  },
  {
   "cell_type": "code",
   "execution_count": 16,
   "id": "5b336cbe",
   "metadata": {},
   "outputs": [],
   "source": [
    "import numpy as np"
   ]
  },
  {
   "cell_type": "code",
   "execution_count": 20,
   "id": "a7802a38",
   "metadata": {},
   "outputs": [],
   "source": [
    "data1 = {\n",
    "    \"col1\": [1,2,3,5,6,7,0,3],\n",
    "    \"col2\": [3,34,123,4564,234,235,78,908],\n",
    "    \"col3\": \"this is an example of pandas and numpy\".split()\n",
    "}"
   ]
  },
  {
   "cell_type": "code",
   "execution_count": 21,
   "id": "cfda2733",
   "metadata": {},
   "outputs": [],
   "source": [
    "dataf1 = pd.DataFrame(data1)"
   ]
  },
  {
   "cell_type": "markdown",
   "id": "5c7bc204",
   "metadata": {},
   "source": [
    "### data input methods"
   ]
  },
  {
   "cell_type": "code",
   "execution_count": 34,
   "id": "f0d80a1f",
   "metadata": {},
   "outputs": [],
   "source": [
    "dataf1['col4'] = 2*dataf1['col2']\n",
    "dataf1['col5'] = np.log(dataf1['col2'])\n",
    "\n",
    "def testdata(data):\n",
    "    if data > 500:\n",
    "        return np.log(data)\n",
    "    else:\n",
    "        return data/10\n",
    "\n",
    "dataf1['col6'] = dataf1['col2'].apply(testdata)\n",
    "dataf1['col7'] = dataf1['col3'].apply(len)"
   ]
  },
  {
   "cell_type": "code",
   "execution_count": 35,
   "id": "2985615d",
   "metadata": {},
   "outputs": [
    {
     "data": {
      "text/plain": [
       "'dataf1'"
      ]
     },
     "metadata": {},
     "output_type": "display_data"
    },
    {
     "data": {
      "text/html": [
       "<div>\n",
       "<style scoped>\n",
       "    .dataframe tbody tr th:only-of-type {\n",
       "        vertical-align: middle;\n",
       "    }\n",
       "\n",
       "    .dataframe tbody tr th {\n",
       "        vertical-align: top;\n",
       "    }\n",
       "\n",
       "    .dataframe thead th {\n",
       "        text-align: right;\n",
       "    }\n",
       "</style>\n",
       "<table border=\"1\" class=\"dataframe\">\n",
       "  <thead>\n",
       "    <tr style=\"text-align: right;\">\n",
       "      <th></th>\n",
       "      <th>col1</th>\n",
       "      <th>col2</th>\n",
       "      <th>col3</th>\n",
       "      <th>col4</th>\n",
       "      <th>col5</th>\n",
       "      <th>col6</th>\n",
       "      <th>col7</th>\n",
       "    </tr>\n",
       "  </thead>\n",
       "  <tbody>\n",
       "    <tr>\n",
       "      <th>0</th>\n",
       "      <td>1</td>\n",
       "      <td>3</td>\n",
       "      <td>this</td>\n",
       "      <td>6</td>\n",
       "      <td>1.098612</td>\n",
       "      <td>0.300000</td>\n",
       "      <td>4</td>\n",
       "    </tr>\n",
       "    <tr>\n",
       "      <th>1</th>\n",
       "      <td>2</td>\n",
       "      <td>34</td>\n",
       "      <td>is</td>\n",
       "      <td>68</td>\n",
       "      <td>3.526361</td>\n",
       "      <td>3.400000</td>\n",
       "      <td>2</td>\n",
       "    </tr>\n",
       "    <tr>\n",
       "      <th>2</th>\n",
       "      <td>3</td>\n",
       "      <td>123</td>\n",
       "      <td>an</td>\n",
       "      <td>246</td>\n",
       "      <td>4.812184</td>\n",
       "      <td>12.300000</td>\n",
       "      <td>2</td>\n",
       "    </tr>\n",
       "    <tr>\n",
       "      <th>3</th>\n",
       "      <td>5</td>\n",
       "      <td>4564</td>\n",
       "      <td>example</td>\n",
       "      <td>9128</td>\n",
       "      <td>8.425955</td>\n",
       "      <td>8.425955</td>\n",
       "      <td>7</td>\n",
       "    </tr>\n",
       "    <tr>\n",
       "      <th>4</th>\n",
       "      <td>6</td>\n",
       "      <td>234</td>\n",
       "      <td>of</td>\n",
       "      <td>468</td>\n",
       "      <td>5.455321</td>\n",
       "      <td>23.400000</td>\n",
       "      <td>2</td>\n",
       "    </tr>\n",
       "    <tr>\n",
       "      <th>5</th>\n",
       "      <td>7</td>\n",
       "      <td>235</td>\n",
       "      <td>pandas</td>\n",
       "      <td>470</td>\n",
       "      <td>5.459586</td>\n",
       "      <td>23.500000</td>\n",
       "      <td>6</td>\n",
       "    </tr>\n",
       "    <tr>\n",
       "      <th>6</th>\n",
       "      <td>0</td>\n",
       "      <td>78</td>\n",
       "      <td>and</td>\n",
       "      <td>156</td>\n",
       "      <td>4.356709</td>\n",
       "      <td>7.800000</td>\n",
       "      <td>3</td>\n",
       "    </tr>\n",
       "    <tr>\n",
       "      <th>7</th>\n",
       "      <td>3</td>\n",
       "      <td>908</td>\n",
       "      <td>numpy</td>\n",
       "      <td>1816</td>\n",
       "      <td>6.811244</td>\n",
       "      <td>6.811244</td>\n",
       "      <td>5</td>\n",
       "    </tr>\n",
       "  </tbody>\n",
       "</table>\n",
       "</div>"
      ],
      "text/plain": [
       "   col1  col2     col3  col4      col5       col6  col7\n",
       "0     1     3     this     6  1.098612   0.300000     4\n",
       "1     2    34       is    68  3.526361   3.400000     2\n",
       "2     3   123       an   246  4.812184  12.300000     2\n",
       "3     5  4564  example  9128  8.425955   8.425955     7\n",
       "4     6   234       of   468  5.455321  23.400000     2\n",
       "5     7   235   pandas   470  5.459586  23.500000     6\n",
       "6     0    78      and   156  4.356709   7.800000     3\n",
       "7     3   908    numpy  1816  6.811244   6.811244     5"
      ]
     },
     "metadata": {},
     "output_type": "display_data"
    }
   ],
   "source": [
    "display(\"dataf1\",  dataf1)"
   ]
  },
  {
   "cell_type": "markdown",
   "id": "be14b92c",
   "metadata": {},
   "source": [
    "### data sort methods"
   ]
  },
  {
   "cell_type": "code",
   "execution_count": 39,
   "id": "8f994bfb",
   "metadata": {},
   "outputs": [
    {
     "data": {
      "text/plain": [
       "'data sorted by column 2 by default ascending is true'"
      ]
     },
     "metadata": {},
     "output_type": "display_data"
    },
    {
     "data": {
      "text/html": [
       "<div>\n",
       "<style scoped>\n",
       "    .dataframe tbody tr th:only-of-type {\n",
       "        vertical-align: middle;\n",
       "    }\n",
       "\n",
       "    .dataframe tbody tr th {\n",
       "        vertical-align: top;\n",
       "    }\n",
       "\n",
       "    .dataframe thead th {\n",
       "        text-align: right;\n",
       "    }\n",
       "</style>\n",
       "<table border=\"1\" class=\"dataframe\">\n",
       "  <thead>\n",
       "    <tr style=\"text-align: right;\">\n",
       "      <th></th>\n",
       "      <th>col1</th>\n",
       "      <th>col2</th>\n",
       "      <th>col3</th>\n",
       "      <th>col4</th>\n",
       "      <th>col5</th>\n",
       "      <th>col6</th>\n",
       "      <th>col7</th>\n",
       "    </tr>\n",
       "  </thead>\n",
       "  <tbody>\n",
       "    <tr>\n",
       "      <th>0</th>\n",
       "      <td>1</td>\n",
       "      <td>3</td>\n",
       "      <td>this</td>\n",
       "      <td>6</td>\n",
       "      <td>1.098612</td>\n",
       "      <td>0.300000</td>\n",
       "      <td>4</td>\n",
       "    </tr>\n",
       "    <tr>\n",
       "      <th>1</th>\n",
       "      <td>2</td>\n",
       "      <td>34</td>\n",
       "      <td>is</td>\n",
       "      <td>68</td>\n",
       "      <td>3.526361</td>\n",
       "      <td>3.400000</td>\n",
       "      <td>2</td>\n",
       "    </tr>\n",
       "    <tr>\n",
       "      <th>6</th>\n",
       "      <td>0</td>\n",
       "      <td>78</td>\n",
       "      <td>and</td>\n",
       "      <td>156</td>\n",
       "      <td>4.356709</td>\n",
       "      <td>7.800000</td>\n",
       "      <td>3</td>\n",
       "    </tr>\n",
       "    <tr>\n",
       "      <th>2</th>\n",
       "      <td>3</td>\n",
       "      <td>123</td>\n",
       "      <td>an</td>\n",
       "      <td>246</td>\n",
       "      <td>4.812184</td>\n",
       "      <td>12.300000</td>\n",
       "      <td>2</td>\n",
       "    </tr>\n",
       "    <tr>\n",
       "      <th>4</th>\n",
       "      <td>6</td>\n",
       "      <td>234</td>\n",
       "      <td>of</td>\n",
       "      <td>468</td>\n",
       "      <td>5.455321</td>\n",
       "      <td>23.400000</td>\n",
       "      <td>2</td>\n",
       "    </tr>\n",
       "    <tr>\n",
       "      <th>5</th>\n",
       "      <td>7</td>\n",
       "      <td>235</td>\n",
       "      <td>pandas</td>\n",
       "      <td>470</td>\n",
       "      <td>5.459586</td>\n",
       "      <td>23.500000</td>\n",
       "      <td>6</td>\n",
       "    </tr>\n",
       "    <tr>\n",
       "      <th>7</th>\n",
       "      <td>3</td>\n",
       "      <td>908</td>\n",
       "      <td>numpy</td>\n",
       "      <td>1816</td>\n",
       "      <td>6.811244</td>\n",
       "      <td>6.811244</td>\n",
       "      <td>5</td>\n",
       "    </tr>\n",
       "    <tr>\n",
       "      <th>3</th>\n",
       "      <td>5</td>\n",
       "      <td>4564</td>\n",
       "      <td>example</td>\n",
       "      <td>9128</td>\n",
       "      <td>8.425955</td>\n",
       "      <td>8.425955</td>\n",
       "      <td>7</td>\n",
       "    </tr>\n",
       "  </tbody>\n",
       "</table>\n",
       "</div>"
      ],
      "text/plain": [
       "   col1  col2     col3  col4      col5       col6  col7\n",
       "0     1     3     this     6  1.098612   0.300000     4\n",
       "1     2    34       is    68  3.526361   3.400000     2\n",
       "6     0    78      and   156  4.356709   7.800000     3\n",
       "2     3   123       an   246  4.812184  12.300000     2\n",
       "4     6   234       of   468  5.455321  23.400000     2\n",
       "5     7   235   pandas   470  5.459586  23.500000     6\n",
       "7     3   908    numpy  1816  6.811244   6.811244     5\n",
       "3     5  4564  example  9128  8.425955   8.425955     7"
      ]
     },
     "metadata": {},
     "output_type": "display_data"
    },
    {
     "data": {
      "text/plain": [
       "'data sorted by column 2 descending'"
      ]
     },
     "metadata": {},
     "output_type": "display_data"
    },
    {
     "data": {
      "text/html": [
       "<div>\n",
       "<style scoped>\n",
       "    .dataframe tbody tr th:only-of-type {\n",
       "        vertical-align: middle;\n",
       "    }\n",
       "\n",
       "    .dataframe tbody tr th {\n",
       "        vertical-align: top;\n",
       "    }\n",
       "\n",
       "    .dataframe thead th {\n",
       "        text-align: right;\n",
       "    }\n",
       "</style>\n",
       "<table border=\"1\" class=\"dataframe\">\n",
       "  <thead>\n",
       "    <tr style=\"text-align: right;\">\n",
       "      <th></th>\n",
       "      <th>col1</th>\n",
       "      <th>col2</th>\n",
       "      <th>col3</th>\n",
       "      <th>col4</th>\n",
       "      <th>col5</th>\n",
       "      <th>col6</th>\n",
       "      <th>col7</th>\n",
       "    </tr>\n",
       "  </thead>\n",
       "  <tbody>\n",
       "    <tr>\n",
       "      <th>3</th>\n",
       "      <td>5</td>\n",
       "      <td>4564</td>\n",
       "      <td>example</td>\n",
       "      <td>9128</td>\n",
       "      <td>8.425955</td>\n",
       "      <td>8.425955</td>\n",
       "      <td>7</td>\n",
       "    </tr>\n",
       "    <tr>\n",
       "      <th>7</th>\n",
       "      <td>3</td>\n",
       "      <td>908</td>\n",
       "      <td>numpy</td>\n",
       "      <td>1816</td>\n",
       "      <td>6.811244</td>\n",
       "      <td>6.811244</td>\n",
       "      <td>5</td>\n",
       "    </tr>\n",
       "    <tr>\n",
       "      <th>5</th>\n",
       "      <td>7</td>\n",
       "      <td>235</td>\n",
       "      <td>pandas</td>\n",
       "      <td>470</td>\n",
       "      <td>5.459586</td>\n",
       "      <td>23.500000</td>\n",
       "      <td>6</td>\n",
       "    </tr>\n",
       "    <tr>\n",
       "      <th>4</th>\n",
       "      <td>6</td>\n",
       "      <td>234</td>\n",
       "      <td>of</td>\n",
       "      <td>468</td>\n",
       "      <td>5.455321</td>\n",
       "      <td>23.400000</td>\n",
       "      <td>2</td>\n",
       "    </tr>\n",
       "    <tr>\n",
       "      <th>2</th>\n",
       "      <td>3</td>\n",
       "      <td>123</td>\n",
       "      <td>an</td>\n",
       "      <td>246</td>\n",
       "      <td>4.812184</td>\n",
       "      <td>12.300000</td>\n",
       "      <td>2</td>\n",
       "    </tr>\n",
       "    <tr>\n",
       "      <th>6</th>\n",
       "      <td>0</td>\n",
       "      <td>78</td>\n",
       "      <td>and</td>\n",
       "      <td>156</td>\n",
       "      <td>4.356709</td>\n",
       "      <td>7.800000</td>\n",
       "      <td>3</td>\n",
       "    </tr>\n",
       "    <tr>\n",
       "      <th>1</th>\n",
       "      <td>2</td>\n",
       "      <td>34</td>\n",
       "      <td>is</td>\n",
       "      <td>68</td>\n",
       "      <td>3.526361</td>\n",
       "      <td>3.400000</td>\n",
       "      <td>2</td>\n",
       "    </tr>\n",
       "    <tr>\n",
       "      <th>0</th>\n",
       "      <td>1</td>\n",
       "      <td>3</td>\n",
       "      <td>this</td>\n",
       "      <td>6</td>\n",
       "      <td>1.098612</td>\n",
       "      <td>0.300000</td>\n",
       "      <td>4</td>\n",
       "    </tr>\n",
       "  </tbody>\n",
       "</table>\n",
       "</div>"
      ],
      "text/plain": [
       "   col1  col2     col3  col4      col5       col6  col7\n",
       "3     5  4564  example  9128  8.425955   8.425955     7\n",
       "7     3   908    numpy  1816  6.811244   6.811244     5\n",
       "5     7   235   pandas   470  5.459586  23.500000     6\n",
       "4     6   234       of   468  5.455321  23.400000     2\n",
       "2     3   123       an   246  4.812184  12.300000     2\n",
       "6     0    78      and   156  4.356709   7.800000     3\n",
       "1     2    34       is    68  3.526361   3.400000     2\n",
       "0     1     3     this     6  1.098612   0.300000     4"
      ]
     },
     "metadata": {},
     "output_type": "display_data"
    }
   ],
   "source": [
    "display(\"data sorted by column 2 by default ascending is true\", dataf1.sort_values(by = \"col2\"))\n",
    "display(\"data sorted by column 2 descending\", dataf1.sort_values(by = \"col2\", ascending = False))"
   ]
  },
  {
   "cell_type": "markdown",
   "id": "dd59f937",
   "metadata": {},
   "source": [
    "### lambda and map function"
   ]
  },
  {
   "cell_type": "code",
   "execution_count": 62,
   "id": "34827c39",
   "metadata": {},
   "outputs": [
    {
     "data": {
      "text/plain": [
       "'comprehension function -> [i+1 for i in l]'"
      ]
     },
     "metadata": {},
     "output_type": "display_data"
    },
    {
     "data": {
      "text/plain": [
       "[2, 3, 4, 5, 6]"
      ]
     },
     "metadata": {},
     "output_type": "display_data"
    },
    {
     "data": {
      "text/plain": [
       "'map function to increment the values in list -> list(map(testAdd,l)'"
      ]
     },
     "metadata": {},
     "output_type": "display_data"
    },
    {
     "data": {
      "text/plain": [
       "[2, 3, 4, 5, 6]"
      ]
     },
     "metadata": {},
     "output_type": "display_data"
    },
    {
     "data": {
      "text/plain": [
       "'map function to perform math operations on list values -> list(map(testMathScenario,l)'"
      ]
     },
     "metadata": {},
     "output_type": "display_data"
    },
    {
     "data": {
      "text/plain": [
       "[1.0,\n",
       " 1.4142135623730951,\n",
       " 1.0986122886681098,\n",
       " 1.3862943611198906,\n",
       " 1.6094379124341003]"
      ]
     },
     "metadata": {},
     "output_type": "display_data"
    },
    {
     "data": {
      "text/plain": [
       "'map function to increment the values in list using lambda -> list(map(lambda data: data+1 ,l)'"
      ]
     },
     "metadata": {},
     "output_type": "display_data"
    },
    {
     "data": {
      "text/plain": [
       "[2, 3, 4, 5, 6]"
      ]
     },
     "metadata": {},
     "output_type": "display_data"
    },
    {
     "data": {
      "text/plain": [
       "'map function to perform math operations on list values using lambda -> list(map(lambda data: np.sqrt(data) if data <3 else np.log(data),l)'"
      ]
     },
     "metadata": {},
     "output_type": "display_data"
    },
    {
     "data": {
      "text/plain": [
       "[1.0,\n",
       " 1.4142135623730951,\n",
       " 1.0986122886681098,\n",
       " 1.3862943611198906,\n",
       " 1.6094379124341003]"
      ]
     },
     "metadata": {},
     "output_type": "display_data"
    }
   ],
   "source": [
    "l = [1,2,3,4,5]\n",
    "display(\"comprehension function -> [i+1 for i in l]\", [i+1 for i in l])\n",
    "\n",
    "def testAdd(data):\n",
    "    return data+1\n",
    "\n",
    "def testMathScenario(data):\n",
    "    if data < 3:\n",
    "        return np.sqrt(data)\n",
    "    else:\n",
    "        return np.log(data)\n",
    "\n",
    "display(\"map function to increment the values in list -> list(map(testAdd,l)\", list(map(testAdd,l)))\n",
    "display(\"map function to perform math operations on list values -> list(map(testMathScenario,l)\", \n",
    "        list(map(testMathScenario,l)))\n",
    "display(\"map function to increment the values in list using lambda -> list(map(lambda data: data+1 ,l)\", \n",
    "        list(map(lambda data: data+1 ,l)))\n",
    "display(\"\"\"map function to perform math operations on list values using lambda -> list(map(lambda data: np.sqrt(data) if data <3 else np.log(data),l)\"\"\", \n",
    "        list(map(lambda data: np.sqrt(data) if data <3 else np.log(data),l)))\n"
   ]
  },
  {
   "cell_type": "markdown",
   "id": "b6578d84",
   "metadata": {},
   "source": [
    "### reduce method"
   ]
  },
  {
   "cell_type": "code",
   "execution_count": 68,
   "id": "71df1299",
   "metadata": {},
   "outputs": [],
   "source": [
    "import functools"
   ]
  },
  {
   "cell_type": "code",
   "execution_count": 64,
   "id": "bd808c19",
   "metadata": {},
   "outputs": [],
   "source": [
    "l1 = [4,5,6,7,7,8,8]"
   ]
  },
  {
   "cell_type": "code",
   "execution_count": 70,
   "id": "2293fa12",
   "metadata": {},
   "outputs": [
    {
     "data": {
      "text/plain": [
       "45"
      ]
     },
     "metadata": {},
     "output_type": "display_data"
    },
    {
     "data": {
      "text/plain": [
       "'get the sum using reduce method: '"
      ]
     },
     "metadata": {},
     "output_type": "display_data"
    },
    {
     "data": {
      "text/plain": [
       "45"
      ]
     },
     "metadata": {},
     "output_type": "display_data"
    }
   ],
   "source": [
    "display(sum(l1))\n",
    "display(\"get the sum using reduce method: \",functools.reduce(lambda x,y: x+y, l1))"
   ]
  },
  {
   "cell_type": "markdown",
   "id": "344bc99a",
   "metadata": {},
   "source": [
    "### filter function"
   ]
  },
  {
   "cell_type": "code",
   "execution_count": 77,
   "id": "d7c952c2",
   "metadata": {},
   "outputs": [
    {
     "data": {
      "text/plain": [
       "'filter even odd'"
      ]
     },
     "metadata": {},
     "output_type": "display_data"
    },
    {
     "data": {
      "text/plain": [
       "[2, 4, 8, 2, 2, 4, 0, 0]"
      ]
     },
     "metadata": {},
     "output_type": "display_data"
    }
   ],
   "source": [
    "l2 = [1,2,5,4,3,8,9,2,2,5,4,7,0,0]\n",
    "\n",
    "display(\"filter even odd\", list(filter(lambda x : True if x%2==0 else False ,l2)))"
   ]
  },
  {
   "cell_type": "code",
   "execution_count": null,
   "id": "8e5035fd",
   "metadata": {},
   "outputs": [],
   "source": []
  }
 ],
 "metadata": {
  "kernelspec": {
   "display_name": "Python 3",
   "language": "python",
   "name": "python3"
  },
  "language_info": {
   "codemirror_mode": {
    "name": "ipython",
    "version": 3
   },
   "file_extension": ".py",
   "mimetype": "text/x-python",
   "name": "python",
   "nbconvert_exporter": "python",
   "pygments_lexer": "ipython3",
   "version": "3.9.5"
  }
 },
 "nbformat": 4,
 "nbformat_minor": 5
}
