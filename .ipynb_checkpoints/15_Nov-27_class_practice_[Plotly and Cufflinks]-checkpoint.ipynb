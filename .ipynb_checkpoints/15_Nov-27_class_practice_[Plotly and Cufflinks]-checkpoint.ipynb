{
 "cells": [
  {
   "cell_type": "markdown",
   "id": "2416d272",
   "metadata": {},
   "source": [
    "### To install plotly and cufflinks use the below commands"
   ]
  },
  {
   "cell_type": "code",
   "execution_count": null,
   "id": "07aebaee",
   "metadata": {},
   "outputs": [],
   "source": [
    "# pip install plotly"
   ]
  },
  {
   "cell_type": "code",
   "execution_count": null,
   "id": "b3fd7fce",
   "metadata": {},
   "outputs": [],
   "source": [
    "# pip install cufflinks"
   ]
  },
  {
   "cell_type": "code",
   "execution_count": null,
   "id": "09b7c350",
   "metadata": {},
   "outputs": [],
   "source": [
    "# pip install chart_studio"
   ]
  },
  {
   "cell_type": "code",
   "execution_count": 1,
   "id": "3a3c0f9f",
   "metadata": {},
   "outputs": [],
   "source": [
    "import pandas as pd\n",
    "import numpy as np\n",
    "import mpl_toolkits"
   ]
  },
  {
   "cell_type": "code",
   "execution_count": 13,
   "id": "7b289df7",
   "metadata": {},
   "outputs": [
    {
     "data": {
      "text/html": [
       "        <script type=\"text/javascript\">\n",
       "        window.PlotlyConfig = {MathJaxConfig: 'local'};\n",
       "        if (window.MathJax) {MathJax.Hub.Config({SVG: {font: \"STIX-Web\"}});}\n",
       "        if (typeof require !== 'undefined') {\n",
       "        require.undef(\"plotly\");\n",
       "        requirejs.config({\n",
       "            paths: {\n",
       "                'plotly': ['https://cdn.plot.ly/plotly-2.8.3.min']\n",
       "            }\n",
       "        });\n",
       "        require(['plotly'], function(Plotly) {\n",
       "            window._Plotly = Plotly;\n",
       "        });\n",
       "        }\n",
       "        </script>\n",
       "        "
      ]
     },
     "metadata": {},
     "output_type": "display_data"
    },
    {
     "data": {
      "text/html": [
       "        <script type=\"text/javascript\">\n",
       "        window.PlotlyConfig = {MathJaxConfig: 'local'};\n",
       "        if (window.MathJax) {MathJax.Hub.Config({SVG: {font: \"STIX-Web\"}});}\n",
       "        if (typeof require !== 'undefined') {\n",
       "        require.undef(\"plotly\");\n",
       "        requirejs.config({\n",
       "            paths: {\n",
       "                'plotly': ['https://cdn.plot.ly/plotly-2.8.3.min']\n",
       "            }\n",
       "        });\n",
       "        require(['plotly'], function(Plotly) {\n",
       "            window._Plotly = Plotly;\n",
       "        });\n",
       "        }\n",
       "        </script>\n",
       "        "
      ]
     },
     "metadata": {},
     "output_type": "display_data"
    }
   ],
   "source": [
    "from plotly.offline import iplot\n",
    "import plotly as py\n",
    "import plotly.tools as tls\n",
    "import cufflinks as cf\n",
    "import matplotlib.pyplot as matplt\n",
    "\n",
    "py.offline.init_notebook_mode(connected=True)\n",
    "cf.go_offline() #will make cufflinks offline\n",
    "cf.set_config_file(offline=False, world_readable=True)\n",
    "\n",
    "%matplotlib inline"
   ]
  },
  {
   "cell_type": "markdown",
   "id": "2e86610d",
   "metadata": {},
   "source": [
    "### If you have installed matplotlib then you can directly import the mpl_toolkits"
   ]
  },
  {
   "cell_type": "code",
   "execution_count": 10,
   "id": "1fa0f93c",
   "metadata": {},
   "outputs": [],
   "source": [
    "df = pd.DataFrame(np.random.randn(100,3), columns=['A','B','C'])\n",
    "df['A'] = df['A'].cumsum()+10\n",
    "df['B'] = df['B'].cumsum()+10\n",
    "df['C'] = df['C'].cumsum()+10"
   ]
  },
  {
   "cell_type": "code",
   "execution_count": 11,
   "id": "19a5fc04",
   "metadata": {},
   "outputs": [
    {
     "data": {
      "text/html": [
       "<div>\n",
       "<style scoped>\n",
       "    .dataframe tbody tr th:only-of-type {\n",
       "        vertical-align: middle;\n",
       "    }\n",
       "\n",
       "    .dataframe tbody tr th {\n",
       "        vertical-align: top;\n",
       "    }\n",
       "\n",
       "    .dataframe thead th {\n",
       "        text-align: right;\n",
       "    }\n",
       "</style>\n",
       "<table border=\"1\" class=\"dataframe\">\n",
       "  <thead>\n",
       "    <tr style=\"text-align: right;\">\n",
       "      <th></th>\n",
       "      <th>A</th>\n",
       "      <th>B</th>\n",
       "      <th>C</th>\n",
       "    </tr>\n",
       "  </thead>\n",
       "  <tbody>\n",
       "    <tr>\n",
       "      <th>0</th>\n",
       "      <td>9.650412</td>\n",
       "      <td>9.217159</td>\n",
       "      <td>8.798398</td>\n",
       "    </tr>\n",
       "    <tr>\n",
       "      <th>1</th>\n",
       "      <td>10.974299</td>\n",
       "      <td>7.643079</td>\n",
       "      <td>8.439482</td>\n",
       "    </tr>\n",
       "    <tr>\n",
       "      <th>2</th>\n",
       "      <td>9.705098</td>\n",
       "      <td>7.625963</td>\n",
       "      <td>9.348583</td>\n",
       "    </tr>\n",
       "    <tr>\n",
       "      <th>3</th>\n",
       "      <td>11.244545</td>\n",
       "      <td>7.414943</td>\n",
       "      <td>8.817087</td>\n",
       "    </tr>\n",
       "    <tr>\n",
       "      <th>4</th>\n",
       "      <td>9.668813</td>\n",
       "      <td>6.122503</td>\n",
       "      <td>8.574676</td>\n",
       "    </tr>\n",
       "  </tbody>\n",
       "</table>\n",
       "</div>"
      ],
      "text/plain": [
       "           A         B         C\n",
       "0   9.650412  9.217159  8.798398\n",
       "1  10.974299  7.643079  8.439482\n",
       "2   9.705098  7.625963  9.348583\n",
       "3  11.244545  7.414943  8.817087\n",
       "4   9.668813  6.122503  8.574676"
      ]
     },
     "execution_count": 11,
     "metadata": {},
     "output_type": "execute_result"
    }
   ],
   "source": [
    "df.head()"
   ]
  },
  {
   "cell_type": "markdown",
   "id": "0882b7ea",
   "metadata": {},
   "source": [
    "### Plotting using plotly"
   ]
  },
  {
   "cell_type": "code",
   "execution_count": 12,
   "id": "690c06dd",
   "metadata": {},
   "outputs": [
    {
     "data": {
      "application/vnd.plotly.v1+json": {
       "config": {
        "linkText": "Export to plot.ly",
        "plotlyServerURL": "https://plot.ly",
        "showLink": true
       },
       "data": [
        {
         "line": {
          "color": "rgba(255, 153, 51, 1.0)",
          "dash": "solid",
          "shape": "linear",
          "width": 1.3
         },
         "mode": "lines",
         "name": "A",
         "text": "",
         "type": "scatter",
         "x": [
          0,
          1,
          2,
          3,
          4,
          5,
          6,
          7,
          8,
          9,
          10,
          11,
          12,
          13,
          14,
          15,
          16,
          17,
          18,
          19,
          20,
          21,
          22,
          23,
          24,
          25,
          26,
          27,
          28,
          29,
          30,
          31,
          32,
          33,
          34,
          35,
          36,
          37,
          38,
          39,
          40,
          41,
          42,
          43,
          44,
          45,
          46,
          47,
          48,
          49,
          50,
          51,
          52,
          53,
          54,
          55,
          56,
          57,
          58,
          59,
          60,
          61,
          62,
          63,
          64,
          65,
          66,
          67,
          68,
          69,
          70,
          71,
          72,
          73,
          74,
          75,
          76,
          77,
          78,
          79,
          80,
          81,
          82,
          83,
          84,
          85,
          86,
          87,
          88,
          89,
          90,
          91,
          92,
          93,
          94,
          95,
          96,
          97,
          98,
          99
         ],
         "y": [
          9.650411519781507,
          10.97429909927817,
          9.705098440711152,
          11.24454492887338,
          9.6688131680688,
          10.293526974677622,
          10.482801460160529,
          10.645241098165071,
          9.622841278167217,
          11.384466058550425,
          10.820635438162414,
          11.449217051093958,
          13.12213985397532,
          13.873542550749994,
          12.747762052519612,
          11.783620509081294,
          11.852541143237627,
          10.70436305802576,
          8.634564712781772,
          8.80053905214741,
          6.861204240804851,
          6.972637267733968,
          6.92042669959239,
          8.53756129401914,
          9.00405912819473,
          9.450039306250005,
          9.281054911160549,
          10.075195589959096,
          9.363435425048792,
          10.904120669621152,
          11.06613883661915,
          10.106294645567393,
          9.958408460276559,
          8.506334345486586,
          8.119053115982702,
          9.36831343042406,
          10.741306327612756,
          11.891141769641997,
          12.560460841511073,
          11.95602784754915,
          12.526381353800197,
          12.600585071499632,
          13.26477340063981,
          13.462764995940548,
          12.684601324882578,
          10.87705379496935,
          11.161760302219804,
          8.571619559725763,
          9.279172325139285,
          8.282202179181384,
          8.790598946660364,
          8.417921314438326,
          7.993752774690675,
          7.506438603035111,
          8.431020750921757,
          6.310090154335251,
          6.627112172486628,
          6.836753437483933,
          6.39999288765352,
          4.881360703920431,
          4.79885385730441,
          3.5380335387059034,
          3.2175570087881944,
          3.329530782935257,
          3.3230628063108156,
          4.303401795115379,
          4.091798394719929,
          4.421891067810155,
          4.092225890073438,
          6.521443571249302,
          6.882868445727067,
          7.044049688773676,
          6.8503283220499505,
          6.717550930682613,
          7.049675239047637,
          5.218134117166776,
          4.996709885830438,
          3.9676913725937224,
          4.144707449065263,
          3.840810150212172,
          3.68643724478207,
          3.8964607516607144,
          3.9415406844566325,
          3.9579247323143676,
          3.112918809524171,
          3.491444863560189,
          3.706728806568173,
          4.273098678689246,
          5.4793320204674325,
          4.033776606577183,
          3.1584211484888067,
          3.490026939994001,
          3.3018154720524286,
          3.298781975282351,
          3.720753980310536,
          4.800574539394231,
          5.198785166213719,
          6.015326816997179,
          4.914751722305591,
          3.489166209183713
         ]
        },
        {
         "line": {
          "color": "rgba(55, 128, 191, 1.0)",
          "dash": "solid",
          "shape": "linear",
          "width": 1.3
         },
         "mode": "lines",
         "name": "B",
         "text": "",
         "type": "scatter",
         "x": [
          0,
          1,
          2,
          3,
          4,
          5,
          6,
          7,
          8,
          9,
          10,
          11,
          12,
          13,
          14,
          15,
          16,
          17,
          18,
          19,
          20,
          21,
          22,
          23,
          24,
          25,
          26,
          27,
          28,
          29,
          30,
          31,
          32,
          33,
          34,
          35,
          36,
          37,
          38,
          39,
          40,
          41,
          42,
          43,
          44,
          45,
          46,
          47,
          48,
          49,
          50,
          51,
          52,
          53,
          54,
          55,
          56,
          57,
          58,
          59,
          60,
          61,
          62,
          63,
          64,
          65,
          66,
          67,
          68,
          69,
          70,
          71,
          72,
          73,
          74,
          75,
          76,
          77,
          78,
          79,
          80,
          81,
          82,
          83,
          84,
          85,
          86,
          87,
          88,
          89,
          90,
          91,
          92,
          93,
          94,
          95,
          96,
          97,
          98,
          99
         ],
         "y": [
          9.217159368154666,
          7.643078612639228,
          7.625962882566208,
          7.414943452539729,
          6.122502992353666,
          6.947866439442895,
          7.991276979144101,
          6.843400383214903,
          7.966333359414925,
          7.631344046746859,
          9.298546659747888,
          10.1402004958837,
          12.26796562414902,
          13.456281689300416,
          13.743079670711689,
          14.585424909805926,
          14.386127148029477,
          14.833405053689088,
          15.46687722432278,
          16.47805068183232,
          17.443991392842975,
          16.597611522037973,
          16.41349018344232,
          17.57699930741739,
          18.59499222598746,
          17.77643834305045,
          16.96245216530832,
          16.841521100160726,
          17.631492868204,
          16.433769510265822,
          16.517549781342233,
          18.078754165375532,
          19.156068117235115,
          18.248664608320972,
          16.808971947020673,
          15.26304140109262,
          15.742793895903382,
          17.12000629278564,
          16.57855824032275,
          15.05942857768066,
          14.251428963911017,
          14.981462895532491,
          15.25682813719679,
          17.388549712021984,
          15.688606289390469,
          15.544874293495273,
          15.933668686520624,
          16.11842323498339,
          16.338902890185764,
          17.75037158285398,
          19.13703472373234,
          20.049823823163685,
          19.263630840427048,
          19.24084620683369,
          18.905631742705346,
          20.278109828800776,
          21.210991197142175,
          21.439415990066333,
          20.63848358167506,
          21.13569901875858,
          20.984780380849912,
          22.051622038600478,
          18.988465353716457,
          18.984693562849632,
          19.152029174788026,
          20.33258703563861,
          20.07682187531622,
          18.390133152842168,
          17.393072390871016,
          18.855723269975073,
          21.027418636428685,
          20.547938950928785,
          19.97691751671206,
          18.282416215923416,
          17.542387991087857,
          17.050509271520696,
          15.773369956531475,
          14.152440860957906,
          12.820986889247589,
          12.441886687739332,
          12.527527055892634,
          11.316018613546301,
          10.136498396173378,
          9.810778182230253,
          10.041857436046385,
          9.972372031890446,
          11.674503310080905,
          11.128244634786451,
          13.440494529268104,
          13.713453586898666,
          16.668973151675022,
          16.926532820494383,
          18.3714452922382,
          18.38747956936705,
          18.741330409803105,
          19.915114442903658,
          22.363016016101405,
          19.68148805660158,
          20.014481813056726,
          19.625494700302696
         ]
        },
        {
         "line": {
          "color": "rgba(50, 171, 96, 1.0)",
          "dash": "solid",
          "shape": "linear",
          "width": 1.3
         },
         "mode": "lines",
         "name": "C",
         "text": "",
         "type": "scatter",
         "x": [
          0,
          1,
          2,
          3,
          4,
          5,
          6,
          7,
          8,
          9,
          10,
          11,
          12,
          13,
          14,
          15,
          16,
          17,
          18,
          19,
          20,
          21,
          22,
          23,
          24,
          25,
          26,
          27,
          28,
          29,
          30,
          31,
          32,
          33,
          34,
          35,
          36,
          37,
          38,
          39,
          40,
          41,
          42,
          43,
          44,
          45,
          46,
          47,
          48,
          49,
          50,
          51,
          52,
          53,
          54,
          55,
          56,
          57,
          58,
          59,
          60,
          61,
          62,
          63,
          64,
          65,
          66,
          67,
          68,
          69,
          70,
          71,
          72,
          73,
          74,
          75,
          76,
          77,
          78,
          79,
          80,
          81,
          82,
          83,
          84,
          85,
          86,
          87,
          88,
          89,
          90,
          91,
          92,
          93,
          94,
          95,
          96,
          97,
          98,
          99
         ],
         "y": [
          8.798398168647134,
          8.439481932527826,
          9.348582830262048,
          8.817086727885847,
          8.57467568469755,
          10.758645230352611,
          10.314371736180806,
          9.95818288865324,
          9.719099294613082,
          10.792029095224636,
          12.189408536380707,
          12.189759353142103,
          10.742975392293243,
          10.145592920695352,
          11.488406994045462,
          10.488262323049902,
          11.475296553725446,
          11.136512631500535,
          11.135704544754322,
          12.52786708326615,
          12.745404651580163,
          12.631028915400325,
          13.201240467112537,
          14.067660648495185,
          13.795402390946002,
          11.947245842829858,
          9.371611437442805,
          9.025716501547501,
          8.43791066154656,
          6.839539330874484,
          7.739222489218674,
          6.882703144346614,
          6.750040150748404,
          6.243607827656604,
          5.8881005317566,
          7.646066421105247,
          7.937878682503275,
          8.851778586129527,
          10.240024990854899,
          10.766832723516034,
          11.104952127641285,
          13.725907176239692,
          12.95068400319667,
          14.473516513644094,
          15.569865755895412,
          15.063068701475746,
          15.368295536768525,
          16.66493581309122,
          15.825265135764655,
          14.555742182952706,
          14.633413158690521,
          14.364159169802647,
          15.522845539850167,
          16.155623411400747,
          15.476022473163507,
          14.52247186949604,
          13.786753199140058,
          13.953693300572784,
          15.850469091322555,
          13.547838747640526,
          14.38476165149602,
          15.081547586260928,
          16.99898133535877,
          18.149663708249808,
          18.17559675435487,
          16.660652571650466,
          17.15317182344925,
          17.983179514712106,
          17.73246412738738,
          17.22954261131538,
          17.27286228821565,
          17.845129481165024,
          18.1150534046611,
          19.085261813619717,
          18.359235166345456,
          17.256471702003505,
          16.780812616967868,
          17.240868406932726,
          19.04628481147123,
          20.506316656034986,
          21.394237108259368,
          21.322648304416127,
          21.605639592499077,
          19.04286387822016,
          19.015719007697882,
          17.300822517378744,
          16.590060468381104,
          17.69361652691625,
          18.79338665882392,
          18.537034066833037,
          18.89553636908021,
          17.51636708595577,
          15.489542715372147,
          16.907617620935216,
          16.539767384972272,
          16.074662412122855,
          16.799108879725775,
          15.006699917627934,
          15.399771648652088,
          14.959225846369424
         ]
        }
       ],
       "layout": {
        "legend": {
         "bgcolor": "#F5F6F9",
         "font": {
          "color": "#4D5663"
         }
        },
        "paper_bgcolor": "#F5F6F9",
        "plot_bgcolor": "#F5F6F9",
        "template": {
         "data": {
          "bar": [
           {
            "error_x": {
             "color": "#2a3f5f"
            },
            "error_y": {
             "color": "#2a3f5f"
            },
            "marker": {
             "line": {
              "color": "#E5ECF6",
              "width": 0.5
             },
             "pattern": {
              "fillmode": "overlay",
              "size": 10,
              "solidity": 0.2
             }
            },
            "type": "bar"
           }
          ],
          "barpolar": [
           {
            "marker": {
             "line": {
              "color": "#E5ECF6",
              "width": 0.5
             },
             "pattern": {
              "fillmode": "overlay",
              "size": 10,
              "solidity": 0.2
             }
            },
            "type": "barpolar"
           }
          ],
          "carpet": [
           {
            "aaxis": {
             "endlinecolor": "#2a3f5f",
             "gridcolor": "white",
             "linecolor": "white",
             "minorgridcolor": "white",
             "startlinecolor": "#2a3f5f"
            },
            "baxis": {
             "endlinecolor": "#2a3f5f",
             "gridcolor": "white",
             "linecolor": "white",
             "minorgridcolor": "white",
             "startlinecolor": "#2a3f5f"
            },
            "type": "carpet"
           }
          ],
          "choropleth": [
           {
            "colorbar": {
             "outlinewidth": 0,
             "ticks": ""
            },
            "type": "choropleth"
           }
          ],
          "contour": [
           {
            "colorbar": {
             "outlinewidth": 0,
             "ticks": ""
            },
            "colorscale": [
             [
              0,
              "#0d0887"
             ],
             [
              0.1111111111111111,
              "#46039f"
             ],
             [
              0.2222222222222222,
              "#7201a8"
             ],
             [
              0.3333333333333333,
              "#9c179e"
             ],
             [
              0.4444444444444444,
              "#bd3786"
             ],
             [
              0.5555555555555556,
              "#d8576b"
             ],
             [
              0.6666666666666666,
              "#ed7953"
             ],
             [
              0.7777777777777778,
              "#fb9f3a"
             ],
             [
              0.8888888888888888,
              "#fdca26"
             ],
             [
              1,
              "#f0f921"
             ]
            ],
            "type": "contour"
           }
          ],
          "contourcarpet": [
           {
            "colorbar": {
             "outlinewidth": 0,
             "ticks": ""
            },
            "type": "contourcarpet"
           }
          ],
          "heatmap": [
           {
            "colorbar": {
             "outlinewidth": 0,
             "ticks": ""
            },
            "colorscale": [
             [
              0,
              "#0d0887"
             ],
             [
              0.1111111111111111,
              "#46039f"
             ],
             [
              0.2222222222222222,
              "#7201a8"
             ],
             [
              0.3333333333333333,
              "#9c179e"
             ],
             [
              0.4444444444444444,
              "#bd3786"
             ],
             [
              0.5555555555555556,
              "#d8576b"
             ],
             [
              0.6666666666666666,
              "#ed7953"
             ],
             [
              0.7777777777777778,
              "#fb9f3a"
             ],
             [
              0.8888888888888888,
              "#fdca26"
             ],
             [
              1,
              "#f0f921"
             ]
            ],
            "type": "heatmap"
           }
          ],
          "heatmapgl": [
           {
            "colorbar": {
             "outlinewidth": 0,
             "ticks": ""
            },
            "colorscale": [
             [
              0,
              "#0d0887"
             ],
             [
              0.1111111111111111,
              "#46039f"
             ],
             [
              0.2222222222222222,
              "#7201a8"
             ],
             [
              0.3333333333333333,
              "#9c179e"
             ],
             [
              0.4444444444444444,
              "#bd3786"
             ],
             [
              0.5555555555555556,
              "#d8576b"
             ],
             [
              0.6666666666666666,
              "#ed7953"
             ],
             [
              0.7777777777777778,
              "#fb9f3a"
             ],
             [
              0.8888888888888888,
              "#fdca26"
             ],
             [
              1,
              "#f0f921"
             ]
            ],
            "type": "heatmapgl"
           }
          ],
          "histogram": [
           {
            "marker": {
             "pattern": {
              "fillmode": "overlay",
              "size": 10,
              "solidity": 0.2
             }
            },
            "type": "histogram"
           }
          ],
          "histogram2d": [
           {
            "colorbar": {
             "outlinewidth": 0,
             "ticks": ""
            },
            "colorscale": [
             [
              0,
              "#0d0887"
             ],
             [
              0.1111111111111111,
              "#46039f"
             ],
             [
              0.2222222222222222,
              "#7201a8"
             ],
             [
              0.3333333333333333,
              "#9c179e"
             ],
             [
              0.4444444444444444,
              "#bd3786"
             ],
             [
              0.5555555555555556,
              "#d8576b"
             ],
             [
              0.6666666666666666,
              "#ed7953"
             ],
             [
              0.7777777777777778,
              "#fb9f3a"
             ],
             [
              0.8888888888888888,
              "#fdca26"
             ],
             [
              1,
              "#f0f921"
             ]
            ],
            "type": "histogram2d"
           }
          ],
          "histogram2dcontour": [
           {
            "colorbar": {
             "outlinewidth": 0,
             "ticks": ""
            },
            "colorscale": [
             [
              0,
              "#0d0887"
             ],
             [
              0.1111111111111111,
              "#46039f"
             ],
             [
              0.2222222222222222,
              "#7201a8"
             ],
             [
              0.3333333333333333,
              "#9c179e"
             ],
             [
              0.4444444444444444,
              "#bd3786"
             ],
             [
              0.5555555555555556,
              "#d8576b"
             ],
             [
              0.6666666666666666,
              "#ed7953"
             ],
             [
              0.7777777777777778,
              "#fb9f3a"
             ],
             [
              0.8888888888888888,
              "#fdca26"
             ],
             [
              1,
              "#f0f921"
             ]
            ],
            "type": "histogram2dcontour"
           }
          ],
          "mesh3d": [
           {
            "colorbar": {
             "outlinewidth": 0,
             "ticks": ""
            },
            "type": "mesh3d"
           }
          ],
          "parcoords": [
           {
            "line": {
             "colorbar": {
              "outlinewidth": 0,
              "ticks": ""
             }
            },
            "type": "parcoords"
           }
          ],
          "pie": [
           {
            "automargin": true,
            "type": "pie"
           }
          ],
          "scatter": [
           {
            "marker": {
             "colorbar": {
              "outlinewidth": 0,
              "ticks": ""
             }
            },
            "type": "scatter"
           }
          ],
          "scatter3d": [
           {
            "line": {
             "colorbar": {
              "outlinewidth": 0,
              "ticks": ""
             }
            },
            "marker": {
             "colorbar": {
              "outlinewidth": 0,
              "ticks": ""
             }
            },
            "type": "scatter3d"
           }
          ],
          "scattercarpet": [
           {
            "marker": {
             "colorbar": {
              "outlinewidth": 0,
              "ticks": ""
             }
            },
            "type": "scattercarpet"
           }
          ],
          "scattergeo": [
           {
            "marker": {
             "colorbar": {
              "outlinewidth": 0,
              "ticks": ""
             }
            },
            "type": "scattergeo"
           }
          ],
          "scattergl": [
           {
            "marker": {
             "colorbar": {
              "outlinewidth": 0,
              "ticks": ""
             }
            },
            "type": "scattergl"
           }
          ],
          "scattermapbox": [
           {
            "marker": {
             "colorbar": {
              "outlinewidth": 0,
              "ticks": ""
             }
            },
            "type": "scattermapbox"
           }
          ],
          "scatterpolar": [
           {
            "marker": {
             "colorbar": {
              "outlinewidth": 0,
              "ticks": ""
             }
            },
            "type": "scatterpolar"
           }
          ],
          "scatterpolargl": [
           {
            "marker": {
             "colorbar": {
              "outlinewidth": 0,
              "ticks": ""
             }
            },
            "type": "scatterpolargl"
           }
          ],
          "scatterternary": [
           {
            "marker": {
             "colorbar": {
              "outlinewidth": 0,
              "ticks": ""
             }
            },
            "type": "scatterternary"
           }
          ],
          "surface": [
           {
            "colorbar": {
             "outlinewidth": 0,
             "ticks": ""
            },
            "colorscale": [
             [
              0,
              "#0d0887"
             ],
             [
              0.1111111111111111,
              "#46039f"
             ],
             [
              0.2222222222222222,
              "#7201a8"
             ],
             [
              0.3333333333333333,
              "#9c179e"
             ],
             [
              0.4444444444444444,
              "#bd3786"
             ],
             [
              0.5555555555555556,
              "#d8576b"
             ],
             [
              0.6666666666666666,
              "#ed7953"
             ],
             [
              0.7777777777777778,
              "#fb9f3a"
             ],
             [
              0.8888888888888888,
              "#fdca26"
             ],
             [
              1,
              "#f0f921"
             ]
            ],
            "type": "surface"
           }
          ],
          "table": [
           {
            "cells": {
             "fill": {
              "color": "#EBF0F8"
             },
             "line": {
              "color": "white"
             }
            },
            "header": {
             "fill": {
              "color": "#C8D4E3"
             },
             "line": {
              "color": "white"
             }
            },
            "type": "table"
           }
          ]
         },
         "layout": {
          "annotationdefaults": {
           "arrowcolor": "#2a3f5f",
           "arrowhead": 0,
           "arrowwidth": 1
          },
          "autotypenumbers": "strict",
          "coloraxis": {
           "colorbar": {
            "outlinewidth": 0,
            "ticks": ""
           }
          },
          "colorscale": {
           "diverging": [
            [
             0,
             "#8e0152"
            ],
            [
             0.1,
             "#c51b7d"
            ],
            [
             0.2,
             "#de77ae"
            ],
            [
             0.3,
             "#f1b6da"
            ],
            [
             0.4,
             "#fde0ef"
            ],
            [
             0.5,
             "#f7f7f7"
            ],
            [
             0.6,
             "#e6f5d0"
            ],
            [
             0.7,
             "#b8e186"
            ],
            [
             0.8,
             "#7fbc41"
            ],
            [
             0.9,
             "#4d9221"
            ],
            [
             1,
             "#276419"
            ]
           ],
           "sequential": [
            [
             0,
             "#0d0887"
            ],
            [
             0.1111111111111111,
             "#46039f"
            ],
            [
             0.2222222222222222,
             "#7201a8"
            ],
            [
             0.3333333333333333,
             "#9c179e"
            ],
            [
             0.4444444444444444,
             "#bd3786"
            ],
            [
             0.5555555555555556,
             "#d8576b"
            ],
            [
             0.6666666666666666,
             "#ed7953"
            ],
            [
             0.7777777777777778,
             "#fb9f3a"
            ],
            [
             0.8888888888888888,
             "#fdca26"
            ],
            [
             1,
             "#f0f921"
            ]
           ],
           "sequentialminus": [
            [
             0,
             "#0d0887"
            ],
            [
             0.1111111111111111,
             "#46039f"
            ],
            [
             0.2222222222222222,
             "#7201a8"
            ],
            [
             0.3333333333333333,
             "#9c179e"
            ],
            [
             0.4444444444444444,
             "#bd3786"
            ],
            [
             0.5555555555555556,
             "#d8576b"
            ],
            [
             0.6666666666666666,
             "#ed7953"
            ],
            [
             0.7777777777777778,
             "#fb9f3a"
            ],
            [
             0.8888888888888888,
             "#fdca26"
            ],
            [
             1,
             "#f0f921"
            ]
           ]
          },
          "colorway": [
           "#636efa",
           "#EF553B",
           "#00cc96",
           "#ab63fa",
           "#FFA15A",
           "#19d3f3",
           "#FF6692",
           "#B6E880",
           "#FF97FF",
           "#FECB52"
          ],
          "font": {
           "color": "#2a3f5f"
          },
          "geo": {
           "bgcolor": "white",
           "lakecolor": "white",
           "landcolor": "#E5ECF6",
           "showlakes": true,
           "showland": true,
           "subunitcolor": "white"
          },
          "hoverlabel": {
           "align": "left"
          },
          "hovermode": "closest",
          "mapbox": {
           "style": "light"
          },
          "paper_bgcolor": "white",
          "plot_bgcolor": "#E5ECF6",
          "polar": {
           "angularaxis": {
            "gridcolor": "white",
            "linecolor": "white",
            "ticks": ""
           },
           "bgcolor": "#E5ECF6",
           "radialaxis": {
            "gridcolor": "white",
            "linecolor": "white",
            "ticks": ""
           }
          },
          "scene": {
           "xaxis": {
            "backgroundcolor": "#E5ECF6",
            "gridcolor": "white",
            "gridwidth": 2,
            "linecolor": "white",
            "showbackground": true,
            "ticks": "",
            "zerolinecolor": "white"
           },
           "yaxis": {
            "backgroundcolor": "#E5ECF6",
            "gridcolor": "white",
            "gridwidth": 2,
            "linecolor": "white",
            "showbackground": true,
            "ticks": "",
            "zerolinecolor": "white"
           },
           "zaxis": {
            "backgroundcolor": "#E5ECF6",
            "gridcolor": "white",
            "gridwidth": 2,
            "linecolor": "white",
            "showbackground": true,
            "ticks": "",
            "zerolinecolor": "white"
           }
          },
          "shapedefaults": {
           "line": {
            "color": "#2a3f5f"
           }
          },
          "ternary": {
           "aaxis": {
            "gridcolor": "white",
            "linecolor": "white",
            "ticks": ""
           },
           "baxis": {
            "gridcolor": "white",
            "linecolor": "white",
            "ticks": ""
           },
           "bgcolor": "#E5ECF6",
           "caxis": {
            "gridcolor": "white",
            "linecolor": "white",
            "ticks": ""
           }
          },
          "title": {
           "x": 0.05
          },
          "xaxis": {
           "automargin": true,
           "gridcolor": "white",
           "linecolor": "white",
           "ticks": "",
           "title": {
            "standoff": 15
           },
           "zerolinecolor": "white",
           "zerolinewidth": 2
          },
          "yaxis": {
           "automargin": true,
           "gridcolor": "white",
           "linecolor": "white",
           "ticks": "",
           "title": {
            "standoff": 15
           },
           "zerolinecolor": "white",
           "zerolinewidth": 2
          }
         }
        },
        "title": {
         "font": {
          "color": "#4D5663"
         }
        },
        "xaxis": {
         "gridcolor": "#E1E5ED",
         "showgrid": true,
         "tickfont": {
          "color": "#4D5663"
         },
         "title": {
          "font": {
           "color": "#4D5663"
          },
          "text": ""
         },
         "zerolinecolor": "#E1E5ED"
        },
        "yaxis": {
         "gridcolor": "#E1E5ED",
         "showgrid": true,
         "tickfont": {
          "color": "#4D5663"
         },
         "title": {
          "font": {
           "color": "#4D5663"
          },
          "text": ""
         },
         "zerolinecolor": "#E1E5ED"
        }
       }
      },
      "text/html": [
       "<div>                            <div id=\"aa1a113c-d590-46a5-883b-45263fe2eeef\" class=\"plotly-graph-div\" style=\"height:525px; width:100%;\"></div>            <script type=\"text/javascript\">                require([\"plotly\"], function(Plotly) {                    window.PLOTLYENV=window.PLOTLYENV || {};\n",
       "                    window.PLOTLYENV.BASE_URL='https://plot.ly';                                    if (document.getElementById(\"aa1a113c-d590-46a5-883b-45263fe2eeef\")) {                    Plotly.newPlot(                        \"aa1a113c-d590-46a5-883b-45263fe2eeef\",                        [{\"line\":{\"color\":\"rgba(255, 153, 51, 1.0)\",\"dash\":\"solid\",\"shape\":\"linear\",\"width\":1.3},\"mode\":\"lines\",\"name\":\"A\",\"text\":\"\",\"x\":[0,1,2,3,4,5,6,7,8,9,10,11,12,13,14,15,16,17,18,19,20,21,22,23,24,25,26,27,28,29,30,31,32,33,34,35,36,37,38,39,40,41,42,43,44,45,46,47,48,49,50,51,52,53,54,55,56,57,58,59,60,61,62,63,64,65,66,67,68,69,70,71,72,73,74,75,76,77,78,79,80,81,82,83,84,85,86,87,88,89,90,91,92,93,94,95,96,97,98,99],\"y\":[9.650411519781507,10.97429909927817,9.705098440711152,11.24454492887338,9.6688131680688,10.293526974677622,10.482801460160529,10.645241098165071,9.622841278167217,11.384466058550425,10.820635438162414,11.449217051093958,13.12213985397532,13.873542550749994,12.747762052519612,11.783620509081294,11.852541143237627,10.70436305802576,8.634564712781772,8.80053905214741,6.861204240804851,6.972637267733968,6.92042669959239,8.53756129401914,9.00405912819473,9.450039306250005,9.281054911160549,10.075195589959096,9.363435425048792,10.904120669621152,11.06613883661915,10.106294645567393,9.958408460276559,8.506334345486586,8.119053115982702,9.36831343042406,10.741306327612756,11.891141769641997,12.560460841511073,11.95602784754915,12.526381353800197,12.600585071499632,13.26477340063981,13.462764995940548,12.684601324882578,10.87705379496935,11.161760302219804,8.571619559725763,9.279172325139285,8.282202179181384,8.790598946660364,8.417921314438326,7.993752774690675,7.506438603035111,8.431020750921757,6.310090154335251,6.627112172486628,6.836753437483933,6.39999288765352,4.881360703920431,4.79885385730441,3.5380335387059034,3.2175570087881944,3.329530782935257,3.3230628063108156,4.303401795115379,4.091798394719929,4.421891067810155,4.092225890073438,6.521443571249302,6.882868445727067,7.044049688773676,6.8503283220499505,6.717550930682613,7.049675239047637,5.218134117166776,4.996709885830438,3.9676913725937224,4.144707449065263,3.840810150212172,3.68643724478207,3.8964607516607144,3.9415406844566325,3.9579247323143676,3.112918809524171,3.491444863560189,3.706728806568173,4.273098678689246,5.4793320204674325,4.033776606577183,3.1584211484888067,3.490026939994001,3.3018154720524286,3.298781975282351,3.720753980310536,4.800574539394231,5.198785166213719,6.015326816997179,4.914751722305591,3.489166209183713],\"type\":\"scatter\"},{\"line\":{\"color\":\"rgba(55, 128, 191, 1.0)\",\"dash\":\"solid\",\"shape\":\"linear\",\"width\":1.3},\"mode\":\"lines\",\"name\":\"B\",\"text\":\"\",\"x\":[0,1,2,3,4,5,6,7,8,9,10,11,12,13,14,15,16,17,18,19,20,21,22,23,24,25,26,27,28,29,30,31,32,33,34,35,36,37,38,39,40,41,42,43,44,45,46,47,48,49,50,51,52,53,54,55,56,57,58,59,60,61,62,63,64,65,66,67,68,69,70,71,72,73,74,75,76,77,78,79,80,81,82,83,84,85,86,87,88,89,90,91,92,93,94,95,96,97,98,99],\"y\":[9.217159368154666,7.643078612639228,7.625962882566208,7.414943452539729,6.122502992353666,6.947866439442895,7.991276979144101,6.843400383214903,7.966333359414925,7.631344046746859,9.298546659747888,10.1402004958837,12.26796562414902,13.456281689300416,13.743079670711689,14.585424909805926,14.386127148029477,14.833405053689088,15.46687722432278,16.47805068183232,17.443991392842975,16.597611522037973,16.41349018344232,17.57699930741739,18.59499222598746,17.77643834305045,16.96245216530832,16.841521100160726,17.631492868204,16.433769510265822,16.517549781342233,18.078754165375532,19.156068117235115,18.248664608320972,16.808971947020673,15.26304140109262,15.742793895903382,17.12000629278564,16.57855824032275,15.05942857768066,14.251428963911017,14.981462895532491,15.25682813719679,17.388549712021984,15.688606289390469,15.544874293495273,15.933668686520624,16.11842323498339,16.338902890185764,17.75037158285398,19.13703472373234,20.049823823163685,19.263630840427048,19.24084620683369,18.905631742705346,20.278109828800776,21.210991197142175,21.439415990066333,20.63848358167506,21.13569901875858,20.984780380849912,22.051622038600478,18.988465353716457,18.984693562849632,19.152029174788026,20.33258703563861,20.07682187531622,18.390133152842168,17.393072390871016,18.855723269975073,21.027418636428685,20.547938950928785,19.97691751671206,18.282416215923416,17.542387991087857,17.050509271520696,15.773369956531475,14.152440860957906,12.820986889247589,12.441886687739332,12.527527055892634,11.316018613546301,10.136498396173378,9.810778182230253,10.041857436046385,9.972372031890446,11.674503310080905,11.128244634786451,13.440494529268104,13.713453586898666,16.668973151675022,16.926532820494383,18.3714452922382,18.38747956936705,18.741330409803105,19.915114442903658,22.363016016101405,19.68148805660158,20.014481813056726,19.625494700302696],\"type\":\"scatter\"},{\"line\":{\"color\":\"rgba(50, 171, 96, 1.0)\",\"dash\":\"solid\",\"shape\":\"linear\",\"width\":1.3},\"mode\":\"lines\",\"name\":\"C\",\"text\":\"\",\"x\":[0,1,2,3,4,5,6,7,8,9,10,11,12,13,14,15,16,17,18,19,20,21,22,23,24,25,26,27,28,29,30,31,32,33,34,35,36,37,38,39,40,41,42,43,44,45,46,47,48,49,50,51,52,53,54,55,56,57,58,59,60,61,62,63,64,65,66,67,68,69,70,71,72,73,74,75,76,77,78,79,80,81,82,83,84,85,86,87,88,89,90,91,92,93,94,95,96,97,98,99],\"y\":[8.798398168647134,8.439481932527826,9.348582830262048,8.817086727885847,8.57467568469755,10.758645230352611,10.314371736180806,9.95818288865324,9.719099294613082,10.792029095224636,12.189408536380707,12.189759353142103,10.742975392293243,10.145592920695352,11.488406994045462,10.488262323049902,11.475296553725446,11.136512631500535,11.135704544754322,12.52786708326615,12.745404651580163,12.631028915400325,13.201240467112537,14.067660648495185,13.795402390946002,11.947245842829858,9.371611437442805,9.025716501547501,8.43791066154656,6.839539330874484,7.739222489218674,6.882703144346614,6.750040150748404,6.243607827656604,5.8881005317566,7.646066421105247,7.937878682503275,8.851778586129527,10.240024990854899,10.766832723516034,11.104952127641285,13.725907176239692,12.95068400319667,14.473516513644094,15.569865755895412,15.063068701475746,15.368295536768525,16.66493581309122,15.825265135764655,14.555742182952706,14.633413158690521,14.364159169802647,15.522845539850167,16.155623411400747,15.476022473163507,14.52247186949604,13.786753199140058,13.953693300572784,15.850469091322555,13.547838747640526,14.38476165149602,15.081547586260928,16.99898133535877,18.149663708249808,18.17559675435487,16.660652571650466,17.15317182344925,17.983179514712106,17.73246412738738,17.22954261131538,17.27286228821565,17.845129481165024,18.1150534046611,19.085261813619717,18.359235166345456,17.256471702003505,16.780812616967868,17.240868406932726,19.04628481147123,20.506316656034986,21.394237108259368,21.322648304416127,21.605639592499077,19.04286387822016,19.015719007697882,17.300822517378744,16.590060468381104,17.69361652691625,18.79338665882392,18.537034066833037,18.89553636908021,17.51636708595577,15.489542715372147,16.907617620935216,16.539767384972272,16.074662412122855,16.799108879725775,15.006699917627934,15.399771648652088,14.959225846369424],\"type\":\"scatter\"}],                        {\"legend\":{\"bgcolor\":\"#F5F6F9\",\"font\":{\"color\":\"#4D5663\"}},\"paper_bgcolor\":\"#F5F6F9\",\"plot_bgcolor\":\"#F5F6F9\",\"template\":{\"data\":{\"barpolar\":[{\"marker\":{\"line\":{\"color\":\"#E5ECF6\",\"width\":0.5},\"pattern\":{\"fillmode\":\"overlay\",\"size\":10,\"solidity\":0.2}},\"type\":\"barpolar\"}],\"bar\":[{\"error_x\":{\"color\":\"#2a3f5f\"},\"error_y\":{\"color\":\"#2a3f5f\"},\"marker\":{\"line\":{\"color\":\"#E5ECF6\",\"width\":0.5},\"pattern\":{\"fillmode\":\"overlay\",\"size\":10,\"solidity\":0.2}},\"type\":\"bar\"}],\"carpet\":[{\"aaxis\":{\"endlinecolor\":\"#2a3f5f\",\"gridcolor\":\"white\",\"linecolor\":\"white\",\"minorgridcolor\":\"white\",\"startlinecolor\":\"#2a3f5f\"},\"baxis\":{\"endlinecolor\":\"#2a3f5f\",\"gridcolor\":\"white\",\"linecolor\":\"white\",\"minorgridcolor\":\"white\",\"startlinecolor\":\"#2a3f5f\"},\"type\":\"carpet\"}],\"choropleth\":[{\"colorbar\":{\"outlinewidth\":0,\"ticks\":\"\"},\"type\":\"choropleth\"}],\"contourcarpet\":[{\"colorbar\":{\"outlinewidth\":0,\"ticks\":\"\"},\"type\":\"contourcarpet\"}],\"contour\":[{\"colorbar\":{\"outlinewidth\":0,\"ticks\":\"\"},\"colorscale\":[[0.0,\"#0d0887\"],[0.1111111111111111,\"#46039f\"],[0.2222222222222222,\"#7201a8\"],[0.3333333333333333,\"#9c179e\"],[0.4444444444444444,\"#bd3786\"],[0.5555555555555556,\"#d8576b\"],[0.6666666666666666,\"#ed7953\"],[0.7777777777777778,\"#fb9f3a\"],[0.8888888888888888,\"#fdca26\"],[1.0,\"#f0f921\"]],\"type\":\"contour\"}],\"heatmapgl\":[{\"colorbar\":{\"outlinewidth\":0,\"ticks\":\"\"},\"colorscale\":[[0.0,\"#0d0887\"],[0.1111111111111111,\"#46039f\"],[0.2222222222222222,\"#7201a8\"],[0.3333333333333333,\"#9c179e\"],[0.4444444444444444,\"#bd3786\"],[0.5555555555555556,\"#d8576b\"],[0.6666666666666666,\"#ed7953\"],[0.7777777777777778,\"#fb9f3a\"],[0.8888888888888888,\"#fdca26\"],[1.0,\"#f0f921\"]],\"type\":\"heatmapgl\"}],\"heatmap\":[{\"colorbar\":{\"outlinewidth\":0,\"ticks\":\"\"},\"colorscale\":[[0.0,\"#0d0887\"],[0.1111111111111111,\"#46039f\"],[0.2222222222222222,\"#7201a8\"],[0.3333333333333333,\"#9c179e\"],[0.4444444444444444,\"#bd3786\"],[0.5555555555555556,\"#d8576b\"],[0.6666666666666666,\"#ed7953\"],[0.7777777777777778,\"#fb9f3a\"],[0.8888888888888888,\"#fdca26\"],[1.0,\"#f0f921\"]],\"type\":\"heatmap\"}],\"histogram2dcontour\":[{\"colorbar\":{\"outlinewidth\":0,\"ticks\":\"\"},\"colorscale\":[[0.0,\"#0d0887\"],[0.1111111111111111,\"#46039f\"],[0.2222222222222222,\"#7201a8\"],[0.3333333333333333,\"#9c179e\"],[0.4444444444444444,\"#bd3786\"],[0.5555555555555556,\"#d8576b\"],[0.6666666666666666,\"#ed7953\"],[0.7777777777777778,\"#fb9f3a\"],[0.8888888888888888,\"#fdca26\"],[1.0,\"#f0f921\"]],\"type\":\"histogram2dcontour\"}],\"histogram2d\":[{\"colorbar\":{\"outlinewidth\":0,\"ticks\":\"\"},\"colorscale\":[[0.0,\"#0d0887\"],[0.1111111111111111,\"#46039f\"],[0.2222222222222222,\"#7201a8\"],[0.3333333333333333,\"#9c179e\"],[0.4444444444444444,\"#bd3786\"],[0.5555555555555556,\"#d8576b\"],[0.6666666666666666,\"#ed7953\"],[0.7777777777777778,\"#fb9f3a\"],[0.8888888888888888,\"#fdca26\"],[1.0,\"#f0f921\"]],\"type\":\"histogram2d\"}],\"histogram\":[{\"marker\":{\"pattern\":{\"fillmode\":\"overlay\",\"size\":10,\"solidity\":0.2}},\"type\":\"histogram\"}],\"mesh3d\":[{\"colorbar\":{\"outlinewidth\":0,\"ticks\":\"\"},\"type\":\"mesh3d\"}],\"parcoords\":[{\"line\":{\"colorbar\":{\"outlinewidth\":0,\"ticks\":\"\"}},\"type\":\"parcoords\"}],\"pie\":[{\"automargin\":true,\"type\":\"pie\"}],\"scatter3d\":[{\"line\":{\"colorbar\":{\"outlinewidth\":0,\"ticks\":\"\"}},\"marker\":{\"colorbar\":{\"outlinewidth\":0,\"ticks\":\"\"}},\"type\":\"scatter3d\"}],\"scattercarpet\":[{\"marker\":{\"colorbar\":{\"outlinewidth\":0,\"ticks\":\"\"}},\"type\":\"scattercarpet\"}],\"scattergeo\":[{\"marker\":{\"colorbar\":{\"outlinewidth\":0,\"ticks\":\"\"}},\"type\":\"scattergeo\"}],\"scattergl\":[{\"marker\":{\"colorbar\":{\"outlinewidth\":0,\"ticks\":\"\"}},\"type\":\"scattergl\"}],\"scattermapbox\":[{\"marker\":{\"colorbar\":{\"outlinewidth\":0,\"ticks\":\"\"}},\"type\":\"scattermapbox\"}],\"scatterpolargl\":[{\"marker\":{\"colorbar\":{\"outlinewidth\":0,\"ticks\":\"\"}},\"type\":\"scatterpolargl\"}],\"scatterpolar\":[{\"marker\":{\"colorbar\":{\"outlinewidth\":0,\"ticks\":\"\"}},\"type\":\"scatterpolar\"}],\"scatter\":[{\"marker\":{\"colorbar\":{\"outlinewidth\":0,\"ticks\":\"\"}},\"type\":\"scatter\"}],\"scatterternary\":[{\"marker\":{\"colorbar\":{\"outlinewidth\":0,\"ticks\":\"\"}},\"type\":\"scatterternary\"}],\"surface\":[{\"colorbar\":{\"outlinewidth\":0,\"ticks\":\"\"},\"colorscale\":[[0.0,\"#0d0887\"],[0.1111111111111111,\"#46039f\"],[0.2222222222222222,\"#7201a8\"],[0.3333333333333333,\"#9c179e\"],[0.4444444444444444,\"#bd3786\"],[0.5555555555555556,\"#d8576b\"],[0.6666666666666666,\"#ed7953\"],[0.7777777777777778,\"#fb9f3a\"],[0.8888888888888888,\"#fdca26\"],[1.0,\"#f0f921\"]],\"type\":\"surface\"}],\"table\":[{\"cells\":{\"fill\":{\"color\":\"#EBF0F8\"},\"line\":{\"color\":\"white\"}},\"header\":{\"fill\":{\"color\":\"#C8D4E3\"},\"line\":{\"color\":\"white\"}},\"type\":\"table\"}]},\"layout\":{\"annotationdefaults\":{\"arrowcolor\":\"#2a3f5f\",\"arrowhead\":0,\"arrowwidth\":1},\"autotypenumbers\":\"strict\",\"coloraxis\":{\"colorbar\":{\"outlinewidth\":0,\"ticks\":\"\"}},\"colorscale\":{\"diverging\":[[0,\"#8e0152\"],[0.1,\"#c51b7d\"],[0.2,\"#de77ae\"],[0.3,\"#f1b6da\"],[0.4,\"#fde0ef\"],[0.5,\"#f7f7f7\"],[0.6,\"#e6f5d0\"],[0.7,\"#b8e186\"],[0.8,\"#7fbc41\"],[0.9,\"#4d9221\"],[1,\"#276419\"]],\"sequential\":[[0.0,\"#0d0887\"],[0.1111111111111111,\"#46039f\"],[0.2222222222222222,\"#7201a8\"],[0.3333333333333333,\"#9c179e\"],[0.4444444444444444,\"#bd3786\"],[0.5555555555555556,\"#d8576b\"],[0.6666666666666666,\"#ed7953\"],[0.7777777777777778,\"#fb9f3a\"],[0.8888888888888888,\"#fdca26\"],[1.0,\"#f0f921\"]],\"sequentialminus\":[[0.0,\"#0d0887\"],[0.1111111111111111,\"#46039f\"],[0.2222222222222222,\"#7201a8\"],[0.3333333333333333,\"#9c179e\"],[0.4444444444444444,\"#bd3786\"],[0.5555555555555556,\"#d8576b\"],[0.6666666666666666,\"#ed7953\"],[0.7777777777777778,\"#fb9f3a\"],[0.8888888888888888,\"#fdca26\"],[1.0,\"#f0f921\"]]},\"colorway\":[\"#636efa\",\"#EF553B\",\"#00cc96\",\"#ab63fa\",\"#FFA15A\",\"#19d3f3\",\"#FF6692\",\"#B6E880\",\"#FF97FF\",\"#FECB52\"],\"font\":{\"color\":\"#2a3f5f\"},\"geo\":{\"bgcolor\":\"white\",\"lakecolor\":\"white\",\"landcolor\":\"#E5ECF6\",\"showlakes\":true,\"showland\":true,\"subunitcolor\":\"white\"},\"hoverlabel\":{\"align\":\"left\"},\"hovermode\":\"closest\",\"mapbox\":{\"style\":\"light\"},\"paper_bgcolor\":\"white\",\"plot_bgcolor\":\"#E5ECF6\",\"polar\":{\"angularaxis\":{\"gridcolor\":\"white\",\"linecolor\":\"white\",\"ticks\":\"\"},\"bgcolor\":\"#E5ECF6\",\"radialaxis\":{\"gridcolor\":\"white\",\"linecolor\":\"white\",\"ticks\":\"\"}},\"scene\":{\"xaxis\":{\"backgroundcolor\":\"#E5ECF6\",\"gridcolor\":\"white\",\"gridwidth\":2,\"linecolor\":\"white\",\"showbackground\":true,\"ticks\":\"\",\"zerolinecolor\":\"white\"},\"yaxis\":{\"backgroundcolor\":\"#E5ECF6\",\"gridcolor\":\"white\",\"gridwidth\":2,\"linecolor\":\"white\",\"showbackground\":true,\"ticks\":\"\",\"zerolinecolor\":\"white\"},\"zaxis\":{\"backgroundcolor\":\"#E5ECF6\",\"gridcolor\":\"white\",\"gridwidth\":2,\"linecolor\":\"white\",\"showbackground\":true,\"ticks\":\"\",\"zerolinecolor\":\"white\"}},\"shapedefaults\":{\"line\":{\"color\":\"#2a3f5f\"}},\"ternary\":{\"aaxis\":{\"gridcolor\":\"white\",\"linecolor\":\"white\",\"ticks\":\"\"},\"baxis\":{\"gridcolor\":\"white\",\"linecolor\":\"white\",\"ticks\":\"\"},\"bgcolor\":\"#E5ECF6\",\"caxis\":{\"gridcolor\":\"white\",\"linecolor\":\"white\",\"ticks\":\"\"}},\"title\":{\"x\":0.05},\"xaxis\":{\"automargin\":true,\"gridcolor\":\"white\",\"linecolor\":\"white\",\"ticks\":\"\",\"title\":{\"standoff\":15},\"zerolinecolor\":\"white\",\"zerolinewidth\":2},\"yaxis\":{\"automargin\":true,\"gridcolor\":\"white\",\"linecolor\":\"white\",\"ticks\":\"\",\"title\":{\"standoff\":15},\"zerolinecolor\":\"white\",\"zerolinewidth\":2}}},\"title\":{\"font\":{\"color\":\"#4D5663\"}},\"xaxis\":{\"gridcolor\":\"#E1E5ED\",\"showgrid\":true,\"tickfont\":{\"color\":\"#4D5663\"},\"title\":{\"font\":{\"color\":\"#4D5663\"},\"text\":\"\"},\"zerolinecolor\":\"#E1E5ED\"},\"yaxis\":{\"gridcolor\":\"#E1E5ED\",\"showgrid\":true,\"tickfont\":{\"color\":\"#4D5663\"},\"title\":{\"font\":{\"color\":\"#4D5663\"},\"text\":\"\"},\"zerolinecolor\":\"#E1E5ED\"}},                        {\"showLink\": true, \"linkText\": \"Export to plot.ly\", \"plotlyServerURL\": \"https://plot.ly\", \"responsive\": true}                    ).then(function(){\n",
       "                            \n",
       "var gd = document.getElementById('aa1a113c-d590-46a5-883b-45263fe2eeef');\n",
       "var x = new MutationObserver(function (mutations, observer) {{\n",
       "        var display = window.getComputedStyle(gd).display;\n",
       "        if (!display || display === 'none') {{\n",
       "            console.log([gd, 'removed!']);\n",
       "            Plotly.purge(gd);\n",
       "            observer.disconnect();\n",
       "        }}\n",
       "}});\n",
       "\n",
       "// Listen for the removal of the full notebook cells\n",
       "var notebookContainer = gd.closest('#notebook-container');\n",
       "if (notebookContainer) {{\n",
       "    x.observe(notebookContainer, {childList: true});\n",
       "}}\n",
       "\n",
       "// Listen for the clearing of the current output cell\n",
       "var outputEl = gd.closest('.output');\n",
       "if (outputEl) {{\n",
       "    x.observe(outputEl, {childList: true});\n",
       "}}\n",
       "\n",
       "                        })                };                });            </script>        </div>"
      ]
     },
     "metadata": {},
     "output_type": "display_data"
    }
   ],
   "source": [
    "df.iplot()"
   ]
  },
  {
   "cell_type": "markdown",
   "id": "fa95e2cc",
   "metadata": {},
   "source": [
    "### Plotting using matplotlib"
   ]
  },
  {
   "cell_type": "code",
   "execution_count": 16,
   "id": "4bcc0936",
   "metadata": {},
   "outputs": [
    {
     "data": {
      "text/plain": [
       "[<matplotlib.lines.Line2D at 0x2212985c0d0>,\n",
       " <matplotlib.lines.Line2D at 0x2212985c130>,\n",
       " <matplotlib.lines.Line2D at 0x2212985c250>]"
      ]
     },
     "execution_count": 16,
     "metadata": {},
     "output_type": "execute_result"
    },
    {
     "data": {
      "image/png": "[encoded data removed]",
      "text/plain": [
       "<Figure size 432x288 with 1 Axes>"
      ]
     },
     "metadata": {
      "needs_background": "light"
     },
     "output_type": "display_data"
    }
   ],
   "source": [
    "matplt.plot(df) "
   ]
  },
  {
   "cell_type": "code",
   "execution_count": 23,
   "id": "e7a0b110",
   "metadata": {},
   "outputs": [
    {
     "data": {
      "application/vnd.plotly.v1+json": {
       "config": {
        "linkText": "Export to plot.ly",
        "plotlyServerURL": "https://plot.ly",
        "showLink": true
       },
       "data": [
        {
         "line": {
          "color": "rgba(255, 153, 51, 1.0)",
          "dash": "solid",
          "shape": "linear",
          "width": 1.3
         },
         "marker": {
          "size": 5,
          "symbol": "circle"
         },
         "mode": "markers",
         "name": "B",
         "text": "",
         "type": "scatter",
         "x": [
          9.650411519781507,
          10.97429909927817,
          9.705098440711152,
          11.24454492887338,
          9.6688131680688,
          10.293526974677622,
          10.482801460160529,
          10.645241098165071,
          9.622841278167217,
          11.384466058550425,
          10.820635438162414,
          11.449217051093958,
          13.12213985397532,
          13.873542550749994,
          12.747762052519612,
          11.783620509081294,
          11.852541143237627,
          10.70436305802576,
          8.634564712781772,
          8.80053905214741,
          6.861204240804851,
          6.972637267733968,
          6.92042669959239,
          8.53756129401914,
          9.00405912819473,
          9.450039306250005,
          9.281054911160549,
          10.075195589959096,
          9.363435425048792,
          10.904120669621152,
          11.06613883661915,
          10.106294645567393,
          9.958408460276559,
          8.506334345486586,
          8.119053115982702,
          9.36831343042406,
          10.741306327612756,
          11.891141769641997,
          12.560460841511073,
          11.95602784754915,
          12.526381353800197,
          12.600585071499632,
          13.26477340063981,
          13.462764995940548,
          12.684601324882578,
          10.87705379496935,
          11.161760302219804,
          8.571619559725763,
          9.279172325139285,
          8.282202179181384,
          8.790598946660364,
          8.417921314438326,
          7.993752774690675,
          7.506438603035111,
          8.431020750921757,
          6.310090154335251,
          6.627112172486628,
          6.836753437483933,
          6.39999288765352,
          4.881360703920431,
          4.79885385730441,
          3.5380335387059034,
          3.2175570087881944,
          3.329530782935257,
          3.3230628063108156,
          4.303401795115379,
          4.091798394719929,
          4.421891067810155,
          4.092225890073438,
          6.521443571249302,
          6.882868445727067,
          7.044049688773676,
          6.8503283220499505,
          6.717550930682613,
          7.049675239047637,
          5.218134117166776,
          4.996709885830438,
          3.9676913725937224,
          4.144707449065263,
          3.840810150212172,
          3.68643724478207,
          3.8964607516607144,
          3.9415406844566325,
          3.9579247323143676,
          3.112918809524171,
          3.491444863560189,
          3.706728806568173,
          4.273098678689246,
          5.4793320204674325,
          4.033776606577183,
          3.1584211484888067,
          3.490026939994001,
          3.3018154720524286,
          3.298781975282351,
          3.720753980310536,
          4.800574539394231,
          5.198785166213719,
          6.015326816997179,
          4.914751722305591,
          3.489166209183713
         ],
         "y": [
          9.217159368154666,
          7.643078612639228,
          7.625962882566208,
          7.414943452539729,
          6.122502992353666,
          6.947866439442895,
          7.991276979144101,
          6.843400383214903,
          7.966333359414925,
          7.631344046746859,
          9.298546659747888,
          10.1402004958837,
          12.26796562414902,
          13.456281689300416,
          13.743079670711689,
          14.585424909805926,
          14.386127148029477,
          14.833405053689088,
          15.46687722432278,
          16.47805068183232,
          17.443991392842975,
          16.597611522037973,
          16.41349018344232,
          17.57699930741739,
          18.59499222598746,
          17.77643834305045,
          16.96245216530832,
          16.841521100160726,
          17.631492868204,
          16.433769510265822,
          16.517549781342233,
          18.078754165375532,
          19.156068117235115,
          18.248664608320972,
          16.808971947020673,
          15.26304140109262,
          15.742793895903382,
          17.12000629278564,
          16.57855824032275,
          15.05942857768066,
          14.251428963911017,
          14.981462895532491,
          15.25682813719679,
          17.388549712021984,
          15.688606289390469,
          15.544874293495273,
          15.933668686520624,
          16.11842323498339,
          16.338902890185764,
          17.75037158285398,
          19.13703472373234,
          20.049823823163685,
          19.263630840427048,
          19.24084620683369,
          18.905631742705346,
          20.278109828800776,
          21.210991197142175,
          21.439415990066333,
          20.63848358167506,
          21.13569901875858,
          20.984780380849912,
          22.051622038600478,
          18.988465353716457,
          18.984693562849632,
          19.152029174788026,
          20.33258703563861,
          20.07682187531622,
          18.390133152842168,
          17.393072390871016,
          18.855723269975073,
          21.027418636428685,
          20.547938950928785,
          19.97691751671206,
          18.282416215923416,
          17.542387991087857,
          17.050509271520696,
          15.773369956531475,
          14.152440860957906,
          12.820986889247589,
          12.441886687739332,
          12.527527055892634,
          11.316018613546301,
          10.136498396173378,
          9.810778182230253,
          10.041857436046385,
          9.972372031890446,
          11.674503310080905,
          11.128244634786451,
          13.440494529268104,
          13.713453586898666,
          16.668973151675022,
          16.926532820494383,
          18.3714452922382,
          18.38747956936705,
          18.741330409803105,
          19.915114442903658,
          22.363016016101405,
          19.68148805660158,
          20.014481813056726,
          19.625494700302696
         ]
        }
       ],
       "layout": {
        "legend": {
         "bgcolor": "#F5F6F9",
         "font": {
          "color": "#4D5663"
         }
        },
        "paper_bgcolor": "#F5F6F9",
        "plot_bgcolor": "#F5F6F9",
        "template": {
         "data": {
          "bar": [
           {
            "error_x": {
             "color": "#2a3f5f"
            },
            "error_y": {
             "color": "#2a3f5f"
            },
            "marker": {
             "line": {
              "color": "#E5ECF6",
              "width": 0.5
             },
             "pattern": {
              "fillmode": "overlay",
              "size": 10,
              "solidity": 0.2
             }
            },
            "type": "bar"
           }
          ],
          "barpolar": [
           {
            "marker": {
             "line": {
              "color": "#E5ECF6",
              "width": 0.5
             },
             "pattern": {
              "fillmode": "overlay",
              "size": 10,
              "solidity": 0.2
             }
            },
            "type": "barpolar"
           }
          ],
          "carpet": [
           {
            "aaxis": {
             "endlinecolor": "#2a3f5f",
             "gridcolor": "white",
             "linecolor": "white",
             "minorgridcolor": "white",
             "startlinecolor": "#2a3f5f"
            },
            "baxis": {
             "endlinecolor": "#2a3f5f",
             "gridcolor": "white",
             "linecolor": "white",
             "minorgridcolor": "white",
             "startlinecolor": "#2a3f5f"
            },
            "type": "carpet"
           }
          ],
          "choropleth": [
           {
            "colorbar": {
             "outlinewidth": 0,
             "ticks": ""
            },
            "type": "choropleth"
           }
          ],
          "contour": [
           {
            "colorbar": {
             "outlinewidth": 0,
             "ticks": ""
            },
            "colorscale": [
             [
              0,
              "#0d0887"
             ],
             [
              0.1111111111111111,
              "#46039f"
             ],
             [
              0.2222222222222222,
              "#7201a8"
             ],
             [
              0.3333333333333333,
              "#9c179e"
             ],
             [
              0.4444444444444444,
              "#bd3786"
             ],
             [
              0.5555555555555556,
              "#d8576b"
             ],
             [
              0.6666666666666666,
              "#ed7953"
             ],
             [
              0.7777777777777778,
              "#fb9f3a"
             ],
             [
              0.8888888888888888,
              "#fdca26"
             ],
             [
              1,
              "#f0f921"
             ]
            ],
            "type": "contour"
           }
          ],
          "contourcarpet": [
           {
            "colorbar": {
             "outlinewidth": 0,
             "ticks": ""
            },
            "type": "contourcarpet"
           }
          ],
          "heatmap": [
           {
            "colorbar": {
             "outlinewidth": 0,
             "ticks": ""
            },
            "colorscale": [
             [
              0,
              "#0d0887"
             ],
             [
              0.1111111111111111,
              "#46039f"
             ],
             [
              0.2222222222222222,
              "#7201a8"
             ],
             [
              0.3333333333333333,
              "#9c179e"
             ],
             [
              0.4444444444444444,
              "#bd3786"
             ],
             [
              0.5555555555555556,
              "#d8576b"
             ],
             [
              0.6666666666666666,
              "#ed7953"
             ],
             [
              0.7777777777777778,
              "#fb9f3a"
             ],
             [
              0.8888888888888888,
              "#fdca26"
             ],
             [
              1,
              "#f0f921"
             ]
            ],
            "type": "heatmap"
           }
          ],
          "heatmapgl": [
           {
            "colorbar": {
             "outlinewidth": 0,
             "ticks": ""
            },
            "colorscale": [
             [
              0,
              "#0d0887"
             ],
             [
              0.1111111111111111,
              "#46039f"
             ],
             [
              0.2222222222222222,
              "#7201a8"
             ],
             [
              0.3333333333333333,
              "#9c179e"
             ],
             [
              0.4444444444444444,
              "#bd3786"
             ],
             [
              0.5555555555555556,
              "#d8576b"
             ],
             [
              0.6666666666666666,
              "#ed7953"
             ],
             [
              0.7777777777777778,
              "#fb9f3a"
             ],
             [
              0.8888888888888888,
              "#fdca26"
             ],
             [
              1,
              "#f0f921"
             ]
            ],
            "type": "heatmapgl"
           }
          ],
          "histogram": [
           {
            "marker": {
             "pattern": {
              "fillmode": "overlay",
              "size": 10,
              "solidity": 0.2
             }
            },
            "type": "histogram"
           }
          ],
          "histogram2d": [
           {
            "colorbar": {
             "outlinewidth": 0,
             "ticks": ""
            },
            "colorscale": [
             [
              0,
              "#0d0887"
             ],
             [
              0.1111111111111111,
              "#46039f"
             ],
             [
              0.2222222222222222,
              "#7201a8"
             ],
             [
              0.3333333333333333,
              "#9c179e"
             ],
             [
              0.4444444444444444,
              "#bd3786"
             ],
             [
              0.5555555555555556,
              "#d8576b"
             ],
             [
              0.6666666666666666,
              "#ed7953"
             ],
             [
              0.7777777777777778,
              "#fb9f3a"
             ],
             [
              0.8888888888888888,
              "#fdca26"
             ],
             [
              1,
              "#f0f921"
             ]
            ],
            "type": "histogram2d"
           }
          ],
          "histogram2dcontour": [
           {
            "colorbar": {
             "outlinewidth": 0,
             "ticks": ""
            },
            "colorscale": [
             [
              0,
              "#0d0887"
             ],
             [
              0.1111111111111111,
              "#46039f"
             ],
             [
              0.2222222222222222,
              "#7201a8"
             ],
             [
              0.3333333333333333,
              "#9c179e"
             ],
             [
              0.4444444444444444,
              "#bd3786"
             ],
             [
              0.5555555555555556,
              "#d8576b"
             ],
             [
              0.6666666666666666,
              "#ed7953"
             ],
             [
              0.7777777777777778,
              "#fb9f3a"
             ],
             [
              0.8888888888888888,
              "#fdca26"
             ],
             [
              1,
              "#f0f921"
             ]
            ],
            "type": "histogram2dcontour"
           }
          ],
          "mesh3d": [
           {
            "colorbar": {
             "outlinewidth": 0,
             "ticks": ""
            },
            "type": "mesh3d"
           }
          ],
          "parcoords": [
           {
            "line": {
             "colorbar": {
              "outlinewidth": 0,
              "ticks": ""
             }
            },
            "type": "parcoords"
           }
          ],
          "pie": [
           {
            "automargin": true,
            "type": "pie"
           }
          ],
          "scatter": [
           {
            "marker": {
             "colorbar": {
              "outlinewidth": 0,
              "ticks": ""
             }
            },
            "type": "scatter"
           }
          ],
          "scatter3d": [
           {
            "line": {
             "colorbar": {
              "outlinewidth": 0,
              "ticks": ""
             }
            },
            "marker": {
             "colorbar": {
              "outlinewidth": 0,
              "ticks": ""
             }
            },
            "type": "scatter3d"
           }
          ],
          "scattercarpet": [
           {
            "marker": {
             "colorbar": {
              "outlinewidth": 0,
              "ticks": ""
             }
            },
            "type": "scattercarpet"
           }
          ],
          "scattergeo": [
           {
            "marker": {
             "colorbar": {
              "outlinewidth": 0,
              "ticks": ""
             }
            },
            "type": "scattergeo"
           }
          ],
          "scattergl": [
           {
            "marker": {
             "colorbar": {
              "outlinewidth": 0,
              "ticks": ""
             }
            },
            "type": "scattergl"
           }
          ],
          "scattermapbox": [
           {
            "marker": {
             "colorbar": {
              "outlinewidth": 0,
              "ticks": ""
             }
            },
            "type": "scattermapbox"
           }
          ],
          "scatterpolar": [
           {
            "marker": {
             "colorbar": {
              "outlinewidth": 0,
              "ticks": ""
             }
            },
            "type": "scatterpolar"
           }
          ],
          "scatterpolargl": [
           {
            "marker": {
             "colorbar": {
              "outlinewidth": 0,
              "ticks": ""
             }
            },
            "type": "scatterpolargl"
           }
          ],
          "scatterternary": [
           {
            "marker": {
             "colorbar": {
              "outlinewidth": 0,
              "ticks": ""
             }
            },
            "type": "scatterternary"
           }
          ],
          "surface": [
           {
            "colorbar": {
             "outlinewidth": 0,
             "ticks": ""
            },
            "colorscale": [
             [
              0,
              "#0d0887"
             ],
             [
              0.1111111111111111,
              "#46039f"
             ],
             [
              0.2222222222222222,
              "#7201a8"
             ],
             [
              0.3333333333333333,
              "#9c179e"
             ],
             [
              0.4444444444444444,
              "#bd3786"
             ],
             [
              0.5555555555555556,
              "#d8576b"
             ],
             [
              0.6666666666666666,
              "#ed7953"
             ],
             [
              0.7777777777777778,
              "#fb9f3a"
             ],
             [
              0.8888888888888888,
              "#fdca26"
             ],
             [
              1,
              "#f0f921"
             ]
            ],
            "type": "surface"
           }
          ],
          "table": [
           {
            "cells": {
             "fill": {
              "color": "#EBF0F8"
             },
             "line": {
              "color": "white"
             }
            },
            "header": {
             "fill": {
              "color": "#C8D4E3"
             },
             "line": {
              "color": "white"
             }
            },
            "type": "table"
           }
          ]
         },
         "layout": {
          "annotationdefaults": {
           "arrowcolor": "#2a3f5f",
           "arrowhead": 0,
           "arrowwidth": 1
          },
          "autotypenumbers": "strict",
          "coloraxis": {
           "colorbar": {
            "outlinewidth": 0,
            "ticks": ""
           }
          },
          "colorscale": {
           "diverging": [
            [
             0,
             "#8e0152"
            ],
            [
             0.1,
             "#c51b7d"
            ],
            [
             0.2,
             "#de77ae"
            ],
            [
             0.3,
             "#f1b6da"
            ],
            [
             0.4,
             "#fde0ef"
            ],
            [
             0.5,
             "#f7f7f7"
            ],
            [
             0.6,
             "#e6f5d0"
            ],
            [
             0.7,
             "#b8e186"
            ],
            [
             0.8,
             "#7fbc41"
            ],
            [
             0.9,
             "#4d9221"
            ],
            [
             1,
             "#276419"
            ]
           ],
           "sequential": [
            [
             0,
             "#0d0887"
            ],
            [
             0.1111111111111111,
             "#46039f"
            ],
            [
             0.2222222222222222,
             "#7201a8"
            ],
            [
             0.3333333333333333,
             "#9c179e"
            ],
            [
             0.4444444444444444,
             "#bd3786"
            ],
            [
             0.5555555555555556,
             "#d8576b"
            ],
            [
             0.6666666666666666,
             "#ed7953"
            ],
            [
             0.7777777777777778,
             "#fb9f3a"
            ],
            [
             0.8888888888888888,
             "#fdca26"
            ],
            [
             1,
             "#f0f921"
            ]
           ],
           "sequentialminus": [
            [
             0,
             "#0d0887"
            ],
            [
             0.1111111111111111,
             "#46039f"
            ],
            [
             0.2222222222222222,
             "#7201a8"
            ],
            [
             0.3333333333333333,
             "#9c179e"
            ],
            [
             0.4444444444444444,
             "#bd3786"
            ],
            [
             0.5555555555555556,
             "#d8576b"
            ],
            [
             0.6666666666666666,
             "#ed7953"
            ],
            [
             0.7777777777777778,
             "#fb9f3a"
            ],
            [
             0.8888888888888888,
             "#fdca26"
            ],
            [
             1,
             "#f0f921"
            ]
           ]
          },
          "colorway": [
           "#636efa",
           "#EF553B",
           "#00cc96",
           "#ab63fa",
           "#FFA15A",
           "#19d3f3",
           "#FF6692",
           "#B6E880",
           "#FF97FF",
           "#FECB52"
          ],
          "font": {
           "color": "#2a3f5f"
          },
          "geo": {
           "bgcolor": "white",
           "lakecolor": "white",
           "landcolor": "#E5ECF6",
           "showlakes": true,
           "showland": true,
           "subunitcolor": "white"
          },
          "hoverlabel": {
           "align": "left"
          },
          "hovermode": "closest",
          "mapbox": {
           "style": "light"
          },
          "paper_bgcolor": "white",
          "plot_bgcolor": "#E5ECF6",
          "polar": {
           "angularaxis": {
            "gridcolor": "white",
            "linecolor": "white",
            "ticks": ""
           },
           "bgcolor": "#E5ECF6",
           "radialaxis": {
            "gridcolor": "white",
            "linecolor": "white",
            "ticks": ""
           }
          },
          "scene": {
           "xaxis": {
            "backgroundcolor": "#E5ECF6",
            "gridcolor": "white",
            "gridwidth": 2,
            "linecolor": "white",
            "showbackground": true,
            "ticks": "",
            "zerolinecolor": "white"
           },
           "yaxis": {
            "backgroundcolor": "#E5ECF6",
            "gridcolor": "white",
            "gridwidth": 2,
            "linecolor": "white",
            "showbackground": true,
            "ticks": "",
            "zerolinecolor": "white"
           },
           "zaxis": {
            "backgroundcolor": "#E5ECF6",
            "gridcolor": "white",
            "gridwidth": 2,
            "linecolor": "white",
            "showbackground": true,
            "ticks": "",
            "zerolinecolor": "white"
           }
          },
          "shapedefaults": {
           "line": {
            "color": "#2a3f5f"
           }
          },
          "ternary": {
           "aaxis": {
            "gridcolor": "white",
            "linecolor": "white",
            "ticks": ""
           },
           "baxis": {
            "gridcolor": "white",
            "linecolor": "white",
            "ticks": ""
           },
           "bgcolor": "#E5ECF6",
           "caxis": {
            "gridcolor": "white",
            "linecolor": "white",
            "ticks": ""
           }
          },
          "title": {
           "x": 0.05
          },
          "xaxis": {
           "automargin": true,
           "gridcolor": "white",
           "linecolor": "white",
           "ticks": "",
           "title": {
            "standoff": 15
           },
           "zerolinecolor": "white",
           "zerolinewidth": 2
          },
          "yaxis": {
           "automargin": true,
           "gridcolor": "white",
           "linecolor": "white",
           "ticks": "",
           "title": {
            "standoff": 15
           },
           "zerolinecolor": "white",
           "zerolinewidth": 2
          }
         }
        },
        "title": {
         "font": {
          "color": "#4D5663"
         },
         "text": "Random data Plot"
        },
        "xaxis": {
         "gridcolor": "#E1E5ED",
         "showgrid": true,
         "tickfont": {
          "color": "#4D5663"
         },
         "title": {
          "font": {
           "color": "#4D5663"
          },
          "text": "X-Axis"
         },
         "zerolinecolor": "#E1E5ED"
        },
        "yaxis": {
         "gridcolor": "#E1E5ED",
         "showgrid": true,
         "tickfont": {
          "color": "#4D5663"
         },
         "title": {
          "font": {
           "color": "#4D5663"
          },
          "text": "Y-Axis"
         },
         "zerolinecolor": "#E1E5ED"
        }
       }
      },
      "text/html": [
       "<div>                            <div id=\"4bc8d241-6748-4f2a-b070-f02ca186f2b8\" class=\"plotly-graph-div\" style=\"height:525px; width:100%;\"></div>            <script type=\"text/javascript\">                require([\"plotly\"], function(Plotly) {                    window.PLOTLYENV=window.PLOTLYENV || {};\n",
       "                    window.PLOTLYENV.BASE_URL='https://plot.ly';                                    if (document.getElementById(\"4bc8d241-6748-4f2a-b070-f02ca186f2b8\")) {                    Plotly.newPlot(                        \"4bc8d241-6748-4f2a-b070-f02ca186f2b8\",                        [{\"line\":{\"color\":\"rgba(255, 153, 51, 1.0)\",\"dash\":\"solid\",\"shape\":\"linear\",\"width\":1.3},\"marker\":{\"size\":5,\"symbol\":\"circle\"},\"mode\":\"markers\",\"name\":\"B\",\"text\":\"\",\"x\":[9.650411519781507,10.97429909927817,9.705098440711152,11.24454492887338,9.6688131680688,10.293526974677622,10.482801460160529,10.645241098165071,9.622841278167217,11.384466058550425,10.820635438162414,11.449217051093958,13.12213985397532,13.873542550749994,12.747762052519612,11.783620509081294,11.852541143237627,10.70436305802576,8.634564712781772,8.80053905214741,6.861204240804851,6.972637267733968,6.92042669959239,8.53756129401914,9.00405912819473,9.450039306250005,9.281054911160549,10.075195589959096,9.363435425048792,10.904120669621152,11.06613883661915,10.106294645567393,9.958408460276559,8.506334345486586,8.119053115982702,9.36831343042406,10.741306327612756,11.891141769641997,12.560460841511073,11.95602784754915,12.526381353800197,12.600585071499632,13.26477340063981,13.462764995940548,12.684601324882578,10.87705379496935,11.161760302219804,8.571619559725763,9.279172325139285,8.282202179181384,8.790598946660364,8.417921314438326,7.993752774690675,7.506438603035111,8.431020750921757,6.310090154335251,6.627112172486628,6.836753437483933,6.39999288765352,4.881360703920431,4.79885385730441,3.5380335387059034,3.2175570087881944,3.329530782935257,3.3230628063108156,4.303401795115379,4.091798394719929,4.421891067810155,4.092225890073438,6.521443571249302,6.882868445727067,7.044049688773676,6.8503283220499505,6.717550930682613,7.049675239047637,5.218134117166776,4.996709885830438,3.9676913725937224,4.144707449065263,3.840810150212172,3.68643724478207,3.8964607516607144,3.9415406844566325,3.9579247323143676,3.112918809524171,3.491444863560189,3.706728806568173,4.273098678689246,5.4793320204674325,4.033776606577183,3.1584211484888067,3.490026939994001,3.3018154720524286,3.298781975282351,3.720753980310536,4.800574539394231,5.198785166213719,6.015326816997179,4.914751722305591,3.489166209183713],\"y\":[9.217159368154666,7.643078612639228,7.625962882566208,7.414943452539729,6.122502992353666,6.947866439442895,7.991276979144101,6.843400383214903,7.966333359414925,7.631344046746859,9.298546659747888,10.1402004958837,12.26796562414902,13.456281689300416,13.743079670711689,14.585424909805926,14.386127148029477,14.833405053689088,15.46687722432278,16.47805068183232,17.443991392842975,16.597611522037973,16.41349018344232,17.57699930741739,18.59499222598746,17.77643834305045,16.96245216530832,16.841521100160726,17.631492868204,16.433769510265822,16.517549781342233,18.078754165375532,19.156068117235115,18.248664608320972,16.808971947020673,15.26304140109262,15.742793895903382,17.12000629278564,16.57855824032275,15.05942857768066,14.251428963911017,14.981462895532491,15.25682813719679,17.388549712021984,15.688606289390469,15.544874293495273,15.933668686520624,16.11842323498339,16.338902890185764,17.75037158285398,19.13703472373234,20.049823823163685,19.263630840427048,19.24084620683369,18.905631742705346,20.278109828800776,21.210991197142175,21.439415990066333,20.63848358167506,21.13569901875858,20.984780380849912,22.051622038600478,18.988465353716457,18.984693562849632,19.152029174788026,20.33258703563861,20.07682187531622,18.390133152842168,17.393072390871016,18.855723269975073,21.027418636428685,20.547938950928785,19.97691751671206,18.282416215923416,17.542387991087857,17.050509271520696,15.773369956531475,14.152440860957906,12.820986889247589,12.441886687739332,12.527527055892634,11.316018613546301,10.136498396173378,9.810778182230253,10.041857436046385,9.972372031890446,11.674503310080905,11.128244634786451,13.440494529268104,13.713453586898666,16.668973151675022,16.926532820494383,18.3714452922382,18.38747956936705,18.741330409803105,19.915114442903658,22.363016016101405,19.68148805660158,20.014481813056726,19.625494700302696],\"type\":\"scatter\"}],                        {\"legend\":{\"bgcolor\":\"#F5F6F9\",\"font\":{\"color\":\"#4D5663\"}},\"paper_bgcolor\":\"#F5F6F9\",\"plot_bgcolor\":\"#F5F6F9\",\"template\":{\"data\":{\"barpolar\":[{\"marker\":{\"line\":{\"color\":\"#E5ECF6\",\"width\":0.5},\"pattern\":{\"fillmode\":\"overlay\",\"size\":10,\"solidity\":0.2}},\"type\":\"barpolar\"}],\"bar\":[{\"error_x\":{\"color\":\"#2a3f5f\"},\"error_y\":{\"color\":\"#2a3f5f\"},\"marker\":{\"line\":{\"color\":\"#E5ECF6\",\"width\":0.5},\"pattern\":{\"fillmode\":\"overlay\",\"size\":10,\"solidity\":0.2}},\"type\":\"bar\"}],\"carpet\":[{\"aaxis\":{\"endlinecolor\":\"#2a3f5f\",\"gridcolor\":\"white\",\"linecolor\":\"white\",\"minorgridcolor\":\"white\",\"startlinecolor\":\"#2a3f5f\"},\"baxis\":{\"endlinecolor\":\"#2a3f5f\",\"gridcolor\":\"white\",\"linecolor\":\"white\",\"minorgridcolor\":\"white\",\"startlinecolor\":\"#2a3f5f\"},\"type\":\"carpet\"}],\"choropleth\":[{\"colorbar\":{\"outlinewidth\":0,\"ticks\":\"\"},\"type\":\"choropleth\"}],\"contourcarpet\":[{\"colorbar\":{\"outlinewidth\":0,\"ticks\":\"\"},\"type\":\"contourcarpet\"}],\"contour\":[{\"colorbar\":{\"outlinewidth\":0,\"ticks\":\"\"},\"colorscale\":[[0.0,\"#0d0887\"],[0.1111111111111111,\"#46039f\"],[0.2222222222222222,\"#7201a8\"],[0.3333333333333333,\"#9c179e\"],[0.4444444444444444,\"#bd3786\"],[0.5555555555555556,\"#d8576b\"],[0.6666666666666666,\"#ed7953\"],[0.7777777777777778,\"#fb9f3a\"],[0.8888888888888888,\"#fdca26\"],[1.0,\"#f0f921\"]],\"type\":\"contour\"}],\"heatmapgl\":[{\"colorbar\":{\"outlinewidth\":0,\"ticks\":\"\"},\"colorscale\":[[0.0,\"#0d0887\"],[0.1111111111111111,\"#46039f\"],[0.2222222222222222,\"#7201a8\"],[0.3333333333333333,\"#9c179e\"],[0.4444444444444444,\"#bd3786\"],[0.5555555555555556,\"#d8576b\"],[0.6666666666666666,\"#ed7953\"],[0.7777777777777778,\"#fb9f3a\"],[0.8888888888888888,\"#fdca26\"],[1.0,\"#f0f921\"]],\"type\":\"heatmapgl\"}],\"heatmap\":[{\"colorbar\":{\"outlinewidth\":0,\"ticks\":\"\"},\"colorscale\":[[0.0,\"#0d0887\"],[0.1111111111111111,\"#46039f\"],[0.2222222222222222,\"#7201a8\"],[0.3333333333333333,\"#9c179e\"],[0.4444444444444444,\"#bd3786\"],[0.5555555555555556,\"#d8576b\"],[0.6666666666666666,\"#ed7953\"],[0.7777777777777778,\"#fb9f3a\"],[0.8888888888888888,\"#fdca26\"],[1.0,\"#f0f921\"]],\"type\":\"heatmap\"}],\"histogram2dcontour\":[{\"colorbar\":{\"outlinewidth\":0,\"ticks\":\"\"},\"colorscale\":[[0.0,\"#0d0887\"],[0.1111111111111111,\"#46039f\"],[0.2222222222222222,\"#7201a8\"],[0.3333333333333333,\"#9c179e\"],[0.4444444444444444,\"#bd3786\"],[0.5555555555555556,\"#d8576b\"],[0.6666666666666666,\"#ed7953\"],[0.7777777777777778,\"#fb9f3a\"],[0.8888888888888888,\"#fdca26\"],[1.0,\"#f0f921\"]],\"type\":\"histogram2dcontour\"}],\"histogram2d\":[{\"colorbar\":{\"outlinewidth\":0,\"ticks\":\"\"},\"colorscale\":[[0.0,\"#0d0887\"],[0.1111111111111111,\"#46039f\"],[0.2222222222222222,\"#7201a8\"],[0.3333333333333333,\"#9c179e\"],[0.4444444444444444,\"#bd3786\"],[0.5555555555555556,\"#d8576b\"],[0.6666666666666666,\"#ed7953\"],[0.7777777777777778,\"#fb9f3a\"],[0.8888888888888888,\"#fdca26\"],[1.0,\"#f0f921\"]],\"type\":\"histogram2d\"}],\"histogram\":[{\"marker\":{\"pattern\":{\"fillmode\":\"overlay\",\"size\":10,\"solidity\":0.2}},\"type\":\"histogram\"}],\"mesh3d\":[{\"colorbar\":{\"outlinewidth\":0,\"ticks\":\"\"},\"type\":\"mesh3d\"}],\"parcoords\":[{\"line\":{\"colorbar\":{\"outlinewidth\":0,\"ticks\":\"\"}},\"type\":\"parcoords\"}],\"pie\":[{\"automargin\":true,\"type\":\"pie\"}],\"scatter3d\":[{\"line\":{\"colorbar\":{\"outlinewidth\":0,\"ticks\":\"\"}},\"marker\":{\"colorbar\":{\"outlinewidth\":0,\"ticks\":\"\"}},\"type\":\"scatter3d\"}],\"scattercarpet\":[{\"marker\":{\"colorbar\":{\"outlinewidth\":0,\"ticks\":\"\"}},\"type\":\"scattercarpet\"}],\"scattergeo\":[{\"marker\":{\"colorbar\":{\"outlinewidth\":0,\"ticks\":\"\"}},\"type\":\"scattergeo\"}],\"scattergl\":[{\"marker\":{\"colorbar\":{\"outlinewidth\":0,\"ticks\":\"\"}},\"type\":\"scattergl\"}],\"scattermapbox\":[{\"marker\":{\"colorbar\":{\"outlinewidth\":0,\"ticks\":\"\"}},\"type\":\"scattermapbox\"}],\"scatterpolargl\":[{\"marker\":{\"colorbar\":{\"outlinewidth\":0,\"ticks\":\"\"}},\"type\":\"scatterpolargl\"}],\"scatterpolar\":[{\"marker\":{\"colorbar\":{\"outlinewidth\":0,\"ticks\":\"\"}},\"type\":\"scatterpolar\"}],\"scatter\":[{\"marker\":{\"colorbar\":{\"outlinewidth\":0,\"ticks\":\"\"}},\"type\":\"scatter\"}],\"scatterternary\":[{\"marker\":{\"colorbar\":{\"outlinewidth\":0,\"ticks\":\"\"}},\"type\":\"scatterternary\"}],\"surface\":[{\"colorbar\":{\"outlinewidth\":0,\"ticks\":\"\"},\"colorscale\":[[0.0,\"#0d0887\"],[0.1111111111111111,\"#46039f\"],[0.2222222222222222,\"#7201a8\"],[0.3333333333333333,\"#9c179e\"],[0.4444444444444444,\"#bd3786\"],[0.5555555555555556,\"#d8576b\"],[0.6666666666666666,\"#ed7953\"],[0.7777777777777778,\"#fb9f3a\"],[0.8888888888888888,\"#fdca26\"],[1.0,\"#f0f921\"]],\"type\":\"surface\"}],\"table\":[{\"cells\":{\"fill\":{\"color\":\"#EBF0F8\"},\"line\":{\"color\":\"white\"}},\"header\":{\"fill\":{\"color\":\"#C8D4E3\"},\"line\":{\"color\":\"white\"}},\"type\":\"table\"}]},\"layout\":{\"annotationdefaults\":{\"arrowcolor\":\"#2a3f5f\",\"arrowhead\":0,\"arrowwidth\":1},\"autotypenumbers\":\"strict\",\"coloraxis\":{\"colorbar\":{\"outlinewidth\":0,\"ticks\":\"\"}},\"colorscale\":{\"diverging\":[[0,\"#8e0152\"],[0.1,\"#c51b7d\"],[0.2,\"#de77ae\"],[0.3,\"#f1b6da\"],[0.4,\"#fde0ef\"],[0.5,\"#f7f7f7\"],[0.6,\"#e6f5d0\"],[0.7,\"#b8e186\"],[0.8,\"#7fbc41\"],[0.9,\"#4d9221\"],[1,\"#276419\"]],\"sequential\":[[0.0,\"#0d0887\"],[0.1111111111111111,\"#46039f\"],[0.2222222222222222,\"#7201a8\"],[0.3333333333333333,\"#9c179e\"],[0.4444444444444444,\"#bd3786\"],[0.5555555555555556,\"#d8576b\"],[0.6666666666666666,\"#ed7953\"],[0.7777777777777778,\"#fb9f3a\"],[0.8888888888888888,\"#fdca26\"],[1.0,\"#f0f921\"]],\"sequentialminus\":[[0.0,\"#0d0887\"],[0.1111111111111111,\"#46039f\"],[0.2222222222222222,\"#7201a8\"],[0.3333333333333333,\"#9c179e\"],[0.4444444444444444,\"#bd3786\"],[0.5555555555555556,\"#d8576b\"],[0.6666666666666666,\"#ed7953\"],[0.7777777777777778,\"#fb9f3a\"],[0.8888888888888888,\"#fdca26\"],[1.0,\"#f0f921\"]]},\"colorway\":[\"#636efa\",\"#EF553B\",\"#00cc96\",\"#ab63fa\",\"#FFA15A\",\"#19d3f3\",\"#FF6692\",\"#B6E880\",\"#FF97FF\",\"#FECB52\"],\"font\":{\"color\":\"#2a3f5f\"},\"geo\":{\"bgcolor\":\"white\",\"lakecolor\":\"white\",\"landcolor\":\"#E5ECF6\",\"showlakes\":true,\"showland\":true,\"subunitcolor\":\"white\"},\"hoverlabel\":{\"align\":\"left\"},\"hovermode\":\"closest\",\"mapbox\":{\"style\":\"light\"},\"paper_bgcolor\":\"white\",\"plot_bgcolor\":\"#E5ECF6\",\"polar\":{\"angularaxis\":{\"gridcolor\":\"white\",\"linecolor\":\"white\",\"ticks\":\"\"},\"bgcolor\":\"#E5ECF6\",\"radialaxis\":{\"gridcolor\":\"white\",\"linecolor\":\"white\",\"ticks\":\"\"}},\"scene\":{\"xaxis\":{\"backgroundcolor\":\"#E5ECF6\",\"gridcolor\":\"white\",\"gridwidth\":2,\"linecolor\":\"white\",\"showbackground\":true,\"ticks\":\"\",\"zerolinecolor\":\"white\"},\"yaxis\":{\"backgroundcolor\":\"#E5ECF6\",\"gridcolor\":\"white\",\"gridwidth\":2,\"linecolor\":\"white\",\"showbackground\":true,\"ticks\":\"\",\"zerolinecolor\":\"white\"},\"zaxis\":{\"backgroundcolor\":\"#E5ECF6\",\"gridcolor\":\"white\",\"gridwidth\":2,\"linecolor\":\"white\",\"showbackground\":true,\"ticks\":\"\",\"zerolinecolor\":\"white\"}},\"shapedefaults\":{\"line\":{\"color\":\"#2a3f5f\"}},\"ternary\":{\"aaxis\":{\"gridcolor\":\"white\",\"linecolor\":\"white\",\"ticks\":\"\"},\"baxis\":{\"gridcolor\":\"white\",\"linecolor\":\"white\",\"ticks\":\"\"},\"bgcolor\":\"#E5ECF6\",\"caxis\":{\"gridcolor\":\"white\",\"linecolor\":\"white\",\"ticks\":\"\"}},\"title\":{\"x\":0.05},\"xaxis\":{\"automargin\":true,\"gridcolor\":\"white\",\"linecolor\":\"white\",\"ticks\":\"\",\"title\":{\"standoff\":15},\"zerolinecolor\":\"white\",\"zerolinewidth\":2},\"yaxis\":{\"automargin\":true,\"gridcolor\":\"white\",\"linecolor\":\"white\",\"ticks\":\"\",\"title\":{\"standoff\":15},\"zerolinecolor\":\"white\",\"zerolinewidth\":2}}},\"title\":{\"font\":{\"color\":\"#4D5663\"},\"text\":\"Random data Plot\"},\"xaxis\":{\"gridcolor\":\"#E1E5ED\",\"showgrid\":true,\"tickfont\":{\"color\":\"#4D5663\"},\"title\":{\"font\":{\"color\":\"#4D5663\"},\"text\":\"X-Axis\"},\"zerolinecolor\":\"#E1E5ED\"},\"yaxis\":{\"gridcolor\":\"#E1E5ED\",\"showgrid\":true,\"tickfont\":{\"color\":\"#4D5663\"},\"title\":{\"font\":{\"color\":\"#4D5663\"},\"text\":\"Y-Axis\"},\"zerolinecolor\":\"#E1E5ED\"}},                        {\"showLink\": true, \"linkText\": \"Export to plot.ly\", \"plotlyServerURL\": \"https://plot.ly\", \"responsive\": true}                    ).then(function(){\n",
       "                            \n",
       "var gd = document.getElementById('4bc8d241-6748-4f2a-b070-f02ca186f2b8');\n",
       "var x = new MutationObserver(function (mutations, observer) {{\n",
       "        var display = window.getComputedStyle(gd).display;\n",
       "        if (!display || display === 'none') {{\n",
       "            console.log([gd, 'removed!']);\n",
       "            Plotly.purge(gd);\n",
       "            observer.disconnect();\n",
       "        }}\n",
       "}});\n",
       "\n",
       "// Listen for the removal of the full notebook cells\n",
       "var notebookContainer = gd.closest('#notebook-container');\n",
       "if (notebookContainer) {{\n",
       "    x.observe(notebookContainer, {childList: true});\n",
       "}}\n",
       "\n",
       "// Listen for the clearing of the current output cell\n",
       "var outputEl = gd.closest('.output');\n",
       "if (outputEl) {{\n",
       "    x.observe(outputEl, {childList: true});\n",
       "}}\n",
       "\n",
       "                        })                };                });            </script>        </div>"
      ]
     },
     "metadata": {},
     "output_type": "display_data"
    }
   ],
   "source": [
    "df.iplot(x = 'A', y = 'B', xTitle = \"X-Axis\", yTitle = \"Y-Axis\", title = 'Random data Plot', mode = 'markers', size = 5)"
   ]
  },
  {
   "cell_type": "code",
   "execution_count": 26,
   "id": "ab3799b0",
   "metadata": {},
   "outputs": [
    {
     "data": {
      "application/vnd.plotly.v1+json": {
       "config": {
        "linkText": "Export to plot.ly",
        "plotlyServerURL": "https://plot.ly",
        "showLink": true
       },
       "data": [
        {
         "boxpoints": false,
         "line": {
          "width": 1.3
         },
         "marker": {
          "color": "rgba(255, 153, 51, 1.0)"
         },
         "name": "A",
         "orientation": "v",
         "type": "box",
         "y": [
          9.650411519781507,
          10.97429909927817,
          9.705098440711152,
          11.24454492887338,
          9.6688131680688,
          10.293526974677622,
          10.482801460160529,
          10.645241098165071,
          9.622841278167217,
          11.384466058550425,
          10.820635438162414,
          11.449217051093958,
          13.12213985397532,
          13.873542550749994,
          12.747762052519612,
          11.783620509081294,
          11.852541143237627,
          10.70436305802576,
          8.634564712781772,
          8.80053905214741,
          6.861204240804851,
          6.972637267733968,
          6.92042669959239,
          8.53756129401914,
          9.00405912819473,
          9.450039306250005,
          9.281054911160549,
          10.075195589959096,
          9.363435425048792,
          10.904120669621152,
          11.06613883661915,
          10.106294645567393,
          9.958408460276559,
          8.506334345486586,
          8.119053115982702,
          9.36831343042406,
          10.741306327612756,
          11.891141769641997,
          12.560460841511073,
          11.95602784754915,
          12.526381353800197,
          12.600585071499632,
          13.26477340063981,
          13.462764995940548,
          12.684601324882578,
          10.87705379496935,
          11.161760302219804,
          8.571619559725763,
          9.279172325139285,
          8.282202179181384,
          8.790598946660364,
          8.417921314438326,
          7.993752774690675,
          7.506438603035111,
          8.431020750921757,
          6.310090154335251,
          6.627112172486628,
          6.836753437483933,
          6.39999288765352,
          4.881360703920431,
          4.79885385730441,
          3.5380335387059034,
          3.2175570087881944,
          3.329530782935257,
          3.3230628063108156,
          4.303401795115379,
          4.091798394719929,
          4.421891067810155,
          4.092225890073438,
          6.521443571249302,
          6.882868445727067,
          7.044049688773676,
          6.8503283220499505,
          6.717550930682613,
          7.049675239047637,
          5.218134117166776,
          4.996709885830438,
          3.9676913725937224,
          4.144707449065263,
          3.840810150212172,
          3.68643724478207,
          3.8964607516607144,
          3.9415406844566325,
          3.9579247323143676,
          3.112918809524171,
          3.491444863560189,
          3.706728806568173,
          4.273098678689246,
          5.4793320204674325,
          4.033776606577183,
          3.1584211484888067,
          3.490026939994001,
          3.3018154720524286,
          3.298781975282351,
          3.720753980310536,
          4.800574539394231,
          5.198785166213719,
          6.015326816997179,
          4.914751722305591,
          3.489166209183713
         ]
        },
        {
         "boxpoints": false,
         "line": {
          "width": 1.3
         },
         "marker": {
          "color": "rgba(55, 128, 191, 1.0)"
         },
         "name": "B",
         "orientation": "v",
         "type": "box",
         "y": [
          9.217159368154666,
          7.643078612639228,
          7.625962882566208,
          7.414943452539729,
          6.122502992353666,
          6.947866439442895,
          7.991276979144101,
          6.843400383214903,
          7.966333359414925,
          7.631344046746859,
          9.298546659747888,
          10.1402004958837,
          12.26796562414902,
          13.456281689300416,
          13.743079670711689,
          14.585424909805926,
          14.386127148029477,
          14.833405053689088,
          15.46687722432278,
          16.47805068183232,
          17.443991392842975,
          16.597611522037973,
          16.41349018344232,
          17.57699930741739,
          18.59499222598746,
          17.77643834305045,
          16.96245216530832,
          16.841521100160726,
          17.631492868204,
          16.433769510265822,
          16.517549781342233,
          18.078754165375532,
          19.156068117235115,
          18.248664608320972,
          16.808971947020673,
          15.26304140109262,
          15.742793895903382,
          17.12000629278564,
          16.57855824032275,
          15.05942857768066,
          14.251428963911017,
          14.981462895532491,
          15.25682813719679,
          17.388549712021984,
          15.688606289390469,
          15.544874293495273,
          15.933668686520624,
          16.11842323498339,
          16.338902890185764,
          17.75037158285398,
          19.13703472373234,
          20.049823823163685,
          19.263630840427048,
          19.24084620683369,
          18.905631742705346,
          20.278109828800776,
          21.210991197142175,
          21.439415990066333,
          20.63848358167506,
          21.13569901875858,
          20.984780380849912,
          22.051622038600478,
          18.988465353716457,
          18.984693562849632,
          19.152029174788026,
          20.33258703563861,
          20.07682187531622,
          18.390133152842168,
          17.393072390871016,
          18.855723269975073,
          21.027418636428685,
          20.547938950928785,
          19.97691751671206,
          18.282416215923416,
          17.542387991087857,
          17.050509271520696,
          15.773369956531475,
          14.152440860957906,
          12.820986889247589,
          12.441886687739332,
          12.527527055892634,
          11.316018613546301,
          10.136498396173378,
          9.810778182230253,
          10.041857436046385,
          9.972372031890446,
          11.674503310080905,
          11.128244634786451,
          13.440494529268104,
          13.713453586898666,
          16.668973151675022,
          16.926532820494383,
          18.3714452922382,
          18.38747956936705,
          18.741330409803105,
          19.915114442903658,
          22.363016016101405,
          19.68148805660158,
          20.014481813056726,
          19.625494700302696
         ]
        },
        {
         "boxpoints": false,
         "line": {
          "width": 1.3
         },
         "marker": {
          "color": "rgba(50, 171, 96, 1.0)"
         },
         "name": "C",
         "orientation": "v",
         "type": "box",
         "y": [
          8.798398168647134,
          8.439481932527826,
          9.348582830262048,
          8.817086727885847,
          8.57467568469755,
          10.758645230352611,
          10.314371736180806,
          9.95818288865324,
          9.719099294613082,
          10.792029095224636,
          12.189408536380707,
          12.189759353142103,
          10.742975392293243,
          10.145592920695352,
          11.488406994045462,
          10.488262323049902,
          11.475296553725446,
          11.136512631500535,
          11.135704544754322,
          12.52786708326615,
          12.745404651580163,
          12.631028915400325,
          13.201240467112537,
          14.067660648495185,
          13.795402390946002,
          11.947245842829858,
          9.371611437442805,
          9.025716501547501,
          8.43791066154656,
          6.839539330874484,
          7.739222489218674,
          6.882703144346614,
          6.750040150748404,
          6.243607827656604,
          5.8881005317566,
          7.646066421105247,
          7.937878682503275,
          8.851778586129527,
          10.240024990854899,
          10.766832723516034,
          11.104952127641285,
          13.725907176239692,
          12.95068400319667,
          14.473516513644094,
          15.569865755895412,
          15.063068701475746,
          15.368295536768525,
          16.66493581309122,
          15.825265135764655,
          14.555742182952706,
          14.633413158690521,
          14.364159169802647,
          15.522845539850167,
          16.155623411400747,
          15.476022473163507,
          14.52247186949604,
          13.786753199140058,
          13.953693300572784,
          15.850469091322555,
          13.547838747640526,
          14.38476165149602,
          15.081547586260928,
          16.99898133535877,
          18.149663708249808,
          18.17559675435487,
          16.660652571650466,
          17.15317182344925,
          17.983179514712106,
          17.73246412738738,
          17.22954261131538,
          17.27286228821565,
          17.845129481165024,
          18.1150534046611,
          19.085261813619717,
          18.359235166345456,
          17.256471702003505,
          16.780812616967868,
          17.240868406932726,
          19.04628481147123,
          20.506316656034986,
          21.394237108259368,
          21.322648304416127,
          21.605639592499077,
          19.04286387822016,
          19.015719007697882,
          17.300822517378744,
          16.590060468381104,
          17.69361652691625,
          18.79338665882392,
          18.537034066833037,
          18.89553636908021,
          17.51636708595577,
          15.489542715372147,
          16.907617620935216,
          16.539767384972272,
          16.074662412122855,
          16.799108879725775,
          15.006699917627934,
          15.399771648652088,
          14.959225846369424
         ]
        }
       ],
       "layout": {
        "legend": {
         "bgcolor": "#F5F6F9",
         "font": {
          "color": "#4D5663"
         }
        },
        "paper_bgcolor": "#F5F6F9",
        "plot_bgcolor": "#F5F6F9",
        "template": {
         "data": {
          "bar": [
           {
            "error_x": {
             "color": "#2a3f5f"
            },
            "error_y": {
             "color": "#2a3f5f"
            },
            "marker": {
             "line": {
              "color": "#E5ECF6",
              "width": 0.5
             },
             "pattern": {
              "fillmode": "overlay",
              "size": 10,
              "solidity": 0.2
             }
            },
            "type": "bar"
           }
          ],
          "barpolar": [
           {
            "marker": {
             "line": {
              "color": "#E5ECF6",
              "width": 0.5
             },
             "pattern": {
              "fillmode": "overlay",
              "size": 10,
              "solidity": 0.2
             }
            },
            "type": "barpolar"
           }
          ],
          "carpet": [
           {
            "aaxis": {
             "endlinecolor": "#2a3f5f",
             "gridcolor": "white",
             "linecolor": "white",
             "minorgridcolor": "white",
             "startlinecolor": "#2a3f5f"
            },
            "baxis": {
             "endlinecolor": "#2a3f5f",
             "gridcolor": "white",
             "linecolor": "white",
             "minorgridcolor": "white",
             "startlinecolor": "#2a3f5f"
            },
            "type": "carpet"
           }
          ],
          "choropleth": [
           {
            "colorbar": {
             "outlinewidth": 0,
             "ticks": ""
            },
            "type": "choropleth"
           }
          ],
          "contour": [
           {
            "colorbar": {
             "outlinewidth": 0,
             "ticks": ""
            },
            "colorscale": [
             [
              0,
              "#0d0887"
             ],
             [
              0.1111111111111111,
              "#46039f"
             ],
             [
              0.2222222222222222,
              "#7201a8"
             ],
             [
              0.3333333333333333,
              "#9c179e"
             ],
             [
              0.4444444444444444,
              "#bd3786"
             ],
             [
              0.5555555555555556,
              "#d8576b"
             ],
             [
              0.6666666666666666,
              "#ed7953"
             ],
             [
              0.7777777777777778,
              "#fb9f3a"
             ],
             [
              0.8888888888888888,
              "#fdca26"
             ],
             [
              1,
              "#f0f921"
             ]
            ],
            "type": "contour"
           }
          ],
          "contourcarpet": [
           {
            "colorbar": {
             "outlinewidth": 0,
             "ticks": ""
            },
            "type": "contourcarpet"
           }
          ],
          "heatmap": [
           {
            "colorbar": {
             "outlinewidth": 0,
             "ticks": ""
            },
            "colorscale": [
             [
              0,
              "#0d0887"
             ],
             [
              0.1111111111111111,
              "#46039f"
             ],
             [
              0.2222222222222222,
              "#7201a8"
             ],
             [
              0.3333333333333333,
              "#9c179e"
             ],
             [
              0.4444444444444444,
              "#bd3786"
             ],
             [
              0.5555555555555556,
              "#d8576b"
             ],
             [
              0.6666666666666666,
              "#ed7953"
             ],
             [
              0.7777777777777778,
              "#fb9f3a"
             ],
             [
              0.8888888888888888,
              "#fdca26"
             ],
             [
              1,
              "#f0f921"
             ]
            ],
            "type": "heatmap"
           }
          ],
          "heatmapgl": [
           {
            "colorbar": {
             "outlinewidth": 0,
             "ticks": ""
            },
            "colorscale": [
             [
              0,
              "#0d0887"
             ],
             [
              0.1111111111111111,
              "#46039f"
             ],
             [
              0.2222222222222222,
              "#7201a8"
             ],
             [
              0.3333333333333333,
              "#9c179e"
             ],
             [
              0.4444444444444444,
              "#bd3786"
             ],
             [
              0.5555555555555556,
              "#d8576b"
             ],
             [
              0.6666666666666666,
              "#ed7953"
             ],
             [
              0.7777777777777778,
              "#fb9f3a"
             ],
             [
              0.8888888888888888,
              "#fdca26"
             ],
             [
              1,
              "#f0f921"
             ]
            ],
            "type": "heatmapgl"
           }
          ],
          "histogram": [
           {
            "marker": {
             "pattern": {
              "fillmode": "overlay",
              "size": 10,
              "solidity": 0.2
             }
            },
            "type": "histogram"
           }
          ],
          "histogram2d": [
           {
            "colorbar": {
             "outlinewidth": 0,
             "ticks": ""
            },
            "colorscale": [
             [
              0,
              "#0d0887"
             ],
             [
              0.1111111111111111,
              "#46039f"
             ],
             [
              0.2222222222222222,
              "#7201a8"
             ],
             [
              0.3333333333333333,
              "#9c179e"
             ],
             [
              0.4444444444444444,
              "#bd3786"
             ],
             [
              0.5555555555555556,
              "#d8576b"
             ],
             [
              0.6666666666666666,
              "#ed7953"
             ],
             [
              0.7777777777777778,
              "#fb9f3a"
             ],
             [
              0.8888888888888888,
              "#fdca26"
             ],
             [
              1,
              "#f0f921"
             ]
            ],
            "type": "histogram2d"
           }
          ],
          "histogram2dcontour": [
           {
            "colorbar": {
             "outlinewidth": 0,
             "ticks": ""
            },
            "colorscale": [
             [
              0,
              "#0d0887"
             ],
             [
              0.1111111111111111,
              "#46039f"
             ],
             [
              0.2222222222222222,
              "#7201a8"
             ],
             [
              0.3333333333333333,
              "#9c179e"
             ],
             [
              0.4444444444444444,
              "#bd3786"
             ],
             [
              0.5555555555555556,
              "#d8576b"
             ],
             [
              0.6666666666666666,
              "#ed7953"
             ],
             [
              0.7777777777777778,
              "#fb9f3a"
             ],
             [
              0.8888888888888888,
              "#fdca26"
             ],
             [
              1,
              "#f0f921"
             ]
            ],
            "type": "histogram2dcontour"
           }
          ],
          "mesh3d": [
           {
            "colorbar": {
             "outlinewidth": 0,
             "ticks": ""
            },
            "type": "mesh3d"
           }
          ],
          "parcoords": [
           {
            "line": {
             "colorbar": {
              "outlinewidth": 0,
              "ticks": ""
             }
            },
            "type": "parcoords"
           }
          ],
          "pie": [
           {
            "automargin": true,
            "type": "pie"
           }
          ],
          "scatter": [
           {
            "marker": {
             "colorbar": {
              "outlinewidth": 0,
              "ticks": ""
             }
            },
            "type": "scatter"
           }
          ],
          "scatter3d": [
           {
            "line": {
             "colorbar": {
              "outlinewidth": 0,
              "ticks": ""
             }
            },
            "marker": {
             "colorbar": {
              "outlinewidth": 0,
              "ticks": ""
             }
            },
            "type": "scatter3d"
           }
          ],
          "scattercarpet": [
           {
            "marker": {
             "colorbar": {
              "outlinewidth": 0,
              "ticks": ""
             }
            },
            "type": "scattercarpet"
           }
          ],
          "scattergeo": [
           {
            "marker": {
             "colorbar": {
              "outlinewidth": 0,
              "ticks": ""
             }
            },
            "type": "scattergeo"
           }
          ],
          "scattergl": [
           {
            "marker": {
             "colorbar": {
              "outlinewidth": 0,
              "ticks": ""
             }
            },
            "type": "scattergl"
           }
          ],
          "scattermapbox": [
           {
            "marker": {
             "colorbar": {
              "outlinewidth": 0,
              "ticks": ""
             }
            },
            "type": "scattermapbox"
           }
          ],
          "scatterpolar": [
           {
            "marker": {
             "colorbar": {
              "outlinewidth": 0,
              "ticks": ""
             }
            },
            "type": "scatterpolar"
           }
          ],
          "scatterpolargl": [
           {
            "marker": {
             "colorbar": {
              "outlinewidth": 0,
              "ticks": ""
             }
            },
            "type": "scatterpolargl"
           }
          ],
          "scatterternary": [
           {
            "marker": {
             "colorbar": {
              "outlinewidth": 0,
              "ticks": ""
             }
            },
            "type": "scatterternary"
           }
          ],
          "surface": [
           {
            "colorbar": {
             "outlinewidth": 0,
             "ticks": ""
            },
            "colorscale": [
             [
              0,
              "#0d0887"
             ],
             [
              0.1111111111111111,
              "#46039f"
             ],
             [
              0.2222222222222222,
              "#7201a8"
             ],
             [
              0.3333333333333333,
              "#9c179e"
             ],
             [
              0.4444444444444444,
              "#bd3786"
             ],
             [
              0.5555555555555556,
              "#d8576b"
             ],
             [
              0.6666666666666666,
              "#ed7953"
             ],
             [
              0.7777777777777778,
              "#fb9f3a"
             ],
             [
              0.8888888888888888,
              "#fdca26"
             ],
             [
              1,
              "#f0f921"
             ]
            ],
            "type": "surface"
           }
          ],
          "table": [
           {
            "cells": {
             "fill": {
              "color": "#EBF0F8"
             },
             "line": {
              "color": "white"
             }
            },
            "header": {
             "fill": {
              "color": "#C8D4E3"
             },
             "line": {
              "color": "white"
             }
            },
            "type": "table"
           }
          ]
         },
         "layout": {
          "annotationdefaults": {
           "arrowcolor": "#2a3f5f",
           "arrowhead": 0,
           "arrowwidth": 1
          },
          "autotypenumbers": "strict",
          "coloraxis": {
           "colorbar": {
            "outlinewidth": 0,
            "ticks": ""
           }
          },
          "colorscale": {
           "diverging": [
            [
             0,
             "#8e0152"
            ],
            [
             0.1,
             "#c51b7d"
            ],
            [
             0.2,
             "#de77ae"
            ],
            [
             0.3,
             "#f1b6da"
            ],
            [
             0.4,
             "#fde0ef"
            ],
            [
             0.5,
             "#f7f7f7"
            ],
            [
             0.6,
             "#e6f5d0"
            ],
            [
             0.7,
             "#b8e186"
            ],
            [
             0.8,
             "#7fbc41"
            ],
            [
             0.9,
             "#4d9221"
            ],
            [
             1,
             "#276419"
            ]
           ],
           "sequential": [
            [
             0,
             "#0d0887"
            ],
            [
             0.1111111111111111,
             "#46039f"
            ],
            [
             0.2222222222222222,
             "#7201a8"
            ],
            [
             0.3333333333333333,
             "#9c179e"
            ],
            [
             0.4444444444444444,
             "#bd3786"
            ],
            [
             0.5555555555555556,
             "#d8576b"
            ],
            [
             0.6666666666666666,
             "#ed7953"
            ],
            [
             0.7777777777777778,
             "#fb9f3a"
            ],
            [
             0.8888888888888888,
             "#fdca26"
            ],
            [
             1,
             "#f0f921"
            ]
           ],
           "sequentialminus": [
            [
             0,
             "#0d0887"
            ],
            [
             0.1111111111111111,
             "#46039f"
            ],
            [
             0.2222222222222222,
             "#7201a8"
            ],
            [
             0.3333333333333333,
             "#9c179e"
            ],
            [
             0.4444444444444444,
             "#bd3786"
            ],
            [
             0.5555555555555556,
             "#d8576b"
            ],
            [
             0.6666666666666666,
             "#ed7953"
            ],
            [
             0.7777777777777778,
             "#fb9f3a"
            ],
            [
             0.8888888888888888,
             "#fdca26"
            ],
            [
             1,
             "#f0f921"
            ]
           ]
          },
          "colorway": [
           "#636efa",
           "#EF553B",
           "#00cc96",
           "#ab63fa",
           "#FFA15A",
           "#19d3f3",
           "#FF6692",
           "#B6E880",
           "#FF97FF",
           "#FECB52"
          ],
          "font": {
           "color": "#2a3f5f"
          },
          "geo": {
           "bgcolor": "white",
           "lakecolor": "white",
           "landcolor": "#E5ECF6",
           "showlakes": true,
           "showland": true,
           "subunitcolor": "white"
          },
          "hoverlabel": {
           "align": "left"
          },
          "hovermode": "closest",
          "mapbox": {
           "style": "light"
          },
          "paper_bgcolor": "white",
          "plot_bgcolor": "#E5ECF6",
          "polar": {
           "angularaxis": {
            "gridcolor": "white",
            "linecolor": "white",
            "ticks": ""
           },
           "bgcolor": "#E5ECF6",
           "radialaxis": {
            "gridcolor": "white",
            "linecolor": "white",
            "ticks": ""
           }
          },
          "scene": {
           "xaxis": {
            "backgroundcolor": "#E5ECF6",
            "gridcolor": "white",
            "gridwidth": 2,
            "linecolor": "white",
            "showbackground": true,
            "ticks": "",
            "zerolinecolor": "white"
           },
           "yaxis": {
            "backgroundcolor": "#E5ECF6",
            "gridcolor": "white",
            "gridwidth": 2,
            "linecolor": "white",
            "showbackground": true,
            "ticks": "",
            "zerolinecolor": "white"
           },
           "zaxis": {
            "backgroundcolor": "#E5ECF6",
            "gridcolor": "white",
            "gridwidth": 2,
            "linecolor": "white",
            "showbackground": true,
            "ticks": "",
            "zerolinecolor": "white"
           }
          },
          "shapedefaults": {
           "line": {
            "color": "#2a3f5f"
           }
          },
          "ternary": {
           "aaxis": {
            "gridcolor": "white",
            "linecolor": "white",
            "ticks": ""
           },
           "baxis": {
            "gridcolor": "white",
            "linecolor": "white",
            "ticks": ""
           },
           "bgcolor": "#E5ECF6",
           "caxis": {
            "gridcolor": "white",
            "linecolor": "white",
            "ticks": ""
           }
          },
          "title": {
           "x": 0.05
          },
          "xaxis": {
           "automargin": true,
           "gridcolor": "white",
           "linecolor": "white",
           "ticks": "",
           "title": {
            "standoff": 15
           },
           "zerolinecolor": "white",
           "zerolinewidth": 2
          },
          "yaxis": {
           "automargin": true,
           "gridcolor": "white",
           "linecolor": "white",
           "ticks": "",
           "title": {
            "standoff": 15
           },
           "zerolinecolor": "white",
           "zerolinewidth": 2
          }
         }
        },
        "title": {
         "font": {
          "color": "#4D5663"
         }
        },
        "xaxis": {
         "gridcolor": "#E1E5ED",
         "showgrid": true,
         "tickfont": {
          "color": "#4D5663"
         },
         "title": {
          "font": {
           "color": "#4D5663"
          },
          "text": ""
         },
         "zerolinecolor": "#E1E5ED"
        },
        "yaxis": {
         "gridcolor": "#E1E5ED",
         "showgrid": true,
         "tickfont": {
          "color": "#4D5663"
         },
         "title": {
          "font": {
           "color": "#4D5663"
          },
          "text": ""
         },
         "zerolinecolor": "#E1E5ED"
        }
       }
      },
      "text/html": [
       "<div>                            <div id=\"b8fecbe6-4dbf-4b84-b4c9-f4bb27b30c39\" class=\"plotly-graph-div\" style=\"height:525px; width:100%;\"></div>            <script type=\"text/javascript\">                require([\"plotly\"], function(Plotly) {                    window.PLOTLYENV=window.PLOTLYENV || {};\n",
       "                    window.PLOTLYENV.BASE_URL='https://plot.ly';                                    if (document.getElementById(\"b8fecbe6-4dbf-4b84-b4c9-f4bb27b30c39\")) {                    Plotly.newPlot(                        \"b8fecbe6-4dbf-4b84-b4c9-f4bb27b30c39\",                        [{\"boxpoints\":false,\"line\":{\"width\":1.3},\"marker\":{\"color\":\"rgba(255, 153, 51, 1.0)\"},\"name\":\"A\",\"orientation\":\"v\",\"y\":[9.650411519781507,10.97429909927817,9.705098440711152,11.24454492887338,9.6688131680688,10.293526974677622,10.482801460160529,10.645241098165071,9.622841278167217,11.384466058550425,10.820635438162414,11.449217051093958,13.12213985397532,13.873542550749994,12.747762052519612,11.783620509081294,11.852541143237627,10.70436305802576,8.634564712781772,8.80053905214741,6.861204240804851,6.972637267733968,6.92042669959239,8.53756129401914,9.00405912819473,9.450039306250005,9.281054911160549,10.075195589959096,9.363435425048792,10.904120669621152,11.06613883661915,10.106294645567393,9.958408460276559,8.506334345486586,8.119053115982702,9.36831343042406,10.741306327612756,11.891141769641997,12.560460841511073,11.95602784754915,12.526381353800197,12.600585071499632,13.26477340063981,13.462764995940548,12.684601324882578,10.87705379496935,11.161760302219804,8.571619559725763,9.279172325139285,8.282202179181384,8.790598946660364,8.417921314438326,7.993752774690675,7.506438603035111,8.431020750921757,6.310090154335251,6.627112172486628,6.836753437483933,6.39999288765352,4.881360703920431,4.79885385730441,3.5380335387059034,3.2175570087881944,3.329530782935257,3.3230628063108156,4.303401795115379,4.091798394719929,4.421891067810155,4.092225890073438,6.521443571249302,6.882868445727067,7.044049688773676,6.8503283220499505,6.717550930682613,7.049675239047637,5.218134117166776,4.996709885830438,3.9676913725937224,4.144707449065263,3.840810150212172,3.68643724478207,3.8964607516607144,3.9415406844566325,3.9579247323143676,3.112918809524171,3.491444863560189,3.706728806568173,4.273098678689246,5.4793320204674325,4.033776606577183,3.1584211484888067,3.490026939994001,3.3018154720524286,3.298781975282351,3.720753980310536,4.800574539394231,5.198785166213719,6.015326816997179,4.914751722305591,3.489166209183713],\"type\":\"box\"},{\"boxpoints\":false,\"line\":{\"width\":1.3},\"marker\":{\"color\":\"rgba(55, 128, 191, 1.0)\"},\"name\":\"B\",\"orientation\":\"v\",\"y\":[9.217159368154666,7.643078612639228,7.625962882566208,7.414943452539729,6.122502992353666,6.947866439442895,7.991276979144101,6.843400383214903,7.966333359414925,7.631344046746859,9.298546659747888,10.1402004958837,12.26796562414902,13.456281689300416,13.743079670711689,14.585424909805926,14.386127148029477,14.833405053689088,15.46687722432278,16.47805068183232,17.443991392842975,16.597611522037973,16.41349018344232,17.57699930741739,18.59499222598746,17.77643834305045,16.96245216530832,16.841521100160726,17.631492868204,16.433769510265822,16.517549781342233,18.078754165375532,19.156068117235115,18.248664608320972,16.808971947020673,15.26304140109262,15.742793895903382,17.12000629278564,16.57855824032275,15.05942857768066,14.251428963911017,14.981462895532491,15.25682813719679,17.388549712021984,15.688606289390469,15.544874293495273,15.933668686520624,16.11842323498339,16.338902890185764,17.75037158285398,19.13703472373234,20.049823823163685,19.263630840427048,19.24084620683369,18.905631742705346,20.278109828800776,21.210991197142175,21.439415990066333,20.63848358167506,21.13569901875858,20.984780380849912,22.051622038600478,18.988465353716457,18.984693562849632,19.152029174788026,20.33258703563861,20.07682187531622,18.390133152842168,17.393072390871016,18.855723269975073,21.027418636428685,20.547938950928785,19.97691751671206,18.282416215923416,17.542387991087857,17.050509271520696,15.773369956531475,14.152440860957906,12.820986889247589,12.441886687739332,12.527527055892634,11.316018613546301,10.136498396173378,9.810778182230253,10.041857436046385,9.972372031890446,11.674503310080905,11.128244634786451,13.440494529268104,13.713453586898666,16.668973151675022,16.926532820494383,18.3714452922382,18.38747956936705,18.741330409803105,19.915114442903658,22.363016016101405,19.68148805660158,20.014481813056726,19.625494700302696],\"type\":\"box\"},{\"boxpoints\":false,\"line\":{\"width\":1.3},\"marker\":{\"color\":\"rgba(50, 171, 96, 1.0)\"},\"name\":\"C\",\"orientation\":\"v\",\"y\":[8.798398168647134,8.439481932527826,9.348582830262048,8.817086727885847,8.57467568469755,10.758645230352611,10.314371736180806,9.95818288865324,9.719099294613082,10.792029095224636,12.189408536380707,12.189759353142103,10.742975392293243,10.145592920695352,11.488406994045462,10.488262323049902,11.475296553725446,11.136512631500535,11.135704544754322,12.52786708326615,12.745404651580163,12.631028915400325,13.201240467112537,14.067660648495185,13.795402390946002,11.947245842829858,9.371611437442805,9.025716501547501,8.43791066154656,6.839539330874484,7.739222489218674,6.882703144346614,6.750040150748404,6.243607827656604,5.8881005317566,7.646066421105247,7.937878682503275,8.851778586129527,10.240024990854899,10.766832723516034,11.104952127641285,13.725907176239692,12.95068400319667,14.473516513644094,15.569865755895412,15.063068701475746,15.368295536768525,16.66493581309122,15.825265135764655,14.555742182952706,14.633413158690521,14.364159169802647,15.522845539850167,16.155623411400747,15.476022473163507,14.52247186949604,13.786753199140058,13.953693300572784,15.850469091322555,13.547838747640526,14.38476165149602,15.081547586260928,16.99898133535877,18.149663708249808,18.17559675435487,16.660652571650466,17.15317182344925,17.983179514712106,17.73246412738738,17.22954261131538,17.27286228821565,17.845129481165024,18.1150534046611,19.085261813619717,18.359235166345456,17.256471702003505,16.780812616967868,17.240868406932726,19.04628481147123,20.506316656034986,21.394237108259368,21.322648304416127,21.605639592499077,19.04286387822016,19.015719007697882,17.300822517378744,16.590060468381104,17.69361652691625,18.79338665882392,18.537034066833037,18.89553636908021,17.51636708595577,15.489542715372147,16.907617620935216,16.539767384972272,16.074662412122855,16.799108879725775,15.006699917627934,15.399771648652088,14.959225846369424],\"type\":\"box\"}],                        {\"legend\":{\"bgcolor\":\"#F5F6F9\",\"font\":{\"color\":\"#4D5663\"}},\"paper_bgcolor\":\"#F5F6F9\",\"plot_bgcolor\":\"#F5F6F9\",\"template\":{\"data\":{\"barpolar\":[{\"marker\":{\"line\":{\"color\":\"#E5ECF6\",\"width\":0.5},\"pattern\":{\"fillmode\":\"overlay\",\"size\":10,\"solidity\":0.2}},\"type\":\"barpolar\"}],\"bar\":[{\"error_x\":{\"color\":\"#2a3f5f\"},\"error_y\":{\"color\":\"#2a3f5f\"},\"marker\":{\"line\":{\"color\":\"#E5ECF6\",\"width\":0.5},\"pattern\":{\"fillmode\":\"overlay\",\"size\":10,\"solidity\":0.2}},\"type\":\"bar\"}],\"carpet\":[{\"aaxis\":{\"endlinecolor\":\"#2a3f5f\",\"gridcolor\":\"white\",\"linecolor\":\"white\",\"minorgridcolor\":\"white\",\"startlinecolor\":\"#2a3f5f\"},\"baxis\":{\"endlinecolor\":\"#2a3f5f\",\"gridcolor\":\"white\",\"linecolor\":\"white\",\"minorgridcolor\":\"white\",\"startlinecolor\":\"#2a3f5f\"},\"type\":\"carpet\"}],\"choropleth\":[{\"colorbar\":{\"outlinewidth\":0,\"ticks\":\"\"},\"type\":\"choropleth\"}],\"contourcarpet\":[{\"colorbar\":{\"outlinewidth\":0,\"ticks\":\"\"},\"type\":\"contourcarpet\"}],\"contour\":[{\"colorbar\":{\"outlinewidth\":0,\"ticks\":\"\"},\"colorscale\":[[0.0,\"#0d0887\"],[0.1111111111111111,\"#46039f\"],[0.2222222222222222,\"#7201a8\"],[0.3333333333333333,\"#9c179e\"],[0.4444444444444444,\"#bd3786\"],[0.5555555555555556,\"#d8576b\"],[0.6666666666666666,\"#ed7953\"],[0.7777777777777778,\"#fb9f3a\"],[0.8888888888888888,\"#fdca26\"],[1.0,\"#f0f921\"]],\"type\":\"contour\"}],\"heatmapgl\":[{\"colorbar\":{\"outlinewidth\":0,\"ticks\":\"\"},\"colorscale\":[[0.0,\"#0d0887\"],[0.1111111111111111,\"#46039f\"],[0.2222222222222222,\"#7201a8\"],[0.3333333333333333,\"#9c179e\"],[0.4444444444444444,\"#bd3786\"],[0.5555555555555556,\"#d8576b\"],[0.6666666666666666,\"#ed7953\"],[0.7777777777777778,\"#fb9f3a\"],[0.8888888888888888,\"#fdca26\"],[1.0,\"#f0f921\"]],\"type\":\"heatmapgl\"}],\"heatmap\":[{\"colorbar\":{\"outlinewidth\":0,\"ticks\":\"\"},\"colorscale\":[[0.0,\"#0d0887\"],[0.1111111111111111,\"#46039f\"],[0.2222222222222222,\"#7201a8\"],[0.3333333333333333,\"#9c179e\"],[0.4444444444444444,\"#bd3786\"],[0.5555555555555556,\"#d8576b\"],[0.6666666666666666,\"#ed7953\"],[0.7777777777777778,\"#fb9f3a\"],[0.8888888888888888,\"#fdca26\"],[1.0,\"#f0f921\"]],\"type\":\"heatmap\"}],\"histogram2dcontour\":[{\"colorbar\":{\"outlinewidth\":0,\"ticks\":\"\"},\"colorscale\":[[0.0,\"#0d0887\"],[0.1111111111111111,\"#46039f\"],[0.2222222222222222,\"#7201a8\"],[0.3333333333333333,\"#9c179e\"],[0.4444444444444444,\"#bd3786\"],[0.5555555555555556,\"#d8576b\"],[0.6666666666666666,\"#ed7953\"],[0.7777777777777778,\"#fb9f3a\"],[0.8888888888888888,\"#fdca26\"],[1.0,\"#f0f921\"]],\"type\":\"histogram2dcontour\"}],\"histogram2d\":[{\"colorbar\":{\"outlinewidth\":0,\"ticks\":\"\"},\"colorscale\":[[0.0,\"#0d0887\"],[0.1111111111111111,\"#46039f\"],[0.2222222222222222,\"#7201a8\"],[0.3333333333333333,\"#9c179e\"],[0.4444444444444444,\"#bd3786\"],[0.5555555555555556,\"#d8576b\"],[0.6666666666666666,\"#ed7953\"],[0.7777777777777778,\"#fb9f3a\"],[0.8888888888888888,\"#fdca26\"],[1.0,\"#f0f921\"]],\"type\":\"histogram2d\"}],\"histogram\":[{\"marker\":{\"pattern\":{\"fillmode\":\"overlay\",\"size\":10,\"solidity\":0.2}},\"type\":\"histogram\"}],\"mesh3d\":[{\"colorbar\":{\"outlinewidth\":0,\"ticks\":\"\"},\"type\":\"mesh3d\"}],\"parcoords\":[{\"line\":{\"colorbar\":{\"outlinewidth\":0,\"ticks\":\"\"}},\"type\":\"parcoords\"}],\"pie\":[{\"automargin\":true,\"type\":\"pie\"}],\"scatter3d\":[{\"line\":{\"colorbar\":{\"outlinewidth\":0,\"ticks\":\"\"}},\"marker\":{\"colorbar\":{\"outlinewidth\":0,\"ticks\":\"\"}},\"type\":\"scatter3d\"}],\"scattercarpet\":[{\"marker\":{\"colorbar\":{\"outlinewidth\":0,\"ticks\":\"\"}},\"type\":\"scattercarpet\"}],\"scattergeo\":[{\"marker\":{\"colorbar\":{\"outlinewidth\":0,\"ticks\":\"\"}},\"type\":\"scattergeo\"}],\"scattergl\":[{\"marker\":{\"colorbar\":{\"outlinewidth\":0,\"ticks\":\"\"}},\"type\":\"scattergl\"}],\"scattermapbox\":[{\"marker\":{\"colorbar\":{\"outlinewidth\":0,\"ticks\":\"\"}},\"type\":\"scattermapbox\"}],\"scatterpolargl\":[{\"marker\":{\"colorbar\":{\"outlinewidth\":0,\"ticks\":\"\"}},\"type\":\"scatterpolargl\"}],\"scatterpolar\":[{\"marker\":{\"colorbar\":{\"outlinewidth\":0,\"ticks\":\"\"}},\"type\":\"scatterpolar\"}],\"scatter\":[{\"marker\":{\"colorbar\":{\"outlinewidth\":0,\"ticks\":\"\"}},\"type\":\"scatter\"}],\"scatterternary\":[{\"marker\":{\"colorbar\":{\"outlinewidth\":0,\"ticks\":\"\"}},\"type\":\"scatterternary\"}],\"surface\":[{\"colorbar\":{\"outlinewidth\":0,\"ticks\":\"\"},\"colorscale\":[[0.0,\"#0d0887\"],[0.1111111111111111,\"#46039f\"],[0.2222222222222222,\"#7201a8\"],[0.3333333333333333,\"#9c179e\"],[0.4444444444444444,\"#bd3786\"],[0.5555555555555556,\"#d8576b\"],[0.6666666666666666,\"#ed7953\"],[0.7777777777777778,\"#fb9f3a\"],[0.8888888888888888,\"#fdca26\"],[1.0,\"#f0f921\"]],\"type\":\"surface\"}],\"table\":[{\"cells\":{\"fill\":{\"color\":\"#EBF0F8\"},\"line\":{\"color\":\"white\"}},\"header\":{\"fill\":{\"color\":\"#C8D4E3\"},\"line\":{\"color\":\"white\"}},\"type\":\"table\"}]},\"layout\":{\"annotationdefaults\":{\"arrowcolor\":\"#2a3f5f\",\"arrowhead\":0,\"arrowwidth\":1},\"autotypenumbers\":\"strict\",\"coloraxis\":{\"colorbar\":{\"outlinewidth\":0,\"ticks\":\"\"}},\"colorscale\":{\"diverging\":[[0,\"#8e0152\"],[0.1,\"#c51b7d\"],[0.2,\"#de77ae\"],[0.3,\"#f1b6da\"],[0.4,\"#fde0ef\"],[0.5,\"#f7f7f7\"],[0.6,\"#e6f5d0\"],[0.7,\"#b8e186\"],[0.8,\"#7fbc41\"],[0.9,\"#4d9221\"],[1,\"#276419\"]],\"sequential\":[[0.0,\"#0d0887\"],[0.1111111111111111,\"#46039f\"],[0.2222222222222222,\"#7201a8\"],[0.3333333333333333,\"#9c179e\"],[0.4444444444444444,\"#bd3786\"],[0.5555555555555556,\"#d8576b\"],[0.6666666666666666,\"#ed7953\"],[0.7777777777777778,\"#fb9f3a\"],[0.8888888888888888,\"#fdca26\"],[1.0,\"#f0f921\"]],\"sequentialminus\":[[0.0,\"#0d0887\"],[0.1111111111111111,\"#46039f\"],[0.2222222222222222,\"#7201a8\"],[0.3333333333333333,\"#9c179e\"],[0.4444444444444444,\"#bd3786\"],[0.5555555555555556,\"#d8576b\"],[0.6666666666666666,\"#ed7953\"],[0.7777777777777778,\"#fb9f3a\"],[0.8888888888888888,\"#fdca26\"],[1.0,\"#f0f921\"]]},\"colorway\":[\"#636efa\",\"#EF553B\",\"#00cc96\",\"#ab63fa\",\"#FFA15A\",\"#19d3f3\",\"#FF6692\",\"#B6E880\",\"#FF97FF\",\"#FECB52\"],\"font\":{\"color\":\"#2a3f5f\"},\"geo\":{\"bgcolor\":\"white\",\"lakecolor\":\"white\",\"landcolor\":\"#E5ECF6\",\"showlakes\":true,\"showland\":true,\"subunitcolor\":\"white\"},\"hoverlabel\":{\"align\":\"left\"},\"hovermode\":\"closest\",\"mapbox\":{\"style\":\"light\"},\"paper_bgcolor\":\"white\",\"plot_bgcolor\":\"#E5ECF6\",\"polar\":{\"angularaxis\":{\"gridcolor\":\"white\",\"linecolor\":\"white\",\"ticks\":\"\"},\"bgcolor\":\"#E5ECF6\",\"radialaxis\":{\"gridcolor\":\"white\",\"linecolor\":\"white\",\"ticks\":\"\"}},\"scene\":{\"xaxis\":{\"backgroundcolor\":\"#E5ECF6\",\"gridcolor\":\"white\",\"gridwidth\":2,\"linecolor\":\"white\",\"showbackground\":true,\"ticks\":\"\",\"zerolinecolor\":\"white\"},\"yaxis\":{\"backgroundcolor\":\"#E5ECF6\",\"gridcolor\":\"white\",\"gridwidth\":2,\"linecolor\":\"white\",\"showbackground\":true,\"ticks\":\"\",\"zerolinecolor\":\"white\"},\"zaxis\":{\"backgroundcolor\":\"#E5ECF6\",\"gridcolor\":\"white\",\"gridwidth\":2,\"linecolor\":\"white\",\"showbackground\":true,\"ticks\":\"\",\"zerolinecolor\":\"white\"}},\"shapedefaults\":{\"line\":{\"color\":\"#2a3f5f\"}},\"ternary\":{\"aaxis\":{\"gridcolor\":\"white\",\"linecolor\":\"white\",\"ticks\":\"\"},\"baxis\":{\"gridcolor\":\"white\",\"linecolor\":\"white\",\"ticks\":\"\"},\"bgcolor\":\"#E5ECF6\",\"caxis\":{\"gridcolor\":\"white\",\"linecolor\":\"white\",\"ticks\":\"\"}},\"title\":{\"x\":0.05},\"xaxis\":{\"automargin\":true,\"gridcolor\":\"white\",\"linecolor\":\"white\",\"ticks\":\"\",\"title\":{\"standoff\":15},\"zerolinecolor\":\"white\",\"zerolinewidth\":2},\"yaxis\":{\"automargin\":true,\"gridcolor\":\"white\",\"linecolor\":\"white\",\"ticks\":\"\",\"title\":{\"standoff\":15},\"zerolinecolor\":\"white\",\"zerolinewidth\":2}}},\"title\":{\"font\":{\"color\":\"#4D5663\"}},\"xaxis\":{\"gridcolor\":\"#E1E5ED\",\"showgrid\":true,\"tickfont\":{\"color\":\"#4D5663\"},\"title\":{\"font\":{\"color\":\"#4D5663\"},\"text\":\"\"},\"zerolinecolor\":\"#E1E5ED\"},\"yaxis\":{\"gridcolor\":\"#E1E5ED\",\"showgrid\":true,\"tickfont\":{\"color\":\"#4D5663\"},\"title\":{\"font\":{\"color\":\"#4D5663\"},\"text\":\"\"},\"zerolinecolor\":\"#E1E5ED\"}},                        {\"showLink\": true, \"linkText\": \"Export to plot.ly\", \"plotlyServerURL\": \"https://plot.ly\", \"responsive\": true}                    ).then(function(){\n",
       "                            \n",
       "var gd = document.getElementById('b8fecbe6-4dbf-4b84-b4c9-f4bb27b30c39');\n",
       "var x = new MutationObserver(function (mutations, observer) {{\n",
       "        var display = window.getComputedStyle(gd).display;\n",
       "        if (!display || display === 'none') {{\n",
       "            console.log([gd, 'removed!']);\n",
       "            Plotly.purge(gd);\n",
       "            observer.disconnect();\n",
       "        }}\n",
       "}});\n",
       "\n",
       "// Listen for the removal of the full notebook cells\n",
       "var notebookContainer = gd.closest('#notebook-container');\n",
       "if (notebookContainer) {{\n",
       "    x.observe(notebookContainer, {childList: true});\n",
       "}}\n",
       "\n",
       "// Listen for the clearing of the current output cell\n",
       "var outputEl = gd.closest('.output');\n",
       "if (outputEl) {{\n",
       "    x.observe(outputEl, {childList: true});\n",
       "}}\n",
       "\n",
       "                        })                };                });            </script>        </div>"
      ]
     },
     "metadata": {},
     "output_type": "display_data"
    }
   ],
   "source": [
    "df.iplot(kind = 'box')"
   ]
  },
  {
   "cell_type": "code",
   "execution_count": 29,
   "id": "3c9df660",
   "metadata": {},
   "outputs": [
    {
     "data": {
      "application/vnd.plotly.v1+json": {
       "config": {
        "linkText": "Export to plot.ly",
        "plotlyServerURL": "https://plot.ly",
        "showLink": true
       },
       "data": [
        {
         "colorscale": [
          [
           0,
           "rgb(165,0,38)"
          ],
          [
           0.1,
           "rgb(215,48,39)"
          ],
          [
           0.2,
           "rgb(244,109,67)"
          ],
          [
           0.3,
           "rgb(253,174,97)"
          ],
          [
           0.4,
           "rgb(254,224,144)"
          ],
          [
           0.5,
           "rgb(255,255,191)"
          ],
          [
           0.6,
           "rgb(224,243,248)"
          ],
          [
           0.7,
           "rgb(171,217,233)"
          ],
          [
           0.8,
           "rgb(116,173,209)"
          ],
          [
           0.9,
           "rgb(69,117,180)"
          ],
          [
           1,
           "rgb(49,54,149)"
          ]
         ],
         "type": "surface",
         "x": [
          0,
          1,
          2,
          3,
          4,
          5,
          6,
          7,
          8,
          9,
          10,
          11,
          12,
          13,
          14,
          15,
          16,
          17,
          18,
          19,
          20,
          21,
          22,
          23,
          24,
          25,
          26,
          27,
          28,
          29,
          30,
          31,
          32,
          33,
          34,
          35,
          36,
          37,
          38,
          39,
          40,
          41,
          42,
          43,
          44,
          45,
          46,
          47,
          48,
          49,
          50,
          51,
          52,
          53,
          54,
          55,
          56,
          57,
          58,
          59,
          60,
          61,
          62,
          63,
          64,
          65,
          66,
          67,
          68,
          69,
          70,
          71,
          72,
          73,
          74,
          75,
          76,
          77,
          78,
          79,
          80,
          81,
          82,
          83,
          84,
          85,
          86,
          87,
          88,
          89,
          90,
          91,
          92,
          93,
          94,
          95,
          96,
          97,
          98,
          99
         ],
         "y": [
          "A",
          "B",
          "C"
         ],
         "z": [
          [
           9.650411519781507,
           10.97429909927817,
           9.705098440711152,
           11.24454492887338,
           9.6688131680688,
           10.293526974677622,
           10.482801460160529,
           10.645241098165071,
           9.622841278167217,
           11.384466058550425,
           10.820635438162414,
           11.449217051093958,
           13.12213985397532,
           13.873542550749994,
           12.747762052519612,
           11.783620509081294,
           11.852541143237627,
           10.70436305802576,
           8.634564712781772,
           8.80053905214741,
           6.861204240804851,
           6.972637267733968,
           6.92042669959239,
           8.53756129401914,
           9.00405912819473,
           9.450039306250005,
           9.281054911160549,
           10.075195589959096,
           9.363435425048792,
           10.904120669621152,
           11.06613883661915,
           10.106294645567393,
           9.958408460276559,
           8.506334345486586,
           8.119053115982702,
           9.36831343042406,
           10.741306327612756,
           11.891141769641997,
           12.560460841511073,
           11.95602784754915,
           12.526381353800197,
           12.600585071499632,
           13.26477340063981,
           13.462764995940548,
           12.684601324882578,
           10.87705379496935,
           11.161760302219804,
           8.571619559725763,
           9.279172325139285,
           8.282202179181384,
           8.790598946660364,
           8.417921314438326,
           7.993752774690675,
           7.506438603035111,
           8.431020750921757,
           6.310090154335251,
           6.627112172486628,
           6.836753437483933,
           6.39999288765352,
           4.881360703920431,
           4.79885385730441,
           3.5380335387059034,
           3.2175570087881944,
           3.329530782935257,
           3.3230628063108156,
           4.303401795115379,
           4.091798394719929,
           4.421891067810155,
           4.092225890073438,
           6.521443571249302,
           6.882868445727067,
           7.044049688773676,
           6.8503283220499505,
           6.717550930682613,
           7.049675239047637,
           5.218134117166776,
           4.996709885830438,
           3.9676913725937224,
           4.144707449065263,
           3.840810150212172,
           3.68643724478207,
           3.8964607516607144,
           3.9415406844566325,
           3.9579247323143676,
           3.112918809524171,
           3.491444863560189,
           3.706728806568173,
           4.273098678689246,
           5.4793320204674325,
           4.033776606577183,
           3.1584211484888067,
           3.490026939994001,
           3.3018154720524286,
           3.298781975282351,
           3.720753980310536,
           4.800574539394231,
           5.198785166213719,
           6.015326816997179,
           4.914751722305591,
           3.489166209183713
          ],
          [
           9.217159368154666,
           7.643078612639228,
           7.625962882566208,
           7.414943452539729,
           6.122502992353666,
           6.947866439442895,
           7.991276979144101,
           6.843400383214903,
           7.966333359414925,
           7.631344046746859,
           9.298546659747888,
           10.1402004958837,
           12.26796562414902,
           13.456281689300416,
           13.743079670711689,
           14.585424909805926,
           14.386127148029477,
           14.833405053689088,
           15.46687722432278,
           16.47805068183232,
           17.443991392842975,
           16.597611522037973,
           16.41349018344232,
           17.57699930741739,
           18.59499222598746,
           17.77643834305045,
           16.96245216530832,
           16.841521100160726,
           17.631492868204,
           16.433769510265822,
           16.517549781342233,
           18.078754165375532,
           19.156068117235115,
           18.248664608320972,
           16.808971947020673,
           15.26304140109262,
           15.742793895903382,
           17.12000629278564,
           16.57855824032275,
           15.05942857768066,
           14.251428963911017,
           14.981462895532491,
           15.25682813719679,
           17.388549712021984,
           15.688606289390469,
           15.544874293495273,
           15.933668686520624,
           16.11842323498339,
           16.338902890185764,
           17.75037158285398,
           19.13703472373234,
           20.049823823163685,
           19.263630840427048,
           19.24084620683369,
           18.905631742705346,
           20.278109828800776,
           21.210991197142175,
           21.439415990066333,
           20.63848358167506,
           21.13569901875858,
           20.984780380849912,
           22.051622038600478,
           18.988465353716457,
           18.984693562849632,
           19.152029174788026,
           20.33258703563861,
           20.07682187531622,
           18.390133152842168,
           17.393072390871016,
           18.855723269975073,
           21.027418636428685,
           20.547938950928785,
           19.97691751671206,
           18.282416215923416,
           17.542387991087857,
           17.050509271520696,
           15.773369956531475,
           14.152440860957906,
           12.820986889247589,
           12.441886687739332,
           12.527527055892634,
           11.316018613546301,
           10.136498396173378,
           9.810778182230253,
           10.041857436046385,
           9.972372031890446,
           11.674503310080905,
           11.128244634786451,
           13.440494529268104,
           13.713453586898666,
           16.668973151675022,
           16.926532820494383,
           18.3714452922382,
           18.38747956936705,
           18.741330409803105,
           19.915114442903658,
           22.363016016101405,
           19.68148805660158,
           20.014481813056726,
           19.625494700302696
          ],
          [
           8.798398168647134,
           8.439481932527826,
           9.348582830262048,
           8.817086727885847,
           8.57467568469755,
           10.758645230352611,
           10.314371736180806,
           9.95818288865324,
           9.719099294613082,
           10.792029095224636,
           12.189408536380707,
           12.189759353142103,
           10.742975392293243,
           10.145592920695352,
           11.488406994045462,
           10.488262323049902,
           11.475296553725446,
           11.136512631500535,
           11.135704544754322,
           12.52786708326615,
           12.745404651580163,
           12.631028915400325,
           13.201240467112537,
           14.067660648495185,
           13.795402390946002,
           11.947245842829858,
           9.371611437442805,
           9.025716501547501,
           8.43791066154656,
           6.839539330874484,
           7.739222489218674,
           6.882703144346614,
           6.750040150748404,
           6.243607827656604,
           5.8881005317566,
           7.646066421105247,
           7.937878682503275,
           8.851778586129527,
           10.240024990854899,
           10.766832723516034,
           11.104952127641285,
           13.725907176239692,
           12.95068400319667,
           14.473516513644094,
           15.569865755895412,
           15.063068701475746,
           15.368295536768525,
           16.66493581309122,
           15.825265135764655,
           14.555742182952706,
           14.633413158690521,
           14.364159169802647,
           15.522845539850167,
           16.155623411400747,
           15.476022473163507,
           14.52247186949604,
           13.786753199140058,
           13.953693300572784,
           15.850469091322555,
           13.547838747640526,
           14.38476165149602,
           15.081547586260928,
           16.99898133535877,
           18.149663708249808,
           18.17559675435487,
           16.660652571650466,
           17.15317182344925,
           17.983179514712106,
           17.73246412738738,
           17.22954261131538,
           17.27286228821565,
           17.845129481165024,
           18.1150534046611,
           19.085261813619717,
           18.359235166345456,
           17.256471702003505,
           16.780812616967868,
           17.240868406932726,
           19.04628481147123,
           20.506316656034986,
           21.394237108259368,
           21.322648304416127,
           21.605639592499077,
           19.04286387822016,
           19.015719007697882,
           17.300822517378744,
           16.590060468381104,
           17.69361652691625,
           18.79338665882392,
           18.537034066833037,
           18.89553636908021,
           17.51636708595577,
           15.489542715372147,
           16.907617620935216,
           16.539767384972272,
           16.074662412122855,
           16.799108879725775,
           15.006699917627934,
           15.399771648652088,
           14.959225846369424
          ]
         ]
        }
       ],
       "layout": {
        "legend": {
         "bgcolor": "#F5F6F9",
         "font": {
          "color": "#4D5663"
         }
        },
        "paper_bgcolor": "#F5F6F9",
        "plot_bgcolor": "#F5F6F9",
        "template": {
         "data": {
          "bar": [
           {
            "error_x": {
             "color": "#2a3f5f"
            },
            "error_y": {
             "color": "#2a3f5f"
            },
            "marker": {
             "line": {
              "color": "#E5ECF6",
              "width": 0.5
             },
             "pattern": {
              "fillmode": "overlay",
              "size": 10,
              "solidity": 0.2
             }
            },
            "type": "bar"
           }
          ],
          "barpolar": [
           {
            "marker": {
             "line": {
              "color": "#E5ECF6",
              "width": 0.5
             },
             "pattern": {
              "fillmode": "overlay",
              "size": 10,
              "solidity": 0.2
             }
            },
            "type": "barpolar"
           }
          ],
          "carpet": [
           {
            "aaxis": {
             "endlinecolor": "#2a3f5f",
             "gridcolor": "white",
             "linecolor": "white",
             "minorgridcolor": "white",
             "startlinecolor": "#2a3f5f"
            },
            "baxis": {
             "endlinecolor": "#2a3f5f",
             "gridcolor": "white",
             "linecolor": "white",
             "minorgridcolor": "white",
             "startlinecolor": "#2a3f5f"
            },
            "type": "carpet"
           }
          ],
          "choropleth": [
           {
            "colorbar": {
             "outlinewidth": 0,
             "ticks": ""
            },
            "type": "choropleth"
           }
          ],
          "contour": [
           {
            "colorbar": {
             "outlinewidth": 0,
             "ticks": ""
            },
            "colorscale": [
             [
              0,
              "#0d0887"
             ],
             [
              0.1111111111111111,
              "#46039f"
             ],
             [
              0.2222222222222222,
              "#7201a8"
             ],
             [
              0.3333333333333333,
              "#9c179e"
             ],
             [
              0.4444444444444444,
              "#bd3786"
             ],
             [
              0.5555555555555556,
              "#d8576b"
             ],
             [
              0.6666666666666666,
              "#ed7953"
             ],
             [
              0.7777777777777778,
              "#fb9f3a"
             ],
             [
              0.8888888888888888,
              "#fdca26"
             ],
             [
              1,
              "#f0f921"
             ]
            ],
            "type": "contour"
           }
          ],
          "contourcarpet": [
           {
            "colorbar": {
             "outlinewidth": 0,
             "ticks": ""
            },
            "type": "contourcarpet"
           }
          ],
          "heatmap": [
           {
            "colorbar": {
             "outlinewidth": 0,
             "ticks": ""
            },
            "colorscale": [
             [
              0,
              "#0d0887"
             ],
             [
              0.1111111111111111,
              "#46039f"
             ],
             [
              0.2222222222222222,
              "#7201a8"
             ],
             [
              0.3333333333333333,
              "#9c179e"
             ],
             [
              0.4444444444444444,
              "#bd3786"
             ],
             [
              0.5555555555555556,
              "#d8576b"
             ],
             [
              0.6666666666666666,
              "#ed7953"
             ],
             [
              0.7777777777777778,
              "#fb9f3a"
             ],
             [
              0.8888888888888888,
              "#fdca26"
             ],
             [
              1,
              "#f0f921"
             ]
            ],
            "type": "heatmap"
           }
          ],
          "heatmapgl": [
           {
            "colorbar": {
             "outlinewidth": 0,
             "ticks": ""
            },
            "colorscale": [
             [
              0,
              "#0d0887"
             ],
             [
              0.1111111111111111,
              "#46039f"
             ],
             [
              0.2222222222222222,
              "#7201a8"
             ],
             [
              0.3333333333333333,
              "#9c179e"
             ],
             [
              0.4444444444444444,
              "#bd3786"
             ],
             [
              0.5555555555555556,
              "#d8576b"
             ],
             [
              0.6666666666666666,
              "#ed7953"
             ],
             [
              0.7777777777777778,
              "#fb9f3a"
             ],
             [
              0.8888888888888888,
              "#fdca26"
             ],
             [
              1,
              "#f0f921"
             ]
            ],
            "type": "heatmapgl"
           }
          ],
          "histogram": [
           {
            "marker": {
             "pattern": {
              "fillmode": "overlay",
              "size": 10,
              "solidity": 0.2
             }
            },
            "type": "histogram"
           }
          ],
          "histogram2d": [
           {
            "colorbar": {
             "outlinewidth": 0,
             "ticks": ""
            },
            "colorscale": [
             [
              0,
              "#0d0887"
             ],
             [
              0.1111111111111111,
              "#46039f"
             ],
             [
              0.2222222222222222,
              "#7201a8"
             ],
             [
              0.3333333333333333,
              "#9c179e"
             ],
             [
              0.4444444444444444,
              "#bd3786"
             ],
             [
              0.5555555555555556,
              "#d8576b"
             ],
             [
              0.6666666666666666,
              "#ed7953"
             ],
             [
              0.7777777777777778,
              "#fb9f3a"
             ],
             [
              0.8888888888888888,
              "#fdca26"
             ],
             [
              1,
              "#f0f921"
             ]
            ],
            "type": "histogram2d"
           }
          ],
          "histogram2dcontour": [
           {
            "colorbar": {
             "outlinewidth": 0,
             "ticks": ""
            },
            "colorscale": [
             [
              0,
              "#0d0887"
             ],
             [
              0.1111111111111111,
              "#46039f"
             ],
             [
              0.2222222222222222,
              "#7201a8"
             ],
             [
              0.3333333333333333,
              "#9c179e"
             ],
             [
              0.4444444444444444,
              "#bd3786"
             ],
             [
              0.5555555555555556,
              "#d8576b"
             ],
             [
              0.6666666666666666,
              "#ed7953"
             ],
             [
              0.7777777777777778,
              "#fb9f3a"
             ],
             [
              0.8888888888888888,
              "#fdca26"
             ],
             [
              1,
              "#f0f921"
             ]
            ],
            "type": "histogram2dcontour"
           }
          ],
          "mesh3d": [
           {
            "colorbar": {
             "outlinewidth": 0,
             "ticks": ""
            },
            "type": "mesh3d"
           }
          ],
          "parcoords": [
           {
            "line": {
             "colorbar": {
              "outlinewidth": 0,
              "ticks": ""
             }
            },
            "type": "parcoords"
           }
          ],
          "pie": [
           {
            "automargin": true,
            "type": "pie"
           }
          ],
          "scatter": [
           {
            "marker": {
             "colorbar": {
              "outlinewidth": 0,
              "ticks": ""
             }
            },
            "type": "scatter"
           }
          ],
          "scatter3d": [
           {
            "line": {
             "colorbar": {
              "outlinewidth": 0,
              "ticks": ""
             }
            },
            "marker": {
             "colorbar": {
              "outlinewidth": 0,
              "ticks": ""
             }
            },
            "type": "scatter3d"
           }
          ],
          "scattercarpet": [
           {
            "marker": {
             "colorbar": {
              "outlinewidth": 0,
              "ticks": ""
             }
            },
            "type": "scattercarpet"
           }
          ],
          "scattergeo": [
           {
            "marker": {
             "colorbar": {
              "outlinewidth": 0,
              "ticks": ""
             }
            },
            "type": "scattergeo"
           }
          ],
          "scattergl": [
           {
            "marker": {
             "colorbar": {
              "outlinewidth": 0,
              "ticks": ""
             }
            },
            "type": "scattergl"
           }
          ],
          "scattermapbox": [
           {
            "marker": {
             "colorbar": {
              "outlinewidth": 0,
              "ticks": ""
             }
            },
            "type": "scattermapbox"
           }
          ],
          "scatterpolar": [
           {
            "marker": {
             "colorbar": {
              "outlinewidth": 0,
              "ticks": ""
             }
            },
            "type": "scatterpolar"
           }
          ],
          "scatterpolargl": [
           {
            "marker": {
             "colorbar": {
              "outlinewidth": 0,
              "ticks": ""
             }
            },
            "type": "scatterpolargl"
           }
          ],
          "scatterternary": [
           {
            "marker": {
             "colorbar": {
              "outlinewidth": 0,
              "ticks": ""
             }
            },
            "type": "scatterternary"
           }
          ],
          "surface": [
           {
            "colorbar": {
             "outlinewidth": 0,
             "ticks": ""
            },
            "colorscale": [
             [
              0,
              "#0d0887"
             ],
             [
              0.1111111111111111,
              "#46039f"
             ],
             [
              0.2222222222222222,
              "#7201a8"
             ],
             [
              0.3333333333333333,
              "#9c179e"
             ],
             [
              0.4444444444444444,
              "#bd3786"
             ],
             [
              0.5555555555555556,
              "#d8576b"
             ],
             [
              0.6666666666666666,
              "#ed7953"
             ],
             [
              0.7777777777777778,
              "#fb9f3a"
             ],
             [
              0.8888888888888888,
              "#fdca26"
             ],
             [
              1,
              "#f0f921"
             ]
            ],
            "type": "surface"
           }
          ],
          "table": [
           {
            "cells": {
             "fill": {
              "color": "#EBF0F8"
             },
             "line": {
              "color": "white"
             }
            },
            "header": {
             "fill": {
              "color": "#C8D4E3"
             },
             "line": {
              "color": "white"
             }
            },
            "type": "table"
           }
          ]
         },
         "layout": {
          "annotationdefaults": {
           "arrowcolor": "#2a3f5f",
           "arrowhead": 0,
           "arrowwidth": 1
          },
          "autotypenumbers": "strict",
          "coloraxis": {
           "colorbar": {
            "outlinewidth": 0,
            "ticks": ""
           }
          },
          "colorscale": {
           "diverging": [
            [
             0,
             "#8e0152"
            ],
            [
             0.1,
             "#c51b7d"
            ],
            [
             0.2,
             "#de77ae"
            ],
            [
             0.3,
             "#f1b6da"
            ],
            [
             0.4,
             "#fde0ef"
            ],
            [
             0.5,
             "#f7f7f7"
            ],
            [
             0.6,
             "#e6f5d0"
            ],
            [
             0.7,
             "#b8e186"
            ],
            [
             0.8,
             "#7fbc41"
            ],
            [
             0.9,
             "#4d9221"
            ],
            [
             1,
             "#276419"
            ]
           ],
           "sequential": [
            [
             0,
             "#0d0887"
            ],
            [
             0.1111111111111111,
             "#46039f"
            ],
            [
             0.2222222222222222,
             "#7201a8"
            ],
            [
             0.3333333333333333,
             "#9c179e"
            ],
            [
             0.4444444444444444,
             "#bd3786"
            ],
            [
             0.5555555555555556,
             "#d8576b"
            ],
            [
             0.6666666666666666,
             "#ed7953"
            ],
            [
             0.7777777777777778,
             "#fb9f3a"
            ],
            [
             0.8888888888888888,
             "#fdca26"
            ],
            [
             1,
             "#f0f921"
            ]
           ],
           "sequentialminus": [
            [
             0,
             "#0d0887"
            ],
            [
             0.1111111111111111,
             "#46039f"
            ],
            [
             0.2222222222222222,
             "#7201a8"
            ],
            [
             0.3333333333333333,
             "#9c179e"
            ],
            [
             0.4444444444444444,
             "#bd3786"
            ],
            [
             0.5555555555555556,
             "#d8576b"
            ],
            [
             0.6666666666666666,
             "#ed7953"
            ],
            [
             0.7777777777777778,
             "#fb9f3a"
            ],
            [
             0.8888888888888888,
             "#fdca26"
            ],
            [
             1,
             "#f0f921"
            ]
           ]
          },
          "colorway": [
           "#636efa",
           "#EF553B",
           "#00cc96",
           "#ab63fa",
           "#FFA15A",
           "#19d3f3",
           "#FF6692",
           "#B6E880",
           "#FF97FF",
           "#FECB52"
          ],
          "font": {
           "color": "#2a3f5f"
          },
          "geo": {
           "bgcolor": "white",
           "lakecolor": "white",
           "landcolor": "#E5ECF6",
           "showlakes": true,
           "showland": true,
           "subunitcolor": "white"
          },
          "hoverlabel": {
           "align": "left"
          },
          "hovermode": "closest",
          "mapbox": {
           "style": "light"
          },
          "paper_bgcolor": "white",
          "plot_bgcolor": "#E5ECF6",
          "polar": {
           "angularaxis": {
            "gridcolor": "white",
            "linecolor": "white",
            "ticks": ""
           },
           "bgcolor": "#E5ECF6",
           "radialaxis": {
            "gridcolor": "white",
            "linecolor": "white",
            "ticks": ""
           }
          },
          "scene": {
           "xaxis": {
            "backgroundcolor": "#E5ECF6",
            "gridcolor": "white",
            "gridwidth": 2,
            "linecolor": "white",
            "showbackground": true,
            "ticks": "",
            "zerolinecolor": "white"
           },
           "yaxis": {
            "backgroundcolor": "#E5ECF6",
            "gridcolor": "white",
            "gridwidth": 2,
            "linecolor": "white",
            "showbackground": true,
            "ticks": "",
            "zerolinecolor": "white"
           },
           "zaxis": {
            "backgroundcolor": "#E5ECF6",
            "gridcolor": "white",
            "gridwidth": 2,
            "linecolor": "white",
            "showbackground": true,
            "ticks": "",
            "zerolinecolor": "white"
           }
          },
          "shapedefaults": {
           "line": {
            "color": "#2a3f5f"
           }
          },
          "ternary": {
           "aaxis": {
            "gridcolor": "white",
            "linecolor": "white",
            "ticks": ""
           },
           "baxis": {
            "gridcolor": "white",
            "linecolor": "white",
            "ticks": ""
           },
           "bgcolor": "#E5ECF6",
           "caxis": {
            "gridcolor": "white",
            "linecolor": "white",
            "ticks": ""
           }
          },
          "title": {
           "x": 0.05
          },
          "xaxis": {
           "automargin": true,
           "gridcolor": "white",
           "linecolor": "white",
           "ticks": "",
           "title": {
            "standoff": 15
           },
           "zerolinecolor": "white",
           "zerolinewidth": 2
          },
          "yaxis": {
           "automargin": true,
           "gridcolor": "white",
           "linecolor": "white",
           "ticks": "",
           "title": {
            "standoff": 15
           },
           "zerolinecolor": "white",
           "zerolinewidth": 2
          }
         }
        },
        "title": {
         "font": {
          "color": "#4D5663"
         }
        },
        "xaxis": {
         "gridcolor": "#E1E5ED",
         "showgrid": true,
         "tickfont": {
          "color": "#4D5663"
         },
         "title": {
          "font": {
           "color": "#4D5663"
          },
          "text": ""
         },
         "zerolinecolor": "#E1E5ED"
        },
        "yaxis": {
         "gridcolor": "#E1E5ED",
         "showgrid": true,
         "tickfont": {
          "color": "#4D5663"
         },
         "title": {
          "font": {
           "color": "#4D5663"
          },
          "text": ""
         },
         "zerolinecolor": "#E1E5ED"
        }
       }
      },
      "text/html": [
       "<div>                            <div id=\"ecf2bddd-2dcc-4484-a9cf-4f5c7a6f8e99\" class=\"plotly-graph-div\" style=\"height:525px; width:100%;\"></div>            <script type=\"text/javascript\">                require([\"plotly\"], function(Plotly) {                    window.PLOTLYENV=window.PLOTLYENV || {};\n",
       "                    window.PLOTLYENV.BASE_URL='https://plot.ly';                                    if (document.getElementById(\"ecf2bddd-2dcc-4484-a9cf-4f5c7a6f8e99\")) {                    Plotly.newPlot(                        \"ecf2bddd-2dcc-4484-a9cf-4f5c7a6f8e99\",                        [{\"colorscale\":[[0.0,\"rgb(165,0,38)\"],[0.1,\"rgb(215,48,39)\"],[0.2,\"rgb(244,109,67)\"],[0.3,\"rgb(253,174,97)\"],[0.4,\"rgb(254,224,144)\"],[0.5,\"rgb(255,255,191)\"],[0.6,\"rgb(224,243,248)\"],[0.7,\"rgb(171,217,233)\"],[0.8,\"rgb(116,173,209)\"],[0.9,\"rgb(69,117,180)\"],[1.0,\"rgb(49,54,149)\"]],\"x\":[0,1,2,3,4,5,6,7,8,9,10,11,12,13,14,15,16,17,18,19,20,21,22,23,24,25,26,27,28,29,30,31,32,33,34,35,36,37,38,39,40,41,42,43,44,45,46,47,48,49,50,51,52,53,54,55,56,57,58,59,60,61,62,63,64,65,66,67,68,69,70,71,72,73,74,75,76,77,78,79,80,81,82,83,84,85,86,87,88,89,90,91,92,93,94,95,96,97,98,99],\"y\":[\"A\",\"B\",\"C\"],\"z\":[[9.650411519781507,10.97429909927817,9.705098440711152,11.24454492887338,9.6688131680688,10.293526974677622,10.482801460160529,10.645241098165071,9.622841278167217,11.384466058550425,10.820635438162414,11.449217051093958,13.12213985397532,13.873542550749994,12.747762052519612,11.783620509081294,11.852541143237627,10.70436305802576,8.634564712781772,8.80053905214741,6.861204240804851,6.972637267733968,6.92042669959239,8.53756129401914,9.00405912819473,9.450039306250005,9.281054911160549,10.075195589959096,9.363435425048792,10.904120669621152,11.06613883661915,10.106294645567393,9.958408460276559,8.506334345486586,8.119053115982702,9.36831343042406,10.741306327612756,11.891141769641997,12.560460841511073,11.95602784754915,12.526381353800197,12.600585071499632,13.26477340063981,13.462764995940548,12.684601324882578,10.87705379496935,11.161760302219804,8.571619559725763,9.279172325139285,8.282202179181384,8.790598946660364,8.417921314438326,7.993752774690675,7.506438603035111,8.431020750921757,6.310090154335251,6.627112172486628,6.836753437483933,6.39999288765352,4.881360703920431,4.79885385730441,3.5380335387059034,3.2175570087881944,3.329530782935257,3.3230628063108156,4.303401795115379,4.091798394719929,4.421891067810155,4.092225890073438,6.521443571249302,6.882868445727067,7.044049688773676,6.8503283220499505,6.717550930682613,7.049675239047637,5.218134117166776,4.996709885830438,3.9676913725937224,4.144707449065263,3.840810150212172,3.68643724478207,3.8964607516607144,3.9415406844566325,3.9579247323143676,3.112918809524171,3.491444863560189,3.706728806568173,4.273098678689246,5.4793320204674325,4.033776606577183,3.1584211484888067,3.490026939994001,3.3018154720524286,3.298781975282351,3.720753980310536,4.800574539394231,5.198785166213719,6.015326816997179,4.914751722305591,3.489166209183713],[9.217159368154666,7.643078612639228,7.625962882566208,7.414943452539729,6.122502992353666,6.947866439442895,7.991276979144101,6.843400383214903,7.966333359414925,7.631344046746859,9.298546659747888,10.1402004958837,12.26796562414902,13.456281689300416,13.743079670711689,14.585424909805926,14.386127148029477,14.833405053689088,15.46687722432278,16.47805068183232,17.443991392842975,16.597611522037973,16.41349018344232,17.57699930741739,18.59499222598746,17.77643834305045,16.96245216530832,16.841521100160726,17.631492868204,16.433769510265822,16.517549781342233,18.078754165375532,19.156068117235115,18.248664608320972,16.808971947020673,15.26304140109262,15.742793895903382,17.12000629278564,16.57855824032275,15.05942857768066,14.251428963911017,14.981462895532491,15.25682813719679,17.388549712021984,15.688606289390469,15.544874293495273,15.933668686520624,16.11842323498339,16.338902890185764,17.75037158285398,19.13703472373234,20.049823823163685,19.263630840427048,19.24084620683369,18.905631742705346,20.278109828800776,21.210991197142175,21.439415990066333,20.63848358167506,21.13569901875858,20.984780380849912,22.051622038600478,18.988465353716457,18.984693562849632,19.152029174788026,20.33258703563861,20.07682187531622,18.390133152842168,17.393072390871016,18.855723269975073,21.027418636428685,20.547938950928785,19.97691751671206,18.282416215923416,17.542387991087857,17.050509271520696,15.773369956531475,14.152440860957906,12.820986889247589,12.441886687739332,12.527527055892634,11.316018613546301,10.136498396173378,9.810778182230253,10.041857436046385,9.972372031890446,11.674503310080905,11.128244634786451,13.440494529268104,13.713453586898666,16.668973151675022,16.926532820494383,18.3714452922382,18.38747956936705,18.741330409803105,19.915114442903658,22.363016016101405,19.68148805660158,20.014481813056726,19.625494700302696],[8.798398168647134,8.439481932527826,9.348582830262048,8.817086727885847,8.57467568469755,10.758645230352611,10.314371736180806,9.95818288865324,9.719099294613082,10.792029095224636,12.189408536380707,12.189759353142103,10.742975392293243,10.145592920695352,11.488406994045462,10.488262323049902,11.475296553725446,11.136512631500535,11.135704544754322,12.52786708326615,12.745404651580163,12.631028915400325,13.201240467112537,14.067660648495185,13.795402390946002,11.947245842829858,9.371611437442805,9.025716501547501,8.43791066154656,6.839539330874484,7.739222489218674,6.882703144346614,6.750040150748404,6.243607827656604,5.8881005317566,7.646066421105247,7.937878682503275,8.851778586129527,10.240024990854899,10.766832723516034,11.104952127641285,13.725907176239692,12.95068400319667,14.473516513644094,15.569865755895412,15.063068701475746,15.368295536768525,16.66493581309122,15.825265135764655,14.555742182952706,14.633413158690521,14.364159169802647,15.522845539850167,16.155623411400747,15.476022473163507,14.52247186949604,13.786753199140058,13.953693300572784,15.850469091322555,13.547838747640526,14.38476165149602,15.081547586260928,16.99898133535877,18.149663708249808,18.17559675435487,16.660652571650466,17.15317182344925,17.983179514712106,17.73246412738738,17.22954261131538,17.27286228821565,17.845129481165024,18.1150534046611,19.085261813619717,18.359235166345456,17.256471702003505,16.780812616967868,17.240868406932726,19.04628481147123,20.506316656034986,21.394237108259368,21.322648304416127,21.605639592499077,19.04286387822016,19.015719007697882,17.300822517378744,16.590060468381104,17.69361652691625,18.79338665882392,18.537034066833037,18.89553636908021,17.51636708595577,15.489542715372147,16.907617620935216,16.539767384972272,16.074662412122855,16.799108879725775,15.006699917627934,15.399771648652088,14.959225846369424]],\"type\":\"surface\"}],                        {\"legend\":{\"bgcolor\":\"#F5F6F9\",\"font\":{\"color\":\"#4D5663\"}},\"paper_bgcolor\":\"#F5F6F9\",\"plot_bgcolor\":\"#F5F6F9\",\"template\":{\"data\":{\"barpolar\":[{\"marker\":{\"line\":{\"color\":\"#E5ECF6\",\"width\":0.5},\"pattern\":{\"fillmode\":\"overlay\",\"size\":10,\"solidity\":0.2}},\"type\":\"barpolar\"}],\"bar\":[{\"error_x\":{\"color\":\"#2a3f5f\"},\"error_y\":{\"color\":\"#2a3f5f\"},\"marker\":{\"line\":{\"color\":\"#E5ECF6\",\"width\":0.5},\"pattern\":{\"fillmode\":\"overlay\",\"size\":10,\"solidity\":0.2}},\"type\":\"bar\"}],\"carpet\":[{\"aaxis\":{\"endlinecolor\":\"#2a3f5f\",\"gridcolor\":\"white\",\"linecolor\":\"white\",\"minorgridcolor\":\"white\",\"startlinecolor\":\"#2a3f5f\"},\"baxis\":{\"endlinecolor\":\"#2a3f5f\",\"gridcolor\":\"white\",\"linecolor\":\"white\",\"minorgridcolor\":\"white\",\"startlinecolor\":\"#2a3f5f\"},\"type\":\"carpet\"}],\"choropleth\":[{\"colorbar\":{\"outlinewidth\":0,\"ticks\":\"\"},\"type\":\"choropleth\"}],\"contourcarpet\":[{\"colorbar\":{\"outlinewidth\":0,\"ticks\":\"\"},\"type\":\"contourcarpet\"}],\"contour\":[{\"colorbar\":{\"outlinewidth\":0,\"ticks\":\"\"},\"colorscale\":[[0.0,\"#0d0887\"],[0.1111111111111111,\"#46039f\"],[0.2222222222222222,\"#7201a8\"],[0.3333333333333333,\"#9c179e\"],[0.4444444444444444,\"#bd3786\"],[0.5555555555555556,\"#d8576b\"],[0.6666666666666666,\"#ed7953\"],[0.7777777777777778,\"#fb9f3a\"],[0.8888888888888888,\"#fdca26\"],[1.0,\"#f0f921\"]],\"type\":\"contour\"}],\"heatmapgl\":[{\"colorbar\":{\"outlinewidth\":0,\"ticks\":\"\"},\"colorscale\":[[0.0,\"#0d0887\"],[0.1111111111111111,\"#46039f\"],[0.2222222222222222,\"#7201a8\"],[0.3333333333333333,\"#9c179e\"],[0.4444444444444444,\"#bd3786\"],[0.5555555555555556,\"#d8576b\"],[0.6666666666666666,\"#ed7953\"],[0.7777777777777778,\"#fb9f3a\"],[0.8888888888888888,\"#fdca26\"],[1.0,\"#f0f921\"]],\"type\":\"heatmapgl\"}],\"heatmap\":[{\"colorbar\":{\"outlinewidth\":0,\"ticks\":\"\"},\"colorscale\":[[0.0,\"#0d0887\"],[0.1111111111111111,\"#46039f\"],[0.2222222222222222,\"#7201a8\"],[0.3333333333333333,\"#9c179e\"],[0.4444444444444444,\"#bd3786\"],[0.5555555555555556,\"#d8576b\"],[0.6666666666666666,\"#ed7953\"],[0.7777777777777778,\"#fb9f3a\"],[0.8888888888888888,\"#fdca26\"],[1.0,\"#f0f921\"]],\"type\":\"heatmap\"}],\"histogram2dcontour\":[{\"colorbar\":{\"outlinewidth\":0,\"ticks\":\"\"},\"colorscale\":[[0.0,\"#0d0887\"],[0.1111111111111111,\"#46039f\"],[0.2222222222222222,\"#7201a8\"],[0.3333333333333333,\"#9c179e\"],[0.4444444444444444,\"#bd3786\"],[0.5555555555555556,\"#d8576b\"],[0.6666666666666666,\"#ed7953\"],[0.7777777777777778,\"#fb9f3a\"],[0.8888888888888888,\"#fdca26\"],[1.0,\"#f0f921\"]],\"type\":\"histogram2dcontour\"}],\"histogram2d\":[{\"colorbar\":{\"outlinewidth\":0,\"ticks\":\"\"},\"colorscale\":[[0.0,\"#0d0887\"],[0.1111111111111111,\"#46039f\"],[0.2222222222222222,\"#7201a8\"],[0.3333333333333333,\"#9c179e\"],[0.4444444444444444,\"#bd3786\"],[0.5555555555555556,\"#d8576b\"],[0.6666666666666666,\"#ed7953\"],[0.7777777777777778,\"#fb9f3a\"],[0.8888888888888888,\"#fdca26\"],[1.0,\"#f0f921\"]],\"type\":\"histogram2d\"}],\"histogram\":[{\"marker\":{\"pattern\":{\"fillmode\":\"overlay\",\"size\":10,\"solidity\":0.2}},\"type\":\"histogram\"}],\"mesh3d\":[{\"colorbar\":{\"outlinewidth\":0,\"ticks\":\"\"},\"type\":\"mesh3d\"}],\"parcoords\":[{\"line\":{\"colorbar\":{\"outlinewidth\":0,\"ticks\":\"\"}},\"type\":\"parcoords\"}],\"pie\":[{\"automargin\":true,\"type\":\"pie\"}],\"scatter3d\":[{\"line\":{\"colorbar\":{\"outlinewidth\":0,\"ticks\":\"\"}},\"marker\":{\"colorbar\":{\"outlinewidth\":0,\"ticks\":\"\"}},\"type\":\"scatter3d\"}],\"scattercarpet\":[{\"marker\":{\"colorbar\":{\"outlinewidth\":0,\"ticks\":\"\"}},\"type\":\"scattercarpet\"}],\"scattergeo\":[{\"marker\":{\"colorbar\":{\"outlinewidth\":0,\"ticks\":\"\"}},\"type\":\"scattergeo\"}],\"scattergl\":[{\"marker\":{\"colorbar\":{\"outlinewidth\":0,\"ticks\":\"\"}},\"type\":\"scattergl\"}],\"scattermapbox\":[{\"marker\":{\"colorbar\":{\"outlinewidth\":0,\"ticks\":\"\"}},\"type\":\"scattermapbox\"}],\"scatterpolargl\":[{\"marker\":{\"colorbar\":{\"outlinewidth\":0,\"ticks\":\"\"}},\"type\":\"scatterpolargl\"}],\"scatterpolar\":[{\"marker\":{\"colorbar\":{\"outlinewidth\":0,\"ticks\":\"\"}},\"type\":\"scatterpolar\"}],\"scatter\":[{\"marker\":{\"colorbar\":{\"outlinewidth\":0,\"ticks\":\"\"}},\"type\":\"scatter\"}],\"scatterternary\":[{\"marker\":{\"colorbar\":{\"outlinewidth\":0,\"ticks\":\"\"}},\"type\":\"scatterternary\"}],\"surface\":[{\"colorbar\":{\"outlinewidth\":0,\"ticks\":\"\"},\"colorscale\":[[0.0,\"#0d0887\"],[0.1111111111111111,\"#46039f\"],[0.2222222222222222,\"#7201a8\"],[0.3333333333333333,\"#9c179e\"],[0.4444444444444444,\"#bd3786\"],[0.5555555555555556,\"#d8576b\"],[0.6666666666666666,\"#ed7953\"],[0.7777777777777778,\"#fb9f3a\"],[0.8888888888888888,\"#fdca26\"],[1.0,\"#f0f921\"]],\"type\":\"surface\"}],\"table\":[{\"cells\":{\"fill\":{\"color\":\"#EBF0F8\"},\"line\":{\"color\":\"white\"}},\"header\":{\"fill\":{\"color\":\"#C8D4E3\"},\"line\":{\"color\":\"white\"}},\"type\":\"table\"}]},\"layout\":{\"annotationdefaults\":{\"arrowcolor\":\"#2a3f5f\",\"arrowhead\":0,\"arrowwidth\":1},\"autotypenumbers\":\"strict\",\"coloraxis\":{\"colorbar\":{\"outlinewidth\":0,\"ticks\":\"\"}},\"colorscale\":{\"diverging\":[[0,\"#8e0152\"],[0.1,\"#c51b7d\"],[0.2,\"#de77ae\"],[0.3,\"#f1b6da\"],[0.4,\"#fde0ef\"],[0.5,\"#f7f7f7\"],[0.6,\"#e6f5d0\"],[0.7,\"#b8e186\"],[0.8,\"#7fbc41\"],[0.9,\"#4d9221\"],[1,\"#276419\"]],\"sequential\":[[0.0,\"#0d0887\"],[0.1111111111111111,\"#46039f\"],[0.2222222222222222,\"#7201a8\"],[0.3333333333333333,\"#9c179e\"],[0.4444444444444444,\"#bd3786\"],[0.5555555555555556,\"#d8576b\"],[0.6666666666666666,\"#ed7953\"],[0.7777777777777778,\"#fb9f3a\"],[0.8888888888888888,\"#fdca26\"],[1.0,\"#f0f921\"]],\"sequentialminus\":[[0.0,\"#0d0887\"],[0.1111111111111111,\"#46039f\"],[0.2222222222222222,\"#7201a8\"],[0.3333333333333333,\"#9c179e\"],[0.4444444444444444,\"#bd3786\"],[0.5555555555555556,\"#d8576b\"],[0.6666666666666666,\"#ed7953\"],[0.7777777777777778,\"#fb9f3a\"],[0.8888888888888888,\"#fdca26\"],[1.0,\"#f0f921\"]]},\"colorway\":[\"#636efa\",\"#EF553B\",\"#00cc96\",\"#ab63fa\",\"#FFA15A\",\"#19d3f3\",\"#FF6692\",\"#B6E880\",\"#FF97FF\",\"#FECB52\"],\"font\":{\"color\":\"#2a3f5f\"},\"geo\":{\"bgcolor\":\"white\",\"lakecolor\":\"white\",\"landcolor\":\"#E5ECF6\",\"showlakes\":true,\"showland\":true,\"subunitcolor\":\"white\"},\"hoverlabel\":{\"align\":\"left\"},\"hovermode\":\"closest\",\"mapbox\":{\"style\":\"light\"},\"paper_bgcolor\":\"white\",\"plot_bgcolor\":\"#E5ECF6\",\"polar\":{\"angularaxis\":{\"gridcolor\":\"white\",\"linecolor\":\"white\",\"ticks\":\"\"},\"bgcolor\":\"#E5ECF6\",\"radialaxis\":{\"gridcolor\":\"white\",\"linecolor\":\"white\",\"ticks\":\"\"}},\"scene\":{\"xaxis\":{\"backgroundcolor\":\"#E5ECF6\",\"gridcolor\":\"white\",\"gridwidth\":2,\"linecolor\":\"white\",\"showbackground\":true,\"ticks\":\"\",\"zerolinecolor\":\"white\"},\"yaxis\":{\"backgroundcolor\":\"#E5ECF6\",\"gridcolor\":\"white\",\"gridwidth\":2,\"linecolor\":\"white\",\"showbackground\":true,\"ticks\":\"\",\"zerolinecolor\":\"white\"},\"zaxis\":{\"backgroundcolor\":\"#E5ECF6\",\"gridcolor\":\"white\",\"gridwidth\":2,\"linecolor\":\"white\",\"showbackground\":true,\"ticks\":\"\",\"zerolinecolor\":\"white\"}},\"shapedefaults\":{\"line\":{\"color\":\"#2a3f5f\"}},\"ternary\":{\"aaxis\":{\"gridcolor\":\"white\",\"linecolor\":\"white\",\"ticks\":\"\"},\"baxis\":{\"gridcolor\":\"white\",\"linecolor\":\"white\",\"ticks\":\"\"},\"bgcolor\":\"#E5ECF6\",\"caxis\":{\"gridcolor\":\"white\",\"linecolor\":\"white\",\"ticks\":\"\"}},\"title\":{\"x\":0.05},\"xaxis\":{\"automargin\":true,\"gridcolor\":\"white\",\"linecolor\":\"white\",\"ticks\":\"\",\"title\":{\"standoff\":15},\"zerolinecolor\":\"white\",\"zerolinewidth\":2},\"yaxis\":{\"automargin\":true,\"gridcolor\":\"white\",\"linecolor\":\"white\",\"ticks\":\"\",\"title\":{\"standoff\":15},\"zerolinecolor\":\"white\",\"zerolinewidth\":2}}},\"title\":{\"font\":{\"color\":\"#4D5663\"}},\"xaxis\":{\"gridcolor\":\"#E1E5ED\",\"showgrid\":true,\"tickfont\":{\"color\":\"#4D5663\"},\"title\":{\"font\":{\"color\":\"#4D5663\"},\"text\":\"\"},\"zerolinecolor\":\"#E1E5ED\"},\"yaxis\":{\"gridcolor\":\"#E1E5ED\",\"showgrid\":true,\"tickfont\":{\"color\":\"#4D5663\"},\"title\":{\"font\":{\"color\":\"#4D5663\"},\"text\":\"\"},\"zerolinecolor\":\"#E1E5ED\"}},                        {\"showLink\": true, \"linkText\": \"Export to plot.ly\", \"plotlyServerURL\": \"https://plot.ly\", \"responsive\": true}                    ).then(function(){\n",
       "                            \n",
       "var gd = document.getElementById('ecf2bddd-2dcc-4484-a9cf-4f5c7a6f8e99');\n",
       "var x = new MutationObserver(function (mutations, observer) {{\n",
       "        var display = window.getComputedStyle(gd).display;\n",
       "        if (!display || display === 'none') {{\n",
       "            console.log([gd, 'removed!']);\n",
       "            Plotly.purge(gd);\n",
       "            observer.disconnect();\n",
       "        }}\n",
       "}});\n",
       "\n",
       "// Listen for the removal of the full notebook cells\n",
       "var notebookContainer = gd.closest('#notebook-container');\n",
       "if (notebookContainer) {{\n",
       "    x.observe(notebookContainer, {childList: true});\n",
       "}}\n",
       "\n",
       "// Listen for the clearing of the current output cell\n",
       "var outputEl = gd.closest('.output');\n",
       "if (outputEl) {{\n",
       "    x.observe(outputEl, {childList: true});\n",
       "}}\n",
       "\n",
       "                        })                };                });            </script>        </div>"
      ]
     },
     "metadata": {},
     "output_type": "display_data"
    }
   ],
   "source": [
    "df.iplot(kind = 'surface', colorscale='rdylbu')"
   ]
  },
  {
   "cell_type": "code",
   "execution_count": 36,
   "id": "af272038",
   "metadata": {},
   "outputs": [
    {
     "data": {
      "application/vnd.plotly.v1+json": {
       "config": {
        "linkText": "Export to plot.ly",
        "plotlyServerURL": "https://plot.ly",
        "showLink": true
       },
       "data": [
        {
         "colorscale": [
          [
           0,
           "rgb(255, 153, 51)"
          ],
          [
           0.1111111111111111,
           "rgb(55, 128, 191)"
          ],
          [
           0.2222222222222222,
           "rgb(50, 171, 96)"
          ],
          [
           0.3333333333333333,
           "rgb(128, 0, 128)"
          ],
          [
           0.4444444444444444,
           "rgb(219, 64, 82)"
          ],
          [
           0.5555555555555556,
           "rgb(0, 128, 128)"
          ],
          [
           0.6666666666666666,
           "rgb(255, 255, 51)"
          ],
          [
           0.7777777777777778,
           "rgb(128, 128, 0)"
          ],
          [
           0.8888888888888888,
           "rgb(251, 128, 114)"
          ],
          [
           1,
           "rgb(128, 177, 211)"
          ]
         ],
         "type": "surface",
         "x": [
          -10,
          -9.75,
          -9.5,
          -9.25,
          -9,
          -8.75,
          -8.5,
          -8.25,
          -8,
          -7.75,
          -7.5,
          -7.25,
          -7,
          -6.75,
          -6.5,
          -6.25,
          -6,
          -5.75,
          -5.5,
          -5.25,
          -5,
          -4.75,
          -4.5,
          -4.25,
          -4,
          -3.75,
          -3.5,
          -3.25,
          -3,
          -2.75,
          -2.5,
          -2.25,
          -2,
          -1.75,
          -1.5,
          -1.25,
          -1,
          -0.75,
          -0.5,
          -0.25,
          0,
          0.25,
          0.5,
          0.75,
          1,
          1.25,
          1.5,
          1.75,
          2,
          2.25,
          2.5,
          2.75,
          3,
          3.25,
          3.5,
          3.75,
          4,
          4.25,
          4.5,
          4.75,
          5,
          5.25,
          5.5,
          5.75,
          6,
          6.25,
          6.5,
          6.75,
          7,
          7.25,
          7.5,
          7.75,
          8,
          8.25,
          8.5,
          8.75,
          9,
          9.25,
          9.5,
          9.75
         ],
         "y": [
          -10,
          -9.75,
          -9.5,
          -9.25,
          -9,
          -8.75,
          -8.5,
          -8.25,
          -8,
          -7.75,
          -7.5,
          -7.25,
          -7,
          -6.75,
          -6.5,
          -6.25,
          -6,
          -5.75,
          -5.5,
          -5.25,
          -5,
          -4.75,
          -4.5,
          -4.25,
          -4,
          -3.75,
          -3.5,
          -3.25,
          -3,
          -2.75,
          -2.5,
          -2.25,
          -2,
          -1.75,
          -1.5,
          -1.25,
          -1,
          -0.75,
          -0.5,
          -0.25,
          0,
          0.25,
          0.5,
          0.75,
          1,
          1.25,
          1.5,
          1.75,
          2,
          2.25,
          2.5,
          2.75,
          3,
          3.25,
          3.5,
          3.75,
          4,
          4.25,
          4.5,
          4.75,
          5,
          5.25,
          5.5,
          5.75,
          6,
          6.25,
          6.5,
          6.75,
          7,
          7.25,
          7.5,
          7.75,
          8,
          8.25,
          8.5,
          8.75,
          9,
          9.25,
          9.5,
          9.75
         ],
         "z": [
          [
           0.14141961054935853,
           0.14111903500315878,
           0.13650222610828716,
           0.12777380562398274,
           0.11526115097856117,
           0.0993958462307399,
           0.08069235790121831,
           0.059725017515438364,
           0.037104384846577534,
           0.013454008098850966,
           -0.01061150357619211,
           -0.0345063152690242,
           -0.05769048962428924,
           -0.07968395387291566,
           -0.10007704610444179,
           -0.11853755153953284,
           -0.13481430178982187,
           -0.1487375524385824,
           -0.16021647158282734,
           -0.16923416092386775,
           -0.17584069010379264,
           -0.1801446545297837,
           -0.18230376872794093,
           -0.18251498442862385,
           -0.18100457917857166,
           -0.17801860199902664,
           -0.1738139924448547,
           -0.16865061331126227,
           -0.16278435980926842,
           -0.15646143337355978,
           -0.1499137997580331,
           -0.14335579129849668,
           -0.13698176393514344,
           -0.13096468174943518,
           -0.1254554756233313,
           -0.12058300781296416,
           -0.1164544699167505,
           -0.1131560467581887,
           -0.1107536917561867,
           -0.10929387900894774,
           -0.10880422217787396,
           -0.10929387900894774,
           -0.1107536917561867,
           -0.1131560467581887,
           -0.1164544699167505,
           -0.12058300781296416,
           -0.1254554756233313,
           -0.13096468174943518,
           -0.13698176393514344,
           -0.14335579129849668,
           -0.1499137997580331,
           -0.15646143337355978,
           -0.16278435980926842,
           -0.16865061331126227,
           -0.1738139924448547,
           -0.17801860199902664,
           -0.18100457917857166,
           -0.18251498442862385,
           -0.18230376872794093,
           -0.1801446545297837,
           -0.17584069010379264,
           -0.16923416092386775,
           -0.16021647158282734,
           -0.1487375524385824,
           -0.13481430178982187,
           -0.11853755153953284,
           -0.10007704610444179,
           -0.07968395387291566,
           -0.05769048962428924,
           -0.0345063152690242,
           -0.01061150357619211,
           0.013454008098850966,
           0.037104384846577534,
           0.059725017515438364,
           0.08069235790121831,
           0.0993958462307399,
           0.11526115097856117,
           0.12777380562398274,
           0.13650222610828716,
           0.14111903500315878
          ],
          [
           0.14111903500315878,
           0.13632396086944565,
           0.12719030582037316,
           0.11405907878471819,
           0.09738828403656238,
           0.07773008237271903,
           0.05570574218106777,
           0.03197958453286062,
           0.007233082355737275,
           -0.017859822184363938,
           -0.042655257000177006,
           -0.06655906279410359,
           -0.08904297911487404,
           -0.10965701691843574,
           -0.12803786284735597,
           -0.14391335124448024,
           -0.15710321083861073,
           -0.16751643729146143,
           -0.1751457556394694,
           -0.1800597155006458,
           -0.18239300622958532,
           -0.18233559039097344,
           -0.18012123502583363,
           -0.1760159755489718,
           -0.17030698199702413,
           -0.16329221750830802,
           -0.15527119023634722,
           -0.14653700801271363,
           -0.13736985507049018,
           -0.12803192632998142,
           -0.11876378051842666,
           -0.10978201113265723,
           -0.10127808535368477,
           -0.09341816596346665,
           -0.08634370978474622,
           -0.08017262722723162,
           -0.0750007897964791,
           -0.07090368426500879,
           -0.06793803188546253,
           -0.06614321685638791,
           -0.06554239869174844,
           -0.06614321685638791,
           -0.06793803188546253,
           -0.07090368426500879,
           -0.0750007897964791,
           -0.08017262722723162,
           -0.08634370978474622,
           -0.09341816596346665,
           -0.10127808535368477,
           -0.10978201113265723,
           -0.11876378051842666,
           -0.12803192632998142,
           -0.13736985507049018,
           -0.14653700801271363,
           -0.15527119023634722,
           -0.16329221750830802,
           -0.17030698199702413,
           -0.1760159755489718,
           -0.18012123502583363,
           -0.18233559039097344,
           -0.18239300622958532,
           -0.1800597155006458,
           -0.1751457556394694,
           -0.16751643729146143,
           -0.15710321083861073,
           -0.14391335124448024,
           -0.12803786284735597,
           -0.10965701691843574,
           -0.08904297911487404,
           -0.06655906279410359,
           -0.042655257000177006,
           -0.017859822184363938,
           0.007233082355737275,
           0.03197958453286062,
           0.05570574218106777,
           0.07773008237271903,
           0.09738828403656238,
           0.11405907878471819,
           0.12719030582037316,
           0.13632396086944565
          ],
          [
           0.13650222610828716,
           0.12719030582037316,
           0.1136526088802527,
           0.09636827159298987,
           0.0759235678781371,
           0.05298490441364873,
           0.028270310898122826,
           0.0025207381574719806,
           -0.023527608249201665,
           -0.04916880920228074,
           -0.07374973820785838,
           -0.09668883252747353,
           -0.11749065565570795,
           -0.13575600794040762,
           -0.1511875643863488,
           -0.163591222139663,
           -0.17287351607260817,
           -0.17903560277058095,
           -0.1821644169794075,
           -0.18242166855756492,
           -0.1800313728705813,
           -0.1752665961050691,
           -0.16843605361995675,
           -0.15987112992755653,
           -0.1499137997580331,
           -0.13890582780165694,
           -0.1271795169340972,
           -0.11505016730310495,
           -0.10281030706494565,
           -0.0907256642328181,
           -0.07903277128303789,
           -0.06793803188546253,
           -0.05761803324395176,
           -0.04822085787410071,
           -0.039868134180728126,
           -0.032657564269347995,
           -0.026665677985416577,
           -0.021950582012676394,
           -0.01855449981019833,
           -0.016505930263581485,
           -0.015821288518275644,
           -0.016505930263581485,
           -0.01855449981019833,
           -0.021950582012676394,
           -0.026665677985416577,
           -0.032657564269347995,
           -0.039868134180728126,
           -0.04822085787410071,
           -0.05761803324395176,
           -0.06793803188546253,
           -0.07903277128303789,
           -0.0907256642328181,
           -0.10281030706494565,
           -0.11505016730310495,
           -0.1271795169340972,
           -0.13890582780165694,
           -0.1499137997580331,
           -0.15987112992755653,
           -0.16843605361995675,
           -0.1752665961050691,
           -0.1800313728705813,
           -0.18242166855756492,
           -0.1821644169794075,
           -0.17903560277058095,
           -0.17287351607260817,
           -0.163591222139663,
           -0.1511875643863488,
           -0.13575600794040762,
           -0.11749065565570795,
           -0.09668883252747353,
           -0.07374973820785838,
           -0.04916880920228074,
           -0.023527608249201665,
           0.0025207381574719806,
           0.028270310898122826,
           0.05298490441364873,
           0.0759235678781371,
           0.09636827159298987,
           0.1136526088802527,
           0.12719030582037316
          ],
          [
           0.12777380562398274,
           0.11405907878471819,
           0.09636827159298987,
           0.07531659368730659,
           0.05161237775613617,
           0.026026147564044762,
           -0.0006409754282528475,
           -0.027588123185645037,
           -0.054043516875550875,
           -0.07929019757294747,
           -0.10268778525178764,
           -0.12368964794720452,
           -0.14185512230149663,
           -0.15685668268767797,
           -0.16848219583369567,
           -0.17663261032673944,
           -0.18131560690315682,
           -0.1826358700412797,
           -0.18078273088932142,
           -0.1760159755489718,
           -0.16865061331126227,
           -0.15904136091487175,
           -0.14756752732225356,
           -0.13461888616197776,
           -0.12058300781296416,
           -0.10583439818051152,
           -0.0907256642328181,
           -0.07558080422426758,
           -0.060690608986011814,
           -0.046310064114579955,
           -0.032657564269347995,
           -0.019915691575644292,
           -0.00823327044894154,
           0.0022716100207446164,
           0.011507919583092052,
           0.019407660252202565,
           0.025921773001301992,
           0.031016232090896562,
           0.03466854669458865,
           0.03686485131708162,
           0.03759772656874239,
           0.03686485131708162,
           0.03466854669458865,
           0.031016232090896562,
           0.025921773001301992,
           0.019407660252202565,
           0.011507919583092052,
           0.0022716100207446164,
           -0.00823327044894154,
           -0.019915691575644292,
           -0.032657564269347995,
           -0.046310064114579955,
           -0.060690608986011814,
           -0.07558080422426758,
           -0.0907256642328181,
           -0.10583439818051152,
           -0.12058300781296416,
           -0.13461888616197776,
           -0.14756752732225356,
           -0.15904136091487175,
           -0.16865061331126227,
           -0.1760159755489718,
           -0.18078273088932142,
           -0.1826358700412797,
           -0.18131560690315682,
           -0.17663261032673944,
           -0.16848219583369567,
           -0.15685668268767797,
           -0.14185512230149663,
           -0.12368964794720452,
           -0.10268778525178764,
           -0.07929019757294747,
           -0.054043516875550875,
           -0.027588123185645037,
           -0.0006409754282528475,
           0.026026147564044762,
           0.05161237775613617,
           0.07531659368730659,
           0.09636827159298987,
           0.11405907878471819
          ],
          [
           0.11526115097856117,
           0.09738828403656238,
           0.0759235678781371,
           0.05161237775613617,
           0.025275083284098894,
           -0.0022274559793407315,
           -0.03002807965783915,
           -0.0572857273340844,
           -0.08321475815193494,
           -0.10711012813756442,
           -0.1283676319466868,
           -0.1464987033293174,
           -0.16113955966514656,
           -0.17205475511311313,
           -0.17913546063850083,
           -0.18239300622958532,
           -0.18194839266053625,
           -0.17801860199902664,
           -0.17090060569317098,
           -0.1609539875623888,
           -0.14858307017251748,
           -0.13421936300715656,
           -0.11830504740258321,
           -0.10127808535368477,
           -0.08355939645450051,
           -0.06554239869174844,
           -0.04758506314163741,
           -0.030004497243790427,
           -0.013073952151520388,
           0.0029779491154211806,
           0.017966041941118966,
           0.031745840459068614,
           0.044209509361482956,
           0.05528095770522729,
           0.0649104168254659,
           0.07306884206017318,
           0.07974244535617742,
           0.08492762656935865,
           0.08862652853638416,
           0.09084339726921295,
           0.09158188560927924,
           0.09084339726921295,
           0.08862652853638416,
           0.08492762656935865,
           0.07974244535617742,
           0.07306884206017318,
           0.0649104168254659,
           0.05528095770522729,
           0.044209509361482956,
           0.031745840459068614,
           0.017966041941118966,
           0.0029779491154211806,
           -0.013073952151520388,
           -0.030004497243790427,
           -0.04758506314163741,
           -0.06554239869174844,
           -0.08355939645450051,
           -0.10127808535368477,
           -0.11830504740258321,
           -0.13421936300715656,
           -0.14858307017251748,
           -0.1609539875623888,
           -0.17090060569317098,
           -0.17801860199902664,
           -0.18194839266053625,
           -0.18239300622958532,
           -0.17913546063850083,
           -0.17205475511311313,
           -0.16113955966514656,
           -0.1464987033293174,
           -0.1283676319466868,
           -0.10711012813756442,
           -0.08321475815193494,
           -0.0572857273340844,
           -0.03002807965783915,
           -0.0022274559793407315,
           0.025275083284098894,
           0.05161237775613617,
           0.0759235678781371,
           0.09738828403656238
          ],
          [
           0.0993958462307399,
           0.07773008237271903,
           0.05298490441364873,
           0.026026147564044762,
           -0.0022274559793407315,
           -0.030841885736018544,
           -0.05890402451081101,
           -0.08555491563889543,
           -0.11001880232017779,
           -0.1316269478872783,
           -0.14983554931501694,
           -0.1642373823959323,
           -0.17456713788189782,
           -0.1807007071005138,
           -0.18264893898060253,
           -0.18054660691367944,
           -0.17463748569481502,
           -0.16525654180237792,
           -0.1528102839666787,
           -0.1377563081818195,
           -0.12058300781296416,
           -0.10179031338845618,
           -0.08187218787401292,
           -0.061301442485772274,
           -0.040517266401149735,
           -0.019915691575644292,
           0.0001569493213448689,
           0.019407660252202565,
           0.03759772656874239,
           0.054541276561040686,
           0.07010183827093616,
           0.08418731130237875,
           0.09674378883254962,
           0.10774865812501504,
           0.11720338291232232,
           0.12512633286074154,
           0.13154597877649798,
           0.13649472168344115,
           0.14000357308347133,
           0.14209785531573388,
           0.14279404657238684,
           0.14209785531573388,
           0.14000357308347133,
           0.13649472168344115,
           0.13154597877649798,
           0.12512633286074154,
           0.11720338291232232,
           0.10774865812501504,
           0.09674378883254962,
           0.08418731130237875,
           0.07010183827093616,
           0.054541276561040686,
           0.03759772656874239,
           0.019407660252202565,
           0.0001569493213448689,
           -0.019915691575644292,
           -0.040517266401149735,
           -0.061301442485772274,
           -0.08187218787401292,
           -0.10179031338845618,
           -0.12058300781296416,
           -0.1377563081818195,
           -0.1528102839666787,
           -0.16525654180237792,
           -0.17463748569481502,
           -0.18054660691367944,
           -0.18264893898060253,
           -0.1807007071005138,
           -0.17456713788189782,
           -0.1642373823959323,
           -0.14983554931501694,
           -0.1316269478872783,
           -0.11001880232017779,
           -0.08555491563889543,
           -0.05890402451081101,
           -0.030841885736018544,
           -0.0022274559793407315,
           0.026026147564044762,
           0.05298490441364873,
           0.07773008237271903
          ],
          [
           0.08069235790121831,
           0.05570574218106777,
           0.028270310898122826,
           -0.0006409754282528475,
           -0.03002807965783915,
           -0.05890402451081101,
           -0.08633239590937543,
           -0.1114606806231028,
           -0.13354819579908725,
           -0.15198770280837584,
           -0.16632015713858264,
           -0.17624240938958516,
           -0.18160802037610754,
           -0.18242166855756492,
           -0.1788278960809016,
           -0.17109514979541934,
           -0.15959621882048483,
           -0.14478624788034108,
           -0.1271795169340972,
           -0.10732612754693129,
           -0.0857896329957062,
           -0.0631265026963309,
           -0.039868134180728126,
           -0.016505930263581485,
           0.0065202421682302655,
           0.02883009042098063,
           0.05010748884225075,
           0.07010183827093616,
           0.08862652853638416,
           0.10555493165712146,
           0.12081441070397907,
           0.13437885433763305,
           0.14626024334832619,
           0.15649972810645998,
           0.16515865057394133,
           0.17230988766358785,
           0.17802983029511174,
           0.18239124981424537,
           0.18545724476618586,
           0.18727640924644018,
           0.18787932061729182,
           0.18727640924644018,
           0.18545724476618586,
           0.18239124981424537,
           0.17802983029511174,
           0.17230988766358785,
           0.16515865057394133,
           0.15649972810645998,
           0.14626024334832619,
           0.13437885433763305,
           0.12081441070397907,
           0.10555493165712146,
           0.08862652853638416,
           0.07010183827093616,
           0.05010748884225075,
           0.02883009042098063,
           0.0065202421682302655,
           -0.016505930263581485,
           -0.039868134180728126,
           -0.0631265026963309,
           -0.0857896329957062,
           -0.10732612754693129,
           -0.1271795169340972,
           -0.14478624788034108,
           -0.15959621882048483,
           -0.17109514979541934,
           -0.1788278960809016,
           -0.18242166855756492,
           -0.18160802037610754,
           -0.17624240938958516,
           -0.16632015713858264,
           -0.15198770280837584,
           -0.13354819579908725,
           -0.1114606806231028,
           -0.08633239590937543,
           -0.05890402451081101,
           -0.03002807965783915,
           -0.0006409754282528475,
           0.028270310898122826,
           0.05570574218106777
          ],
          [
           0.059725017515438364,
           0.03197958453286062,
           0.0025207381574719806,
           -0.027588123185645037,
           -0.0572857273340844,
           -0.08555491563889543,
           -0.1114606806231028,
           -0.13418273806183595,
           -0.15304146672549196,
           -0.16751643729146143,
           -0.17725715646546372,
           -0.18208605074549258,
           -0.18199408570471504,
           -0.17712974307464055,
           -0.16778234479339135,
           -0.1543609103022869,
           -0.13736985507049018,
           -0.11738288358628372,
           -0.0950164022704569,
           -0.07090368426500879,
           -0.045670869380806056,
           -0.019915691575644292,
           0.0058103924762656495,
           0.031016232090896562,
           0.05528095770522729,
           0.07825990831739421,
           0.09968670899986165,
           0.11937185506223688,
           0.13719827990417027,
           0.15311446345017118,
           0.16712567793535366,
           0.1792839709402817,
           0.18967745729212915,
           0.19841943861188654,
           0.20563779959612533,
           0.21146505144444128,
           0.21602931256266372,
           0.21944644111666822,
           0.22181346801290225,
           0.2232034254780841,
           0.22366162672468853,
           0.2232034254780841,
           0.22181346801290225,
           0.21944644111666822,
           0.21602931256266372,
           0.21146505144444128,
           0.20563779959612533,
           0.19841943861188654,
           0.18967745729212915,
           0.1792839709402817,
           0.16712567793535366,
           0.15311446345017118,
           0.13719827990417027,
           0.11937185506223688,
           0.09968670899986165,
           0.07825990831739421,
           0.05528095770522729,
           0.031016232090896562,
           0.0058103924762656495,
           -0.019915691575644292,
           -0.045670869380806056,
           -0.07090368426500879,
           -0.0950164022704569,
           -0.11738288358628372,
           -0.13736985507049018,
           -0.1543609103022869,
           -0.16778234479339135,
           -0.17712974307464055,
           -0.18199408570471504,
           -0.18208605074549258,
           -0.17725715646546372,
           -0.16751643729146143,
           -0.15304146672549196,
           -0.13418273806183595,
           -0.1114606806231028,
           -0.08555491563889543,
           -0.0572857273340844,
           -0.027588123185645037,
           0.0025207381574719806,
           0.03197958453286062
          ],
          [
           0.037104384846577534,
           0.007233082355737275,
           -0.023527608249201665,
           -0.054043516875550875,
           -0.08321475815193494,
           -0.11001880232017779,
           -0.13354819579908725,
           -0.15304146672549196,
           -0.167906160972842,
           -0.17773339606034183,
           -0.18230376872794093,
           -0.18158488243001691,
           -0.17572115154133375,
           -0.16501687105976595,
           -0.1499137997580331,
           -0.13096468174943518,
           -0.10880422217787396,
           -0.08411903827788304,
           -0.05761803324395176,
           -0.030004497243790427,
           -0.001951040868825416,
           0.025921773001301992,
           0.05306249567952219,
           0.07900122348247962,
           0.10335731863015635,
           0.1258425822940911,
           0.14626024334832619,
           0.16450028494360933,
           0.18053174205108255,
           0.1943926655354523,
           0.2061784643801796,
           0.21602931256266372,
           0.22411724822563847,
           0.23063350923189954,
           0.23577655069724138,
           0.23974108638511749,
           0.242708395806646,
           0.24483804991090946,
           0.24626113579560338,
           0.24707500803079696,
           0.24733956165584545,
           0.24707500803079696,
           0.24626113579560338,
           0.24483804991090946,
           0.242708395806646,
           0.23974108638511749,
           0.23577655069724138,
           0.23063350923189954,
           0.22411724822563847,
           0.21602931256266372,
           0.2061784643801796,
           0.1943926655354523,
           0.18053174205108255,
           0.16450028494360933,
           0.14626024334832619,
           0.1258425822940911,
           0.10335731863015635,
           0.07900122348247962,
           0.05306249567952219,
           0.025921773001301992,
           -0.001951040868825416,
           -0.030004497243790427,
           -0.05761803324395176,
           -0.08411903827788304,
           -0.10880422217787396,
           -0.13096468174943518,
           -0.1499137997580331,
           -0.16501687105976595,
           -0.17572115154133375,
           -0.18158488243001691,
           -0.18230376872794093,
           -0.17773339606034183,
           -0.167906160972842,
           -0.15304146672549196,
           -0.13354819579908725,
           -0.11001880232017779,
           -0.08321475815193494,
           -0.054043516875550875,
           -0.023527608249201665,
           0.007233082355737275
          ],
          [
           0.013454008098850966,
           -0.017859822184363938,
           -0.04916880920228074,
           -0.07929019757294747,
           -0.10711012813756442,
           -0.1316269478872783,
           -0.15198770280837584,
           -0.16751643729146143,
           -0.17773339606034183,
           -0.18236471957976835,
           -0.18134271385500067,
           -0.1747972342928682,
           -0.16303912773542587,
           -0.14653700801271363,
           -0.1258888846262905,
           -0.10179031338845618,
           -0.0750007897964791,
           -0.046310064114579955,
           -0.016505930263581485,
           0.013655158230898757,
           0.043473546354522816,
           0.07232710218505171,
           0.09968670899986165,
           0.12512633286074154,
           0.14832776112580212,
           0.16908036038891633,
           0.18727640924644018,
           0.20290271423033404,
           0.21602931256266372,
           0.22679610352037188,
           0.23539823538075702,
           0.2420710146043941,
           0.24707500803079696,
           0.2506818889186662,
           0.2531614457800734,
           0.25477004091850136,
           0.2557406839380664,
           0.2562747828163765,
           0.25653555744366946,
           0.2566430509401283,
           0.2566706526738519,
           0.2566430509401283,
           0.25653555744366946,
           0.2562747828163765,
           0.2557406839380664,
           0.25477004091850136,
           0.2531614457800734,
           0.2506818889186662,
           0.24707500803079696,
           0.2420710146043941,
           0.23539823538075702,
           0.22679610352037188,
           0.21602931256266372,
           0.20290271423033404,
           0.18727640924644018,
           0.16908036038891633,
           0.14832776112580212,
           0.12512633286074154,
           0.09968670899986165,
           0.07232710218505171,
           0.043473546354522816,
           0.013655158230898757,
           -0.016505930263581485,
           -0.046310064114579955,
           -0.0750007897964791,
           -0.10179031338845618,
           -0.1258888846262905,
           -0.14653700801271363,
           -0.16303912773542587,
           -0.1747972342928682,
           -0.18134271385500067,
           -0.18236471957976835,
           -0.17773339606034183,
           -0.16751643729146143,
           -0.15198770280837584,
           -0.1316269478872783,
           -0.10711012813756442,
           -0.07929019757294747,
           -0.04916880920228074,
           -0.017859822184363938
          ],
          [
           -0.01061150357619211,
           -0.042655257000177006,
           -0.07374973820785838,
           -0.10268778525178764,
           -0.1283676319466868,
           -0.14983554931501694,
           -0.16632015713858264,
           -0.17725715646546372,
           -0.18230376872794093,
           -0.18134271385500067,
           -0.17447608825271163,
           -0.16200998595397612,
           -0.14443111863131364,
           -0.12237701362727325,
           -0.09660159075517502,
           -0.06793803188546253,
           -0.03726086233570953,
           -0.005449066140771361,
           0.026648129724923395,
           0.058241427706856384,
           0.08862652853638416,
           0.11720338291232232,
           0.14348926836260514,
           0.16712567793535366,
           0.18787932061729182,
           0.20563779959612533,
           0.22040074178662336,
           0.23226729318028777,
           0.24142096714711753,
           0.24811283911536614,
           0.25264402764959015,
           0.255348298963932,
           0.256575492104657,
           0.2566762997375786,
           0.2559887694405144,
           0.2548267267047997,
           0.25347017586536014,
           0.252157618714697,
           0.25108014921898075,
           0.25037713957121355,
           0.25013332713993036,
           0.25037713957121355,
           0.25108014921898075,
           0.252157618714697,
           0.25347017586536014,
           0.2548267267047997,
           0.2559887694405144,
           0.2566762997375786,
           0.256575492104657,
           0.255348298963932,
           0.25264402764959015,
           0.24811283911536614,
           0.24142096714711753,
           0.23226729318028777,
           0.22040074178662336,
           0.20563779959612533,
           0.18787932061729182,
           0.16712567793535366,
           0.14348926836260514,
           0.11720338291232232,
           0.08862652853638416,
           0.058241427706856384,
           0.026648129724923395,
           -0.005449066140771361,
           -0.03726086233570953,
           -0.06793803188546253,
           -0.09660159075517502,
           -0.12237701362727325,
           -0.14443111863131364,
           -0.16200998595397612,
           -0.17447608825271163,
           -0.18134271385500067,
           -0.18230376872794093,
           -0.17725715646546372,
           -0.16632015713858264,
           -0.14983554931501694,
           -0.1283676319466868,
           -0.10268778525178764,
           -0.07374973820785838,
           -0.042655257000177006
          ],
          [
           -0.0345063152690242,
           -0.06655906279410359,
           -0.09668883252747353,
           -0.12368964794720452,
           -0.1464987033293174,
           -0.1642373823959323,
           -0.17624240938958516,
           -0.18208605074549258,
           -0.18158488243001691,
           -0.1747972342928682,
           -0.16200998595397612,
           -0.1437158894806465,
           -0.12058300781296416,
           -0.09341816596346665,
           -0.0631265026963309,
           -0.03066927919323432,
           0.0029779491154211806,
           0.03686485131708162,
           0.07010183827093616,
           0.1018902143955224,
           0.13154597877649798,
           0.15851669454452746,
           0.18239124981424537,
           0.20290271423033404,
           0.21992483146863692,
           0.23346296309158113,
           0.24364050109720906,
           0.2506818889186662,
           0.254893432701845,
           0.2566430509401283,
           0.2563400102730029,
           0.25441554164532254,
           0.25130504004127213,
           0.24743234013685533,
           0.2431963471432226,
           0.23896010343988033,
           0.23504220166614895,
           0.2317103248693539,
           0.22917661128094333,
           0.22759450814784551,
           0.2270567942100705,
           0.22759450814784551,
           0.22917661128094333,
           0.2317103248693539,
           0.23504220166614895,
           0.23896010343988033,
           0.2431963471432226,
           0.24743234013685533,
           0.25130504004127213,
           0.25441554164532254,
           0.2563400102730029,
           0.2566430509401283,
           0.254893432701845,
           0.2506818889186662,
           0.24364050109720906,
           0.23346296309158113,
           0.21992483146863692,
           0.20290271423033404,
           0.18239124981424537,
           0.15851669454452746,
           0.13154597877649798,
           0.1018902143955224,
           0.07010183827093616,
           0.03686485131708162,
           0.0029779491154211806,
           -0.03066927919323432,
           -0.0631265026963309,
           -0.09341816596346665,
           -0.12058300781296416,
           -0.1437158894806465,
           -0.16200998595397612,
           -0.1747972342928682,
           -0.18158488243001691,
           -0.18208605074549258,
           -0.17624240938958516,
           -0.1642373823959323,
           -0.1464987033293174,
           -0.12368964794720452,
           -0.09668883252747353,
           -0.06655906279410359
          ],
          [
           -0.05769048962428924,
           -0.08904297911487404,
           -0.11749065565570795,
           -0.14185512230149663,
           -0.16113955966514656,
           -0.17456713788189782,
           -0.18160802037610754,
           -0.18199408570471504,
           -0.17572115154133375,
           -0.16303912773542587,
           -0.14443111863131364,
           -0.12058300781296416,
           -0.09234546620178369,
           -0.060690608986011814,
           -0.026665677985416577,
           0.008653858363151095,
           0.044209509361482956,
           0.07900122348247962,
           0.11212338767979044,
           0.14279404657238684,
           0.17037647050011584,
           0.1943926655354523,
           0.2145288714461612,
           0.23063350923189954,
           0.242708395806646,
           0.2508943222213973,
           0.2554522819126627,
           0.2567417315441088,
           0.25519727019112654,
           0.25130504004127213,
           0.2455799958764798,
           0.23854497801642713,
           0.23071227369415245,
           0.2225680860000738,
           0.21456006847846779,
           0.2070878465419809,
           0.20049625055173417,
           0.19507084218595108,
           0.19103523332295086,
           0.18854967763954522,
           0.18771045677679687,
           0.18854967763954522,
           0.19103523332295086,
           0.19507084218595108,
           0.20049625055173417,
           0.2070878465419809,
           0.21456006847846779,
           0.2225680860000738,
           0.23071227369415245,
           0.23854497801642713,
           0.2455799958764798,
           0.25130504004127213,
           0.25519727019112654,
           0.2567417315441088,
           0.2554522819126627,
           0.2508943222213973,
           0.242708395806646,
           0.23063350923189954,
           0.2145288714461612,
           0.1943926655354523,
           0.17037647050011584,
           0.14279404657238684,
           0.11212338767979044,
           0.07900122348247962,
           0.044209509361482956,
           0.008653858363151095,
           -0.026665677985416577,
           -0.060690608986011814,
           -0.09234546620178369,
           -0.12058300781296416,
           -0.14443111863131364,
           -0.16303912773542587,
           -0.17572115154133375,
           -0.18199408570471504,
           -0.18160802037610754,
           -0.17456713788189782,
           -0.16113955966514656,
           -0.14185512230149663,
           -0.11749065565570795,
           -0.08904297911487404
          ],
          [
           -0.07968395387291566,
           -0.10965701691843574,
           -0.13575600794040762,
           -0.15685668268767797,
           -0.17205475511311313,
           -0.1807007071005138,
           -0.18242166855756492,
           -0.17712974307464055,
           -0.16501687105976595,
           -0.14653700801271363,
           -0.12237701362727325,
           -0.09341816596346665,
           -0.060690608986011814,
           -0.02532329427921568,
           0.011507919583092052,
           0.04863139306208121,
           0.08492762656935865,
           0.11937185506223688,
           0.15106960365711752,
           0.1792839709402817,
           0.20345392533496165,
           0.2232034254780841,
           0.2383416766936446,
           0.24885528388828942,
           0.254893432701845,
           0.25674750760048576,
           0.2548267267047997,
           0.24963143467045815,
           0.24172565029557566,
           0.2317103248693539,
           0.22019854657881394,
           0.20779364608280457,
           0.19507084218595108,
           0.18256273925541686,
           0.17074867404778504,
           0.16004763127913005,
           0.15081422331281308,
           0.1433370736825879,
           0.13783886506830845,
           0.134477311926808,
           0.1333463922312941,
           0.134477311926808,
           0.13783886506830845,
           0.1433370736825879,
           0.15081422331281308,
           0.16004763127913005,
           0.17074867404778504,
           0.18256273925541686,
           0.19507084218595108,
           0.20779364608280457,
           0.22019854657881394,
           0.2317103248693539,
           0.24172565029557566,
           0.24963143467045815,
           0.2548267267047997,
           0.25674750760048576,
           0.254893432701845,
           0.24885528388828942,
           0.2383416766936446,
           0.2232034254780841,
           0.20345392533496165,
           0.1792839709402817,
           0.15106960365711752,
           0.11937185506223688,
           0.08492762656935865,
           0.04863139306208121,
           0.011507919583092052,
           -0.02532329427921568,
           -0.060690608986011814,
           -0.09341816596346665,
           -0.12237701362727325,
           -0.14653700801271363,
           -0.16501687105976595,
           -0.17712974307464055,
           -0.18242166855756492,
           -0.1807007071005138,
           -0.17205475511311313,
           -0.15685668268767797,
           -0.13575600794040762,
           -0.10965701691843574
          ],
          [
           -0.10007704610444179,
           -0.12803786284735597,
           -0.1511875643863488,
           -0.16848219583369567,
           -0.17913546063850083,
           -0.18264893898060253,
           -0.1788278960809016,
           -0.16778234479339135,
           -0.1499137997580331,
           -0.1258888846262905,
           -0.09660159075517502,
           -0.0631265026963309,
           -0.026665677985416577,
           0.011507919583092052,
           0.05010748884225075,
           0.0878871354792479,
           0.12369173187889267,
           0.15649972810645998,
           0.18545724476618586,
           0.20990234059772522,
           0.22937894091767205,
           0.24364050109720906,
           0.25264402764959015,
           0.25653555744366946,
           0.25562857790064414,
           0.25037713957121355,
           0.2413455569066888,
           0.22917661128094333,
           0.21456006847846779,
           0.1982031145119569,
           0.18080401871815463,
           0.1630299764243758,
           0.14549969299473817,
           0.12877087581897034,
           0.11333242903336226,
           0.09960082298540655,
           0.08791985781076668,
           0.07856287339249271,
           0.07173638515428266,
           0.06758414818694233,
           0.0661907655654817,
           0.06758414818694233,
           0.07173638515428266,
           0.07856287339249271,
           0.08791985781076668,
           0.09960082298540655,
           0.11333242903336226,
           0.12877087581897034,
           0.14549969299473817,
           0.1630299764243758,
           0.18080401871815463,
           0.1982031145119569,
           0.21456006847846779,
           0.22917661128094333,
           0.2413455569066888,
           0.25037713957121355,
           0.25562857790064414,
           0.25653555744366946,
           0.25264402764959015,
           0.24364050109720906,
           0.22937894091767205,
           0.20990234059772522,
           0.18545724476618586,
           0.15649972810645998,
           0.12369173187889267,
           0.0878871354792479,
           0.05010748884225075,
           0.011507919583092052,
           -0.026665677985416577,
           -0.0631265026963309,
           -0.09660159075517502,
           -0.1258888846262905,
           -0.1499137997580331,
           -0.16778234479339135,
           -0.1788278960809016,
           -0.18264893898060253,
           -0.17913546063850083,
           -0.16848219583369567,
           -0.1511875643863488,
           -0.12803786284735597
          ],
          [
           -0.11853755153953284,
           -0.14391335124448024,
           -0.163591222139663,
           -0.17663261032673944,
           -0.18239300622958532,
           -0.18054660691367944,
           -0.17109514979541934,
           -0.1543609103022869,
           -0.13096468174943518,
           -0.10179031338845618,
           -0.06793803188546253,
           -0.03066927919323432,
           0.008653858363151095,
           0.04863139306208121,
           0.0878871354792479,
           0.12512633286074154,
           0.15918658398472915,
           0.1890798565922851,
           0.21402402107025095,
           0.23346296309158113,
           0.24707500803079696,
           0.25477004091850136,
           0.2566762997375786,
           0.25311832399967577,
           0.24458792842044305,
           0.2317103248693539,
           0.2152076253393881,
           0.19586192453391038,
           0.17447999195279823,
           0.15186131748507978,
           0.12877087581897034,
           0.10591753298818528,
           0.08393854575868848,
           0.06339013493636744,
           0.044743679368913644,
           0.02838670735216783,
           0.014627580006334946,
           0.0037025838949493145,
           -0.004215913110515241,
           -0.009011537058698997,
           -0.010617349295218181,
           -0.009011537058698997,
           -0.004215913110515241,
           0.0037025838949493145,
           0.014627580006334946,
           0.02838670735216783,
           0.044743679368913644,
           0.06339013493636744,
           0.08393854575868848,
           0.10591753298818528,
           0.12877087581897034,
           0.15186131748507978,
           0.17447999195279823,
           0.19586192453391038,
           0.2152076253393881,
           0.2317103248693539,
           0.24458792842044305,
           0.25311832399967577,
           0.2566762997375786,
           0.25477004091850136,
           0.24707500803079696,
           0.23346296309158113,
           0.21402402107025095,
           0.1890798565922851,
           0.15918658398472915,
           0.12512633286074154,
           0.0878871354792479,
           0.04863139306208121,
           0.008653858363151095,
           -0.03066927919323432,
           -0.06793803188546253,
           -0.10179031338845618,
           -0.13096468174943518,
           -0.1543609103022869,
           -0.17109514979541934,
           -0.18054660691367944,
           -0.18239300622958532,
           -0.17663261032673944,
           -0.163591222139663,
           -0.14391335124448024
          ],
          [
           -0.13481430178982187,
           -0.15710321083861073,
           -0.17287351607260817,
           -0.18131560690315682,
           -0.18194839266053625,
           -0.17463748569481502,
           -0.15959621882048483,
           -0.13736985507049018,
           -0.10880422217787396,
           -0.0750007897964791,
           -0.03726086233570953,
           0.0029779491154211806,
           0.044209509361482956,
           0.08492762656935865,
           0.12369173187889267,
           0.15918658398472915,
           0.1902732638436695,
           0.21602931256266372,
           0.23577655069724138,
           0.24909585663212155,
           0.25582893038458626,
           0.2560677827399544,
           0.25013332713993036,
           0.23854497801642713,
           0.22198354690007724,
           0.20124995852555586,
           0.17722237538812438,
           0.15081422331281308,
           0.12293536517635703,
           0.09445829662141196,
           0.0661907655654817,
           0.03885568116655977,
           0.013078615468659323,
           -0.010617349295218181,
           -0.03181017613329085,
           -0.050171999808914604,
           -0.06545830501430487,
           -0.07749482277960204,
           -0.08616386191642225,
           -0.09139170665445415,
           -0.09313849939964196,
           -0.09139170665445415,
           -0.08616386191642225,
           -0.07749482277960204,
           -0.06545830501430487,
           -0.050171999808914604,
           -0.03181017613329085,
           -0.010617349295218181,
           0.013078615468659323,
           0.03885568116655977,
           0.0661907655654817,
           0.09445829662141196,
           0.12293536517635703,
           0.15081422331281308,
           0.17722237538812438,
           0.20124995852555586,
           0.22198354690007724,
           0.23854497801642713,
           0.25013332713993036,
           0.2560677827399544,
           0.25582893038458626,
           0.24909585663212155,
           0.23577655069724138,
           0.21602931256266372,
           0.1902732638436695,
           0.15918658398472915,
           0.12369173187889267,
           0.08492762656935865,
           0.044209509361482956,
           0.0029779491154211806,
           -0.03726086233570953,
           -0.0750007897964791,
           -0.10880422217787396,
           -0.13736985507049018,
           -0.15959621882048483,
           -0.17463748569481502,
           -0.18194839266053625,
           -0.18131560690315682,
           -0.17287351607260817,
           -0.15710321083861073
          ],
          [
           -0.1487375524385824,
           -0.16751643729146143,
           -0.17903560277058095,
           -0.1826358700412797,
           -0.17801860199902664,
           -0.16525654180237792,
           -0.14478624788034108,
           -0.11738288358628372,
           -0.08411903827788304,
           -0.046310064114579955,
           -0.005449066140771361,
           0.03686485131708162,
           0.07900122348247962,
           0.11937185506223688,
           0.15649972810645998,
           0.1890798565922851,
           0.21602931256266372,
           0.2365243422174828,
           0.25002327766855664,
           0.2562747828163765,
           0.2553118000893658,
           0.24743234013685533,
           0.23316893482082693,
           0.21324911772700825,
           0.18854967763954522,
           0.16004763127913005,
           0.12877087581897034,
           0.0957513146109,
           0.06198291759831892,
           0.02838670735216783,
           -0.004215913110515241,
           -0.03512071345143313,
           -0.06374895250625122,
           -0.08964697741323371,
           -0.11247819731414006,
           -0.132008995765264,
           -0.14809048863531396,
           -0.16063822727306362,
           -0.1696119802323752,
           -0.17499760171649797,
           -0.17679272260843765,
           -0.17499760171649797,
           -0.1696119802323752,
           -0.16063822727306362,
           -0.14809048863531396,
           -0.132008995765264,
           -0.11247819731414006,
           -0.08964697741323371,
           -0.06374895250625122,
           -0.03512071345143313,
           -0.004215913110515241,
           0.02838670735216783,
           0.06198291759831892,
           0.0957513146109,
           0.12877087581897034,
           0.16004763127913005,
           0.18854967763954522,
           0.21324911772700825,
           0.23316893482082693,
           0.24743234013685533,
           0.2553118000893658,
           0.2562747828163765,
           0.25002327766855664,
           0.2365243422174828,
           0.21602931256266372,
           0.1890798565922851,
           0.15649972810645998,
           0.11937185506223688,
           0.07900122348247962,
           0.03686485131708162,
           -0.005449066140771361,
           -0.046310064114579955,
           -0.08411903827788304,
           -0.11738288358628372,
           -0.14478624788034108,
           -0.16525654180237792,
           -0.17801860199902664,
           -0.1826358700412797,
           -0.17903560277058095,
           -0.16751643729146143
          ],
          [
           -0.16021647158282734,
           -0.1751457556394694,
           -0.1821644169794075,
           -0.18078273088932142,
           -0.17090060569317098,
           -0.1528102839666787,
           -0.1271795169340972,
           -0.0950164022704569,
           -0.05761803324395176,
           -0.016505930263581485,
           0.026648129724923395,
           0.07010183827093616,
           0.11212338767979044,
           0.15106960365711752,
           0.18545724476618586,
           0.21402402107025095,
           0.23577655069724138,
           0.25002327766855664,
           0.25639126767027576,
           0.2548267267047997,
           0.2455799958764798,
           0.22917661128094333,
           0.2063767337439853,
           0.17812580971586786,
           0.14549969299473817,
           0.1096476200446325,
           0.07173638515428266,
           0.032898814044057145,
           -0.005810793613848673,
           -0.043452159632214875,
           -0.0792240541655952,
           -0.11247819731414006,
           -0.1427221428215067,
           -0.1696119802323752,
           -0.1929363397545002,
           -0.2125937105436689,
           -0.22856545626592412,
           -0.24088710992360066,
           -0.24962054293732017,
           -0.254829433326894,
           -0.2565601183892334,
           -0.254829433326894,
           -0.24962054293732017,
           -0.24088710992360066,
           -0.22856545626592412,
           -0.2125937105436689,
           -0.1929363397545002,
           -0.1696119802323752,
           -0.1427221428215067,
           -0.11247819731414006,
           -0.0792240541655952,
           -0.043452159632214875,
           -0.005810793613848673,
           0.032898814044057145,
           0.07173638515428266,
           0.1096476200446325,
           0.14549969299473817,
           0.17812580971586786,
           0.2063767337439853,
           0.22917661128094333,
           0.2455799958764798,
           0.2548267267047997,
           0.25639126767027576,
           0.25002327766855664,
           0.23577655069724138,
           0.21402402107025095,
           0.18545724476618586,
           0.15106960365711752,
           0.11212338767979044,
           0.07010183827093616,
           0.026648129724923395,
           -0.016505930263581485,
           -0.05761803324395176,
           -0.0950164022704569,
           -0.1271795169340972,
           -0.1528102839666787,
           -0.17090060569317098,
           -0.18078273088932142,
           -0.1821644169794075,
           -0.1751457556394694
          ],
          [
           -0.16923416092386775,
           -0.1800597155006458,
           -0.18242166855756492,
           -0.1760159755489718,
           -0.1609539875623888,
           -0.1377563081818195,
           -0.10732612754693129,
           -0.07090368426500879,
           -0.030004497243790427,
           0.013655158230898757,
           0.058241427706856384,
           0.1018902143955224,
           0.14279404657238684,
           0.1792839709402817,
           0.20990234059772522,
           0.23346296309158113,
           0.24909585663212155,
           0.2562747828163765,
           0.2548267267047997,
           0.24492352037505036,
           0.2270567942100705,
           0.20199833430642128,
           0.17074867404778504,
           0.134477311926808,
           0.09445829662141196,
           0.05200503792795912,
           0.00840808631479302,
           -0.03512071345143313,
           -0.07749482277960204,
           -0.1177881852505473,
           -0.15525760655490364,
           -0.18935183535374994,
           -0.21970771693043264,
           -0.24613461781837798,
           -0.268589046149572,
           -0.28714197491104243,
           -0.30194177876754097,
           -0.31317589634427284,
           -0.3210343185560354,
           -0.32567778292945404,
           -0.32721314035298743,
           -0.32567778292945404,
           -0.3210343185560354,
           -0.31317589634427284,
           -0.30194177876754097,
           -0.28714197491104243,
           -0.268589046149572,
           -0.24613461781837798,
           -0.21970771693043264,
           -0.18935183535374994,
           -0.15525760655490364,
           -0.1177881852505473,
           -0.07749482277960204,
           -0.03512071345143313,
           0.00840808631479302,
           0.05200503792795912,
           0.09445829662141196,
           0.134477311926808,
           0.17074867404778504,
           0.20199833430642128,
           0.2270567942100705,
           0.24492352037505036,
           0.2548267267047997,
           0.2562747828163765,
           0.24909585663212155,
           0.23346296309158113,
           0.20990234059772522,
           0.1792839709402817,
           0.14279404657238684,
           0.1018902143955224,
           0.058241427706856384,
           0.013655158230898757,
           -0.030004497243790427,
           -0.07090368426500879,
           -0.10732612754693129,
           -0.1377563081818195,
           -0.1609539875623888,
           -0.1760159755489718,
           -0.18242166855756492,
           -0.1800597155006458
          ],
          [
           -0.17584069010379264,
           -0.18239300622958532,
           -0.1800313728705813,
           -0.16865061331126227,
           -0.14858307017251748,
           -0.12058300781296416,
           -0.0857896329957062,
           -0.045670869380806056,
           -0.001951040868825416,
           0.043473546354522816,
           0.08862652853638416,
           0.13154597877649798,
           0.17037647050011584,
           0.20345392533496165,
           0.22937894091767205,
           0.24707500803079696,
           0.25582893038458626,
           0.2553118000893658,
           0.2455799958764798,
           0.2270567942100705,
           0.20049625055173417,
           0.16693195814109418,
           0.12761407121954643,
           0.08393854575868848,
           0.037372873633869375,
           -0.010617349295218181,
           -0.05863687417657578,
           -0.10542055787501849,
           -0.14988136590815446,
           -0.19114437378651342,
           -0.22856545626592412,
           -0.2617343483375656,
           -0.29046275344788247,
           -0.31475910259630246,
           -0.33479237619194996,
           -0.35084804028714445,
           -0.3632795822101567,
           -0.37245933283868765,
           -0.3787322233669178,
           -0.382375848005458,
           -0.3835697098652554,
           -0.382375848005458,
           -0.3787322233669178,
           -0.37245933283868765,
           -0.3632795822101567,
           -0.35084804028714445,
           -0.33479237619194996,
           -0.31475910259630246,
           -0.29046275344788247,
           -0.2617343483375656,
           -0.22856545626592412,
           -0.19114437378651342,
           -0.14988136590815446,
           -0.10542055787501849,
           -0.05863687417657578,
           -0.010617349295218181,
           0.037372873633869375,
           0.08393854575868848,
           0.12761407121954643,
           0.16693195814109418,
           0.20049625055173417,
           0.2270567942100705,
           0.2455799958764798,
           0.2553118000893658,
           0.25582893038458626,
           0.24707500803079696,
           0.22937894091767205,
           0.20345392533496165,
           0.17037647050011584,
           0.13154597877649798,
           0.08862652853638416,
           0.043473546354522816,
           -0.001951040868825416,
           -0.045670869380806056,
           -0.0857896329957062,
           -0.12058300781296416,
           -0.14858307017251748,
           -0.16865061331126227,
           -0.1800313728705813,
           -0.18239300622958532
          ],
          [
           -0.1801446545297837,
           -0.18233559039097344,
           -0.1752665961050691,
           -0.15904136091487175,
           -0.13421936300715656,
           -0.10179031338845618,
           -0.0631265026963309,
           -0.019915691575644292,
           0.025921773001301992,
           0.07232710218505171,
           0.11720338291232232,
           0.15851669454452746,
           0.1943926655354523,
           0.2232034254780841,
           0.24364050109720906,
           0.25477004091850136,
           0.2560677827399544,
           0.24743234013685533,
           0.22917661128094333,
           0.20199833430642128,
           0.16693195814109418,
           0.12528500092613942,
           0.07856287339249271,
           0.02838670735216783,
           -0.02359098016854476,
           -0.0757679524450742,
           -0.12666669235949252,
           -0.17499760171649797,
           -0.21970771693043264,
           -0.26001264723920775,
           -0.29541051237375787,
           -0.32567778292945404,
           -0.35084804028714445,
           -0.37117570680030565,
           -0.38708768931988075,
           -0.3991265770886398,
           -0.407889497747319,
           -0.41396693622794944,
           -0.417885750201407,
           -0.4200602785751461,
           -0.4207548585159486,
           -0.4200602785751461,
           -0.417885750201407,
           -0.41396693622794944,
           -0.407889497747319,
           -0.3991265770886398,
           -0.38708768931988075,
           -0.37117570680030565,
           -0.35084804028714445,
           -0.32567778292945404,
           -0.29541051237375787,
           -0.26001264723920775,
           -0.21970771693043264,
           -0.17499760171649797,
           -0.12666669235949252,
           -0.0757679524450742,
           -0.02359098016854476,
           0.02838670735216783,
           0.07856287339249271,
           0.12528500092613942,
           0.16693195814109418,
           0.20199833430642128,
           0.22917661128094333,
           0.24743234013685533,
           0.2560677827399544,
           0.25477004091850136,
           0.24364050109720906,
           0.2232034254780841,
           0.1943926655354523,
           0.15851669454452746,
           0.11720338291232232,
           0.07232710218505171,
           0.025921773001301992,
           -0.019915691575644292,
           -0.0631265026963309,
           -0.10179031338845618,
           -0.13421936300715656,
           -0.15904136091487175,
           -0.1752665961050691,
           -0.18233559039097344
          ],
          [
           -0.18230376872794093,
           -0.18012123502583363,
           -0.16843605361995675,
           -0.14756752732225356,
           -0.11830504740258321,
           -0.08187218787401292,
           -0.039868134180728126,
           0.0058103924762656495,
           0.05306249567952219,
           0.09968670899986165,
           0.14348926836260514,
           0.18239124981424537,
           0.2145288714461612,
           0.2383416766936446,
           0.25264402764959015,
           0.2566762997375786,
           0.25013332713993036,
           0.23316893482082693,
           0.2063767337439853,
           0.17074867404778504,
           0.12761407121954643,
           0.07856287339249271,
           0.02535776443828009,
           -0.030159748399708135,
           -0.08616386191642225,
           -0.1409342819269669,
           -0.1929363397545002,
           -0.24088710992360066,
           -0.2838041182964338,
           -0.3210343185560354,
           -0.35226222727992795,
           -0.37749737145928347,
           -0.3970424421347404,
           -0.41144469052055266,
           -0.42143408131469146,
           -0.42785247459104203,
           -0.43157859884674826,
           -0.4334537754581445,
           -0.434213248547002,
           -0.43442757176285574,
           -0.43445783007337646,
           -0.43442757176285574,
           -0.434213248547002,
           -0.4334537754581445,
           -0.43157859884674826,
           -0.42785247459104203,
           -0.42143408131469146,
           -0.41144469052055266,
           -0.3970424421347404,
           -0.37749737145928347,
           -0.35226222727992795,
           -0.3210343185560354,
           -0.2838041182964338,
           -0.24088710992360066,
           -0.1929363397545002,
           -0.1409342819269669,
           -0.08616386191642225,
           -0.030159748399708135,
           0.02535776443828009,
           0.07856287339249271,
           0.12761407121954643,
           0.17074867404778504,
           0.2063767337439853,
           0.23316893482082693,
           0.25013332713993036,
           0.2566762997375786,
           0.25264402764959015,
           0.2383416766936446,
           0.2145288714461612,
           0.18239124981424537,
           0.14348926836260514,
           0.09968670899986165,
           0.05306249567952219,
           0.0058103924762656495,
           -0.039868134180728126,
           -0.08187218787401292,
           -0.11830504740258321,
           -0.14756752732225356,
           -0.16843605361995675,
           -0.18012123502583363
          ],
          [
           -0.18251498442862385,
           -0.1760159755489718,
           -0.15987112992755653,
           -0.13461888616197776,
           -0.10127808535368477,
           -0.061301442485772274,
           -0.016505930263581485,
           0.031016232090896562,
           0.07900122348247962,
           0.12512633286074154,
           0.16712567793535366,
           0.20290271423033404,
           0.23063350923189954,
           0.24885528388828942,
           0.25653555744366946,
           0.25311832399967577,
           0.23854497801642713,
           0.21324911772700825,
           0.17812580971586786,
           0.134477311926808,
           0.08393854575868848,
           0.02838670735216783,
           -0.030159748399708135,
           -0.08964697741323371,
           -0.14809048863531396,
           -0.2036729142303004,
           -0.254829433326894,
           -0.3003162506586467,
           -0.3392585664190622,
           -0.37117570680030565,
           -0.39598244357893553,
           -0.41396693622794944,
           -0.42574709936268906,
           -0.43220845214435083,
           -0.43442757176285574,
           -0.4335860886421158,
           -0.4308806796227811,
           -0.4274347075936389,
           -0.42421701152445723,
           -0.42197287899622543,
           -0.421171462695804,
           -0.42197287899622543,
           -0.42421701152445723,
           -0.4274347075936389,
           -0.4308806796227811,
           -0.4335860886421158,
           -0.43442757176285574,
           -0.43220845214435083,
           -0.42574709936268906,
           -0.41396693622794944,
           -0.39598244357893553,
           -0.37117570680030565,
           -0.3392585664190622,
           -0.3003162506586467,
           -0.254829433326894,
           -0.2036729142303004,
           -0.14809048863531396,
           -0.08964697741323371,
           -0.030159748399708135,
           0.02838670735216783,
           0.08393854575868848,
           0.134477311926808,
           0.17812580971586786,
           0.21324911772700825,
           0.23854497801642713,
           0.25311832399967577,
           0.25653555744366946,
           0.24885528388828942,
           0.23063350923189954,
           0.20290271423033404,
           0.16712567793535366,
           0.12512633286074154,
           0.07900122348247962,
           0.031016232090896562,
           -0.016505930263581485,
           -0.061301442485772274,
           -0.10127808535368477,
           -0.13461888616197776,
           -0.15987112992755653,
           -0.1760159755489718
          ],
          [
           -0.18100457917857166,
           -0.17030698199702413,
           -0.1499137997580331,
           -0.12058300781296416,
           -0.08355939645450051,
           -0.040517266401149735,
           0.0065202421682302655,
           0.05528095770522729,
           0.10335731863015635,
           0.14832776112580212,
           0.18787932061729182,
           0.21992483146863692,
           0.242708395806646,
           0.254893432701845,
           0.25562857790064414,
           0.24458792842044305,
           0.22198354690007724,
           0.18854967763954522,
           0.14549969299473817,
           0.09445829662141196,
           0.037372873633869375,
           -0.02359098016854476,
           -0.08616386191642225,
           -0.14809048863531396,
           -0.20724458052139974,
           -0.2617343483375656,
           -0.309992807249447,
           -0.35084804028714445,
           -0.3835697098652554,
           -0.407889497747319,
           -0.42399466300627076,
           -0.43249545715781157,
           -0.43436863670247905,
           -0.4308806796227811,
           -0.42349546556438716,
           -0.4137720534188708,
           -0.40325873487122593,
           -0.39338972722403176,
           -0.3853906832849483,
           -0.3801986514917913,
           -0.3784012476539641,
           -0.3801986514917913,
           -0.3853906832849483,
           -0.39338972722403176,
           -0.40325873487122593,
           -0.4137720534188708,
           -0.42349546556438716,
           -0.4308806796227811,
           -0.43436863670247905,
           -0.43249545715781157,
           -0.42399466300627076,
           -0.407889497747319,
           -0.3835697098652554,
           -0.35084804028714445,
           -0.309992807249447,
           -0.2617343483375656,
           -0.20724458052139974,
           -0.14809048863531396,
           -0.08616386191642225,
           -0.02359098016854476,
           0.037372873633869375,
           0.09445829662141196,
           0.14549969299473817,
           0.18854967763954522,
           0.22198354690007724,
           0.24458792842044305,
           0.25562857790064414,
           0.254893432701845,
           0.242708395806646,
           0.21992483146863692,
           0.18787932061729182,
           0.14832776112580212,
           0.10335731863015635,
           0.05528095770522729,
           0.0065202421682302655,
           -0.040517266401149735,
           -0.08355939645450051,
           -0.12058300781296416,
           -0.1499137997580331,
           -0.17030698199702413
          ],
          [
           -0.17801860199902664,
           -0.16329221750830802,
           -0.13890582780165694,
           -0.10583439818051152,
           -0.06554239869174844,
           -0.019915691575644292,
           0.02883009042098063,
           0.07825990831739421,
           0.1258425822940911,
           0.16908036038891633,
           0.20563779959612533,
           0.23346296309158113,
           0.2508943222213973,
           0.25674750760048576,
           0.25037713957121355,
           0.2317103248693539,
           0.20124995852555586,
           0.16004763127913005,
           0.1096476200446325,
           0.05200503792795912,
           -0.010617349295218181,
           -0.0757679524450742,
           -0.1409342819269669,
           -0.2036729142303004,
           -0.2617343483375656,
           -0.31317589634427284,
           -0.3564564355250057,
           -0.3905078789395116,
           -0.4147795406040892,
           -0.42925310491460716,
           -0.43442757176285574,
           -0.4312752446188071,
           -0.421171462695804,
           -0.40580225753498556,
           -0.38705535500366767,
           -0.36690087535799776,
           -0.3472686537517362,
           -0.32992927901128904,
           -0.3163857196862348,
           -0.3077817863653888,
           -0.30483270332925,
           -0.3077817863653888,
           -0.3163857196862348,
           -0.32992927901128904,
           -0.3472686537517362,
           -0.36690087535799776,
           -0.38705535500366767,
           -0.40580225753498556,
           -0.421171462695804,
           -0.4312752446188071,
           -0.43442757176285574,
           -0.42925310491460716,
           -0.4147795406040892,
           -0.3905078789395116,
           -0.3564564355250057,
           -0.31317589634427284,
           -0.2617343483375656,
           -0.2036729142303004,
           -0.1409342819269669,
           -0.0757679524450742,
           -0.010617349295218181,
           0.05200503792795912,
           0.1096476200446325,
           0.16004763127913005,
           0.20124995852555586,
           0.2317103248693539,
           0.25037713957121355,
           0.25674750760048576,
           0.2508943222213973,
           0.23346296309158113,
           0.20563779959612533,
           0.16908036038891633,
           0.1258425822940911,
           0.07825990831739421,
           0.02883009042098063,
           -0.019915691575644292,
           -0.06554239869174844,
           -0.10583439818051152,
           -0.13890582780165694,
           -0.16329221750830802
          ],
          [
           -0.1738139924448547,
           -0.15527119023634722,
           -0.1271795169340972,
           -0.0907256642328181,
           -0.04758506314163741,
           0.0001569493213448689,
           0.05010748884225075,
           0.09968670899986165,
           0.14626024334832619,
           0.18727640924644018,
           0.22040074178662336,
           0.24364050109720906,
           0.2554522819126627,
           0.2548267267047997,
           0.2413455569066888,
           0.2152076253393881,
           0.17722237538812438,
           0.12877087581897034,
           0.07173638515428266,
           0.00840808631479302,
           -0.05863687417657578,
           -0.12666669235949252,
           -0.1929363397545002,
           -0.254829433326894,
           -0.309992807249447,
           -0.3564564355250057,
           -0.39273214882544505,
           -0.417885750201407,
           -0.43157859884674826,
           -0.434076417833265,
           -0.42622489689420734,
           -0.4093935036702951,
           -0.3853906832849483,
           -0.35635521764627226,
           -0.324629843053556,
           -0.2926242127644853,
           -0.2626748843273063,
           -0.23691017597600564,
           -0.21712746254366178,
           -0.20468978410715197,
           -0.20044755867978276,
           -0.20468978410715197,
           -0.21712746254366178,
           -0.23691017597600564,
           -0.2626748843273063,
           -0.2926242127644853,
           -0.324629843053556,
           -0.35635521764627226,
           -0.3853906832849483,
           -0.4093935036702951,
           -0.42622489689420734,
           -0.434076417833265,
           -0.43157859884674826,
           -0.417885750201407,
           -0.39273214882544505,
           -0.3564564355250057,
           -0.309992807249447,
           -0.254829433326894,
           -0.1929363397545002,
           -0.12666669235949252,
           -0.05863687417657578,
           0.00840808631479302,
           0.07173638515428266,
           0.12877087581897034,
           0.17722237538812438,
           0.2152076253393881,
           0.2413455569066888,
           0.2548267267047997,
           0.2554522819126627,
           0.24364050109720906,
           0.22040074178662336,
           0.18727640924644018,
           0.14626024334832619,
           0.09968670899986165,
           0.05010748884225075,
           0.0001569493213448689,
           -0.04758506314163741,
           -0.0907256642328181,
           -0.1271795169340972,
           -0.15527119023634722
          ],
          [
           -0.16865061331126227,
           -0.14653700801271363,
           -0.11505016730310495,
           -0.07558080422426758,
           -0.030004497243790427,
           0.019407660252202565,
           0.07010183827093616,
           0.11937185506223688,
           0.16450028494360933,
           0.20290271423033404,
           0.23226729318028777,
           0.2506818889186662,
           0.2567417315441088,
           0.24963143467045815,
           0.22917661128094333,
           0.19586192453391038,
           0.15081422331281308,
           0.0957513146109,
           0.032898814044057145,
           -0.03512071345143313,
           -0.10542055787501849,
           -0.17499760171649797,
           -0.24088710992360066,
           -0.3003162506586467,
           -0.35084804028714445,
           -0.3905078789395116,
           -0.417885750201407,
           -0.43220845214435083,
           -0.4333778373354074,
           -0.42197287899622543,
           -0.39921534828629784,
           -0.36690087535799776,
           -0.32729906443176787,
           -0.28302803533990717,
           -0.23691017597600564,
           -0.19181693290541052,
           -0.15051108239111077,
           -0.11549507625799743,
           -0.08887373699192957,
           -0.0722388011028484,
           -0.06658162124929747,
           -0.0722388011028484,
           -0.08887373699192957,
           -0.11549507625799743,
           -0.15051108239111077,
           -0.19181693290541052,
           -0.23691017597600564,
           -0.28302803533990717,
           -0.32729906443176787,
           -0.36690087535799776,
           -0.39921534828629784,
           -0.42197287899622543,
           -0.4333778373354074,
           -0.43220845214435083,
           -0.417885750201407,
           -0.3905078789395116,
           -0.35084804028714445,
           -0.3003162506586467,
           -0.24088710992360066,
           -0.17499760171649797,
           -0.10542055787501849,
           -0.03512071345143313,
           0.032898814044057145,
           0.0957513146109,
           0.15081422331281308,
           0.19586192453391038,
           0.22917661128094333,
           0.24963143467045815,
           0.2567417315441088,
           0.2506818889186662,
           0.23226729318028777,
           0.20290271423033404,
           0.16450028494360933,
           0.11937185506223688,
           0.07010183827093616,
           0.019407660252202565,
           -0.030004497243790427,
           -0.07558080422426758,
           -0.11505016730310495,
           -0.14653700801271363
          ],
          [
           -0.16278435980926842,
           -0.13736985507049018,
           -0.10281030706494565,
           -0.060690608986011814,
           -0.013073952151520388,
           0.03759772656874239,
           0.08862652853638416,
           0.13719827990417027,
           0.18053174205108255,
           0.21602931256266372,
           0.24142096714711753,
           0.254893432701845,
           0.25519727019112654,
           0.24172565029557566,
           0.21456006847846779,
           0.17447999195279823,
           0.12293536517635703,
           0.06198291759831892,
           -0.005810793613848673,
           -0.07749482277960204,
           -0.14988136590815446,
           -0.21970771693043264,
           -0.2838041182964338,
           -0.3392585664190622,
           -0.3835697098652554,
           -0.4147795406040892,
           -0.43157859884674826,
           -0.4333778373354074,
           -0.4203430458705095,
           -0.39338972722403176,
           -0.3541384336243295,
           -0.30483270332925,
           -0.24822376277499153,
           -0.187427969950852,
           -0.1257644689695074,
           -0.06658162124929747,
           -0.0130814139378774,
           0.03184881503912622,
           0.0657883626364726,
           0.08691073780520595,
           0.0940800053732448,
           0.08691073780520595,
           0.0657883626364726,
           0.03184881503912622,
           -0.0130814139378774,
           -0.06658162124929747,
           -0.1257644689695074,
           -0.187427969950852,
           -0.24822376277499153,
           -0.30483270332925,
           -0.3541384336243295,
           -0.39338972722403176,
           -0.4203430458705095,
           -0.4333778373354074,
           -0.43157859884674826,
           -0.4147795406040892,
           -0.3835697098652554,
           -0.3392585664190622,
           -0.2838041182964338,
           -0.21970771693043264,
           -0.14988136590815446,
           -0.07749482277960204,
           -0.005810793613848673,
           0.06198291759831892,
           0.12293536517635703,
           0.17447999195279823,
           0.21456006847846779,
           0.24172565029557566,
           0.25519727019112654,
           0.254893432701845,
           0.24142096714711753,
           0.21602931256266372,
           0.18053174205108255,
           0.13719827990417027,
           0.08862652853638416,
           0.03759772656874239,
           -0.013073952151520388,
           -0.060690608986011814,
           -0.10281030706494565,
           -0.13736985507049018
          ],
          [
           -0.15646143337355978,
           -0.12803192632998142,
           -0.0907256642328181,
           -0.046310064114579955,
           0.0029779491154211806,
           0.054541276561040686,
           0.10555493165712146,
           0.15311446345017118,
           0.1943926655354523,
           0.22679610352037188,
           0.24811283911536614,
           0.2566430509401283,
           0.25130504004127213,
           0.2317103248693539,
           0.1982031145119569,
           0.15186131748507978,
           0.09445829662141196,
           0.02838670735216783,
           -0.043452159632214875,
           -0.1177881852505473,
           -0.19114437378651342,
           -0.26001264723920775,
           -0.3210343185560354,
           -0.37117570680030565,
           -0.407889497747319,
           -0.42925310491460716,
           -0.434076417833265,
           -0.42197287899622543,
           -0.39338972722403176,
           -0.3495953826561967,
           -0.2926242127644853,
           -0.22518118755916025,
           -0.15051108239111077,
           -0.0722388011028484,
           0.005811034304373925,
           0.07980593576993696,
           0.14609889758077332,
           0.20141317105264114,
           0.24300880867803662,
           0.2688222513075441,
           0.277571630583514,
           0.2688222513075441,
           0.24300880867803662,
           0.20141317105264114,
           0.14609889758077332,
           0.07980593576993696,
           0.005811034304373925,
           -0.0722388011028484,
           -0.15051108239111077,
           -0.22518118755916025,
           -0.2926242127644853,
           -0.3495953826561967,
           -0.39338972722403176,
           -0.42197287899622543,
           -0.434076417833265,
           -0.42925310491460716,
           -0.407889497747319,
           -0.37117570680030565,
           -0.3210343185560354,
           -0.26001264723920775,
           -0.19114437378651342,
           -0.1177881852505473,
           -0.043452159632214875,
           0.02838670735216783,
           0.09445829662141196,
           0.15186131748507978,
           0.1982031145119569,
           0.2317103248693539,
           0.25130504004127213,
           0.2566430509401283,
           0.24811283911536614,
           0.22679610352037188,
           0.1943926655354523,
           0.15311446345017118,
           0.10555493165712146,
           0.054541276561040686,
           0.0029779491154211806,
           -0.046310064114579955,
           -0.0907256642328181,
           -0.12803192632998142
          ],
          [
           -0.1499137997580331,
           -0.11876378051842666,
           -0.07903277128303789,
           -0.032657564269347995,
           0.017966041941118966,
           0.07010183827093616,
           0.12081441070397907,
           0.16712567793535366,
           0.2061784643801796,
           0.23539823538075702,
           0.25264402764959015,
           0.2563400102730029,
           0.2455799958764798,
           0.22019854657881394,
           0.18080401871815463,
           0.12877087581897034,
           0.0661907655654817,
           -0.004215913110515241,
           -0.0792240541655952,
           -0.15525760655490364,
           -0.22856545626592412,
           -0.29541051237375787,
           -0.35226222727992795,
           -0.39598244357893553,
           -0.42399466300627076,
           -0.43442757176285574,
           -0.42622489689420734,
           -0.39921534828629784,
           -0.3541384336243295,
           -0.2926242127644853,
           -0.21712746254366178,
           -0.13081912452072303,
           -0.03744017720227128,
           0.05887491198907235,
           0.1537963512162099,
           0.24300880867803662,
           0.32242214992953067,
           0.38837235101706136,
           0.43780226922078175,
           0.4684129583840573,
           0.47877771528316515,
           0.4684129583840573,
           0.43780226922078175,
           0.38837235101706136,
           0.32242214992953067,
           0.24300880867803662,
           0.1537963512162099,
           0.05887491198907235,
           -0.03744017720227128,
           -0.13081912452072303,
           -0.21712746254366178,
           -0.2926242127644853,
           -0.3541384336243295,
           -0.39921534828629784,
           -0.42622489689420734,
           -0.43442757176285574,
           -0.42399466300627076,
           -0.39598244357893553,
           -0.35226222727992795,
           -0.29541051237375787,
           -0.22856545626592412,
           -0.15525760655490364,
           -0.0792240541655952,
           -0.004215913110515241,
           0.0661907655654817,
           0.12877087581897034,
           0.18080401871815463,
           0.22019854657881394,
           0.2455799958764798,
           0.2563400102730029,
           0.25264402764959015,
           0.23539823538075702,
           0.2061784643801796,
           0.16712567793535366,
           0.12081441070397907,
           0.07010183827093616,
           0.017966041941118966,
           -0.032657564269347995,
           -0.07903277128303789,
           -0.11876378051842666
          ],
          [
           -0.14335579129849668,
           -0.10978201113265723,
           -0.06793803188546253,
           -0.019915691575644292,
           0.031745840459068614,
           0.08418731130237875,
           0.13437885433763305,
           0.1792839709402817,
           0.21602931256266372,
           0.2420710146043941,
           0.255348298963932,
           0.25441554164532254,
           0.23854497801642713,
           0.20779364608280457,
           0.1630299764243758,
           0.10591753298818528,
           0.03885568116655977,
           -0.03512071345143313,
           -0.11247819731414006,
           -0.18935183535374994,
           -0.2617343483375656,
           -0.32567778292945404,
           -0.37749737145928347,
           -0.41396693622794944,
           -0.43249545715781157,
           -0.4312752446188071,
           -0.4093935036702951,
           -0.36690087535799776,
           -0.30483270332925,
           -0.22518118755916025,
           -0.13081912452072303,
           -0.025378460035175753,
           0.08691073780520595,
           0.20141317105264114,
           0.3133036361206578,
           0.4177941096414197,
           0.5103612401471838,
           0.5869627944413911,
           0.6442321103834694,
           0.6796406846183429,
           0.69162061945593,
           0.6796406846183429,
           0.6442321103834694,
           0.5869627944413911,
           0.5103612401471838,
           0.4177941096414197,
           0.3133036361206578,
           0.20141317105264114,
           0.08691073780520595,
           -0.025378460035175753,
           -0.13081912452072303,
           -0.22518118755916025,
           -0.30483270332925,
           -0.36690087535799776,
           -0.4093935036702951,
           -0.4312752446188071,
           -0.43249545715781157,
           -0.41396693622794944,
           -0.37749737145928347,
           -0.32567778292945404,
           -0.2617343483375656,
           -0.18935183535374994,
           -0.11247819731414006,
           -0.03512071345143313,
           0.03885568116655977,
           0.10591753298818528,
           0.1630299764243758,
           0.20779364608280457,
           0.23854497801642713,
           0.25441554164532254,
           0.255348298963932,
           0.2420710146043941,
           0.21602931256266372,
           0.1792839709402817,
           0.13437885433763305,
           0.08418731130237875,
           0.031745840459068614,
           -0.019915691575644292,
           -0.06793803188546253,
           -0.10978201113265723
          ],
          [
           -0.13698176393514344,
           -0.10127808535368477,
           -0.05761803324395176,
           -0.00823327044894154,
           0.044209509361482956,
           0.09674378883254962,
           0.14626024334832619,
           0.18967745729212915,
           0.22411724822563847,
           0.24707500803079696,
           0.256575492104657,
           0.25130504004127213,
           0.23071227369415245,
           0.19507084218595108,
           0.14549969299473817,
           0.08393854575868848,
           0.013078615468659323,
           -0.06374895250625122,
           -0.1427221428215067,
           -0.21970771693043264,
           -0.29046275344788247,
           -0.35084804028714445,
           -0.3970424421347404,
           -0.42574709936268906,
           -0.43436863670247905,
           -0.421171462695804,
           -0.3853906832849483,
           -0.32729906443176787,
           -0.24822376277499153,
           -0.15051108239111077,
           -0.03744017720227128,
           0.08691073780520595,
           0.21783961811686398,
           0.35022902170777614,
           0.47877771528316515,
           0.5982441516081277,
           0.7036898157513979,
           0.7907103570985019,
           0.8556429685382863,
           0.8957396184216221,
           0.9092974268256817,
           0.8957396184216221,
           0.8556429685382863,
           0.7907103570985019,
           0.7036898157513979,
           0.5982441516081277,
           0.47877771528316515,
           0.35022902170777614,
           0.21783961811686398,
           0.08691073780520595,
           -0.03744017720227128,
           -0.15051108239111077,
           -0.24822376277499153,
           -0.32729906443176787,
           -0.3853906832849483,
           -0.421171462695804,
           -0.43436863670247905,
           -0.42574709936268906,
           -0.3970424421347404,
           -0.35084804028714445,
           -0.29046275344788247,
           -0.21970771693043264,
           -0.1427221428215067,
           -0.06374895250625122,
           0.013078615468659323,
           0.08393854575868848,
           0.14549969299473817,
           0.19507084218595108,
           0.23071227369415245,
           0.25130504004127213,
           0.256575492104657,
           0.24707500803079696,
           0.22411724822563847,
           0.18967745729212915,
           0.14626024334832619,
           0.09674378883254962,
           0.044209509361482956,
           -0.00823327044894154,
           -0.05761803324395176,
           -0.10127808535368477
          ],
          [
           -0.13096468174943518,
           -0.09341816596346665,
           -0.04822085787410071,
           0.0022716100207446164,
           0.05528095770522729,
           0.10774865812501504,
           0.15649972810645998,
           0.19841943861188654,
           0.23063350923189954,
           0.2506818889186662,
           0.2566762997375786,
           0.24743234013685533,
           0.2225680860000738,
           0.18256273925541686,
           0.12877087581897034,
           0.06339013493636744,
           -0.010617349295218181,
           -0.08964697741323371,
           -0.1696119802323752,
           -0.24613461781837798,
           -0.31475910259630246,
           -0.37117570680030565,
           -0.41144469052055266,
           -0.43220845214435083,
           -0.4308806796227811,
           -0.40580225753498556,
           -0.35635521764627226,
           -0.28302803533990717,
           -0.187427969950852,
           -0.0722388011028484,
           0.05887491198907235,
           0.20141317105264114,
           0.35022902170777614,
           0.49975144871271493,
           0.6442321103834694,
           0.7780040258931075,
           0.8957396184216221,
           0.992695449836068,
           1.0649315658049785,
           1.1094945766040856,
           1.124555367855928,
           1.1094945766040856,
           1.0649315658049785,
           0.992695449836068,
           0.8957396184216221,
           0.7780040258931075,
           0.6442321103834694,
           0.49975144871271493,
           0.35022902170777614,
           0.20141317105264114,
           0.05887491198907235,
           -0.0722388011028484,
           -0.187427969950852,
           -0.28302803533990717,
           -0.35635521764627226,
           -0.40580225753498556,
           -0.4308806796227811,
           -0.43220845214435083,
           -0.41144469052055266,
           -0.37117570680030565,
           -0.31475910259630246,
           -0.24613461781837798,
           -0.1696119802323752,
           -0.08964697741323371,
           -0.010617349295218181,
           0.06339013493636744,
           0.12877087581897034,
           0.18256273925541686,
           0.2225680860000738,
           0.24743234013685533,
           0.2566762997375786,
           0.2506818889186662,
           0.23063350923189954,
           0.19841943861188654,
           0.15649972810645998,
           0.10774865812501504,
           0.05528095770522729,
           0.0022716100207446164,
           -0.04822085787410071,
           -0.09341816596346665
          ],
          [
           -0.1254554756233313,
           -0.08634370978474622,
           -0.039868134180728126,
           0.011507919583092052,
           0.0649104168254659,
           0.11720338291232232,
           0.16515865057394133,
           0.20563779959612533,
           0.23577655069724138,
           0.2531614457800734,
           0.2559887694405144,
           0.2431963471432226,
           0.21456006847846779,
           0.17074867404778504,
           0.11333242903336226,
           0.044743679368913644,
           -0.03181017613329085,
           -0.11247819731414006,
           -0.1929363397545002,
           -0.268589046149572,
           -0.33479237619194996,
           -0.38708768931988075,
           -0.42143408131469146,
           -0.43442757176285574,
           -0.42349546556438716,
           -0.38705535500366767,
           -0.324629843053556,
           -0.23691017597600564,
           -0.1257644689695074,
           0.005811034304373925,
           0.1537963512162099,
           0.3133036361206578,
           0.47877771528316515,
           0.6442321103834694,
           0.803509484779075,
           0.9505541014891831,
           1.0796831610910465,
           1.1858438330909473,
           1.2648434125627805,
           1.3135412961886945,
           1.3299933154720727,
           1.3135412961886945,
           1.2648434125627805,
           1.1858438330909473,
           1.0796831610910465,
           0.9505541014891831,
           0.803509484779075,
           0.6442321103834694,
           0.47877771528316515,
           0.3133036361206578,
           0.1537963512162099,
           0.005811034304373925,
           -0.1257644689695074,
           -0.23691017597600564,
           -0.324629843053556,
           -0.38705535500366767,
           -0.42349546556438716,
           -0.43442757176285574,
           -0.42143408131469146,
           -0.38708768931988075,
           -0.33479237619194996,
           -0.268589046149572,
           -0.1929363397545002,
           -0.11247819731414006,
           -0.03181017613329085,
           0.044743679368913644,
           0.11333242903336226,
           0.17074867404778504,
           0.21456006847846779,
           0.2431963471432226,
           0.2559887694405144,
           0.2531614457800734,
           0.23577655069724138,
           0.20563779959612533,
           0.16515865057394133,
           0.11720338291232232,
           0.0649104168254659,
           0.011507919583092052,
           -0.039868134180728126,
           -0.08634370978474622
          ],
          [
           -0.12058300781296416,
           -0.08017262722723162,
           -0.032657564269347995,
           0.019407660252202565,
           0.07306884206017318,
           0.12512633286074154,
           0.17230988766358785,
           0.21146505144444128,
           0.23974108638511749,
           0.25477004091850136,
           0.2548267267047997,
           0.23896010343988033,
           0.2070878465419809,
           0.16004763127913005,
           0.09960082298540655,
           0.02838670735216783,
           -0.050171999808914604,
           -0.132008995765264,
           -0.2125937105436689,
           -0.28714197491104243,
           -0.35084804028714445,
           -0.3991265770886398,
           -0.42785247459104203,
           -0.4335860886421158,
           -0.4137720534188708,
           -0.36690087535799776,
           -0.2926242127644853,
           -0.19181693290541052,
           -0.06658162124929747,
           0.07980593576993696,
           0.24300880867803662,
           0.4177941096414197,
           0.5982441516081277,
           0.7780040258931075,
           0.9505541014891831,
           1.1094945766040856,
           1.2488284837498442,
           1.3632295064019535,
           1.4482816142111579,
           1.500678835049543,
           1.518375390968938,
           1.500678835049543,
           1.4482816142111579,
           1.3632295064019535,
           1.2488284837498442,
           1.1094945766040856,
           0.9505541014891831,
           0.7780040258931075,
           0.5982441516081277,
           0.4177941096414197,
           0.24300880867803662,
           0.07980593576993696,
           -0.06658162124929747,
           -0.19181693290541052,
           -0.2926242127644853,
           -0.36690087535799776,
           -0.4137720534188708,
           -0.4335860886421158,
           -0.42785247459104203,
           -0.3991265770886398,
           -0.35084804028714445,
           -0.28714197491104243,
           -0.2125937105436689,
           -0.132008995765264,
           -0.050171999808914604,
           0.02838670735216783,
           0.09960082298540655,
           0.16004763127913005,
           0.2070878465419809,
           0.23896010343988033,
           0.2548267267047997,
           0.25477004091850136,
           0.23974108638511749,
           0.21146505144444128,
           0.17230988766358785,
           0.12512633286074154,
           0.07306884206017318,
           0.019407660252202565,
           -0.032657564269347995,
           -0.08017262722723162
          ],
          [
           -0.1164544699167505,
           -0.0750007897964791,
           -0.026665677985416577,
           0.025921773001301992,
           0.07974244535617742,
           0.13154597877649798,
           0.17802983029511174,
           0.21602931256266372,
           0.242708395806646,
           0.2557406839380664,
           0.25347017586536014,
           0.23504220166614895,
           0.20049625055173417,
           0.15081422331281308,
           0.08791985781076668,
           0.014627580006334946,
           -0.06545830501430487,
           -0.14809048863531396,
           -0.22856545626592412,
           -0.30194177876754097,
           -0.3632795822101567,
           -0.407889497747319,
           -0.43157859884674826,
           -0.4308806796227811,
           -0.40325873487122593,
           -0.3472686537517362,
           -0.2626748843273063,
           -0.15051108239111077,
           -0.0130814139378774,
           0.14609889758077332,
           0.32242214992953067,
           0.5103612401471838,
           0.7036898157513979,
           0.8957396184216221,
           1.0796831610910465,
           1.2488284837498442,
           1.3969119972732167,
           1.518375390968938,
           1.608613254431116,
           1.6641794167481594,
           1.682941969615793,
           1.6641794167481594,
           1.608613254431116,
           1.518375390968938,
           1.3969119972732167,
           1.2488284837498442,
           1.0796831610910465,
           0.8957396184216221,
           0.7036898157513979,
           0.5103612401471838,
           0.32242214992953067,
           0.14609889758077332,
           -0.0130814139378774,
           -0.15051108239111077,
           -0.2626748843273063,
           -0.3472686537517362,
           -0.40325873487122593,
           -0.4308806796227811,
           -0.43157859884674826,
           -0.407889497747319,
           -0.3632795822101567,
           -0.30194177876754097,
           -0.22856545626592412,
           -0.14809048863531396,
           -0.06545830501430487,
           0.014627580006334946,
           0.08791985781076668,
           0.15081422331281308,
           0.20049625055173417,
           0.23504220166614895,
           0.25347017586536014,
           0.2557406839380664,
           0.242708395806646,
           0.21602931256266372,
           0.17802983029511174,
           0.13154597877649798,
           0.07974244535617742,
           0.025921773001301992,
           -0.026665677985416577,
           -0.0750007897964791
          ],
          [
           -0.1131560467581887,
           -0.07090368426500879,
           -0.021950582012676394,
           0.031016232090896562,
           0.08492762656935865,
           0.13649472168344115,
           0.18239124981424537,
           0.21944644111666822,
           0.24483804991090946,
           0.2562747828163765,
           0.252157618714697,
           0.2317103248693539,
           0.19507084218595108,
           0.1433370736825879,
           0.07856287339249271,
           0.0037025838949493145,
           -0.07749482277960204,
           -0.16063822727306362,
           -0.24088710992360066,
           -0.31317589634427284,
           -0.37245933283868765,
           -0.41396693622794944,
           -0.4334537754581445,
           -0.4274347075936389,
           -0.39338972722403176,
           -0.32992927901128904,
           -0.23691017597600564,
           -0.11549507625799743,
           0.03184881503912622,
           0.20141317105264114,
           0.38837235101706136,
           0.5869627944413911,
           0.7907103570985019,
           0.992695449836068,
           1.1858438330909473,
           1.3632295064019535,
           1.518375390968938,
           1.6455374774968983,
           1.7399588071171015,
           1.7980810383563555,
           1.8177033600622243,
           1.7980810383563555,
           1.7399588071171015,
           1.6455374774968983,
           1.518375390968938,
           1.3632295064019535,
           1.1858438330909473,
           0.992695449836068,
           0.7907103570985019,
           0.5869627944413911,
           0.38837235101706136,
           0.20141317105264114,
           0.03184881503912622,
           -0.11549507625799743,
           -0.23691017597600564,
           -0.32992927901128904,
           -0.39338972722403176,
           -0.4274347075936389,
           -0.4334537754581445,
           -0.41396693622794944,
           -0.37245933283868765,
           -0.31317589634427284,
           -0.24088710992360066,
           -0.16063822727306362,
           -0.07749482277960204,
           0.0037025838949493145,
           0.07856287339249271,
           0.1433370736825879,
           0.19507084218595108,
           0.2317103248693539,
           0.252157618714697,
           0.2562747828163765,
           0.24483804991090946,
           0.21944644111666822,
           0.18239124981424537,
           0.13649472168344115,
           0.08492762656935865,
           0.031016232090896562,
           -0.021950582012676394,
           -0.07090368426500879
          ],
          [
           -0.1107536917561867,
           -0.06793803188546253,
           -0.01855449981019833,
           0.03466854669458865,
           0.08862652853638416,
           0.14000357308347133,
           0.18545724476618586,
           0.22181346801290225,
           0.24626113579560338,
           0.25653555744366946,
           0.25108014921898075,
           0.22917661128094333,
           0.19103523332295086,
           0.13783886506830845,
           0.07173638515428266,
           -0.004215913110515241,
           -0.08616386191642225,
           -0.1696119802323752,
           -0.24962054293732017,
           -0.3210343185560354,
           -0.3787322233669178,
           -0.417885750201407,
           -0.434213248547002,
           -0.42421701152445723,
           -0.3853906832849483,
           -0.3163857196862348,
           -0.21712746254366178,
           -0.08887373699192957,
           0.0657883626364726,
           0.24300880867803662,
           0.43780226922078175,
           0.6442321103834694,
           0.8556429685382863,
           1.0649315658049785,
           1.2648434125627805,
           1.4482816142111579,
           1.608613254431116,
           1.7399588071171015,
           1.8374507397311368,
           1.8974488797623419,
           1.917702154416812,
           1.8974488797623419,
           1.8374507397311368,
           1.7399588071171015,
           1.608613254431116,
           1.4482816142111579,
           1.2648434125627805,
           1.0649315658049785,
           0.8556429685382863,
           0.6442321103834694,
           0.43780226922078175,
           0.24300880867803662,
           0.0657883626364726,
           -0.08887373699192957,
           -0.21712746254366178,
           -0.3163857196862348,
           -0.3853906832849483,
           -0.42421701152445723,
           -0.434213248547002,
           -0.417885750201407,
           -0.3787322233669178,
           -0.3210343185560354,
           -0.24962054293732017,
           -0.1696119802323752,
           -0.08616386191642225,
           -0.004215913110515241,
           0.07173638515428266,
           0.13783886506830845,
           0.19103523332295086,
           0.22917661128094333,
           0.25108014921898075,
           0.25653555744366946,
           0.24626113579560338,
           0.22181346801290225,
           0.18545724476618586,
           0.14000357308347133,
           0.08862652853638416,
           0.03466854669458865,
           -0.01855449981019833,
           -0.06793803188546253
          ],
          [
           -0.10929387900894774,
           -0.06614321685638791,
           -0.016505930263581485,
           0.03686485131708162,
           0.09084339726921295,
           0.14209785531573388,
           0.18727640924644018,
           0.2232034254780841,
           0.24707500803079696,
           0.2566430509401283,
           0.25037713957121355,
           0.22759450814784551,
           0.18854967763954522,
           0.134477311926808,
           0.06758414818694233,
           -0.009011537058698997,
           -0.09139170665445415,
           -0.17499760171649797,
           -0.254829433326894,
           -0.32567778292945404,
           -0.382375848005458,
           -0.4200602785751461,
           -0.43442757176285574,
           -0.42197287899622543,
           -0.3801986514917913,
           -0.3077817863653888,
           -0.20468978410715197,
           -0.0722388011028484,
           0.08691073780520595,
           0.2688222513075441,
           0.4684129583840573,
           0.6796406846183429,
           0.8957396184216221,
           1.1094945766040856,
           1.3135412961886945,
           1.500678835049543,
           1.6641794167481594,
           1.7980810383563555,
           1.8974488797623419,
           1.9585929762944412,
           1.9792316740361835,
           1.9585929762944412,
           1.8974488797623419,
           1.7980810383563555,
           1.6641794167481594,
           1.500678835049543,
           1.3135412961886945,
           1.1094945766040856,
           0.8957396184216221,
           0.6796406846183429,
           0.4684129583840573,
           0.2688222513075441,
           0.08691073780520595,
           -0.0722388011028484,
           -0.20468978410715197,
           -0.3077817863653888,
           -0.3801986514917913,
           -0.42197287899622543,
           -0.43442757176285574,
           -0.4200602785751461,
           -0.382375848005458,
           -0.32567778292945404,
           -0.254829433326894,
           -0.17499760171649797,
           -0.09139170665445415,
           -0.009011537058698997,
           0.06758414818694233,
           0.134477311926808,
           0.18854967763954522,
           0.22759450814784551,
           0.25037713957121355,
           0.2566430509401283,
           0.24707500803079696,
           0.2232034254780841,
           0.18727640924644018,
           0.14209785531573388,
           0.09084339726921295,
           0.03686485131708162,
           -0.016505930263581485,
           -0.06614321685638791
          ],
          [
           -0.10880422217787396,
           -0.06554239869174844,
           -0.015821288518275644,
           0.03759772656874239,
           0.09158188560927924,
           0.14279404657238684,
           0.18787932061729182,
           0.22366162672468853,
           0.24733956165584545,
           0.2566706526738519,
           0.25013332713993036,
           0.2270567942100705,
           0.18771045677679687,
           0.1333463922312941,
           0.0661907655654817,
           -0.010617349295218181,
           -0.09313849939964196,
           -0.17679272260843765,
           -0.2565601183892334,
           -0.32721314035298743,
           -0.3835697098652554,
           -0.4207548585159486,
           -0.43445783007337646,
           -0.421171462695804,
           -0.3784012476539641,
           -0.30483270332925,
           -0.20044755867978276,
           -0.06658162124929747,
           0.0940800053732448,
           0.277571630583514,
           0.47877771528316515,
           0.69162061945593,
           0.9092974268256817,
           1.124555367855928,
           1.3299933154720727,
           1.518375390968938,
           1.682941969615793,
           1.8177033600622243,
           1.917702154416812,
           1.9792316740361835,
           null,
           1.9792316740361835,
           1.917702154416812,
           1.8177033600622243,
           1.682941969615793,
           1.518375390968938,
           1.3299933154720727,
           1.124555367855928,
           0.9092974268256817,
           0.69162061945593,
           0.47877771528316515,
           0.277571630583514,
           0.0940800053732448,
           -0.06658162124929747,
           -0.20044755867978276,
           -0.30483270332925,
           -0.3784012476539641,
           -0.421171462695804,
           -0.43445783007337646,
           -0.4207548585159486,
           -0.3835697098652554,
           -0.32721314035298743,
           -0.2565601183892334,
           -0.17679272260843765,
           -0.09313849939964196,
           -0.010617349295218181,
           0.0661907655654817,
           0.1333463922312941,
           0.18771045677679687,
           0.2270567942100705,
           0.25013332713993036,
           0.2566706526738519,
           0.24733956165584545,
           0.22366162672468853,
           0.18787932061729182,
           0.14279404657238684,
           0.09158188560927924,
           0.03759772656874239,
           -0.015821288518275644,
           -0.06554239869174844
          ],
          [
           -0.10929387900894774,
           -0.06614321685638791,
           -0.016505930263581485,
           0.03686485131708162,
           0.09084339726921295,
           0.14209785531573388,
           0.18727640924644018,
           0.2232034254780841,
           0.24707500803079696,
           0.2566430509401283,
           0.25037713957121355,
           0.22759450814784551,
           0.18854967763954522,
           0.134477311926808,
           0.06758414818694233,
           -0.009011537058698997,
           -0.09139170665445415,
           -0.17499760171649797,
           -0.254829433326894,
           -0.32567778292945404,
           -0.382375848005458,
           -0.4200602785751461,
           -0.43442757176285574,
           -0.42197287899622543,
           -0.3801986514917913,
           -0.3077817863653888,
           -0.20468978410715197,
           -0.0722388011028484,
           0.08691073780520595,
           0.2688222513075441,
           0.4684129583840573,
           0.6796406846183429,
           0.8957396184216221,
           1.1094945766040856,
           1.3135412961886945,
           1.500678835049543,
           1.6641794167481594,
           1.7980810383563555,
           1.8974488797623419,
           1.9585929762944412,
           1.9792316740361835,
           1.9585929762944412,
           1.8974488797623419,
           1.7980810383563555,
           1.6641794167481594,
           1.500678835049543,
           1.3135412961886945,
           1.1094945766040856,
           0.8957396184216221,
           0.6796406846183429,
           0.4684129583840573,
           0.2688222513075441,
           0.08691073780520595,
           -0.0722388011028484,
           -0.20468978410715197,
           -0.3077817863653888,
           -0.3801986514917913,
           -0.42197287899622543,
           -0.43442757176285574,
           -0.4200602785751461,
           -0.382375848005458,
           -0.32567778292945404,
           -0.254829433326894,
           -0.17499760171649797,
           -0.09139170665445415,
           -0.009011537058698997,
           0.06758414818694233,
           0.134477311926808,
           0.18854967763954522,
           0.22759450814784551,
           0.25037713957121355,
           0.2566430509401283,
           0.24707500803079696,
           0.2232034254780841,
           0.18727640924644018,
           0.14209785531573388,
           0.09084339726921295,
           0.03686485131708162,
           -0.016505930263581485,
           -0.06614321685638791
          ],
          [
           -0.1107536917561867,
           -0.06793803188546253,
           -0.01855449981019833,
           0.03466854669458865,
           0.08862652853638416,
           0.14000357308347133,
           0.18545724476618586,
           0.22181346801290225,
           0.24626113579560338,
           0.25653555744366946,
           0.25108014921898075,
           0.22917661128094333,
           0.19103523332295086,
           0.13783886506830845,
           0.07173638515428266,
           -0.004215913110515241,
           -0.08616386191642225,
           -0.1696119802323752,
           -0.24962054293732017,
           -0.3210343185560354,
           -0.3787322233669178,
           -0.417885750201407,
           -0.434213248547002,
           -0.42421701152445723,
           -0.3853906832849483,
           -0.3163857196862348,
           -0.21712746254366178,
           -0.08887373699192957,
           0.0657883626364726,
           0.24300880867803662,
           0.43780226922078175,
           0.6442321103834694,
           0.8556429685382863,
           1.0649315658049785,
           1.2648434125627805,
           1.4482816142111579,
           1.608613254431116,
           1.7399588071171015,
           1.8374507397311368,
           1.8974488797623419,
           1.917702154416812,
           1.8974488797623419,
           1.8374507397311368,
           1.7399588071171015,
           1.608613254431116,
           1.4482816142111579,
           1.2648434125627805,
           1.0649315658049785,
           0.8556429685382863,
           0.6442321103834694,
           0.43780226922078175,
           0.24300880867803662,
           0.0657883626364726,
           -0.08887373699192957,
           -0.21712746254366178,
           -0.3163857196862348,
           -0.3853906832849483,
           -0.42421701152445723,
           -0.434213248547002,
           -0.417885750201407,
           -0.3787322233669178,
           -0.3210343185560354,
           -0.24962054293732017,
           -0.1696119802323752,
           -0.08616386191642225,
           -0.004215913110515241,
           0.07173638515428266,
           0.13783886506830845,
           0.19103523332295086,
           0.22917661128094333,
           0.25108014921898075,
           0.25653555744366946,
           0.24626113579560338,
           0.22181346801290225,
           0.18545724476618586,
           0.14000357308347133,
           0.08862652853638416,
           0.03466854669458865,
           -0.01855449981019833,
           -0.06793803188546253
          ],
          [
           -0.1131560467581887,
           -0.07090368426500879,
           -0.021950582012676394,
           0.031016232090896562,
           0.08492762656935865,
           0.13649472168344115,
           0.18239124981424537,
           0.21944644111666822,
           0.24483804991090946,
           0.2562747828163765,
           0.252157618714697,
           0.2317103248693539,
           0.19507084218595108,
           0.1433370736825879,
           0.07856287339249271,
           0.0037025838949493145,
           -0.07749482277960204,
           -0.16063822727306362,
           -0.24088710992360066,
           -0.31317589634427284,
           -0.37245933283868765,
           -0.41396693622794944,
           -0.4334537754581445,
           -0.4274347075936389,
           -0.39338972722403176,
           -0.32992927901128904,
           -0.23691017597600564,
           -0.11549507625799743,
           0.03184881503912622,
           0.20141317105264114,
           0.38837235101706136,
           0.5869627944413911,
           0.7907103570985019,
           0.992695449836068,
           1.1858438330909473,
           1.3632295064019535,
           1.518375390968938,
           1.6455374774968983,
           1.7399588071171015,
           1.7980810383563555,
           1.8177033600622243,
           1.7980810383563555,
           1.7399588071171015,
           1.6455374774968983,
           1.518375390968938,
           1.3632295064019535,
           1.1858438330909473,
           0.992695449836068,
           0.7907103570985019,
           0.5869627944413911,
           0.38837235101706136,
           0.20141317105264114,
           0.03184881503912622,
           -0.11549507625799743,
           -0.23691017597600564,
           -0.32992927901128904,
           -0.39338972722403176,
           -0.4274347075936389,
           -0.4334537754581445,
           -0.41396693622794944,
           -0.37245933283868765,
           -0.31317589634427284,
           -0.24088710992360066,
           -0.16063822727306362,
           -0.07749482277960204,
           0.0037025838949493145,
           0.07856287339249271,
           0.1433370736825879,
           0.19507084218595108,
           0.2317103248693539,
           0.252157618714697,
           0.2562747828163765,
           0.24483804991090946,
           0.21944644111666822,
           0.18239124981424537,
           0.13649472168344115,
           0.08492762656935865,
           0.031016232090896562,
           -0.021950582012676394,
           -0.07090368426500879
          ],
          [
           -0.1164544699167505,
           -0.0750007897964791,
           -0.026665677985416577,
           0.025921773001301992,
           0.07974244535617742,
           0.13154597877649798,
           0.17802983029511174,
           0.21602931256266372,
           0.242708395806646,
           0.2557406839380664,
           0.25347017586536014,
           0.23504220166614895,
           0.20049625055173417,
           0.15081422331281308,
           0.08791985781076668,
           0.014627580006334946,
           -0.06545830501430487,
           -0.14809048863531396,
           -0.22856545626592412,
           -0.30194177876754097,
           -0.3632795822101567,
           -0.407889497747319,
           -0.43157859884674826,
           -0.4308806796227811,
           -0.40325873487122593,
           -0.3472686537517362,
           -0.2626748843273063,
           -0.15051108239111077,
           -0.0130814139378774,
           0.14609889758077332,
           0.32242214992953067,
           0.5103612401471838,
           0.7036898157513979,
           0.8957396184216221,
           1.0796831610910465,
           1.2488284837498442,
           1.3969119972732167,
           1.518375390968938,
           1.608613254431116,
           1.6641794167481594,
           1.682941969615793,
           1.6641794167481594,
           1.608613254431116,
           1.518375390968938,
           1.3969119972732167,
           1.2488284837498442,
           1.0796831610910465,
           0.8957396184216221,
           0.7036898157513979,
           0.5103612401471838,
           0.32242214992953067,
           0.14609889758077332,
           -0.0130814139378774,
           -0.15051108239111077,
           -0.2626748843273063,
           -0.3472686537517362,
           -0.40325873487122593,
           -0.4308806796227811,
           -0.43157859884674826,
           -0.407889497747319,
           -0.3632795822101567,
           -0.30194177876754097,
           -0.22856545626592412,
           -0.14809048863531396,
           -0.06545830501430487,
           0.014627580006334946,
           0.08791985781076668,
           0.15081422331281308,
           0.20049625055173417,
           0.23504220166614895,
           0.25347017586536014,
           0.2557406839380664,
           0.242708395806646,
           0.21602931256266372,
           0.17802983029511174,
           0.13154597877649798,
           0.07974244535617742,
           0.025921773001301992,
           -0.026665677985416577,
           -0.0750007897964791
          ],
          [
           -0.12058300781296416,
           -0.08017262722723162,
           -0.032657564269347995,
           0.019407660252202565,
           0.07306884206017318,
           0.12512633286074154,
           0.17230988766358785,
           0.21146505144444128,
           0.23974108638511749,
           0.25477004091850136,
           0.2548267267047997,
           0.23896010343988033,
           0.2070878465419809,
           0.16004763127913005,
           0.09960082298540655,
           0.02838670735216783,
           -0.050171999808914604,
           -0.132008995765264,
           -0.2125937105436689,
           -0.28714197491104243,
           -0.35084804028714445,
           -0.3991265770886398,
           -0.42785247459104203,
           -0.4335860886421158,
           -0.4137720534188708,
           -0.36690087535799776,
           -0.2926242127644853,
           -0.19181693290541052,
           -0.06658162124929747,
           0.07980593576993696,
           0.24300880867803662,
           0.4177941096414197,
           0.5982441516081277,
           0.7780040258931075,
           0.9505541014891831,
           1.1094945766040856,
           1.2488284837498442,
           1.3632295064019535,
           1.4482816142111579,
           1.500678835049543,
           1.518375390968938,
           1.500678835049543,
           1.4482816142111579,
           1.3632295064019535,
           1.2488284837498442,
           1.1094945766040856,
           0.9505541014891831,
           0.7780040258931075,
           0.5982441516081277,
           0.4177941096414197,
           0.24300880867803662,
           0.07980593576993696,
           -0.06658162124929747,
           -0.19181693290541052,
           -0.2926242127644853,
           -0.36690087535799776,
           -0.4137720534188708,
           -0.4335860886421158,
           -0.42785247459104203,
           -0.3991265770886398,
           -0.35084804028714445,
           -0.28714197491104243,
           -0.2125937105436689,
           -0.132008995765264,
           -0.050171999808914604,
           0.02838670735216783,
           0.09960082298540655,
           0.16004763127913005,
           0.2070878465419809,
           0.23896010343988033,
           0.2548267267047997,
           0.25477004091850136,
           0.23974108638511749,
           0.21146505144444128,
           0.17230988766358785,
           0.12512633286074154,
           0.07306884206017318,
           0.019407660252202565,
           -0.032657564269347995,
           -0.08017262722723162
          ],
          [
           -0.1254554756233313,
           -0.08634370978474622,
           -0.039868134180728126,
           0.011507919583092052,
           0.0649104168254659,
           0.11720338291232232,
           0.16515865057394133,
           0.20563779959612533,
           0.23577655069724138,
           0.2531614457800734,
           0.2559887694405144,
           0.2431963471432226,
           0.21456006847846779,
           0.17074867404778504,
           0.11333242903336226,
           0.044743679368913644,
           -0.03181017613329085,
           -0.11247819731414006,
           -0.1929363397545002,
           -0.268589046149572,
           -0.33479237619194996,
           -0.38708768931988075,
           -0.42143408131469146,
           -0.43442757176285574,
           -0.42349546556438716,
           -0.38705535500366767,
           -0.324629843053556,
           -0.23691017597600564,
           -0.1257644689695074,
           0.005811034304373925,
           0.1537963512162099,
           0.3133036361206578,
           0.47877771528316515,
           0.6442321103834694,
           0.803509484779075,
           0.9505541014891831,
           1.0796831610910465,
           1.1858438330909473,
           1.2648434125627805,
           1.3135412961886945,
           1.3299933154720727,
           1.3135412961886945,
           1.2648434125627805,
           1.1858438330909473,
           1.0796831610910465,
           0.9505541014891831,
           0.803509484779075,
           0.6442321103834694,
           0.47877771528316515,
           0.3133036361206578,
           0.1537963512162099,
           0.005811034304373925,
           -0.1257644689695074,
           -0.23691017597600564,
           -0.324629843053556,
           -0.38705535500366767,
           -0.42349546556438716,
           -0.43442757176285574,
           -0.42143408131469146,
           -0.38708768931988075,
           -0.33479237619194996,
           -0.268589046149572,
           -0.1929363397545002,
           -0.11247819731414006,
           -0.03181017613329085,
           0.044743679368913644,
           0.11333242903336226,
           0.17074867404778504,
           0.21456006847846779,
           0.2431963471432226,
           0.2559887694405144,
           0.2531614457800734,
           0.23577655069724138,
           0.20563779959612533,
           0.16515865057394133,
           0.11720338291232232,
           0.0649104168254659,
           0.011507919583092052,
           -0.039868134180728126,
           -0.08634370978474622
          ],
          [
           -0.13096468174943518,
           -0.09341816596346665,
           -0.04822085787410071,
           0.0022716100207446164,
           0.05528095770522729,
           0.10774865812501504,
           0.15649972810645998,
           0.19841943861188654,
           0.23063350923189954,
           0.2506818889186662,
           0.2566762997375786,
           0.24743234013685533,
           0.2225680860000738,
           0.18256273925541686,
           0.12877087581897034,
           0.06339013493636744,
           -0.010617349295218181,
           -0.08964697741323371,
           -0.1696119802323752,
           -0.24613461781837798,
           -0.31475910259630246,
           -0.37117570680030565,
           -0.41144469052055266,
           -0.43220845214435083,
           -0.4308806796227811,
           -0.40580225753498556,
           -0.35635521764627226,
           -0.28302803533990717,
           -0.187427969950852,
           -0.0722388011028484,
           0.05887491198907235,
           0.20141317105264114,
           0.35022902170777614,
           0.49975144871271493,
           0.6442321103834694,
           0.7780040258931075,
           0.8957396184216221,
           0.992695449836068,
           1.0649315658049785,
           1.1094945766040856,
           1.124555367855928,
           1.1094945766040856,
           1.0649315658049785,
           0.992695449836068,
           0.8957396184216221,
           0.7780040258931075,
           0.6442321103834694,
           0.49975144871271493,
           0.35022902170777614,
           0.20141317105264114,
           0.05887491198907235,
           -0.0722388011028484,
           -0.187427969950852,
           -0.28302803533990717,
           -0.35635521764627226,
           -0.40580225753498556,
           -0.4308806796227811,
           -0.43220845214435083,
           -0.41144469052055266,
           -0.37117570680030565,
           -0.31475910259630246,
           -0.24613461781837798,
           -0.1696119802323752,
           -0.08964697741323371,
           -0.010617349295218181,
           0.06339013493636744,
           0.12877087581897034,
           0.18256273925541686,
           0.2225680860000738,
           0.24743234013685533,
           0.2566762997375786,
           0.2506818889186662,
           0.23063350923189954,
           0.19841943861188654,
           0.15649972810645998,
           0.10774865812501504,
           0.05528095770522729,
           0.0022716100207446164,
           -0.04822085787410071,
           -0.09341816596346665
          ],
          [
           -0.13698176393514344,
           -0.10127808535368477,
           -0.05761803324395176,
           -0.00823327044894154,
           0.044209509361482956,
           0.09674378883254962,
           0.14626024334832619,
           0.18967745729212915,
           0.22411724822563847,
           0.24707500803079696,
           0.256575492104657,
           0.25130504004127213,
           0.23071227369415245,
           0.19507084218595108,
           0.14549969299473817,
           0.08393854575868848,
           0.013078615468659323,
           -0.06374895250625122,
           -0.1427221428215067,
           -0.21970771693043264,
           -0.29046275344788247,
           -0.35084804028714445,
           -0.3970424421347404,
           -0.42574709936268906,
           -0.43436863670247905,
           -0.421171462695804,
           -0.3853906832849483,
           -0.32729906443176787,
           -0.24822376277499153,
           -0.15051108239111077,
           -0.03744017720227128,
           0.08691073780520595,
           0.21783961811686398,
           0.35022902170777614,
           0.47877771528316515,
           0.5982441516081277,
           0.7036898157513979,
           0.7907103570985019,
           0.8556429685382863,
           0.8957396184216221,
           0.9092974268256817,
           0.8957396184216221,
           0.8556429685382863,
           0.7907103570985019,
           0.7036898157513979,
           0.5982441516081277,
           0.47877771528316515,
           0.35022902170777614,
           0.21783961811686398,
           0.08691073780520595,
           -0.03744017720227128,
           -0.15051108239111077,
           -0.24822376277499153,
           -0.32729906443176787,
           -0.3853906832849483,
           -0.421171462695804,
           -0.43436863670247905,
           -0.42574709936268906,
           -0.3970424421347404,
           -0.35084804028714445,
           -0.29046275344788247,
           -0.21970771693043264,
           -0.1427221428215067,
           -0.06374895250625122,
           0.013078615468659323,
           0.08393854575868848,
           0.14549969299473817,
           0.19507084218595108,
           0.23071227369415245,
           0.25130504004127213,
           0.256575492104657,
           0.24707500803079696,
           0.22411724822563847,
           0.18967745729212915,
           0.14626024334832619,
           0.09674378883254962,
           0.044209509361482956,
           -0.00823327044894154,
           -0.05761803324395176,
           -0.10127808535368477
          ],
          [
           -0.14335579129849668,
           -0.10978201113265723,
           -0.06793803188546253,
           -0.019915691575644292,
           0.031745840459068614,
           0.08418731130237875,
           0.13437885433763305,
           0.1792839709402817,
           0.21602931256266372,
           0.2420710146043941,
           0.255348298963932,
           0.25441554164532254,
           0.23854497801642713,
           0.20779364608280457,
           0.1630299764243758,
           0.10591753298818528,
           0.03885568116655977,
           -0.03512071345143313,
           -0.11247819731414006,
           -0.18935183535374994,
           -0.2617343483375656,
           -0.32567778292945404,
           -0.37749737145928347,
           -0.41396693622794944,
           -0.43249545715781157,
           -0.4312752446188071,
           -0.4093935036702951,
           -0.36690087535799776,
           -0.30483270332925,
           -0.22518118755916025,
           -0.13081912452072303,
           -0.025378460035175753,
           0.08691073780520595,
           0.20141317105264114,
           0.3133036361206578,
           0.4177941096414197,
           0.5103612401471838,
           0.5869627944413911,
           0.6442321103834694,
           0.6796406846183429,
           0.69162061945593,
           0.6796406846183429,
           0.6442321103834694,
           0.5869627944413911,
           0.5103612401471838,
           0.4177941096414197,
           0.3133036361206578,
           0.20141317105264114,
           0.08691073780520595,
           -0.025378460035175753,
           -0.13081912452072303,
           -0.22518118755916025,
           -0.30483270332925,
           -0.36690087535799776,
           -0.4093935036702951,
           -0.4312752446188071,
           -0.43249545715781157,
           -0.41396693622794944,
           -0.37749737145928347,
           -0.32567778292945404,
           -0.2617343483375656,
           -0.18935183535374994,
           -0.11247819731414006,
           -0.03512071345143313,
           0.03885568116655977,
           0.10591753298818528,
           0.1630299764243758,
           0.20779364608280457,
           0.23854497801642713,
           0.25441554164532254,
           0.255348298963932,
           0.2420710146043941,
           0.21602931256266372,
           0.1792839709402817,
           0.13437885433763305,
           0.08418731130237875,
           0.031745840459068614,
           -0.019915691575644292,
           -0.06793803188546253,
           -0.10978201113265723
          ],
          [
           -0.1499137997580331,
           -0.11876378051842666,
           -0.07903277128303789,
           -0.032657564269347995,
           0.017966041941118966,
           0.07010183827093616,
           0.12081441070397907,
           0.16712567793535366,
           0.2061784643801796,
           0.23539823538075702,
           0.25264402764959015,
           0.2563400102730029,
           0.2455799958764798,
           0.22019854657881394,
           0.18080401871815463,
           0.12877087581897034,
           0.0661907655654817,
           -0.004215913110515241,
           -0.0792240541655952,
           -0.15525760655490364,
           -0.22856545626592412,
           -0.29541051237375787,
           -0.35226222727992795,
           -0.39598244357893553,
           -0.42399466300627076,
           -0.43442757176285574,
           -0.42622489689420734,
           -0.39921534828629784,
           -0.3541384336243295,
           -0.2926242127644853,
           -0.21712746254366178,
           -0.13081912452072303,
           -0.03744017720227128,
           0.05887491198907235,
           0.1537963512162099,
           0.24300880867803662,
           0.32242214992953067,
           0.38837235101706136,
           0.43780226922078175,
           0.4684129583840573,
           0.47877771528316515,
           0.4684129583840573,
           0.43780226922078175,
           0.38837235101706136,
           0.32242214992953067,
           0.24300880867803662,
           0.1537963512162099,
           0.05887491198907235,
           -0.03744017720227128,
           -0.13081912452072303,
           -0.21712746254366178,
           -0.2926242127644853,
           -0.3541384336243295,
           -0.39921534828629784,
           -0.42622489689420734,
           -0.43442757176285574,
           -0.42399466300627076,
           -0.39598244357893553,
           -0.35226222727992795,
           -0.29541051237375787,
           -0.22856545626592412,
           -0.15525760655490364,
           -0.0792240541655952,
           -0.004215913110515241,
           0.0661907655654817,
           0.12877087581897034,
           0.18080401871815463,
           0.22019854657881394,
           0.2455799958764798,
           0.2563400102730029,
           0.25264402764959015,
           0.23539823538075702,
           0.2061784643801796,
           0.16712567793535366,
           0.12081441070397907,
           0.07010183827093616,
           0.017966041941118966,
           -0.032657564269347995,
           -0.07903277128303789,
           -0.11876378051842666
          ],
          [
           -0.15646143337355978,
           -0.12803192632998142,
           -0.0907256642328181,
           -0.046310064114579955,
           0.0029779491154211806,
           0.054541276561040686,
           0.10555493165712146,
           0.15311446345017118,
           0.1943926655354523,
           0.22679610352037188,
           0.24811283911536614,
           0.2566430509401283,
           0.25130504004127213,
           0.2317103248693539,
           0.1982031145119569,
           0.15186131748507978,
           0.09445829662141196,
           0.02838670735216783,
           -0.043452159632214875,
           -0.1177881852505473,
           -0.19114437378651342,
           -0.26001264723920775,
           -0.3210343185560354,
           -0.37117570680030565,
           -0.407889497747319,
           -0.42925310491460716,
           -0.434076417833265,
           -0.42197287899622543,
           -0.39338972722403176,
           -0.3495953826561967,
           -0.2926242127644853,
           -0.22518118755916025,
           -0.15051108239111077,
           -0.0722388011028484,
           0.005811034304373925,
           0.07980593576993696,
           0.14609889758077332,
           0.20141317105264114,
           0.24300880867803662,
           0.2688222513075441,
           0.277571630583514,
           0.2688222513075441,
           0.24300880867803662,
           0.20141317105264114,
           0.14609889758077332,
           0.07980593576993696,
           0.005811034304373925,
           -0.0722388011028484,
           -0.15051108239111077,
           -0.22518118755916025,
           -0.2926242127644853,
           -0.3495953826561967,
           -0.39338972722403176,
           -0.42197287899622543,
           -0.434076417833265,
           -0.42925310491460716,
           -0.407889497747319,
           -0.37117570680030565,
           -0.3210343185560354,
           -0.26001264723920775,
           -0.19114437378651342,
           -0.1177881852505473,
           -0.043452159632214875,
           0.02838670735216783,
           0.09445829662141196,
           0.15186131748507978,
           0.1982031145119569,
           0.2317103248693539,
           0.25130504004127213,
           0.2566430509401283,
           0.24811283911536614,
           0.22679610352037188,
           0.1943926655354523,
           0.15311446345017118,
           0.10555493165712146,
           0.054541276561040686,
           0.0029779491154211806,
           -0.046310064114579955,
           -0.0907256642328181,
           -0.12803192632998142
          ],
          [
           -0.16278435980926842,
           -0.13736985507049018,
           -0.10281030706494565,
           -0.060690608986011814,
           -0.013073952151520388,
           0.03759772656874239,
           0.08862652853638416,
           0.13719827990417027,
           0.18053174205108255,
           0.21602931256266372,
           0.24142096714711753,
           0.254893432701845,
           0.25519727019112654,
           0.24172565029557566,
           0.21456006847846779,
           0.17447999195279823,
           0.12293536517635703,
           0.06198291759831892,
           -0.005810793613848673,
           -0.07749482277960204,
           -0.14988136590815446,
           -0.21970771693043264,
           -0.2838041182964338,
           -0.3392585664190622,
           -0.3835697098652554,
           -0.4147795406040892,
           -0.43157859884674826,
           -0.4333778373354074,
           -0.4203430458705095,
           -0.39338972722403176,
           -0.3541384336243295,
           -0.30483270332925,
           -0.24822376277499153,
           -0.187427969950852,
           -0.1257644689695074,
           -0.06658162124929747,
           -0.0130814139378774,
           0.03184881503912622,
           0.0657883626364726,
           0.08691073780520595,
           0.0940800053732448,
           0.08691073780520595,
           0.0657883626364726,
           0.03184881503912622,
           -0.0130814139378774,
           -0.06658162124929747,
           -0.1257644689695074,
           -0.187427969950852,
           -0.24822376277499153,
           -0.30483270332925,
           -0.3541384336243295,
           -0.39338972722403176,
           -0.4203430458705095,
           -0.4333778373354074,
           -0.43157859884674826,
           -0.4147795406040892,
           -0.3835697098652554,
           -0.3392585664190622,
           -0.2838041182964338,
           -0.21970771693043264,
           -0.14988136590815446,
           -0.07749482277960204,
           -0.005810793613848673,
           0.06198291759831892,
           0.12293536517635703,
           0.17447999195279823,
           0.21456006847846779,
           0.24172565029557566,
           0.25519727019112654,
           0.254893432701845,
           0.24142096714711753,
           0.21602931256266372,
           0.18053174205108255,
           0.13719827990417027,
           0.08862652853638416,
           0.03759772656874239,
           -0.013073952151520388,
           -0.060690608986011814,
           -0.10281030706494565,
           -0.13736985507049018
          ],
          [
           -0.16865061331126227,
           -0.14653700801271363,
           -0.11505016730310495,
           -0.07558080422426758,
           -0.030004497243790427,
           0.019407660252202565,
           0.07010183827093616,
           0.11937185506223688,
           0.16450028494360933,
           0.20290271423033404,
           0.23226729318028777,
           0.2506818889186662,
           0.2567417315441088,
           0.24963143467045815,
           0.22917661128094333,
           0.19586192453391038,
           0.15081422331281308,
           0.0957513146109,
           0.032898814044057145,
           -0.03512071345143313,
           -0.10542055787501849,
           -0.17499760171649797,
           -0.24088710992360066,
           -0.3003162506586467,
           -0.35084804028714445,
           -0.3905078789395116,
           -0.417885750201407,
           -0.43220845214435083,
           -0.4333778373354074,
           -0.42197287899622543,
           -0.39921534828629784,
           -0.36690087535799776,
           -0.32729906443176787,
           -0.28302803533990717,
           -0.23691017597600564,
           -0.19181693290541052,
           -0.15051108239111077,
           -0.11549507625799743,
           -0.08887373699192957,
           -0.0722388011028484,
           -0.06658162124929747,
           -0.0722388011028484,
           -0.08887373699192957,
           -0.11549507625799743,
           -0.15051108239111077,
           -0.19181693290541052,
           -0.23691017597600564,
           -0.28302803533990717,
           -0.32729906443176787,
           -0.36690087535799776,
           -0.39921534828629784,
           -0.42197287899622543,
           -0.4333778373354074,
           -0.43220845214435083,
           -0.417885750201407,
           -0.3905078789395116,
           -0.35084804028714445,
           -0.3003162506586467,
           -0.24088710992360066,
           -0.17499760171649797,
           -0.10542055787501849,
           -0.03512071345143313,
           0.032898814044057145,
           0.0957513146109,
           0.15081422331281308,
           0.19586192453391038,
           0.22917661128094333,
           0.24963143467045815,
           0.2567417315441088,
           0.2506818889186662,
           0.23226729318028777,
           0.20290271423033404,
           0.16450028494360933,
           0.11937185506223688,
           0.07010183827093616,
           0.019407660252202565,
           -0.030004497243790427,
           -0.07558080422426758,
           -0.11505016730310495,
           -0.14653700801271363
          ],
          [
           -0.1738139924448547,
           -0.15527119023634722,
           -0.1271795169340972,
           -0.0907256642328181,
           -0.04758506314163741,
           0.0001569493213448689,
           0.05010748884225075,
           0.09968670899986165,
           0.14626024334832619,
           0.18727640924644018,
           0.22040074178662336,
           0.24364050109720906,
           0.2554522819126627,
           0.2548267267047997,
           0.2413455569066888,
           0.2152076253393881,
           0.17722237538812438,
           0.12877087581897034,
           0.07173638515428266,
           0.00840808631479302,
           -0.05863687417657578,
           -0.12666669235949252,
           -0.1929363397545002,
           -0.254829433326894,
           -0.309992807249447,
           -0.3564564355250057,
           -0.39273214882544505,
           -0.417885750201407,
           -0.43157859884674826,
           -0.434076417833265,
           -0.42622489689420734,
           -0.4093935036702951,
           -0.3853906832849483,
           -0.35635521764627226,
           -0.324629843053556,
           -0.2926242127644853,
           -0.2626748843273063,
           -0.23691017597600564,
           -0.21712746254366178,
           -0.20468978410715197,
           -0.20044755867978276,
           -0.20468978410715197,
           -0.21712746254366178,
           -0.23691017597600564,
           -0.2626748843273063,
           -0.2926242127644853,
           -0.324629843053556,
           -0.35635521764627226,
           -0.3853906832849483,
           -0.4093935036702951,
           -0.42622489689420734,
           -0.434076417833265,
           -0.43157859884674826,
           -0.417885750201407,
           -0.39273214882544505,
           -0.3564564355250057,
           -0.309992807249447,
           -0.254829433326894,
           -0.1929363397545002,
           -0.12666669235949252,
           -0.05863687417657578,
           0.00840808631479302,
           0.07173638515428266,
           0.12877087581897034,
           0.17722237538812438,
           0.2152076253393881,
           0.2413455569066888,
           0.2548267267047997,
           0.2554522819126627,
           0.24364050109720906,
           0.22040074178662336,
           0.18727640924644018,
           0.14626024334832619,
           0.09968670899986165,
           0.05010748884225075,
           0.0001569493213448689,
           -0.04758506314163741,
           -0.0907256642328181,
           -0.1271795169340972,
           -0.15527119023634722
          ],
          [
           -0.17801860199902664,
           -0.16329221750830802,
           -0.13890582780165694,
           -0.10583439818051152,
           -0.06554239869174844,
           -0.019915691575644292,
           0.02883009042098063,
           0.07825990831739421,
           0.1258425822940911,
           0.16908036038891633,
           0.20563779959612533,
           0.23346296309158113,
           0.2508943222213973,
           0.25674750760048576,
           0.25037713957121355,
           0.2317103248693539,
           0.20124995852555586,
           0.16004763127913005,
           0.1096476200446325,
           0.05200503792795912,
           -0.010617349295218181,
           -0.0757679524450742,
           -0.1409342819269669,
           -0.2036729142303004,
           -0.2617343483375656,
           -0.31317589634427284,
           -0.3564564355250057,
           -0.3905078789395116,
           -0.4147795406040892,
           -0.42925310491460716,
           -0.43442757176285574,
           -0.4312752446188071,
           -0.421171462695804,
           -0.40580225753498556,
           -0.38705535500366767,
           -0.36690087535799776,
           -0.3472686537517362,
           -0.32992927901128904,
           -0.3163857196862348,
           -0.3077817863653888,
           -0.30483270332925,
           -0.3077817863653888,
           -0.3163857196862348,
           -0.32992927901128904,
           -0.3472686537517362,
           -0.36690087535799776,
           -0.38705535500366767,
           -0.40580225753498556,
           -0.421171462695804,
           -0.4312752446188071,
           -0.43442757176285574,
           -0.42925310491460716,
           -0.4147795406040892,
           -0.3905078789395116,
           -0.3564564355250057,
           -0.31317589634427284,
           -0.2617343483375656,
           -0.2036729142303004,
           -0.1409342819269669,
           -0.0757679524450742,
           -0.010617349295218181,
           0.05200503792795912,
           0.1096476200446325,
           0.16004763127913005,
           0.20124995852555586,
           0.2317103248693539,
           0.25037713957121355,
           0.25674750760048576,
           0.2508943222213973,
           0.23346296309158113,
           0.20563779959612533,
           0.16908036038891633,
           0.1258425822940911,
           0.07825990831739421,
           0.02883009042098063,
           -0.019915691575644292,
           -0.06554239869174844,
           -0.10583439818051152,
           -0.13890582780165694,
           -0.16329221750830802
          ],
          [
           -0.18100457917857166,
           -0.17030698199702413,
           -0.1499137997580331,
           -0.12058300781296416,
           -0.08355939645450051,
           -0.040517266401149735,
           0.0065202421682302655,
           0.05528095770522729,
           0.10335731863015635,
           0.14832776112580212,
           0.18787932061729182,
           0.21992483146863692,
           0.242708395806646,
           0.254893432701845,
           0.25562857790064414,
           0.24458792842044305,
           0.22198354690007724,
           0.18854967763954522,
           0.14549969299473817,
           0.09445829662141196,
           0.037372873633869375,
           -0.02359098016854476,
           -0.08616386191642225,
           -0.14809048863531396,
           -0.20724458052139974,
           -0.2617343483375656,
           -0.309992807249447,
           -0.35084804028714445,
           -0.3835697098652554,
           -0.407889497747319,
           -0.42399466300627076,
           -0.43249545715781157,
           -0.43436863670247905,
           -0.4308806796227811,
           -0.42349546556438716,
           -0.4137720534188708,
           -0.40325873487122593,
           -0.39338972722403176,
           -0.3853906832849483,
           -0.3801986514917913,
           -0.3784012476539641,
           -0.3801986514917913,
           -0.3853906832849483,
           -0.39338972722403176,
           -0.40325873487122593,
           -0.4137720534188708,
           -0.42349546556438716,
           -0.4308806796227811,
           -0.43436863670247905,
           -0.43249545715781157,
           -0.42399466300627076,
           -0.407889497747319,
           -0.3835697098652554,
           -0.35084804028714445,
           -0.309992807249447,
           -0.2617343483375656,
           -0.20724458052139974,
           -0.14809048863531396,
           -0.08616386191642225,
           -0.02359098016854476,
           0.037372873633869375,
           0.09445829662141196,
           0.14549969299473817,
           0.18854967763954522,
           0.22198354690007724,
           0.24458792842044305,
           0.25562857790064414,
           0.254893432701845,
           0.242708395806646,
           0.21992483146863692,
           0.18787932061729182,
           0.14832776112580212,
           0.10335731863015635,
           0.05528095770522729,
           0.0065202421682302655,
           -0.040517266401149735,
           -0.08355939645450051,
           -0.12058300781296416,
           -0.1499137997580331,
           -0.17030698199702413
          ],
          [
           -0.18251498442862385,
           -0.1760159755489718,
           -0.15987112992755653,
           -0.13461888616197776,
           -0.10127808535368477,
           -0.061301442485772274,
           -0.016505930263581485,
           0.031016232090896562,
           0.07900122348247962,
           0.12512633286074154,
           0.16712567793535366,
           0.20290271423033404,
           0.23063350923189954,
           0.24885528388828942,
           0.25653555744366946,
           0.25311832399967577,
           0.23854497801642713,
           0.21324911772700825,
           0.17812580971586786,
           0.134477311926808,
           0.08393854575868848,
           0.02838670735216783,
           -0.030159748399708135,
           -0.08964697741323371,
           -0.14809048863531396,
           -0.2036729142303004,
           -0.254829433326894,
           -0.3003162506586467,
           -0.3392585664190622,
           -0.37117570680030565,
           -0.39598244357893553,
           -0.41396693622794944,
           -0.42574709936268906,
           -0.43220845214435083,
           -0.43442757176285574,
           -0.4335860886421158,
           -0.4308806796227811,
           -0.4274347075936389,
           -0.42421701152445723,
           -0.42197287899622543,
           -0.421171462695804,
           -0.42197287899622543,
           -0.42421701152445723,
           -0.4274347075936389,
           -0.4308806796227811,
           -0.4335860886421158,
           -0.43442757176285574,
           -0.43220845214435083,
           -0.42574709936268906,
           -0.41396693622794944,
           -0.39598244357893553,
           -0.37117570680030565,
           -0.3392585664190622,
           -0.3003162506586467,
           -0.254829433326894,
           -0.2036729142303004,
           -0.14809048863531396,
           -0.08964697741323371,
           -0.030159748399708135,
           0.02838670735216783,
           0.08393854575868848,
           0.134477311926808,
           0.17812580971586786,
           0.21324911772700825,
           0.23854497801642713,
           0.25311832399967577,
           0.25653555744366946,
           0.24885528388828942,
           0.23063350923189954,
           0.20290271423033404,
           0.16712567793535366,
           0.12512633286074154,
           0.07900122348247962,
           0.031016232090896562,
           -0.016505930263581485,
           -0.061301442485772274,
           -0.10127808535368477,
           -0.13461888616197776,
           -0.15987112992755653,
           -0.1760159755489718
          ],
          [
           -0.18230376872794093,
           -0.18012123502583363,
           -0.16843605361995675,
           -0.14756752732225356,
           -0.11830504740258321,
           -0.08187218787401292,
           -0.039868134180728126,
           0.0058103924762656495,
           0.05306249567952219,
           0.09968670899986165,
           0.14348926836260514,
           0.18239124981424537,
           0.2145288714461612,
           0.2383416766936446,
           0.25264402764959015,
           0.2566762997375786,
           0.25013332713993036,
           0.23316893482082693,
           0.2063767337439853,
           0.17074867404778504,
           0.12761407121954643,
           0.07856287339249271,
           0.02535776443828009,
           -0.030159748399708135,
           -0.08616386191642225,
           -0.1409342819269669,
           -0.1929363397545002,
           -0.24088710992360066,
           -0.2838041182964338,
           -0.3210343185560354,
           -0.35226222727992795,
           -0.37749737145928347,
           -0.3970424421347404,
           -0.41144469052055266,
           -0.42143408131469146,
           -0.42785247459104203,
           -0.43157859884674826,
           -0.4334537754581445,
           -0.434213248547002,
           -0.43442757176285574,
           -0.43445783007337646,
           -0.43442757176285574,
           -0.434213248547002,
           -0.4334537754581445,
           -0.43157859884674826,
           -0.42785247459104203,
           -0.42143408131469146,
           -0.41144469052055266,
           -0.3970424421347404,
           -0.37749737145928347,
           -0.35226222727992795,
           -0.3210343185560354,
           -0.2838041182964338,
           -0.24088710992360066,
           -0.1929363397545002,
           -0.1409342819269669,
           -0.08616386191642225,
           -0.030159748399708135,
           0.02535776443828009,
           0.07856287339249271,
           0.12761407121954643,
           0.17074867404778504,
           0.2063767337439853,
           0.23316893482082693,
           0.25013332713993036,
           0.2566762997375786,
           0.25264402764959015,
           0.2383416766936446,
           0.2145288714461612,
           0.18239124981424537,
           0.14348926836260514,
           0.09968670899986165,
           0.05306249567952219,
           0.0058103924762656495,
           -0.039868134180728126,
           -0.08187218787401292,
           -0.11830504740258321,
           -0.14756752732225356,
           -0.16843605361995675,
           -0.18012123502583363
          ],
          [
           -0.1801446545297837,
           -0.18233559039097344,
           -0.1752665961050691,
           -0.15904136091487175,
           -0.13421936300715656,
           -0.10179031338845618,
           -0.0631265026963309,
           -0.019915691575644292,
           0.025921773001301992,
           0.07232710218505171,
           0.11720338291232232,
           0.15851669454452746,
           0.1943926655354523,
           0.2232034254780841,
           0.24364050109720906,
           0.25477004091850136,
           0.2560677827399544,
           0.24743234013685533,
           0.22917661128094333,
           0.20199833430642128,
           0.16693195814109418,
           0.12528500092613942,
           0.07856287339249271,
           0.02838670735216783,
           -0.02359098016854476,
           -0.0757679524450742,
           -0.12666669235949252,
           -0.17499760171649797,
           -0.21970771693043264,
           -0.26001264723920775,
           -0.29541051237375787,
           -0.32567778292945404,
           -0.35084804028714445,
           -0.37117570680030565,
           -0.38708768931988075,
           -0.3991265770886398,
           -0.407889497747319,
           -0.41396693622794944,
           -0.417885750201407,
           -0.4200602785751461,
           -0.4207548585159486,
           -0.4200602785751461,
           -0.417885750201407,
           -0.41396693622794944,
           -0.407889497747319,
           -0.3991265770886398,
           -0.38708768931988075,
           -0.37117570680030565,
           -0.35084804028714445,
           -0.32567778292945404,
           -0.29541051237375787,
           -0.26001264723920775,
           -0.21970771693043264,
           -0.17499760171649797,
           -0.12666669235949252,
           -0.0757679524450742,
           -0.02359098016854476,
           0.02838670735216783,
           0.07856287339249271,
           0.12528500092613942,
           0.16693195814109418,
           0.20199833430642128,
           0.22917661128094333,
           0.24743234013685533,
           0.2560677827399544,
           0.25477004091850136,
           0.24364050109720906,
           0.2232034254780841,
           0.1943926655354523,
           0.15851669454452746,
           0.11720338291232232,
           0.07232710218505171,
           0.025921773001301992,
           -0.019915691575644292,
           -0.0631265026963309,
           -0.10179031338845618,
           -0.13421936300715656,
           -0.15904136091487175,
           -0.1752665961050691,
           -0.18233559039097344
          ],
          [
           -0.17584069010379264,
           -0.18239300622958532,
           -0.1800313728705813,
           -0.16865061331126227,
           -0.14858307017251748,
           -0.12058300781296416,
           -0.0857896329957062,
           -0.045670869380806056,
           -0.001951040868825416,
           0.043473546354522816,
           0.08862652853638416,
           0.13154597877649798,
           0.17037647050011584,
           0.20345392533496165,
           0.22937894091767205,
           0.24707500803079696,
           0.25582893038458626,
           0.2553118000893658,
           0.2455799958764798,
           0.2270567942100705,
           0.20049625055173417,
           0.16693195814109418,
           0.12761407121954643,
           0.08393854575868848,
           0.037372873633869375,
           -0.010617349295218181,
           -0.05863687417657578,
           -0.10542055787501849,
           -0.14988136590815446,
           -0.19114437378651342,
           -0.22856545626592412,
           -0.2617343483375656,
           -0.29046275344788247,
           -0.31475910259630246,
           -0.33479237619194996,
           -0.35084804028714445,
           -0.3632795822101567,
           -0.37245933283868765,
           -0.3787322233669178,
           -0.382375848005458,
           -0.3835697098652554,
           -0.382375848005458,
           -0.3787322233669178,
           -0.37245933283868765,
           -0.3632795822101567,
           -0.35084804028714445,
           -0.33479237619194996,
           -0.31475910259630246,
           -0.29046275344788247,
           -0.2617343483375656,
           -0.22856545626592412,
           -0.19114437378651342,
           -0.14988136590815446,
           -0.10542055787501849,
           -0.05863687417657578,
           -0.010617349295218181,
           0.037372873633869375,
           0.08393854575868848,
           0.12761407121954643,
           0.16693195814109418,
           0.20049625055173417,
           0.2270567942100705,
           0.2455799958764798,
           0.2553118000893658,
           0.25582893038458626,
           0.24707500803079696,
           0.22937894091767205,
           0.20345392533496165,
           0.17037647050011584,
           0.13154597877649798,
           0.08862652853638416,
           0.043473546354522816,
           -0.001951040868825416,
           -0.045670869380806056,
           -0.0857896329957062,
           -0.12058300781296416,
           -0.14858307017251748,
           -0.16865061331126227,
           -0.1800313728705813,
           -0.18239300622958532
          ],
          [
           -0.16923416092386775,
           -0.1800597155006458,
           -0.18242166855756492,
           -0.1760159755489718,
           -0.1609539875623888,
           -0.1377563081818195,
           -0.10732612754693129,
           -0.07090368426500879,
           -0.030004497243790427,
           0.013655158230898757,
           0.058241427706856384,
           0.1018902143955224,
           0.14279404657238684,
           0.1792839709402817,
           0.20990234059772522,
           0.23346296309158113,
           0.24909585663212155,
           0.2562747828163765,
           0.2548267267047997,
           0.24492352037505036,
           0.2270567942100705,
           0.20199833430642128,
           0.17074867404778504,
           0.134477311926808,
           0.09445829662141196,
           0.05200503792795912,
           0.00840808631479302,
           -0.03512071345143313,
           -0.07749482277960204,
           -0.1177881852505473,
           -0.15525760655490364,
           -0.18935183535374994,
           -0.21970771693043264,
           -0.24613461781837798,
           -0.268589046149572,
           -0.28714197491104243,
           -0.30194177876754097,
           -0.31317589634427284,
           -0.3210343185560354,
           -0.32567778292945404,
           -0.32721314035298743,
           -0.32567778292945404,
           -0.3210343185560354,
           -0.31317589634427284,
           -0.30194177876754097,
           -0.28714197491104243,
           -0.268589046149572,
           -0.24613461781837798,
           -0.21970771693043264,
           -0.18935183535374994,
           -0.15525760655490364,
           -0.1177881852505473,
           -0.07749482277960204,
           -0.03512071345143313,
           0.00840808631479302,
           0.05200503792795912,
           0.09445829662141196,
           0.134477311926808,
           0.17074867404778504,
           0.20199833430642128,
           0.2270567942100705,
           0.24492352037505036,
           0.2548267267047997,
           0.2562747828163765,
           0.24909585663212155,
           0.23346296309158113,
           0.20990234059772522,
           0.1792839709402817,
           0.14279404657238684,
           0.1018902143955224,
           0.058241427706856384,
           0.013655158230898757,
           -0.030004497243790427,
           -0.07090368426500879,
           -0.10732612754693129,
           -0.1377563081818195,
           -0.1609539875623888,
           -0.1760159755489718,
           -0.18242166855756492,
           -0.1800597155006458
          ],
          [
           -0.16021647158282734,
           -0.1751457556394694,
           -0.1821644169794075,
           -0.18078273088932142,
           -0.17090060569317098,
           -0.1528102839666787,
           -0.1271795169340972,
           -0.0950164022704569,
           -0.05761803324395176,
           -0.016505930263581485,
           0.026648129724923395,
           0.07010183827093616,
           0.11212338767979044,
           0.15106960365711752,
           0.18545724476618586,
           0.21402402107025095,
           0.23577655069724138,
           0.25002327766855664,
           0.25639126767027576,
           0.2548267267047997,
           0.2455799958764798,
           0.22917661128094333,
           0.2063767337439853,
           0.17812580971586786,
           0.14549969299473817,
           0.1096476200446325,
           0.07173638515428266,
           0.032898814044057145,
           -0.005810793613848673,
           -0.043452159632214875,
           -0.0792240541655952,
           -0.11247819731414006,
           -0.1427221428215067,
           -0.1696119802323752,
           -0.1929363397545002,
           -0.2125937105436689,
           -0.22856545626592412,
           -0.24088710992360066,
           -0.24962054293732017,
           -0.254829433326894,
           -0.2565601183892334,
           -0.254829433326894,
           -0.24962054293732017,
           -0.24088710992360066,
           -0.22856545626592412,
           -0.2125937105436689,
           -0.1929363397545002,
           -0.1696119802323752,
           -0.1427221428215067,
           -0.11247819731414006,
           -0.0792240541655952,
           -0.043452159632214875,
           -0.005810793613848673,
           0.032898814044057145,
           0.07173638515428266,
           0.1096476200446325,
           0.14549969299473817,
           0.17812580971586786,
           0.2063767337439853,
           0.22917661128094333,
           0.2455799958764798,
           0.2548267267047997,
           0.25639126767027576,
           0.25002327766855664,
           0.23577655069724138,
           0.21402402107025095,
           0.18545724476618586,
           0.15106960365711752,
           0.11212338767979044,
           0.07010183827093616,
           0.026648129724923395,
           -0.016505930263581485,
           -0.05761803324395176,
           -0.0950164022704569,
           -0.1271795169340972,
           -0.1528102839666787,
           -0.17090060569317098,
           -0.18078273088932142,
           -0.1821644169794075,
           -0.1751457556394694
          ],
          [
           -0.1487375524385824,
           -0.16751643729146143,
           -0.17903560277058095,
           -0.1826358700412797,
           -0.17801860199902664,
           -0.16525654180237792,
           -0.14478624788034108,
           -0.11738288358628372,
           -0.08411903827788304,
           -0.046310064114579955,
           -0.005449066140771361,
           0.03686485131708162,
           0.07900122348247962,
           0.11937185506223688,
           0.15649972810645998,
           0.1890798565922851,
           0.21602931256266372,
           0.2365243422174828,
           0.25002327766855664,
           0.2562747828163765,
           0.2553118000893658,
           0.24743234013685533,
           0.23316893482082693,
           0.21324911772700825,
           0.18854967763954522,
           0.16004763127913005,
           0.12877087581897034,
           0.0957513146109,
           0.06198291759831892,
           0.02838670735216783,
           -0.004215913110515241,
           -0.03512071345143313,
           -0.06374895250625122,
           -0.08964697741323371,
           -0.11247819731414006,
           -0.132008995765264,
           -0.14809048863531396,
           -0.16063822727306362,
           -0.1696119802323752,
           -0.17499760171649797,
           -0.17679272260843765,
           -0.17499760171649797,
           -0.1696119802323752,
           -0.16063822727306362,
           -0.14809048863531396,
           -0.132008995765264,
           -0.11247819731414006,
           -0.08964697741323371,
           -0.06374895250625122,
           -0.03512071345143313,
           -0.004215913110515241,
           0.02838670735216783,
           0.06198291759831892,
           0.0957513146109,
           0.12877087581897034,
           0.16004763127913005,
           0.18854967763954522,
           0.21324911772700825,
           0.23316893482082693,
           0.24743234013685533,
           0.2553118000893658,
           0.2562747828163765,
           0.25002327766855664,
           0.2365243422174828,
           0.21602931256266372,
           0.1890798565922851,
           0.15649972810645998,
           0.11937185506223688,
           0.07900122348247962,
           0.03686485131708162,
           -0.005449066140771361,
           -0.046310064114579955,
           -0.08411903827788304,
           -0.11738288358628372,
           -0.14478624788034108,
           -0.16525654180237792,
           -0.17801860199902664,
           -0.1826358700412797,
           -0.17903560277058095,
           -0.16751643729146143
          ],
          [
           -0.13481430178982187,
           -0.15710321083861073,
           -0.17287351607260817,
           -0.18131560690315682,
           -0.18194839266053625,
           -0.17463748569481502,
           -0.15959621882048483,
           -0.13736985507049018,
           -0.10880422217787396,
           -0.0750007897964791,
           -0.03726086233570953,
           0.0029779491154211806,
           0.044209509361482956,
           0.08492762656935865,
           0.12369173187889267,
           0.15918658398472915,
           0.1902732638436695,
           0.21602931256266372,
           0.23577655069724138,
           0.24909585663212155,
           0.25582893038458626,
           0.2560677827399544,
           0.25013332713993036,
           0.23854497801642713,
           0.22198354690007724,
           0.20124995852555586,
           0.17722237538812438,
           0.15081422331281308,
           0.12293536517635703,
           0.09445829662141196,
           0.0661907655654817,
           0.03885568116655977,
           0.013078615468659323,
           -0.010617349295218181,
           -0.03181017613329085,
           -0.050171999808914604,
           -0.06545830501430487,
           -0.07749482277960204,
           -0.08616386191642225,
           -0.09139170665445415,
           -0.09313849939964196,
           -0.09139170665445415,
           -0.08616386191642225,
           -0.07749482277960204,
           -0.06545830501430487,
           -0.050171999808914604,
           -0.03181017613329085,
           -0.010617349295218181,
           0.013078615468659323,
           0.03885568116655977,
           0.0661907655654817,
           0.09445829662141196,
           0.12293536517635703,
           0.15081422331281308,
           0.17722237538812438,
           0.20124995852555586,
           0.22198354690007724,
           0.23854497801642713,
           0.25013332713993036,
           0.2560677827399544,
           0.25582893038458626,
           0.24909585663212155,
           0.23577655069724138,
           0.21602931256266372,
           0.1902732638436695,
           0.15918658398472915,
           0.12369173187889267,
           0.08492762656935865,
           0.044209509361482956,
           0.0029779491154211806,
           -0.03726086233570953,
           -0.0750007897964791,
           -0.10880422217787396,
           -0.13736985507049018,
           -0.15959621882048483,
           -0.17463748569481502,
           -0.18194839266053625,
           -0.18131560690315682,
           -0.17287351607260817,
           -0.15710321083861073
          ],
          [
           -0.11853755153953284,
           -0.14391335124448024,
           -0.163591222139663,
           -0.17663261032673944,
           -0.18239300622958532,
           -0.18054660691367944,
           -0.17109514979541934,
           -0.1543609103022869,
           -0.13096468174943518,
           -0.10179031338845618,
           -0.06793803188546253,
           -0.03066927919323432,
           0.008653858363151095,
           0.04863139306208121,
           0.0878871354792479,
           0.12512633286074154,
           0.15918658398472915,
           0.1890798565922851,
           0.21402402107025095,
           0.23346296309158113,
           0.24707500803079696,
           0.25477004091850136,
           0.2566762997375786,
           0.25311832399967577,
           0.24458792842044305,
           0.2317103248693539,
           0.2152076253393881,
           0.19586192453391038,
           0.17447999195279823,
           0.15186131748507978,
           0.12877087581897034,
           0.10591753298818528,
           0.08393854575868848,
           0.06339013493636744,
           0.044743679368913644,
           0.02838670735216783,
           0.014627580006334946,
           0.0037025838949493145,
           -0.004215913110515241,
           -0.009011537058698997,
           -0.010617349295218181,
           -0.009011537058698997,
           -0.004215913110515241,
           0.0037025838949493145,
           0.014627580006334946,
           0.02838670735216783,
           0.044743679368913644,
           0.06339013493636744,
           0.08393854575868848,
           0.10591753298818528,
           0.12877087581897034,
           0.15186131748507978,
           0.17447999195279823,
           0.19586192453391038,
           0.2152076253393881,
           0.2317103248693539,
           0.24458792842044305,
           0.25311832399967577,
           0.2566762997375786,
           0.25477004091850136,
           0.24707500803079696,
           0.23346296309158113,
           0.21402402107025095,
           0.1890798565922851,
           0.15918658398472915,
           0.12512633286074154,
           0.0878871354792479,
           0.04863139306208121,
           0.008653858363151095,
           -0.03066927919323432,
           -0.06793803188546253,
           -0.10179031338845618,
           -0.13096468174943518,
           -0.1543609103022869,
           -0.17109514979541934,
           -0.18054660691367944,
           -0.18239300622958532,
           -0.17663261032673944,
           -0.163591222139663,
           -0.14391335124448024
          ],
          [
           -0.10007704610444179,
           -0.12803786284735597,
           -0.1511875643863488,
           -0.16848219583369567,
           -0.17913546063850083,
           -0.18264893898060253,
           -0.1788278960809016,
           -0.16778234479339135,
           -0.1499137997580331,
           -0.1258888846262905,
           -0.09660159075517502,
           -0.0631265026963309,
           -0.026665677985416577,
           0.011507919583092052,
           0.05010748884225075,
           0.0878871354792479,
           0.12369173187889267,
           0.15649972810645998,
           0.18545724476618586,
           0.20990234059772522,
           0.22937894091767205,
           0.24364050109720906,
           0.25264402764959015,
           0.25653555744366946,
           0.25562857790064414,
           0.25037713957121355,
           0.2413455569066888,
           0.22917661128094333,
           0.21456006847846779,
           0.1982031145119569,
           0.18080401871815463,
           0.1630299764243758,
           0.14549969299473817,
           0.12877087581897034,
           0.11333242903336226,
           0.09960082298540655,
           0.08791985781076668,
           0.07856287339249271,
           0.07173638515428266,
           0.06758414818694233,
           0.0661907655654817,
           0.06758414818694233,
           0.07173638515428266,
           0.07856287339249271,
           0.08791985781076668,
           0.09960082298540655,
           0.11333242903336226,
           0.12877087581897034,
           0.14549969299473817,
           0.1630299764243758,
           0.18080401871815463,
           0.1982031145119569,
           0.21456006847846779,
           0.22917661128094333,
           0.2413455569066888,
           0.25037713957121355,
           0.25562857790064414,
           0.25653555744366946,
           0.25264402764959015,
           0.24364050109720906,
           0.22937894091767205,
           0.20990234059772522,
           0.18545724476618586,
           0.15649972810645998,
           0.12369173187889267,
           0.0878871354792479,
           0.05010748884225075,
           0.011507919583092052,
           -0.026665677985416577,
           -0.0631265026963309,
           -0.09660159075517502,
           -0.1258888846262905,
           -0.1499137997580331,
           -0.16778234479339135,
           -0.1788278960809016,
           -0.18264893898060253,
           -0.17913546063850083,
           -0.16848219583369567,
           -0.1511875643863488,
           -0.12803786284735597
          ],
          [
           -0.07968395387291566,
           -0.10965701691843574,
           -0.13575600794040762,
           -0.15685668268767797,
           -0.17205475511311313,
           -0.1807007071005138,
           -0.18242166855756492,
           -0.17712974307464055,
           -0.16501687105976595,
           -0.14653700801271363,
           -0.12237701362727325,
           -0.09341816596346665,
           -0.060690608986011814,
           -0.02532329427921568,
           0.011507919583092052,
           0.04863139306208121,
           0.08492762656935865,
           0.11937185506223688,
           0.15106960365711752,
           0.1792839709402817,
           0.20345392533496165,
           0.2232034254780841,
           0.2383416766936446,
           0.24885528388828942,
           0.254893432701845,
           0.25674750760048576,
           0.2548267267047997,
           0.24963143467045815,
           0.24172565029557566,
           0.2317103248693539,
           0.22019854657881394,
           0.20779364608280457,
           0.19507084218595108,
           0.18256273925541686,
           0.17074867404778504,
           0.16004763127913005,
           0.15081422331281308,
           0.1433370736825879,
           0.13783886506830845,
           0.134477311926808,
           0.1333463922312941,
           0.134477311926808,
           0.13783886506830845,
           0.1433370736825879,
           0.15081422331281308,
           0.16004763127913005,
           0.17074867404778504,
           0.18256273925541686,
           0.19507084218595108,
           0.20779364608280457,
           0.22019854657881394,
           0.2317103248693539,
           0.24172565029557566,
           0.24963143467045815,
           0.2548267267047997,
           0.25674750760048576,
           0.254893432701845,
           0.24885528388828942,
           0.2383416766936446,
           0.2232034254780841,
           0.20345392533496165,
           0.1792839709402817,
           0.15106960365711752,
           0.11937185506223688,
           0.08492762656935865,
           0.04863139306208121,
           0.011507919583092052,
           -0.02532329427921568,
           -0.060690608986011814,
           -0.09341816596346665,
           -0.12237701362727325,
           -0.14653700801271363,
           -0.16501687105976595,
           -0.17712974307464055,
           -0.18242166855756492,
           -0.1807007071005138,
           -0.17205475511311313,
           -0.15685668268767797,
           -0.13575600794040762,
           -0.10965701691843574
          ],
          [
           -0.05769048962428924,
           -0.08904297911487404,
           -0.11749065565570795,
           -0.14185512230149663,
           -0.16113955966514656,
           -0.17456713788189782,
           -0.18160802037610754,
           -0.18199408570471504,
           -0.17572115154133375,
           -0.16303912773542587,
           -0.14443111863131364,
           -0.12058300781296416,
           -0.09234546620178369,
           -0.060690608986011814,
           -0.026665677985416577,
           0.008653858363151095,
           0.044209509361482956,
           0.07900122348247962,
           0.11212338767979044,
           0.14279404657238684,
           0.17037647050011584,
           0.1943926655354523,
           0.2145288714461612,
           0.23063350923189954,
           0.242708395806646,
           0.2508943222213973,
           0.2554522819126627,
           0.2567417315441088,
           0.25519727019112654,
           0.25130504004127213,
           0.2455799958764798,
           0.23854497801642713,
           0.23071227369415245,
           0.2225680860000738,
           0.21456006847846779,
           0.2070878465419809,
           0.20049625055173417,
           0.19507084218595108,
           0.19103523332295086,
           0.18854967763954522,
           0.18771045677679687,
           0.18854967763954522,
           0.19103523332295086,
           0.19507084218595108,
           0.20049625055173417,
           0.2070878465419809,
           0.21456006847846779,
           0.2225680860000738,
           0.23071227369415245,
           0.23854497801642713,
           0.2455799958764798,
           0.25130504004127213,
           0.25519727019112654,
           0.2567417315441088,
           0.2554522819126627,
           0.2508943222213973,
           0.242708395806646,
           0.23063350923189954,
           0.2145288714461612,
           0.1943926655354523,
           0.17037647050011584,
           0.14279404657238684,
           0.11212338767979044,
           0.07900122348247962,
           0.044209509361482956,
           0.008653858363151095,
           -0.026665677985416577,
           -0.060690608986011814,
           -0.09234546620178369,
           -0.12058300781296416,
           -0.14443111863131364,
           -0.16303912773542587,
           -0.17572115154133375,
           -0.18199408570471504,
           -0.18160802037610754,
           -0.17456713788189782,
           -0.16113955966514656,
           -0.14185512230149663,
           -0.11749065565570795,
           -0.08904297911487404
          ],
          [
           -0.0345063152690242,
           -0.06655906279410359,
           -0.09668883252747353,
           -0.12368964794720452,
           -0.1464987033293174,
           -0.1642373823959323,
           -0.17624240938958516,
           -0.18208605074549258,
           -0.18158488243001691,
           -0.1747972342928682,
           -0.16200998595397612,
           -0.1437158894806465,
           -0.12058300781296416,
           -0.09341816596346665,
           -0.0631265026963309,
           -0.03066927919323432,
           0.0029779491154211806,
           0.03686485131708162,
           0.07010183827093616,
           0.1018902143955224,
           0.13154597877649798,
           0.15851669454452746,
           0.18239124981424537,
           0.20290271423033404,
           0.21992483146863692,
           0.23346296309158113,
           0.24364050109720906,
           0.2506818889186662,
           0.254893432701845,
           0.2566430509401283,
           0.2563400102730029,
           0.25441554164532254,
           0.25130504004127213,
           0.24743234013685533,
           0.2431963471432226,
           0.23896010343988033,
           0.23504220166614895,
           0.2317103248693539,
           0.22917661128094333,
           0.22759450814784551,
           0.2270567942100705,
           0.22759450814784551,
           0.22917661128094333,
           0.2317103248693539,
           0.23504220166614895,
           0.23896010343988033,
           0.2431963471432226,
           0.24743234013685533,
           0.25130504004127213,
           0.25441554164532254,
           0.2563400102730029,
           0.2566430509401283,
           0.254893432701845,
           0.2506818889186662,
           0.24364050109720906,
           0.23346296309158113,
           0.21992483146863692,
           0.20290271423033404,
           0.18239124981424537,
           0.15851669454452746,
           0.13154597877649798,
           0.1018902143955224,
           0.07010183827093616,
           0.03686485131708162,
           0.0029779491154211806,
           -0.03066927919323432,
           -0.0631265026963309,
           -0.09341816596346665,
           -0.12058300781296416,
           -0.1437158894806465,
           -0.16200998595397612,
           -0.1747972342928682,
           -0.18158488243001691,
           -0.18208605074549258,
           -0.17624240938958516,
           -0.1642373823959323,
           -0.1464987033293174,
           -0.12368964794720452,
           -0.09668883252747353,
           -0.06655906279410359
          ],
          [
           -0.01061150357619211,
           -0.042655257000177006,
           -0.07374973820785838,
           -0.10268778525178764,
           -0.1283676319466868,
           -0.14983554931501694,
           -0.16632015713858264,
           -0.17725715646546372,
           -0.18230376872794093,
           -0.18134271385500067,
           -0.17447608825271163,
           -0.16200998595397612,
           -0.14443111863131364,
           -0.12237701362727325,
           -0.09660159075517502,
           -0.06793803188546253,
           -0.03726086233570953,
           -0.005449066140771361,
           0.026648129724923395,
           0.058241427706856384,
           0.08862652853638416,
           0.11720338291232232,
           0.14348926836260514,
           0.16712567793535366,
           0.18787932061729182,
           0.20563779959612533,
           0.22040074178662336,
           0.23226729318028777,
           0.24142096714711753,
           0.24811283911536614,
           0.25264402764959015,
           0.255348298963932,
           0.256575492104657,
           0.2566762997375786,
           0.2559887694405144,
           0.2548267267047997,
           0.25347017586536014,
           0.252157618714697,
           0.25108014921898075,
           0.25037713957121355,
           0.25013332713993036,
           0.25037713957121355,
           0.25108014921898075,
           0.252157618714697,
           0.25347017586536014,
           0.2548267267047997,
           0.2559887694405144,
           0.2566762997375786,
           0.256575492104657,
           0.255348298963932,
           0.25264402764959015,
           0.24811283911536614,
           0.24142096714711753,
           0.23226729318028777,
           0.22040074178662336,
           0.20563779959612533,
           0.18787932061729182,
           0.16712567793535366,
           0.14348926836260514,
           0.11720338291232232,
           0.08862652853638416,
           0.058241427706856384,
           0.026648129724923395,
           -0.005449066140771361,
           -0.03726086233570953,
           -0.06793803188546253,
           -0.09660159075517502,
           -0.12237701362727325,
           -0.14443111863131364,
           -0.16200998595397612,
           -0.17447608825271163,
           -0.18134271385500067,
           -0.18230376872794093,
           -0.17725715646546372,
           -0.16632015713858264,
           -0.14983554931501694,
           -0.1283676319466868,
           -0.10268778525178764,
           -0.07374973820785838,
           -0.042655257000177006
          ],
          [
           0.013454008098850966,
           -0.017859822184363938,
           -0.04916880920228074,
           -0.07929019757294747,
           -0.10711012813756442,
           -0.1316269478872783,
           -0.15198770280837584,
           -0.16751643729146143,
           -0.17773339606034183,
           -0.18236471957976835,
           -0.18134271385500067,
           -0.1747972342928682,
           -0.16303912773542587,
           -0.14653700801271363,
           -0.1258888846262905,
           -0.10179031338845618,
           -0.0750007897964791,
           -0.046310064114579955,
           -0.016505930263581485,
           0.013655158230898757,
           0.043473546354522816,
           0.07232710218505171,
           0.09968670899986165,
           0.12512633286074154,
           0.14832776112580212,
           0.16908036038891633,
           0.18727640924644018,
           0.20290271423033404,
           0.21602931256266372,
           0.22679610352037188,
           0.23539823538075702,
           0.2420710146043941,
           0.24707500803079696,
           0.2506818889186662,
           0.2531614457800734,
           0.25477004091850136,
           0.2557406839380664,
           0.2562747828163765,
           0.25653555744366946,
           0.2566430509401283,
           0.2566706526738519,
           0.2566430509401283,
           0.25653555744366946,
           0.2562747828163765,
           0.2557406839380664,
           0.25477004091850136,
           0.2531614457800734,
           0.2506818889186662,
           0.24707500803079696,
           0.2420710146043941,
           0.23539823538075702,
           0.22679610352037188,
           0.21602931256266372,
           0.20290271423033404,
           0.18727640924644018,
           0.16908036038891633,
           0.14832776112580212,
           0.12512633286074154,
           0.09968670899986165,
           0.07232710218505171,
           0.043473546354522816,
           0.013655158230898757,
           -0.016505930263581485,
           -0.046310064114579955,
           -0.0750007897964791,
           -0.10179031338845618,
           -0.1258888846262905,
           -0.14653700801271363,
           -0.16303912773542587,
           -0.1747972342928682,
           -0.18134271385500067,
           -0.18236471957976835,
           -0.17773339606034183,
           -0.16751643729146143,
           -0.15198770280837584,
           -0.1316269478872783,
           -0.10711012813756442,
           -0.07929019757294747,
           -0.04916880920228074,
           -0.017859822184363938
          ],
          [
           0.037104384846577534,
           0.007233082355737275,
           -0.023527608249201665,
           -0.054043516875550875,
           -0.08321475815193494,
           -0.11001880232017779,
           -0.13354819579908725,
           -0.15304146672549196,
           -0.167906160972842,
           -0.17773339606034183,
           -0.18230376872794093,
           -0.18158488243001691,
           -0.17572115154133375,
           -0.16501687105976595,
           -0.1499137997580331,
           -0.13096468174943518,
           -0.10880422217787396,
           -0.08411903827788304,
           -0.05761803324395176,
           -0.030004497243790427,
           -0.001951040868825416,
           0.025921773001301992,
           0.05306249567952219,
           0.07900122348247962,
           0.10335731863015635,
           0.1258425822940911,
           0.14626024334832619,
           0.16450028494360933,
           0.18053174205108255,
           0.1943926655354523,
           0.2061784643801796,
           0.21602931256266372,
           0.22411724822563847,
           0.23063350923189954,
           0.23577655069724138,
           0.23974108638511749,
           0.242708395806646,
           0.24483804991090946,
           0.24626113579560338,
           0.24707500803079696,
           0.24733956165584545,
           0.24707500803079696,
           0.24626113579560338,
           0.24483804991090946,
           0.242708395806646,
           0.23974108638511749,
           0.23577655069724138,
           0.23063350923189954,
           0.22411724822563847,
           0.21602931256266372,
           0.2061784643801796,
           0.1943926655354523,
           0.18053174205108255,
           0.16450028494360933,
           0.14626024334832619,
           0.1258425822940911,
           0.10335731863015635,
           0.07900122348247962,
           0.05306249567952219,
           0.025921773001301992,
           -0.001951040868825416,
           -0.030004497243790427,
           -0.05761803324395176,
           -0.08411903827788304,
           -0.10880422217787396,
           -0.13096468174943518,
           -0.1499137997580331,
           -0.16501687105976595,
           -0.17572115154133375,
           -0.18158488243001691,
           -0.18230376872794093,
           -0.17773339606034183,
           -0.167906160972842,
           -0.15304146672549196,
           -0.13354819579908725,
           -0.11001880232017779,
           -0.08321475815193494,
           -0.054043516875550875,
           -0.023527608249201665,
           0.007233082355737275
          ],
          [
           0.059725017515438364,
           0.03197958453286062,
           0.0025207381574719806,
           -0.027588123185645037,
           -0.0572857273340844,
           -0.08555491563889543,
           -0.1114606806231028,
           -0.13418273806183595,
           -0.15304146672549196,
           -0.16751643729146143,
           -0.17725715646546372,
           -0.18208605074549258,
           -0.18199408570471504,
           -0.17712974307464055,
           -0.16778234479339135,
           -0.1543609103022869,
           -0.13736985507049018,
           -0.11738288358628372,
           -0.0950164022704569,
           -0.07090368426500879,
           -0.045670869380806056,
           -0.019915691575644292,
           0.0058103924762656495,
           0.031016232090896562,
           0.05528095770522729,
           0.07825990831739421,
           0.09968670899986165,
           0.11937185506223688,
           0.13719827990417027,
           0.15311446345017118,
           0.16712567793535366,
           0.1792839709402817,
           0.18967745729212915,
           0.19841943861188654,
           0.20563779959612533,
           0.21146505144444128,
           0.21602931256266372,
           0.21944644111666822,
           0.22181346801290225,
           0.2232034254780841,
           0.22366162672468853,
           0.2232034254780841,
           0.22181346801290225,
           0.21944644111666822,
           0.21602931256266372,
           0.21146505144444128,
           0.20563779959612533,
           0.19841943861188654,
           0.18967745729212915,
           0.1792839709402817,
           0.16712567793535366,
           0.15311446345017118,
           0.13719827990417027,
           0.11937185506223688,
           0.09968670899986165,
           0.07825990831739421,
           0.05528095770522729,
           0.031016232090896562,
           0.0058103924762656495,
           -0.019915691575644292,
           -0.045670869380806056,
           -0.07090368426500879,
           -0.0950164022704569,
           -0.11738288358628372,
           -0.13736985507049018,
           -0.1543609103022869,
           -0.16778234479339135,
           -0.17712974307464055,
           -0.18199408570471504,
           -0.18208605074549258,
           -0.17725715646546372,
           -0.16751643729146143,
           -0.15304146672549196,
           -0.13418273806183595,
           -0.1114606806231028,
           -0.08555491563889543,
           -0.0572857273340844,
           -0.027588123185645037,
           0.0025207381574719806,
           0.03197958453286062
          ],
          [
           0.08069235790121831,
           0.05570574218106777,
           0.028270310898122826,
           -0.0006409754282528475,
           -0.03002807965783915,
           -0.05890402451081101,
           -0.08633239590937543,
           -0.1114606806231028,
           -0.13354819579908725,
           -0.15198770280837584,
           -0.16632015713858264,
           -0.17624240938958516,
           -0.18160802037610754,
           -0.18242166855756492,
           -0.1788278960809016,
           -0.17109514979541934,
           -0.15959621882048483,
           -0.14478624788034108,
           -0.1271795169340972,
           -0.10732612754693129,
           -0.0857896329957062,
           -0.0631265026963309,
           -0.039868134180728126,
           -0.016505930263581485,
           0.0065202421682302655,
           0.02883009042098063,
           0.05010748884225075,
           0.07010183827093616,
           0.08862652853638416,
           0.10555493165712146,
           0.12081441070397907,
           0.13437885433763305,
           0.14626024334832619,
           0.15649972810645998,
           0.16515865057394133,
           0.17230988766358785,
           0.17802983029511174,
           0.18239124981424537,
           0.18545724476618586,
           0.18727640924644018,
           0.18787932061729182,
           0.18727640924644018,
           0.18545724476618586,
           0.18239124981424537,
           0.17802983029511174,
           0.17230988766358785,
           0.16515865057394133,
           0.15649972810645998,
           0.14626024334832619,
           0.13437885433763305,
           0.12081441070397907,
           0.10555493165712146,
           0.08862652853638416,
           0.07010183827093616,
           0.05010748884225075,
           0.02883009042098063,
           0.0065202421682302655,
           -0.016505930263581485,
           -0.039868134180728126,
           -0.0631265026963309,
           -0.0857896329957062,
           -0.10732612754693129,
           -0.1271795169340972,
           -0.14478624788034108,
           -0.15959621882048483,
           -0.17109514979541934,
           -0.1788278960809016,
           -0.18242166855756492,
           -0.18160802037610754,
           -0.17624240938958516,
           -0.16632015713858264,
           -0.15198770280837584,
           -0.13354819579908725,
           -0.1114606806231028,
           -0.08633239590937543,
           -0.05890402451081101,
           -0.03002807965783915,
           -0.0006409754282528475,
           0.028270310898122826,
           0.05570574218106777
          ],
          [
           0.0993958462307399,
           0.07773008237271903,
           0.05298490441364873,
           0.026026147564044762,
           -0.0022274559793407315,
           -0.030841885736018544,
           -0.05890402451081101,
           -0.08555491563889543,
           -0.11001880232017779,
           -0.1316269478872783,
           -0.14983554931501694,
           -0.1642373823959323,
           -0.17456713788189782,
           -0.1807007071005138,
           -0.18264893898060253,
           -0.18054660691367944,
           -0.17463748569481502,
           -0.16525654180237792,
           -0.1528102839666787,
           -0.1377563081818195,
           -0.12058300781296416,
           -0.10179031338845618,
           -0.08187218787401292,
           -0.061301442485772274,
           -0.040517266401149735,
           -0.019915691575644292,
           0.0001569493213448689,
           0.019407660252202565,
           0.03759772656874239,
           0.054541276561040686,
           0.07010183827093616,
           0.08418731130237875,
           0.09674378883254962,
           0.10774865812501504,
           0.11720338291232232,
           0.12512633286074154,
           0.13154597877649798,
           0.13649472168344115,
           0.14000357308347133,
           0.14209785531573388,
           0.14279404657238684,
           0.14209785531573388,
           0.14000357308347133,
           0.13649472168344115,
           0.13154597877649798,
           0.12512633286074154,
           0.11720338291232232,
           0.10774865812501504,
           0.09674378883254962,
           0.08418731130237875,
           0.07010183827093616,
           0.054541276561040686,
           0.03759772656874239,
           0.019407660252202565,
           0.0001569493213448689,
           -0.019915691575644292,
           -0.040517266401149735,
           -0.061301442485772274,
           -0.08187218787401292,
           -0.10179031338845618,
           -0.12058300781296416,
           -0.1377563081818195,
           -0.1528102839666787,
           -0.16525654180237792,
           -0.17463748569481502,
           -0.18054660691367944,
           -0.18264893898060253,
           -0.1807007071005138,
           -0.17456713788189782,
           -0.1642373823959323,
           -0.14983554931501694,
           -0.1316269478872783,
           -0.11001880232017779,
           -0.08555491563889543,
           -0.05890402451081101,
           -0.030841885736018544,
           -0.0022274559793407315,
           0.026026147564044762,
           0.05298490441364873,
           0.07773008237271903
          ],
          [
           0.11526115097856117,
           0.09738828403656238,
           0.0759235678781371,
           0.05161237775613617,
           0.025275083284098894,
           -0.0022274559793407315,
           -0.03002807965783915,
           -0.0572857273340844,
           -0.08321475815193494,
           -0.10711012813756442,
           -0.1283676319466868,
           -0.1464987033293174,
           -0.16113955966514656,
           -0.17205475511311313,
           -0.17913546063850083,
           -0.18239300622958532,
           -0.18194839266053625,
           -0.17801860199902664,
           -0.17090060569317098,
           -0.1609539875623888,
           -0.14858307017251748,
           -0.13421936300715656,
           -0.11830504740258321,
           -0.10127808535368477,
           -0.08355939645450051,
           -0.06554239869174844,
           -0.04758506314163741,
           -0.030004497243790427,
           -0.013073952151520388,
           0.0029779491154211806,
           0.017966041941118966,
           0.031745840459068614,
           0.044209509361482956,
           0.05528095770522729,
           0.0649104168254659,
           0.07306884206017318,
           0.07974244535617742,
           0.08492762656935865,
           0.08862652853638416,
           0.09084339726921295,
           0.09158188560927924,
           0.09084339726921295,
           0.08862652853638416,
           0.08492762656935865,
           0.07974244535617742,
           0.07306884206017318,
           0.0649104168254659,
           0.05528095770522729,
           0.044209509361482956,
           0.031745840459068614,
           0.017966041941118966,
           0.0029779491154211806,
           -0.013073952151520388,
           -0.030004497243790427,
           -0.04758506314163741,
           -0.06554239869174844,
           -0.08355939645450051,
           -0.10127808535368477,
           -0.11830504740258321,
           -0.13421936300715656,
           -0.14858307017251748,
           -0.1609539875623888,
           -0.17090060569317098,
           -0.17801860199902664,
           -0.18194839266053625,
           -0.18239300622958532,
           -0.17913546063850083,
           -0.17205475511311313,
           -0.16113955966514656,
           -0.1464987033293174,
           -0.1283676319466868,
           -0.10711012813756442,
           -0.08321475815193494,
           -0.0572857273340844,
           -0.03002807965783915,
           -0.0022274559793407315,
           0.025275083284098894,
           0.05161237775613617,
           0.0759235678781371,
           0.09738828403656238
          ],
          [
           0.12777380562398274,
           0.11405907878471819,
           0.09636827159298987,
           0.07531659368730659,
           0.05161237775613617,
           0.026026147564044762,
           -0.0006409754282528475,
           -0.027588123185645037,
           -0.054043516875550875,
           -0.07929019757294747,
           -0.10268778525178764,
           -0.12368964794720452,
           -0.14185512230149663,
           -0.15685668268767797,
           -0.16848219583369567,
           -0.17663261032673944,
           -0.18131560690315682,
           -0.1826358700412797,
           -0.18078273088932142,
           -0.1760159755489718,
           -0.16865061331126227,
           -0.15904136091487175,
           -0.14756752732225356,
           -0.13461888616197776,
           -0.12058300781296416,
           -0.10583439818051152,
           -0.0907256642328181,
           -0.07558080422426758,
           -0.060690608986011814,
           -0.046310064114579955,
           -0.032657564269347995,
           -0.019915691575644292,
           -0.00823327044894154,
           0.0022716100207446164,
           0.011507919583092052,
           0.019407660252202565,
           0.025921773001301992,
           0.031016232090896562,
           0.03466854669458865,
           0.03686485131708162,
           0.03759772656874239,
           0.03686485131708162,
           0.03466854669458865,
           0.031016232090896562,
           0.025921773001301992,
           0.019407660252202565,
           0.011507919583092052,
           0.0022716100207446164,
           -0.00823327044894154,
           -0.019915691575644292,
           -0.032657564269347995,
           -0.046310064114579955,
           -0.060690608986011814,
           -0.07558080422426758,
           -0.0907256642328181,
           -0.10583439818051152,
           -0.12058300781296416,
           -0.13461888616197776,
           -0.14756752732225356,
           -0.15904136091487175,
           -0.16865061331126227,
           -0.1760159755489718,
           -0.18078273088932142,
           -0.1826358700412797,
           -0.18131560690315682,
           -0.17663261032673944,
           -0.16848219583369567,
           -0.15685668268767797,
           -0.14185512230149663,
           -0.12368964794720452,
           -0.10268778525178764,
           -0.07929019757294747,
           -0.054043516875550875,
           -0.027588123185645037,
           -0.0006409754282528475,
           0.026026147564044762,
           0.05161237775613617,
           0.07531659368730659,
           0.09636827159298987,
           0.11405907878471819
          ],
          [
           0.13650222610828716,
           0.12719030582037316,
           0.1136526088802527,
           0.09636827159298987,
           0.0759235678781371,
           0.05298490441364873,
           0.028270310898122826,
           0.0025207381574719806,
           -0.023527608249201665,
           -0.04916880920228074,
           -0.07374973820785838,
           -0.09668883252747353,
           -0.11749065565570795,
           -0.13575600794040762,
           -0.1511875643863488,
           -0.163591222139663,
           -0.17287351607260817,
           -0.17903560277058095,
           -0.1821644169794075,
           -0.18242166855756492,
           -0.1800313728705813,
           -0.1752665961050691,
           -0.16843605361995675,
           -0.15987112992755653,
           -0.1499137997580331,
           -0.13890582780165694,
           -0.1271795169340972,
           -0.11505016730310495,
           -0.10281030706494565,
           -0.0907256642328181,
           -0.07903277128303789,
           -0.06793803188546253,
           -0.05761803324395176,
           -0.04822085787410071,
           -0.039868134180728126,
           -0.032657564269347995,
           -0.026665677985416577,
           -0.021950582012676394,
           -0.01855449981019833,
           -0.016505930263581485,
           -0.015821288518275644,
           -0.016505930263581485,
           -0.01855449981019833,
           -0.021950582012676394,
           -0.026665677985416577,
           -0.032657564269347995,
           -0.039868134180728126,
           -0.04822085787410071,
           -0.05761803324395176,
           -0.06793803188546253,
           -0.07903277128303789,
           -0.0907256642328181,
           -0.10281030706494565,
           -0.11505016730310495,
           -0.1271795169340972,
           -0.13890582780165694,
           -0.1499137997580331,
           -0.15987112992755653,
           -0.16843605361995675,
           -0.1752665961050691,
           -0.1800313728705813,
           -0.18242166855756492,
           -0.1821644169794075,
           -0.17903560277058095,
           -0.17287351607260817,
           -0.163591222139663,
           -0.1511875643863488,
           -0.13575600794040762,
           -0.11749065565570795,
           -0.09668883252747353,
           -0.07374973820785838,
           -0.04916880920228074,
           -0.023527608249201665,
           0.0025207381574719806,
           0.028270310898122826,
           0.05298490441364873,
           0.0759235678781371,
           0.09636827159298987,
           0.1136526088802527,
           0.12719030582037316
          ],
          [
           0.14111903500315878,
           0.13632396086944565,
           0.12719030582037316,
           0.11405907878471819,
           0.09738828403656238,
           0.07773008237271903,
           0.05570574218106777,
           0.03197958453286062,
           0.007233082355737275,
           -0.017859822184363938,
           -0.042655257000177006,
           -0.06655906279410359,
           -0.08904297911487404,
           -0.10965701691843574,
           -0.12803786284735597,
           -0.14391335124448024,
           -0.15710321083861073,
           -0.16751643729146143,
           -0.1751457556394694,
           -0.1800597155006458,
           -0.18239300622958532,
           -0.18233559039097344,
           -0.18012123502583363,
           -0.1760159755489718,
           -0.17030698199702413,
           -0.16329221750830802,
           -0.15527119023634722,
           -0.14653700801271363,
           -0.13736985507049018,
           -0.12803192632998142,
           -0.11876378051842666,
           -0.10978201113265723,
           -0.10127808535368477,
           -0.09341816596346665,
           -0.08634370978474622,
           -0.08017262722723162,
           -0.0750007897964791,
           -0.07090368426500879,
           -0.06793803188546253,
           -0.06614321685638791,
           -0.06554239869174844,
           -0.06614321685638791,
           -0.06793803188546253,
           -0.07090368426500879,
           -0.0750007897964791,
           -0.08017262722723162,
           -0.08634370978474622,
           -0.09341816596346665,
           -0.10127808535368477,
           -0.10978201113265723,
           -0.11876378051842666,
           -0.12803192632998142,
           -0.13736985507049018,
           -0.14653700801271363,
           -0.15527119023634722,
           -0.16329221750830802,
           -0.17030698199702413,
           -0.1760159755489718,
           -0.18012123502583363,
           -0.18233559039097344,
           -0.18239300622958532,
           -0.1800597155006458,
           -0.1751457556394694,
           -0.16751643729146143,
           -0.15710321083861073,
           -0.14391335124448024,
           -0.12803786284735597,
           -0.10965701691843574,
           -0.08904297911487404,
           -0.06655906279410359,
           -0.042655257000177006,
           -0.017859822184363938,
           0.007233082355737275,
           0.03197958453286062,
           0.05570574218106777,
           0.07773008237271903,
           0.09738828403656238,
           0.11405907878471819,
           0.12719030582037316,
           0.13632396086944565
          ]
         ]
        }
       ],
       "layout": {
        "legend": {
         "bgcolor": "#F5F6F9",
         "font": {
          "color": "#4D5663"
         }
        },
        "paper_bgcolor": "#F5F6F9",
        "plot_bgcolor": "#F5F6F9",
        "template": {
         "data": {
          "bar": [
           {
            "error_x": {
             "color": "#2a3f5f"
            },
            "error_y": {
             "color": "#2a3f5f"
            },
            "marker": {
             "line": {
              "color": "#E5ECF6",
              "width": 0.5
             },
             "pattern": {
              "fillmode": "overlay",
              "size": 10,
              "solidity": 0.2
             }
            },
            "type": "bar"
           }
          ],
          "barpolar": [
           {
            "marker": {
             "line": {
              "color": "#E5ECF6",
              "width": 0.5
             },
             "pattern": {
              "fillmode": "overlay",
              "size": 10,
              "solidity": 0.2
             }
            },
            "type": "barpolar"
           }
          ],
          "carpet": [
           {
            "aaxis": {
             "endlinecolor": "#2a3f5f",
             "gridcolor": "white",
             "linecolor": "white",
             "minorgridcolor": "white",
             "startlinecolor": "#2a3f5f"
            },
            "baxis": {
             "endlinecolor": "#2a3f5f",
             "gridcolor": "white",
             "linecolor": "white",
             "minorgridcolor": "white",
             "startlinecolor": "#2a3f5f"
            },
            "type": "carpet"
           }
          ],
          "choropleth": [
           {
            "colorbar": {
             "outlinewidth": 0,
             "ticks": ""
            },
            "type": "choropleth"
           }
          ],
          "contour": [
           {
            "colorbar": {
             "outlinewidth": 0,
             "ticks": ""
            },
            "colorscale": [
             [
              0,
              "#0d0887"
             ],
             [
              0.1111111111111111,
              "#46039f"
             ],
             [
              0.2222222222222222,
              "#7201a8"
             ],
             [
              0.3333333333333333,
              "#9c179e"
             ],
             [
              0.4444444444444444,
              "#bd3786"
             ],
             [
              0.5555555555555556,
              "#d8576b"
             ],
             [
              0.6666666666666666,
              "#ed7953"
             ],
             [
              0.7777777777777778,
              "#fb9f3a"
             ],
             [
              0.8888888888888888,
              "#fdca26"
             ],
             [
              1,
              "#f0f921"
             ]
            ],
            "type": "contour"
           }
          ],
          "contourcarpet": [
           {
            "colorbar": {
             "outlinewidth": 0,
             "ticks": ""
            },
            "type": "contourcarpet"
           }
          ],
          "heatmap": [
           {
            "colorbar": {
             "outlinewidth": 0,
             "ticks": ""
            },
            "colorscale": [
             [
              0,
              "#0d0887"
             ],
             [
              0.1111111111111111,
              "#46039f"
             ],
             [
              0.2222222222222222,
              "#7201a8"
             ],
             [
              0.3333333333333333,
              "#9c179e"
             ],
             [
              0.4444444444444444,
              "#bd3786"
             ],
             [
              0.5555555555555556,
              "#d8576b"
             ],
             [
              0.6666666666666666,
              "#ed7953"
             ],
             [
              0.7777777777777778,
              "#fb9f3a"
             ],
             [
              0.8888888888888888,
              "#fdca26"
             ],
             [
              1,
              "#f0f921"
             ]
            ],
            "type": "heatmap"
           }
          ],
          "heatmapgl": [
           {
            "colorbar": {
             "outlinewidth": 0,
             "ticks": ""
            },
            "colorscale": [
             [
              0,
              "#0d0887"
             ],
             [
              0.1111111111111111,
              "#46039f"
             ],
             [
              0.2222222222222222,
              "#7201a8"
             ],
             [
              0.3333333333333333,
              "#9c179e"
             ],
             [
              0.4444444444444444,
              "#bd3786"
             ],
             [
              0.5555555555555556,
              "#d8576b"
             ],
             [
              0.6666666666666666,
              "#ed7953"
             ],
             [
              0.7777777777777778,
              "#fb9f3a"
             ],
             [
              0.8888888888888888,
              "#fdca26"
             ],
             [
              1,
              "#f0f921"
             ]
            ],
            "type": "heatmapgl"
           }
          ],
          "histogram": [
           {
            "marker": {
             "pattern": {
              "fillmode": "overlay",
              "size": 10,
              "solidity": 0.2
             }
            },
            "type": "histogram"
           }
          ],
          "histogram2d": [
           {
            "colorbar": {
             "outlinewidth": 0,
             "ticks": ""
            },
            "colorscale": [
             [
              0,
              "#0d0887"
             ],
             [
              0.1111111111111111,
              "#46039f"
             ],
             [
              0.2222222222222222,
              "#7201a8"
             ],
             [
              0.3333333333333333,
              "#9c179e"
             ],
             [
              0.4444444444444444,
              "#bd3786"
             ],
             [
              0.5555555555555556,
              "#d8576b"
             ],
             [
              0.6666666666666666,
              "#ed7953"
             ],
             [
              0.7777777777777778,
              "#fb9f3a"
             ],
             [
              0.8888888888888888,
              "#fdca26"
             ],
             [
              1,
              "#f0f921"
             ]
            ],
            "type": "histogram2d"
           }
          ],
          "histogram2dcontour": [
           {
            "colorbar": {
             "outlinewidth": 0,
             "ticks": ""
            },
            "colorscale": [
             [
              0,
              "#0d0887"
             ],
             [
              0.1111111111111111,
              "#46039f"
             ],
             [
              0.2222222222222222,
              "#7201a8"
             ],
             [
              0.3333333333333333,
              "#9c179e"
             ],
             [
              0.4444444444444444,
              "#bd3786"
             ],
             [
              0.5555555555555556,
              "#d8576b"
             ],
             [
              0.6666666666666666,
              "#ed7953"
             ],
             [
              0.7777777777777778,
              "#fb9f3a"
             ],
             [
              0.8888888888888888,
              "#fdca26"
             ],
             [
              1,
              "#f0f921"
             ]
            ],
            "type": "histogram2dcontour"
           }
          ],
          "mesh3d": [
           {
            "colorbar": {
             "outlinewidth": 0,
             "ticks": ""
            },
            "type": "mesh3d"
           }
          ],
          "parcoords": [
           {
            "line": {
             "colorbar": {
              "outlinewidth": 0,
              "ticks": ""
             }
            },
            "type": "parcoords"
           }
          ],
          "pie": [
           {
            "automargin": true,
            "type": "pie"
           }
          ],
          "scatter": [
           {
            "marker": {
             "colorbar": {
              "outlinewidth": 0,
              "ticks": ""
             }
            },
            "type": "scatter"
           }
          ],
          "scatter3d": [
           {
            "line": {
             "colorbar": {
              "outlinewidth": 0,
              "ticks": ""
             }
            },
            "marker": {
             "colorbar": {
              "outlinewidth": 0,
              "ticks": ""
             }
            },
            "type": "scatter3d"
           }
          ],
          "scattercarpet": [
           {
            "marker": {
             "colorbar": {
              "outlinewidth": 0,
              "ticks": ""
             }
            },
            "type": "scattercarpet"
           }
          ],
          "scattergeo": [
           {
            "marker": {
             "colorbar": {
              "outlinewidth": 0,
              "ticks": ""
             }
            },
            "type": "scattergeo"
           }
          ],
          "scattergl": [
           {
            "marker": {
             "colorbar": {
              "outlinewidth": 0,
              "ticks": ""
             }
            },
            "type": "scattergl"
           }
          ],
          "scattermapbox": [
           {
            "marker": {
             "colorbar": {
              "outlinewidth": 0,
              "ticks": ""
             }
            },
            "type": "scattermapbox"
           }
          ],
          "scatterpolar": [
           {
            "marker": {
             "colorbar": {
              "outlinewidth": 0,
              "ticks": ""
             }
            },
            "type": "scatterpolar"
           }
          ],
          "scatterpolargl": [
           {
            "marker": {
             "colorbar": {
              "outlinewidth": 0,
              "ticks": ""
             }
            },
            "type": "scatterpolargl"
           }
          ],
          "scatterternary": [
           {
            "marker": {
             "colorbar": {
              "outlinewidth": 0,
              "ticks": ""
             }
            },
            "type": "scatterternary"
           }
          ],
          "surface": [
           {
            "colorbar": {
             "outlinewidth": 0,
             "ticks": ""
            },
            "colorscale": [
             [
              0,
              "#0d0887"
             ],
             [
              0.1111111111111111,
              "#46039f"
             ],
             [
              0.2222222222222222,
              "#7201a8"
             ],
             [
              0.3333333333333333,
              "#9c179e"
             ],
             [
              0.4444444444444444,
              "#bd3786"
             ],
             [
              0.5555555555555556,
              "#d8576b"
             ],
             [
              0.6666666666666666,
              "#ed7953"
             ],
             [
              0.7777777777777778,
              "#fb9f3a"
             ],
             [
              0.8888888888888888,
              "#fdca26"
             ],
             [
              1,
              "#f0f921"
             ]
            ],
            "type": "surface"
           }
          ],
          "table": [
           {
            "cells": {
             "fill": {
              "color": "#EBF0F8"
             },
             "line": {
              "color": "white"
             }
            },
            "header": {
             "fill": {
              "color": "#C8D4E3"
             },
             "line": {
              "color": "white"
             }
            },
            "type": "table"
           }
          ]
         },
         "layout": {
          "annotationdefaults": {
           "arrowcolor": "#2a3f5f",
           "arrowhead": 0,
           "arrowwidth": 1
          },
          "autotypenumbers": "strict",
          "coloraxis": {
           "colorbar": {
            "outlinewidth": 0,
            "ticks": ""
           }
          },
          "colorscale": {
           "diverging": [
            [
             0,
             "#8e0152"
            ],
            [
             0.1,
             "#c51b7d"
            ],
            [
             0.2,
             "#de77ae"
            ],
            [
             0.3,
             "#f1b6da"
            ],
            [
             0.4,
             "#fde0ef"
            ],
            [
             0.5,
             "#f7f7f7"
            ],
            [
             0.6,
             "#e6f5d0"
            ],
            [
             0.7,
             "#b8e186"
            ],
            [
             0.8,
             "#7fbc41"
            ],
            [
             0.9,
             "#4d9221"
            ],
            [
             1,
             "#276419"
            ]
           ],
           "sequential": [
            [
             0,
             "#0d0887"
            ],
            [
             0.1111111111111111,
             "#46039f"
            ],
            [
             0.2222222222222222,
             "#7201a8"
            ],
            [
             0.3333333333333333,
             "#9c179e"
            ],
            [
             0.4444444444444444,
             "#bd3786"
            ],
            [
             0.5555555555555556,
             "#d8576b"
            ],
            [
             0.6666666666666666,
             "#ed7953"
            ],
            [
             0.7777777777777778,
             "#fb9f3a"
            ],
            [
             0.8888888888888888,
             "#fdca26"
            ],
            [
             1,
             "#f0f921"
            ]
           ],
           "sequentialminus": [
            [
             0,
             "#0d0887"
            ],
            [
             0.1111111111111111,
             "#46039f"
            ],
            [
             0.2222222222222222,
             "#7201a8"
            ],
            [
             0.3333333333333333,
             "#9c179e"
            ],
            [
             0.4444444444444444,
             "#bd3786"
            ],
            [
             0.5555555555555556,
             "#d8576b"
            ],
            [
             0.6666666666666666,
             "#ed7953"
            ],
            [
             0.7777777777777778,
             "#fb9f3a"
            ],
            [
             0.8888888888888888,
             "#fdca26"
            ],
            [
             1,
             "#f0f921"
            ]
           ]
          },
          "colorway": [
           "#636efa",
           "#EF553B",
           "#00cc96",
           "#ab63fa",
           "#FFA15A",
           "#19d3f3",
           "#FF6692",
           "#B6E880",
           "#FF97FF",
           "#FECB52"
          ],
          "font": {
           "color": "#2a3f5f"
          },
          "geo": {
           "bgcolor": "white",
           "lakecolor": "white",
           "landcolor": "#E5ECF6",
           "showlakes": true,
           "showland": true,
           "subunitcolor": "white"
          },
          "hoverlabel": {
           "align": "left"
          },
          "hovermode": "closest",
          "mapbox": {
           "style": "light"
          },
          "paper_bgcolor": "white",
          "plot_bgcolor": "#E5ECF6",
          "polar": {
           "angularaxis": {
            "gridcolor": "white",
            "linecolor": "white",
            "ticks": ""
           },
           "bgcolor": "#E5ECF6",
           "radialaxis": {
            "gridcolor": "white",
            "linecolor": "white",
            "ticks": ""
           }
          },
          "scene": {
           "xaxis": {
            "backgroundcolor": "#E5ECF6",
            "gridcolor": "white",
            "gridwidth": 2,
            "linecolor": "white",
            "showbackground": true,
            "ticks": "",
            "zerolinecolor": "white"
           },
           "yaxis": {
            "backgroundcolor": "#E5ECF6",
            "gridcolor": "white",
            "gridwidth": 2,
            "linecolor": "white",
            "showbackground": true,
            "ticks": "",
            "zerolinecolor": "white"
           },
           "zaxis": {
            "backgroundcolor": "#E5ECF6",
            "gridcolor": "white",
            "gridwidth": 2,
            "linecolor": "white",
            "showbackground": true,
            "ticks": "",
            "zerolinecolor": "white"
           }
          },
          "shapedefaults": {
           "line": {
            "color": "#2a3f5f"
           }
          },
          "ternary": {
           "aaxis": {
            "gridcolor": "white",
            "linecolor": "white",
            "ticks": ""
           },
           "baxis": {
            "gridcolor": "white",
            "linecolor": "white",
            "ticks": ""
           },
           "bgcolor": "#E5ECF6",
           "caxis": {
            "gridcolor": "white",
            "linecolor": "white",
            "ticks": ""
           }
          },
          "title": {
           "x": 0.05
          },
          "xaxis": {
           "automargin": true,
           "gridcolor": "white",
           "linecolor": "white",
           "ticks": "",
           "title": {
            "standoff": 15
           },
           "zerolinecolor": "white",
           "zerolinewidth": 2
          },
          "yaxis": {
           "automargin": true,
           "gridcolor": "white",
           "linecolor": "white",
           "ticks": "",
           "title": {
            "standoff": 15
           },
           "zerolinecolor": "white",
           "zerolinewidth": 2
          }
         }
        },
        "title": {
         "font": {
          "color": "#4D5663"
         }
        },
        "xaxis": {
         "gridcolor": "#E1E5ED",
         "showgrid": true,
         "tickfont": {
          "color": "#4D5663"
         },
         "title": {
          "font": {
           "color": "#4D5663"
          },
          "text": ""
         },
         "zerolinecolor": "#E1E5ED"
        },
        "yaxis": {
         "gridcolor": "#E1E5ED",
         "showgrid": true,
         "tickfont": {
          "color": "#4D5663"
         },
         "title": {
          "font": {
           "color": "#4D5663"
          },
          "text": ""
         },
         "zerolinecolor": "#E1E5ED"
        }
       }
      },
      "text/html": [
       "<div>                            <div id=\"f8d8c22c-e8c9-4b2c-97c4-13bea21a96c9\" class=\"plotly-graph-div\" style=\"height:525px; width:100%;\"></div>            <script type=\"text/javascript\">                require([\"plotly\"], function(Plotly) {                    window.PLOTLYENV=window.PLOTLYENV || {};\n",
       "                    window.PLOTLYENV.BASE_URL='https://plot.ly';                                    if (document.getElementById(\"f8d8c22c-e8c9-4b2c-97c4-13bea21a96c9\")) {                    Plotly.newPlot(                        \"f8d8c22c-e8c9-4b2c-97c4-13bea21a96c9\",                        [{\"colorscale\":[[0.0,\"rgb(255, 153, 51)\"],[0.1111111111111111,\"rgb(55, 128, 191)\"],[0.2222222222222222,\"rgb(50, 171, 96)\"],[0.3333333333333333,\"rgb(128, 0, 128)\"],[0.4444444444444444,\"rgb(219, 64, 82)\"],[0.5555555555555556,\"rgb(0, 128, 128)\"],[0.6666666666666666,\"rgb(255, 255, 51)\"],[0.7777777777777778,\"rgb(128, 128, 0)\"],[0.8888888888888888,\"rgb(251, 128, 114)\"],[1.0,\"rgb(128, 177, 211)\"]],\"x\":[-10.0,-9.75,-9.5,-9.25,-9.0,-8.75,-8.5,-8.25,-8.0,-7.75,-7.5,-7.25,-7.0,-6.75,-6.5,-6.25,-6.0,-5.75,-5.5,-5.25,-5.0,-4.75,-4.5,-4.25,-4.0,-3.75,-3.5,-3.25,-3.0,-2.75,-2.5,-2.25,-2.0,-1.75,-1.5,-1.25,-1.0,-0.75,-0.5,-0.25,0.0,0.25,0.5,0.75,1.0,1.25,1.5,1.75,2.0,2.25,2.5,2.75,3.0,3.25,3.5,3.75,4.0,4.25,4.5,4.75,5.0,5.25,5.5,5.75,6.0,6.25,6.5,6.75,7.0,7.25,7.5,7.75,8.0,8.25,8.5,8.75,9.0,9.25,9.5,9.75],\"y\":[-10.0,-9.75,-9.5,-9.25,-9.0,-8.75,-8.5,-8.25,-8.0,-7.75,-7.5,-7.25,-7.0,-6.75,-6.5,-6.25,-6.0,-5.75,-5.5,-5.25,-5.0,-4.75,-4.5,-4.25,-4.0,-3.75,-3.5,-3.25,-3.0,-2.75,-2.5,-2.25,-2.0,-1.75,-1.5,-1.25,-1.0,-0.75,-0.5,-0.25,0.0,0.25,0.5,0.75,1.0,1.25,1.5,1.75,2.0,2.25,2.5,2.75,3.0,3.25,3.5,3.75,4.0,4.25,4.5,4.75,5.0,5.25,5.5,5.75,6.0,6.25,6.5,6.75,7.0,7.25,7.5,7.75,8.0,8.25,8.5,8.75,9.0,9.25,9.5,9.75],\"z\":[[0.14141961054935853,0.14111903500315878,0.13650222610828716,0.12777380562398274,0.11526115097856117,0.0993958462307399,0.08069235790121831,0.059725017515438364,0.037104384846577534,0.013454008098850966,-0.01061150357619211,-0.0345063152690242,-0.05769048962428924,-0.07968395387291566,-0.10007704610444179,-0.11853755153953284,-0.13481430178982187,-0.1487375524385824,-0.16021647158282734,-0.16923416092386775,-0.17584069010379264,-0.1801446545297837,-0.18230376872794093,-0.18251498442862385,-0.18100457917857166,-0.17801860199902664,-0.1738139924448547,-0.16865061331126227,-0.16278435980926842,-0.15646143337355978,-0.1499137997580331,-0.14335579129849668,-0.13698176393514344,-0.13096468174943518,-0.1254554756233313,-0.12058300781296416,-0.1164544699167505,-0.1131560467581887,-0.1107536917561867,-0.10929387900894774,-0.10880422217787396,-0.10929387900894774,-0.1107536917561867,-0.1131560467581887,-0.1164544699167505,-0.12058300781296416,-0.1254554756233313,-0.13096468174943518,-0.13698176393514344,-0.14335579129849668,-0.1499137997580331,-0.15646143337355978,-0.16278435980926842,-0.16865061331126227,-0.1738139924448547,-0.17801860199902664,-0.18100457917857166,-0.18251498442862385,-0.18230376872794093,-0.1801446545297837,-0.17584069010379264,-0.16923416092386775,-0.16021647158282734,-0.1487375524385824,-0.13481430178982187,-0.11853755153953284,-0.10007704610444179,-0.07968395387291566,-0.05769048962428924,-0.0345063152690242,-0.01061150357619211,0.013454008098850966,0.037104384846577534,0.059725017515438364,0.08069235790121831,0.0993958462307399,0.11526115097856117,0.12777380562398274,0.13650222610828716,0.14111903500315878],[0.14111903500315878,0.13632396086944565,0.12719030582037316,0.11405907878471819,0.09738828403656238,0.07773008237271903,0.05570574218106777,0.03197958453286062,0.007233082355737275,-0.017859822184363938,-0.042655257000177006,-0.06655906279410359,-0.08904297911487404,-0.10965701691843574,-0.12803786284735597,-0.14391335124448024,-0.15710321083861073,-0.16751643729146143,-0.1751457556394694,-0.1800597155006458,-0.18239300622958532,-0.18233559039097344,-0.18012123502583363,-0.1760159755489718,-0.17030698199702413,-0.16329221750830802,-0.15527119023634722,-0.14653700801271363,-0.13736985507049018,-0.12803192632998142,-0.11876378051842666,-0.10978201113265723,-0.10127808535368477,-0.09341816596346665,-0.08634370978474622,-0.08017262722723162,-0.0750007897964791,-0.07090368426500879,-0.06793803188546253,-0.06614321685638791,-0.06554239869174844,-0.06614321685638791,-0.06793803188546253,-0.07090368426500879,-0.0750007897964791,-0.08017262722723162,-0.08634370978474622,-0.09341816596346665,-0.10127808535368477,-0.10978201113265723,-0.11876378051842666,-0.12803192632998142,-0.13736985507049018,-0.14653700801271363,-0.15527119023634722,-0.16329221750830802,-0.17030698199702413,-0.1760159755489718,-0.18012123502583363,-0.18233559039097344,-0.18239300622958532,-0.1800597155006458,-0.1751457556394694,-0.16751643729146143,-0.15710321083861073,-0.14391335124448024,-0.12803786284735597,-0.10965701691843574,-0.08904297911487404,-0.06655906279410359,-0.042655257000177006,-0.017859822184363938,0.007233082355737275,0.03197958453286062,0.05570574218106777,0.07773008237271903,0.09738828403656238,0.11405907878471819,0.12719030582037316,0.13632396086944565],[0.13650222610828716,0.12719030582037316,0.1136526088802527,0.09636827159298987,0.0759235678781371,0.05298490441364873,0.028270310898122826,0.0025207381574719806,-0.023527608249201665,-0.04916880920228074,-0.07374973820785838,-0.09668883252747353,-0.11749065565570795,-0.13575600794040762,-0.1511875643863488,-0.163591222139663,-0.17287351607260817,-0.17903560277058095,-0.1821644169794075,-0.18242166855756492,-0.1800313728705813,-0.1752665961050691,-0.16843605361995675,-0.15987112992755653,-0.1499137997580331,-0.13890582780165694,-0.1271795169340972,-0.11505016730310495,-0.10281030706494565,-0.0907256642328181,-0.07903277128303789,-0.06793803188546253,-0.05761803324395176,-0.04822085787410071,-0.039868134180728126,-0.032657564269347995,-0.026665677985416577,-0.021950582012676394,-0.01855449981019833,-0.016505930263581485,-0.015821288518275644,-0.016505930263581485,-0.01855449981019833,-0.021950582012676394,-0.026665677985416577,-0.032657564269347995,-0.039868134180728126,-0.04822085787410071,-0.05761803324395176,-0.06793803188546253,-0.07903277128303789,-0.0907256642328181,-0.10281030706494565,-0.11505016730310495,-0.1271795169340972,-0.13890582780165694,-0.1499137997580331,-0.15987112992755653,-0.16843605361995675,-0.1752665961050691,-0.1800313728705813,-0.18242166855756492,-0.1821644169794075,-0.17903560277058095,-0.17287351607260817,-0.163591222139663,-0.1511875643863488,-0.13575600794040762,-0.11749065565570795,-0.09668883252747353,-0.07374973820785838,-0.04916880920228074,-0.023527608249201665,0.0025207381574719806,0.028270310898122826,0.05298490441364873,0.0759235678781371,0.09636827159298987,0.1136526088802527,0.12719030582037316],[0.12777380562398274,0.11405907878471819,0.09636827159298987,0.07531659368730659,0.05161237775613617,0.026026147564044762,-0.0006409754282528475,-0.027588123185645037,-0.054043516875550875,-0.07929019757294747,-0.10268778525178764,-0.12368964794720452,-0.14185512230149663,-0.15685668268767797,-0.16848219583369567,-0.17663261032673944,-0.18131560690315682,-0.1826358700412797,-0.18078273088932142,-0.1760159755489718,-0.16865061331126227,-0.15904136091487175,-0.14756752732225356,-0.13461888616197776,-0.12058300781296416,-0.10583439818051152,-0.0907256642328181,-0.07558080422426758,-0.060690608986011814,-0.046310064114579955,-0.032657564269347995,-0.019915691575644292,-0.00823327044894154,0.0022716100207446164,0.011507919583092052,0.019407660252202565,0.025921773001301992,0.031016232090896562,0.03466854669458865,0.03686485131708162,0.03759772656874239,0.03686485131708162,0.03466854669458865,0.031016232090896562,0.025921773001301992,0.019407660252202565,0.011507919583092052,0.0022716100207446164,-0.00823327044894154,-0.019915691575644292,-0.032657564269347995,-0.046310064114579955,-0.060690608986011814,-0.07558080422426758,-0.0907256642328181,-0.10583439818051152,-0.12058300781296416,-0.13461888616197776,-0.14756752732225356,-0.15904136091487175,-0.16865061331126227,-0.1760159755489718,-0.18078273088932142,-0.1826358700412797,-0.18131560690315682,-0.17663261032673944,-0.16848219583369567,-0.15685668268767797,-0.14185512230149663,-0.12368964794720452,-0.10268778525178764,-0.07929019757294747,-0.054043516875550875,-0.027588123185645037,-0.0006409754282528475,0.026026147564044762,0.05161237775613617,0.07531659368730659,0.09636827159298987,0.11405907878471819],[0.11526115097856117,0.09738828403656238,0.0759235678781371,0.05161237775613617,0.025275083284098894,-0.0022274559793407315,-0.03002807965783915,-0.0572857273340844,-0.08321475815193494,-0.10711012813756442,-0.1283676319466868,-0.1464987033293174,-0.16113955966514656,-0.17205475511311313,-0.17913546063850083,-0.18239300622958532,-0.18194839266053625,-0.17801860199902664,-0.17090060569317098,-0.1609539875623888,-0.14858307017251748,-0.13421936300715656,-0.11830504740258321,-0.10127808535368477,-0.08355939645450051,-0.06554239869174844,-0.04758506314163741,-0.030004497243790427,-0.013073952151520388,0.0029779491154211806,0.017966041941118966,0.031745840459068614,0.044209509361482956,0.05528095770522729,0.0649104168254659,0.07306884206017318,0.07974244535617742,0.08492762656935865,0.08862652853638416,0.09084339726921295,0.09158188560927924,0.09084339726921295,0.08862652853638416,0.08492762656935865,0.07974244535617742,0.07306884206017318,0.0649104168254659,0.05528095770522729,0.044209509361482956,0.031745840459068614,0.017966041941118966,0.0029779491154211806,-0.013073952151520388,-0.030004497243790427,-0.04758506314163741,-0.06554239869174844,-0.08355939645450051,-0.10127808535368477,-0.11830504740258321,-0.13421936300715656,-0.14858307017251748,-0.1609539875623888,-0.17090060569317098,-0.17801860199902664,-0.18194839266053625,-0.18239300622958532,-0.17913546063850083,-0.17205475511311313,-0.16113955966514656,-0.1464987033293174,-0.1283676319466868,-0.10711012813756442,-0.08321475815193494,-0.0572857273340844,-0.03002807965783915,-0.0022274559793407315,0.025275083284098894,0.05161237775613617,0.0759235678781371,0.09738828403656238],[0.0993958462307399,0.07773008237271903,0.05298490441364873,0.026026147564044762,-0.0022274559793407315,-0.030841885736018544,-0.05890402451081101,-0.08555491563889543,-0.11001880232017779,-0.1316269478872783,-0.14983554931501694,-0.1642373823959323,-0.17456713788189782,-0.1807007071005138,-0.18264893898060253,-0.18054660691367944,-0.17463748569481502,-0.16525654180237792,-0.1528102839666787,-0.1377563081818195,-0.12058300781296416,-0.10179031338845618,-0.08187218787401292,-0.061301442485772274,-0.040517266401149735,-0.019915691575644292,0.0001569493213448689,0.019407660252202565,0.03759772656874239,0.054541276561040686,0.07010183827093616,0.08418731130237875,0.09674378883254962,0.10774865812501504,0.11720338291232232,0.12512633286074154,0.13154597877649798,0.13649472168344115,0.14000357308347133,0.14209785531573388,0.14279404657238684,0.14209785531573388,0.14000357308347133,0.13649472168344115,0.13154597877649798,0.12512633286074154,0.11720338291232232,0.10774865812501504,0.09674378883254962,0.08418731130237875,0.07010183827093616,0.054541276561040686,0.03759772656874239,0.019407660252202565,0.0001569493213448689,-0.019915691575644292,-0.040517266401149735,-0.061301442485772274,-0.08187218787401292,-0.10179031338845618,-0.12058300781296416,-0.1377563081818195,-0.1528102839666787,-0.16525654180237792,-0.17463748569481502,-0.18054660691367944,-0.18264893898060253,-0.1807007071005138,-0.17456713788189782,-0.1642373823959323,-0.14983554931501694,-0.1316269478872783,-0.11001880232017779,-0.08555491563889543,-0.05890402451081101,-0.030841885736018544,-0.0022274559793407315,0.026026147564044762,0.05298490441364873,0.07773008237271903],[0.08069235790121831,0.05570574218106777,0.028270310898122826,-0.0006409754282528475,-0.03002807965783915,-0.05890402451081101,-0.08633239590937543,-0.1114606806231028,-0.13354819579908725,-0.15198770280837584,-0.16632015713858264,-0.17624240938958516,-0.18160802037610754,-0.18242166855756492,-0.1788278960809016,-0.17109514979541934,-0.15959621882048483,-0.14478624788034108,-0.1271795169340972,-0.10732612754693129,-0.0857896329957062,-0.0631265026963309,-0.039868134180728126,-0.016505930263581485,0.0065202421682302655,0.02883009042098063,0.05010748884225075,0.07010183827093616,0.08862652853638416,0.10555493165712146,0.12081441070397907,0.13437885433763305,0.14626024334832619,0.15649972810645998,0.16515865057394133,0.17230988766358785,0.17802983029511174,0.18239124981424537,0.18545724476618586,0.18727640924644018,0.18787932061729182,0.18727640924644018,0.18545724476618586,0.18239124981424537,0.17802983029511174,0.17230988766358785,0.16515865057394133,0.15649972810645998,0.14626024334832619,0.13437885433763305,0.12081441070397907,0.10555493165712146,0.08862652853638416,0.07010183827093616,0.05010748884225075,0.02883009042098063,0.0065202421682302655,-0.016505930263581485,-0.039868134180728126,-0.0631265026963309,-0.0857896329957062,-0.10732612754693129,-0.1271795169340972,-0.14478624788034108,-0.15959621882048483,-0.17109514979541934,-0.1788278960809016,-0.18242166855756492,-0.18160802037610754,-0.17624240938958516,-0.16632015713858264,-0.15198770280837584,-0.13354819579908725,-0.1114606806231028,-0.08633239590937543,-0.05890402451081101,-0.03002807965783915,-0.0006409754282528475,0.028270310898122826,0.05570574218106777],[0.059725017515438364,0.03197958453286062,0.0025207381574719806,-0.027588123185645037,-0.0572857273340844,-0.08555491563889543,-0.1114606806231028,-0.13418273806183595,-0.15304146672549196,-0.16751643729146143,-0.17725715646546372,-0.18208605074549258,-0.18199408570471504,-0.17712974307464055,-0.16778234479339135,-0.1543609103022869,-0.13736985507049018,-0.11738288358628372,-0.0950164022704569,-0.07090368426500879,-0.045670869380806056,-0.019915691575644292,0.0058103924762656495,0.031016232090896562,0.05528095770522729,0.07825990831739421,0.09968670899986165,0.11937185506223688,0.13719827990417027,0.15311446345017118,0.16712567793535366,0.1792839709402817,0.18967745729212915,0.19841943861188654,0.20563779959612533,0.21146505144444128,0.21602931256266372,0.21944644111666822,0.22181346801290225,0.2232034254780841,0.22366162672468853,0.2232034254780841,0.22181346801290225,0.21944644111666822,0.21602931256266372,0.21146505144444128,0.20563779959612533,0.19841943861188654,0.18967745729212915,0.1792839709402817,0.16712567793535366,0.15311446345017118,0.13719827990417027,0.11937185506223688,0.09968670899986165,0.07825990831739421,0.05528095770522729,0.031016232090896562,0.0058103924762656495,-0.019915691575644292,-0.045670869380806056,-0.07090368426500879,-0.0950164022704569,-0.11738288358628372,-0.13736985507049018,-0.1543609103022869,-0.16778234479339135,-0.17712974307464055,-0.18199408570471504,-0.18208605074549258,-0.17725715646546372,-0.16751643729146143,-0.15304146672549196,-0.13418273806183595,-0.1114606806231028,-0.08555491563889543,-0.0572857273340844,-0.027588123185645037,0.0025207381574719806,0.03197958453286062],[0.037104384846577534,0.007233082355737275,-0.023527608249201665,-0.054043516875550875,-0.08321475815193494,-0.11001880232017779,-0.13354819579908725,-0.15304146672549196,-0.167906160972842,-0.17773339606034183,-0.18230376872794093,-0.18158488243001691,-0.17572115154133375,-0.16501687105976595,-0.1499137997580331,-0.13096468174943518,-0.10880422217787396,-0.08411903827788304,-0.05761803324395176,-0.030004497243790427,-0.001951040868825416,0.025921773001301992,0.05306249567952219,0.07900122348247962,0.10335731863015635,0.1258425822940911,0.14626024334832619,0.16450028494360933,0.18053174205108255,0.1943926655354523,0.2061784643801796,0.21602931256266372,0.22411724822563847,0.23063350923189954,0.23577655069724138,0.23974108638511749,0.242708395806646,0.24483804991090946,0.24626113579560338,0.24707500803079696,0.24733956165584545,0.24707500803079696,0.24626113579560338,0.24483804991090946,0.242708395806646,0.23974108638511749,0.23577655069724138,0.23063350923189954,0.22411724822563847,0.21602931256266372,0.2061784643801796,0.1943926655354523,0.18053174205108255,0.16450028494360933,0.14626024334832619,0.1258425822940911,0.10335731863015635,0.07900122348247962,0.05306249567952219,0.025921773001301992,-0.001951040868825416,-0.030004497243790427,-0.05761803324395176,-0.08411903827788304,-0.10880422217787396,-0.13096468174943518,-0.1499137997580331,-0.16501687105976595,-0.17572115154133375,-0.18158488243001691,-0.18230376872794093,-0.17773339606034183,-0.167906160972842,-0.15304146672549196,-0.13354819579908725,-0.11001880232017779,-0.08321475815193494,-0.054043516875550875,-0.023527608249201665,0.007233082355737275],[0.013454008098850966,-0.017859822184363938,-0.04916880920228074,-0.07929019757294747,-0.10711012813756442,-0.1316269478872783,-0.15198770280837584,-0.16751643729146143,-0.17773339606034183,-0.18236471957976835,-0.18134271385500067,-0.1747972342928682,-0.16303912773542587,-0.14653700801271363,-0.1258888846262905,-0.10179031338845618,-0.0750007897964791,-0.046310064114579955,-0.016505930263581485,0.013655158230898757,0.043473546354522816,0.07232710218505171,0.09968670899986165,0.12512633286074154,0.14832776112580212,0.16908036038891633,0.18727640924644018,0.20290271423033404,0.21602931256266372,0.22679610352037188,0.23539823538075702,0.2420710146043941,0.24707500803079696,0.2506818889186662,0.2531614457800734,0.25477004091850136,0.2557406839380664,0.2562747828163765,0.25653555744366946,0.2566430509401283,0.2566706526738519,0.2566430509401283,0.25653555744366946,0.2562747828163765,0.2557406839380664,0.25477004091850136,0.2531614457800734,0.2506818889186662,0.24707500803079696,0.2420710146043941,0.23539823538075702,0.22679610352037188,0.21602931256266372,0.20290271423033404,0.18727640924644018,0.16908036038891633,0.14832776112580212,0.12512633286074154,0.09968670899986165,0.07232710218505171,0.043473546354522816,0.013655158230898757,-0.016505930263581485,-0.046310064114579955,-0.0750007897964791,-0.10179031338845618,-0.1258888846262905,-0.14653700801271363,-0.16303912773542587,-0.1747972342928682,-0.18134271385500067,-0.18236471957976835,-0.17773339606034183,-0.16751643729146143,-0.15198770280837584,-0.1316269478872783,-0.10711012813756442,-0.07929019757294747,-0.04916880920228074,-0.017859822184363938],[-0.01061150357619211,-0.042655257000177006,-0.07374973820785838,-0.10268778525178764,-0.1283676319466868,-0.14983554931501694,-0.16632015713858264,-0.17725715646546372,-0.18230376872794093,-0.18134271385500067,-0.17447608825271163,-0.16200998595397612,-0.14443111863131364,-0.12237701362727325,-0.09660159075517502,-0.06793803188546253,-0.03726086233570953,-0.005449066140771361,0.026648129724923395,0.058241427706856384,0.08862652853638416,0.11720338291232232,0.14348926836260514,0.16712567793535366,0.18787932061729182,0.20563779959612533,0.22040074178662336,0.23226729318028777,0.24142096714711753,0.24811283911536614,0.25264402764959015,0.255348298963932,0.256575492104657,0.2566762997375786,0.2559887694405144,0.2548267267047997,0.25347017586536014,0.252157618714697,0.25108014921898075,0.25037713957121355,0.25013332713993036,0.25037713957121355,0.25108014921898075,0.252157618714697,0.25347017586536014,0.2548267267047997,0.2559887694405144,0.2566762997375786,0.256575492104657,0.255348298963932,0.25264402764959015,0.24811283911536614,0.24142096714711753,0.23226729318028777,0.22040074178662336,0.20563779959612533,0.18787932061729182,0.16712567793535366,0.14348926836260514,0.11720338291232232,0.08862652853638416,0.058241427706856384,0.026648129724923395,-0.005449066140771361,-0.03726086233570953,-0.06793803188546253,-0.09660159075517502,-0.12237701362727325,-0.14443111863131364,-0.16200998595397612,-0.17447608825271163,-0.18134271385500067,-0.18230376872794093,-0.17725715646546372,-0.16632015713858264,-0.14983554931501694,-0.1283676319466868,-0.10268778525178764,-0.07374973820785838,-0.042655257000177006],[-0.0345063152690242,-0.06655906279410359,-0.09668883252747353,-0.12368964794720452,-0.1464987033293174,-0.1642373823959323,-0.17624240938958516,-0.18208605074549258,-0.18158488243001691,-0.1747972342928682,-0.16200998595397612,-0.1437158894806465,-0.12058300781296416,-0.09341816596346665,-0.0631265026963309,-0.03066927919323432,0.0029779491154211806,0.03686485131708162,0.07010183827093616,0.1018902143955224,0.13154597877649798,0.15851669454452746,0.18239124981424537,0.20290271423033404,0.21992483146863692,0.23346296309158113,0.24364050109720906,0.2506818889186662,0.254893432701845,0.2566430509401283,0.2563400102730029,0.25441554164532254,0.25130504004127213,0.24743234013685533,0.2431963471432226,0.23896010343988033,0.23504220166614895,0.2317103248693539,0.22917661128094333,0.22759450814784551,0.2270567942100705,0.22759450814784551,0.22917661128094333,0.2317103248693539,0.23504220166614895,0.23896010343988033,0.2431963471432226,0.24743234013685533,0.25130504004127213,0.25441554164532254,0.2563400102730029,0.2566430509401283,0.254893432701845,0.2506818889186662,0.24364050109720906,0.23346296309158113,0.21992483146863692,0.20290271423033404,0.18239124981424537,0.15851669454452746,0.13154597877649798,0.1018902143955224,0.07010183827093616,0.03686485131708162,0.0029779491154211806,-0.03066927919323432,-0.0631265026963309,-0.09341816596346665,-0.12058300781296416,-0.1437158894806465,-0.16200998595397612,-0.1747972342928682,-0.18158488243001691,-0.18208605074549258,-0.17624240938958516,-0.1642373823959323,-0.1464987033293174,-0.12368964794720452,-0.09668883252747353,-0.06655906279410359],[-0.05769048962428924,-0.08904297911487404,-0.11749065565570795,-0.14185512230149663,-0.16113955966514656,-0.17456713788189782,-0.18160802037610754,-0.18199408570471504,-0.17572115154133375,-0.16303912773542587,-0.14443111863131364,-0.12058300781296416,-0.09234546620178369,-0.060690608986011814,-0.026665677985416577,0.008653858363151095,0.044209509361482956,0.07900122348247962,0.11212338767979044,0.14279404657238684,0.17037647050011584,0.1943926655354523,0.2145288714461612,0.23063350923189954,0.242708395806646,0.2508943222213973,0.2554522819126627,0.2567417315441088,0.25519727019112654,0.25130504004127213,0.2455799958764798,0.23854497801642713,0.23071227369415245,0.2225680860000738,0.21456006847846779,0.2070878465419809,0.20049625055173417,0.19507084218595108,0.19103523332295086,0.18854967763954522,0.18771045677679687,0.18854967763954522,0.19103523332295086,0.19507084218595108,0.20049625055173417,0.2070878465419809,0.21456006847846779,0.2225680860000738,0.23071227369415245,0.23854497801642713,0.2455799958764798,0.25130504004127213,0.25519727019112654,0.2567417315441088,0.2554522819126627,0.2508943222213973,0.242708395806646,0.23063350923189954,0.2145288714461612,0.1943926655354523,0.17037647050011584,0.14279404657238684,0.11212338767979044,0.07900122348247962,0.044209509361482956,0.008653858363151095,-0.026665677985416577,-0.060690608986011814,-0.09234546620178369,-0.12058300781296416,-0.14443111863131364,-0.16303912773542587,-0.17572115154133375,-0.18199408570471504,-0.18160802037610754,-0.17456713788189782,-0.16113955966514656,-0.14185512230149663,-0.11749065565570795,-0.08904297911487404],[-0.07968395387291566,-0.10965701691843574,-0.13575600794040762,-0.15685668268767797,-0.17205475511311313,-0.1807007071005138,-0.18242166855756492,-0.17712974307464055,-0.16501687105976595,-0.14653700801271363,-0.12237701362727325,-0.09341816596346665,-0.060690608986011814,-0.02532329427921568,0.011507919583092052,0.04863139306208121,0.08492762656935865,0.11937185506223688,0.15106960365711752,0.1792839709402817,0.20345392533496165,0.2232034254780841,0.2383416766936446,0.24885528388828942,0.254893432701845,0.25674750760048576,0.2548267267047997,0.24963143467045815,0.24172565029557566,0.2317103248693539,0.22019854657881394,0.20779364608280457,0.19507084218595108,0.18256273925541686,0.17074867404778504,0.16004763127913005,0.15081422331281308,0.1433370736825879,0.13783886506830845,0.134477311926808,0.1333463922312941,0.134477311926808,0.13783886506830845,0.1433370736825879,0.15081422331281308,0.16004763127913005,0.17074867404778504,0.18256273925541686,0.19507084218595108,0.20779364608280457,0.22019854657881394,0.2317103248693539,0.24172565029557566,0.24963143467045815,0.2548267267047997,0.25674750760048576,0.254893432701845,0.24885528388828942,0.2383416766936446,0.2232034254780841,0.20345392533496165,0.1792839709402817,0.15106960365711752,0.11937185506223688,0.08492762656935865,0.04863139306208121,0.011507919583092052,-0.02532329427921568,-0.060690608986011814,-0.09341816596346665,-0.12237701362727325,-0.14653700801271363,-0.16501687105976595,-0.17712974307464055,-0.18242166855756492,-0.1807007071005138,-0.17205475511311313,-0.15685668268767797,-0.13575600794040762,-0.10965701691843574],[-0.10007704610444179,-0.12803786284735597,-0.1511875643863488,-0.16848219583369567,-0.17913546063850083,-0.18264893898060253,-0.1788278960809016,-0.16778234479339135,-0.1499137997580331,-0.1258888846262905,-0.09660159075517502,-0.0631265026963309,-0.026665677985416577,0.011507919583092052,0.05010748884225075,0.0878871354792479,0.12369173187889267,0.15649972810645998,0.18545724476618586,0.20990234059772522,0.22937894091767205,0.24364050109720906,0.25264402764959015,0.25653555744366946,0.25562857790064414,0.25037713957121355,0.2413455569066888,0.22917661128094333,0.21456006847846779,0.1982031145119569,0.18080401871815463,0.1630299764243758,0.14549969299473817,0.12877087581897034,0.11333242903336226,0.09960082298540655,0.08791985781076668,0.07856287339249271,0.07173638515428266,0.06758414818694233,0.0661907655654817,0.06758414818694233,0.07173638515428266,0.07856287339249271,0.08791985781076668,0.09960082298540655,0.11333242903336226,0.12877087581897034,0.14549969299473817,0.1630299764243758,0.18080401871815463,0.1982031145119569,0.21456006847846779,0.22917661128094333,0.2413455569066888,0.25037713957121355,0.25562857790064414,0.25653555744366946,0.25264402764959015,0.24364050109720906,0.22937894091767205,0.20990234059772522,0.18545724476618586,0.15649972810645998,0.12369173187889267,0.0878871354792479,0.05010748884225075,0.011507919583092052,-0.026665677985416577,-0.0631265026963309,-0.09660159075517502,-0.1258888846262905,-0.1499137997580331,-0.16778234479339135,-0.1788278960809016,-0.18264893898060253,-0.17913546063850083,-0.16848219583369567,-0.1511875643863488,-0.12803786284735597],[-0.11853755153953284,-0.14391335124448024,-0.163591222139663,-0.17663261032673944,-0.18239300622958532,-0.18054660691367944,-0.17109514979541934,-0.1543609103022869,-0.13096468174943518,-0.10179031338845618,-0.06793803188546253,-0.03066927919323432,0.008653858363151095,0.04863139306208121,0.0878871354792479,0.12512633286074154,0.15918658398472915,0.1890798565922851,0.21402402107025095,0.23346296309158113,0.24707500803079696,0.25477004091850136,0.2566762997375786,0.25311832399967577,0.24458792842044305,0.2317103248693539,0.2152076253393881,0.19586192453391038,0.17447999195279823,0.15186131748507978,0.12877087581897034,0.10591753298818528,0.08393854575868848,0.06339013493636744,0.044743679368913644,0.02838670735216783,0.014627580006334946,0.0037025838949493145,-0.004215913110515241,-0.009011537058698997,-0.010617349295218181,-0.009011537058698997,-0.004215913110515241,0.0037025838949493145,0.014627580006334946,0.02838670735216783,0.044743679368913644,0.06339013493636744,0.08393854575868848,0.10591753298818528,0.12877087581897034,0.15186131748507978,0.17447999195279823,0.19586192453391038,0.2152076253393881,0.2317103248693539,0.24458792842044305,0.25311832399967577,0.2566762997375786,0.25477004091850136,0.24707500803079696,0.23346296309158113,0.21402402107025095,0.1890798565922851,0.15918658398472915,0.12512633286074154,0.0878871354792479,0.04863139306208121,0.008653858363151095,-0.03066927919323432,-0.06793803188546253,-0.10179031338845618,-0.13096468174943518,-0.1543609103022869,-0.17109514979541934,-0.18054660691367944,-0.18239300622958532,-0.17663261032673944,-0.163591222139663,-0.14391335124448024],[-0.13481430178982187,-0.15710321083861073,-0.17287351607260817,-0.18131560690315682,-0.18194839266053625,-0.17463748569481502,-0.15959621882048483,-0.13736985507049018,-0.10880422217787396,-0.0750007897964791,-0.03726086233570953,0.0029779491154211806,0.044209509361482956,0.08492762656935865,0.12369173187889267,0.15918658398472915,0.1902732638436695,0.21602931256266372,0.23577655069724138,0.24909585663212155,0.25582893038458626,0.2560677827399544,0.25013332713993036,0.23854497801642713,0.22198354690007724,0.20124995852555586,0.17722237538812438,0.15081422331281308,0.12293536517635703,0.09445829662141196,0.0661907655654817,0.03885568116655977,0.013078615468659323,-0.010617349295218181,-0.03181017613329085,-0.050171999808914604,-0.06545830501430487,-0.07749482277960204,-0.08616386191642225,-0.09139170665445415,-0.09313849939964196,-0.09139170665445415,-0.08616386191642225,-0.07749482277960204,-0.06545830501430487,-0.050171999808914604,-0.03181017613329085,-0.010617349295218181,0.013078615468659323,0.03885568116655977,0.0661907655654817,0.09445829662141196,0.12293536517635703,0.15081422331281308,0.17722237538812438,0.20124995852555586,0.22198354690007724,0.23854497801642713,0.25013332713993036,0.2560677827399544,0.25582893038458626,0.24909585663212155,0.23577655069724138,0.21602931256266372,0.1902732638436695,0.15918658398472915,0.12369173187889267,0.08492762656935865,0.044209509361482956,0.0029779491154211806,-0.03726086233570953,-0.0750007897964791,-0.10880422217787396,-0.13736985507049018,-0.15959621882048483,-0.17463748569481502,-0.18194839266053625,-0.18131560690315682,-0.17287351607260817,-0.15710321083861073],[-0.1487375524385824,-0.16751643729146143,-0.17903560277058095,-0.1826358700412797,-0.17801860199902664,-0.16525654180237792,-0.14478624788034108,-0.11738288358628372,-0.08411903827788304,-0.046310064114579955,-0.005449066140771361,0.03686485131708162,0.07900122348247962,0.11937185506223688,0.15649972810645998,0.1890798565922851,0.21602931256266372,0.2365243422174828,0.25002327766855664,0.2562747828163765,0.2553118000893658,0.24743234013685533,0.23316893482082693,0.21324911772700825,0.18854967763954522,0.16004763127913005,0.12877087581897034,0.0957513146109,0.06198291759831892,0.02838670735216783,-0.004215913110515241,-0.03512071345143313,-0.06374895250625122,-0.08964697741323371,-0.11247819731414006,-0.132008995765264,-0.14809048863531396,-0.16063822727306362,-0.1696119802323752,-0.17499760171649797,-0.17679272260843765,-0.17499760171649797,-0.1696119802323752,-0.16063822727306362,-0.14809048863531396,-0.132008995765264,-0.11247819731414006,-0.08964697741323371,-0.06374895250625122,-0.03512071345143313,-0.004215913110515241,0.02838670735216783,0.06198291759831892,0.0957513146109,0.12877087581897034,0.16004763127913005,0.18854967763954522,0.21324911772700825,0.23316893482082693,0.24743234013685533,0.2553118000893658,0.2562747828163765,0.25002327766855664,0.2365243422174828,0.21602931256266372,0.1890798565922851,0.15649972810645998,0.11937185506223688,0.07900122348247962,0.03686485131708162,-0.005449066140771361,-0.046310064114579955,-0.08411903827788304,-0.11738288358628372,-0.14478624788034108,-0.16525654180237792,-0.17801860199902664,-0.1826358700412797,-0.17903560277058095,-0.16751643729146143],[-0.16021647158282734,-0.1751457556394694,-0.1821644169794075,-0.18078273088932142,-0.17090060569317098,-0.1528102839666787,-0.1271795169340972,-0.0950164022704569,-0.05761803324395176,-0.016505930263581485,0.026648129724923395,0.07010183827093616,0.11212338767979044,0.15106960365711752,0.18545724476618586,0.21402402107025095,0.23577655069724138,0.25002327766855664,0.25639126767027576,0.2548267267047997,0.2455799958764798,0.22917661128094333,0.2063767337439853,0.17812580971586786,0.14549969299473817,0.1096476200446325,0.07173638515428266,0.032898814044057145,-0.005810793613848673,-0.043452159632214875,-0.0792240541655952,-0.11247819731414006,-0.1427221428215067,-0.1696119802323752,-0.1929363397545002,-0.2125937105436689,-0.22856545626592412,-0.24088710992360066,-0.24962054293732017,-0.254829433326894,-0.2565601183892334,-0.254829433326894,-0.24962054293732017,-0.24088710992360066,-0.22856545626592412,-0.2125937105436689,-0.1929363397545002,-0.1696119802323752,-0.1427221428215067,-0.11247819731414006,-0.0792240541655952,-0.043452159632214875,-0.005810793613848673,0.032898814044057145,0.07173638515428266,0.1096476200446325,0.14549969299473817,0.17812580971586786,0.2063767337439853,0.22917661128094333,0.2455799958764798,0.2548267267047997,0.25639126767027576,0.25002327766855664,0.23577655069724138,0.21402402107025095,0.18545724476618586,0.15106960365711752,0.11212338767979044,0.07010183827093616,0.026648129724923395,-0.016505930263581485,-0.05761803324395176,-0.0950164022704569,-0.1271795169340972,-0.1528102839666787,-0.17090060569317098,-0.18078273088932142,-0.1821644169794075,-0.1751457556394694],[-0.16923416092386775,-0.1800597155006458,-0.18242166855756492,-0.1760159755489718,-0.1609539875623888,-0.1377563081818195,-0.10732612754693129,-0.07090368426500879,-0.030004497243790427,0.013655158230898757,0.058241427706856384,0.1018902143955224,0.14279404657238684,0.1792839709402817,0.20990234059772522,0.23346296309158113,0.24909585663212155,0.2562747828163765,0.2548267267047997,0.24492352037505036,0.2270567942100705,0.20199833430642128,0.17074867404778504,0.134477311926808,0.09445829662141196,0.05200503792795912,0.00840808631479302,-0.03512071345143313,-0.07749482277960204,-0.1177881852505473,-0.15525760655490364,-0.18935183535374994,-0.21970771693043264,-0.24613461781837798,-0.268589046149572,-0.28714197491104243,-0.30194177876754097,-0.31317589634427284,-0.3210343185560354,-0.32567778292945404,-0.32721314035298743,-0.32567778292945404,-0.3210343185560354,-0.31317589634427284,-0.30194177876754097,-0.28714197491104243,-0.268589046149572,-0.24613461781837798,-0.21970771693043264,-0.18935183535374994,-0.15525760655490364,-0.1177881852505473,-0.07749482277960204,-0.03512071345143313,0.00840808631479302,0.05200503792795912,0.09445829662141196,0.134477311926808,0.17074867404778504,0.20199833430642128,0.2270567942100705,0.24492352037505036,0.2548267267047997,0.2562747828163765,0.24909585663212155,0.23346296309158113,0.20990234059772522,0.1792839709402817,0.14279404657238684,0.1018902143955224,0.058241427706856384,0.013655158230898757,-0.030004497243790427,-0.07090368426500879,-0.10732612754693129,-0.1377563081818195,-0.1609539875623888,-0.1760159755489718,-0.18242166855756492,-0.1800597155006458],[-0.17584069010379264,-0.18239300622958532,-0.1800313728705813,-0.16865061331126227,-0.14858307017251748,-0.12058300781296416,-0.0857896329957062,-0.045670869380806056,-0.001951040868825416,0.043473546354522816,0.08862652853638416,0.13154597877649798,0.17037647050011584,0.20345392533496165,0.22937894091767205,0.24707500803079696,0.25582893038458626,0.2553118000893658,0.2455799958764798,0.2270567942100705,0.20049625055173417,0.16693195814109418,0.12761407121954643,0.08393854575868848,0.037372873633869375,-0.010617349295218181,-0.05863687417657578,-0.10542055787501849,-0.14988136590815446,-0.19114437378651342,-0.22856545626592412,-0.2617343483375656,-0.29046275344788247,-0.31475910259630246,-0.33479237619194996,-0.35084804028714445,-0.3632795822101567,-0.37245933283868765,-0.3787322233669178,-0.382375848005458,-0.3835697098652554,-0.382375848005458,-0.3787322233669178,-0.37245933283868765,-0.3632795822101567,-0.35084804028714445,-0.33479237619194996,-0.31475910259630246,-0.29046275344788247,-0.2617343483375656,-0.22856545626592412,-0.19114437378651342,-0.14988136590815446,-0.10542055787501849,-0.05863687417657578,-0.010617349295218181,0.037372873633869375,0.08393854575868848,0.12761407121954643,0.16693195814109418,0.20049625055173417,0.2270567942100705,0.2455799958764798,0.2553118000893658,0.25582893038458626,0.24707500803079696,0.22937894091767205,0.20345392533496165,0.17037647050011584,0.13154597877649798,0.08862652853638416,0.043473546354522816,-0.001951040868825416,-0.045670869380806056,-0.0857896329957062,-0.12058300781296416,-0.14858307017251748,-0.16865061331126227,-0.1800313728705813,-0.18239300622958532],[-0.1801446545297837,-0.18233559039097344,-0.1752665961050691,-0.15904136091487175,-0.13421936300715656,-0.10179031338845618,-0.0631265026963309,-0.019915691575644292,0.025921773001301992,0.07232710218505171,0.11720338291232232,0.15851669454452746,0.1943926655354523,0.2232034254780841,0.24364050109720906,0.25477004091850136,0.2560677827399544,0.24743234013685533,0.22917661128094333,0.20199833430642128,0.16693195814109418,0.12528500092613942,0.07856287339249271,0.02838670735216783,-0.02359098016854476,-0.0757679524450742,-0.12666669235949252,-0.17499760171649797,-0.21970771693043264,-0.26001264723920775,-0.29541051237375787,-0.32567778292945404,-0.35084804028714445,-0.37117570680030565,-0.38708768931988075,-0.3991265770886398,-0.407889497747319,-0.41396693622794944,-0.417885750201407,-0.4200602785751461,-0.4207548585159486,-0.4200602785751461,-0.417885750201407,-0.41396693622794944,-0.407889497747319,-0.3991265770886398,-0.38708768931988075,-0.37117570680030565,-0.35084804028714445,-0.32567778292945404,-0.29541051237375787,-0.26001264723920775,-0.21970771693043264,-0.17499760171649797,-0.12666669235949252,-0.0757679524450742,-0.02359098016854476,0.02838670735216783,0.07856287339249271,0.12528500092613942,0.16693195814109418,0.20199833430642128,0.22917661128094333,0.24743234013685533,0.2560677827399544,0.25477004091850136,0.24364050109720906,0.2232034254780841,0.1943926655354523,0.15851669454452746,0.11720338291232232,0.07232710218505171,0.025921773001301992,-0.019915691575644292,-0.0631265026963309,-0.10179031338845618,-0.13421936300715656,-0.15904136091487175,-0.1752665961050691,-0.18233559039097344],[-0.18230376872794093,-0.18012123502583363,-0.16843605361995675,-0.14756752732225356,-0.11830504740258321,-0.08187218787401292,-0.039868134180728126,0.0058103924762656495,0.05306249567952219,0.09968670899986165,0.14348926836260514,0.18239124981424537,0.2145288714461612,0.2383416766936446,0.25264402764959015,0.2566762997375786,0.25013332713993036,0.23316893482082693,0.2063767337439853,0.17074867404778504,0.12761407121954643,0.07856287339249271,0.02535776443828009,-0.030159748399708135,-0.08616386191642225,-0.1409342819269669,-0.1929363397545002,-0.24088710992360066,-0.2838041182964338,-0.3210343185560354,-0.35226222727992795,-0.37749737145928347,-0.3970424421347404,-0.41144469052055266,-0.42143408131469146,-0.42785247459104203,-0.43157859884674826,-0.4334537754581445,-0.434213248547002,-0.43442757176285574,-0.43445783007337646,-0.43442757176285574,-0.434213248547002,-0.4334537754581445,-0.43157859884674826,-0.42785247459104203,-0.42143408131469146,-0.41144469052055266,-0.3970424421347404,-0.37749737145928347,-0.35226222727992795,-0.3210343185560354,-0.2838041182964338,-0.24088710992360066,-0.1929363397545002,-0.1409342819269669,-0.08616386191642225,-0.030159748399708135,0.02535776443828009,0.07856287339249271,0.12761407121954643,0.17074867404778504,0.2063767337439853,0.23316893482082693,0.25013332713993036,0.2566762997375786,0.25264402764959015,0.2383416766936446,0.2145288714461612,0.18239124981424537,0.14348926836260514,0.09968670899986165,0.05306249567952219,0.0058103924762656495,-0.039868134180728126,-0.08187218787401292,-0.11830504740258321,-0.14756752732225356,-0.16843605361995675,-0.18012123502583363],[-0.18251498442862385,-0.1760159755489718,-0.15987112992755653,-0.13461888616197776,-0.10127808535368477,-0.061301442485772274,-0.016505930263581485,0.031016232090896562,0.07900122348247962,0.12512633286074154,0.16712567793535366,0.20290271423033404,0.23063350923189954,0.24885528388828942,0.25653555744366946,0.25311832399967577,0.23854497801642713,0.21324911772700825,0.17812580971586786,0.134477311926808,0.08393854575868848,0.02838670735216783,-0.030159748399708135,-0.08964697741323371,-0.14809048863531396,-0.2036729142303004,-0.254829433326894,-0.3003162506586467,-0.3392585664190622,-0.37117570680030565,-0.39598244357893553,-0.41396693622794944,-0.42574709936268906,-0.43220845214435083,-0.43442757176285574,-0.4335860886421158,-0.4308806796227811,-0.4274347075936389,-0.42421701152445723,-0.42197287899622543,-0.421171462695804,-0.42197287899622543,-0.42421701152445723,-0.4274347075936389,-0.4308806796227811,-0.4335860886421158,-0.43442757176285574,-0.43220845214435083,-0.42574709936268906,-0.41396693622794944,-0.39598244357893553,-0.37117570680030565,-0.3392585664190622,-0.3003162506586467,-0.254829433326894,-0.2036729142303004,-0.14809048863531396,-0.08964697741323371,-0.030159748399708135,0.02838670735216783,0.08393854575868848,0.134477311926808,0.17812580971586786,0.21324911772700825,0.23854497801642713,0.25311832399967577,0.25653555744366946,0.24885528388828942,0.23063350923189954,0.20290271423033404,0.16712567793535366,0.12512633286074154,0.07900122348247962,0.031016232090896562,-0.016505930263581485,-0.061301442485772274,-0.10127808535368477,-0.13461888616197776,-0.15987112992755653,-0.1760159755489718],[-0.18100457917857166,-0.17030698199702413,-0.1499137997580331,-0.12058300781296416,-0.08355939645450051,-0.040517266401149735,0.0065202421682302655,0.05528095770522729,0.10335731863015635,0.14832776112580212,0.18787932061729182,0.21992483146863692,0.242708395806646,0.254893432701845,0.25562857790064414,0.24458792842044305,0.22198354690007724,0.18854967763954522,0.14549969299473817,0.09445829662141196,0.037372873633869375,-0.02359098016854476,-0.08616386191642225,-0.14809048863531396,-0.20724458052139974,-0.2617343483375656,-0.309992807249447,-0.35084804028714445,-0.3835697098652554,-0.407889497747319,-0.42399466300627076,-0.43249545715781157,-0.43436863670247905,-0.4308806796227811,-0.42349546556438716,-0.4137720534188708,-0.40325873487122593,-0.39338972722403176,-0.3853906832849483,-0.3801986514917913,-0.3784012476539641,-0.3801986514917913,-0.3853906832849483,-0.39338972722403176,-0.40325873487122593,-0.4137720534188708,-0.42349546556438716,-0.4308806796227811,-0.43436863670247905,-0.43249545715781157,-0.42399466300627076,-0.407889497747319,-0.3835697098652554,-0.35084804028714445,-0.309992807249447,-0.2617343483375656,-0.20724458052139974,-0.14809048863531396,-0.08616386191642225,-0.02359098016854476,0.037372873633869375,0.09445829662141196,0.14549969299473817,0.18854967763954522,0.22198354690007724,0.24458792842044305,0.25562857790064414,0.254893432701845,0.242708395806646,0.21992483146863692,0.18787932061729182,0.14832776112580212,0.10335731863015635,0.05528095770522729,0.0065202421682302655,-0.040517266401149735,-0.08355939645450051,-0.12058300781296416,-0.1499137997580331,-0.17030698199702413],[-0.17801860199902664,-0.16329221750830802,-0.13890582780165694,-0.10583439818051152,-0.06554239869174844,-0.019915691575644292,0.02883009042098063,0.07825990831739421,0.1258425822940911,0.16908036038891633,0.20563779959612533,0.23346296309158113,0.2508943222213973,0.25674750760048576,0.25037713957121355,0.2317103248693539,0.20124995852555586,0.16004763127913005,0.1096476200446325,0.05200503792795912,-0.010617349295218181,-0.0757679524450742,-0.1409342819269669,-0.2036729142303004,-0.2617343483375656,-0.31317589634427284,-0.3564564355250057,-0.3905078789395116,-0.4147795406040892,-0.42925310491460716,-0.43442757176285574,-0.4312752446188071,-0.421171462695804,-0.40580225753498556,-0.38705535500366767,-0.36690087535799776,-0.3472686537517362,-0.32992927901128904,-0.3163857196862348,-0.3077817863653888,-0.30483270332925,-0.3077817863653888,-0.3163857196862348,-0.32992927901128904,-0.3472686537517362,-0.36690087535799776,-0.38705535500366767,-0.40580225753498556,-0.421171462695804,-0.4312752446188071,-0.43442757176285574,-0.42925310491460716,-0.4147795406040892,-0.3905078789395116,-0.3564564355250057,-0.31317589634427284,-0.2617343483375656,-0.2036729142303004,-0.1409342819269669,-0.0757679524450742,-0.010617349295218181,0.05200503792795912,0.1096476200446325,0.16004763127913005,0.20124995852555586,0.2317103248693539,0.25037713957121355,0.25674750760048576,0.2508943222213973,0.23346296309158113,0.20563779959612533,0.16908036038891633,0.1258425822940911,0.07825990831739421,0.02883009042098063,-0.019915691575644292,-0.06554239869174844,-0.10583439818051152,-0.13890582780165694,-0.16329221750830802],[-0.1738139924448547,-0.15527119023634722,-0.1271795169340972,-0.0907256642328181,-0.04758506314163741,0.0001569493213448689,0.05010748884225075,0.09968670899986165,0.14626024334832619,0.18727640924644018,0.22040074178662336,0.24364050109720906,0.2554522819126627,0.2548267267047997,0.2413455569066888,0.2152076253393881,0.17722237538812438,0.12877087581897034,0.07173638515428266,0.00840808631479302,-0.05863687417657578,-0.12666669235949252,-0.1929363397545002,-0.254829433326894,-0.309992807249447,-0.3564564355250057,-0.39273214882544505,-0.417885750201407,-0.43157859884674826,-0.434076417833265,-0.42622489689420734,-0.4093935036702951,-0.3853906832849483,-0.35635521764627226,-0.324629843053556,-0.2926242127644853,-0.2626748843273063,-0.23691017597600564,-0.21712746254366178,-0.20468978410715197,-0.20044755867978276,-0.20468978410715197,-0.21712746254366178,-0.23691017597600564,-0.2626748843273063,-0.2926242127644853,-0.324629843053556,-0.35635521764627226,-0.3853906832849483,-0.4093935036702951,-0.42622489689420734,-0.434076417833265,-0.43157859884674826,-0.417885750201407,-0.39273214882544505,-0.3564564355250057,-0.309992807249447,-0.254829433326894,-0.1929363397545002,-0.12666669235949252,-0.05863687417657578,0.00840808631479302,0.07173638515428266,0.12877087581897034,0.17722237538812438,0.2152076253393881,0.2413455569066888,0.2548267267047997,0.2554522819126627,0.24364050109720906,0.22040074178662336,0.18727640924644018,0.14626024334832619,0.09968670899986165,0.05010748884225075,0.0001569493213448689,-0.04758506314163741,-0.0907256642328181,-0.1271795169340972,-0.15527119023634722],[-0.16865061331126227,-0.14653700801271363,-0.11505016730310495,-0.07558080422426758,-0.030004497243790427,0.019407660252202565,0.07010183827093616,0.11937185506223688,0.16450028494360933,0.20290271423033404,0.23226729318028777,0.2506818889186662,0.2567417315441088,0.24963143467045815,0.22917661128094333,0.19586192453391038,0.15081422331281308,0.0957513146109,0.032898814044057145,-0.03512071345143313,-0.10542055787501849,-0.17499760171649797,-0.24088710992360066,-0.3003162506586467,-0.35084804028714445,-0.3905078789395116,-0.417885750201407,-0.43220845214435083,-0.4333778373354074,-0.42197287899622543,-0.39921534828629784,-0.36690087535799776,-0.32729906443176787,-0.28302803533990717,-0.23691017597600564,-0.19181693290541052,-0.15051108239111077,-0.11549507625799743,-0.08887373699192957,-0.0722388011028484,-0.06658162124929747,-0.0722388011028484,-0.08887373699192957,-0.11549507625799743,-0.15051108239111077,-0.19181693290541052,-0.23691017597600564,-0.28302803533990717,-0.32729906443176787,-0.36690087535799776,-0.39921534828629784,-0.42197287899622543,-0.4333778373354074,-0.43220845214435083,-0.417885750201407,-0.3905078789395116,-0.35084804028714445,-0.3003162506586467,-0.24088710992360066,-0.17499760171649797,-0.10542055787501849,-0.03512071345143313,0.032898814044057145,0.0957513146109,0.15081422331281308,0.19586192453391038,0.22917661128094333,0.24963143467045815,0.2567417315441088,0.2506818889186662,0.23226729318028777,0.20290271423033404,0.16450028494360933,0.11937185506223688,0.07010183827093616,0.019407660252202565,-0.030004497243790427,-0.07558080422426758,-0.11505016730310495,-0.14653700801271363],[-0.16278435980926842,-0.13736985507049018,-0.10281030706494565,-0.060690608986011814,-0.013073952151520388,0.03759772656874239,0.08862652853638416,0.13719827990417027,0.18053174205108255,0.21602931256266372,0.24142096714711753,0.254893432701845,0.25519727019112654,0.24172565029557566,0.21456006847846779,0.17447999195279823,0.12293536517635703,0.06198291759831892,-0.005810793613848673,-0.07749482277960204,-0.14988136590815446,-0.21970771693043264,-0.2838041182964338,-0.3392585664190622,-0.3835697098652554,-0.4147795406040892,-0.43157859884674826,-0.4333778373354074,-0.4203430458705095,-0.39338972722403176,-0.3541384336243295,-0.30483270332925,-0.24822376277499153,-0.187427969950852,-0.1257644689695074,-0.06658162124929747,-0.0130814139378774,0.03184881503912622,0.0657883626364726,0.08691073780520595,0.0940800053732448,0.08691073780520595,0.0657883626364726,0.03184881503912622,-0.0130814139378774,-0.06658162124929747,-0.1257644689695074,-0.187427969950852,-0.24822376277499153,-0.30483270332925,-0.3541384336243295,-0.39338972722403176,-0.4203430458705095,-0.4333778373354074,-0.43157859884674826,-0.4147795406040892,-0.3835697098652554,-0.3392585664190622,-0.2838041182964338,-0.21970771693043264,-0.14988136590815446,-0.07749482277960204,-0.005810793613848673,0.06198291759831892,0.12293536517635703,0.17447999195279823,0.21456006847846779,0.24172565029557566,0.25519727019112654,0.254893432701845,0.24142096714711753,0.21602931256266372,0.18053174205108255,0.13719827990417027,0.08862652853638416,0.03759772656874239,-0.013073952151520388,-0.060690608986011814,-0.10281030706494565,-0.13736985507049018],[-0.15646143337355978,-0.12803192632998142,-0.0907256642328181,-0.046310064114579955,0.0029779491154211806,0.054541276561040686,0.10555493165712146,0.15311446345017118,0.1943926655354523,0.22679610352037188,0.24811283911536614,0.2566430509401283,0.25130504004127213,0.2317103248693539,0.1982031145119569,0.15186131748507978,0.09445829662141196,0.02838670735216783,-0.043452159632214875,-0.1177881852505473,-0.19114437378651342,-0.26001264723920775,-0.3210343185560354,-0.37117570680030565,-0.407889497747319,-0.42925310491460716,-0.434076417833265,-0.42197287899622543,-0.39338972722403176,-0.3495953826561967,-0.2926242127644853,-0.22518118755916025,-0.15051108239111077,-0.0722388011028484,0.005811034304373925,0.07980593576993696,0.14609889758077332,0.20141317105264114,0.24300880867803662,0.2688222513075441,0.277571630583514,0.2688222513075441,0.24300880867803662,0.20141317105264114,0.14609889758077332,0.07980593576993696,0.005811034304373925,-0.0722388011028484,-0.15051108239111077,-0.22518118755916025,-0.2926242127644853,-0.3495953826561967,-0.39338972722403176,-0.42197287899622543,-0.434076417833265,-0.42925310491460716,-0.407889497747319,-0.37117570680030565,-0.3210343185560354,-0.26001264723920775,-0.19114437378651342,-0.1177881852505473,-0.043452159632214875,0.02838670735216783,0.09445829662141196,0.15186131748507978,0.1982031145119569,0.2317103248693539,0.25130504004127213,0.2566430509401283,0.24811283911536614,0.22679610352037188,0.1943926655354523,0.15311446345017118,0.10555493165712146,0.054541276561040686,0.0029779491154211806,-0.046310064114579955,-0.0907256642328181,-0.12803192632998142],[-0.1499137997580331,-0.11876378051842666,-0.07903277128303789,-0.032657564269347995,0.017966041941118966,0.07010183827093616,0.12081441070397907,0.16712567793535366,0.2061784643801796,0.23539823538075702,0.25264402764959015,0.2563400102730029,0.2455799958764798,0.22019854657881394,0.18080401871815463,0.12877087581897034,0.0661907655654817,-0.004215913110515241,-0.0792240541655952,-0.15525760655490364,-0.22856545626592412,-0.29541051237375787,-0.35226222727992795,-0.39598244357893553,-0.42399466300627076,-0.43442757176285574,-0.42622489689420734,-0.39921534828629784,-0.3541384336243295,-0.2926242127644853,-0.21712746254366178,-0.13081912452072303,-0.03744017720227128,0.05887491198907235,0.1537963512162099,0.24300880867803662,0.32242214992953067,0.38837235101706136,0.43780226922078175,0.4684129583840573,0.47877771528316515,0.4684129583840573,0.43780226922078175,0.38837235101706136,0.32242214992953067,0.24300880867803662,0.1537963512162099,0.05887491198907235,-0.03744017720227128,-0.13081912452072303,-0.21712746254366178,-0.2926242127644853,-0.3541384336243295,-0.39921534828629784,-0.42622489689420734,-0.43442757176285574,-0.42399466300627076,-0.39598244357893553,-0.35226222727992795,-0.29541051237375787,-0.22856545626592412,-0.15525760655490364,-0.0792240541655952,-0.004215913110515241,0.0661907655654817,0.12877087581897034,0.18080401871815463,0.22019854657881394,0.2455799958764798,0.2563400102730029,0.25264402764959015,0.23539823538075702,0.2061784643801796,0.16712567793535366,0.12081441070397907,0.07010183827093616,0.017966041941118966,-0.032657564269347995,-0.07903277128303789,-0.11876378051842666],[-0.14335579129849668,-0.10978201113265723,-0.06793803188546253,-0.019915691575644292,0.031745840459068614,0.08418731130237875,0.13437885433763305,0.1792839709402817,0.21602931256266372,0.2420710146043941,0.255348298963932,0.25441554164532254,0.23854497801642713,0.20779364608280457,0.1630299764243758,0.10591753298818528,0.03885568116655977,-0.03512071345143313,-0.11247819731414006,-0.18935183535374994,-0.2617343483375656,-0.32567778292945404,-0.37749737145928347,-0.41396693622794944,-0.43249545715781157,-0.4312752446188071,-0.4093935036702951,-0.36690087535799776,-0.30483270332925,-0.22518118755916025,-0.13081912452072303,-0.025378460035175753,0.08691073780520595,0.20141317105264114,0.3133036361206578,0.4177941096414197,0.5103612401471838,0.5869627944413911,0.6442321103834694,0.6796406846183429,0.69162061945593,0.6796406846183429,0.6442321103834694,0.5869627944413911,0.5103612401471838,0.4177941096414197,0.3133036361206578,0.20141317105264114,0.08691073780520595,-0.025378460035175753,-0.13081912452072303,-0.22518118755916025,-0.30483270332925,-0.36690087535799776,-0.4093935036702951,-0.4312752446188071,-0.43249545715781157,-0.41396693622794944,-0.37749737145928347,-0.32567778292945404,-0.2617343483375656,-0.18935183535374994,-0.11247819731414006,-0.03512071345143313,0.03885568116655977,0.10591753298818528,0.1630299764243758,0.20779364608280457,0.23854497801642713,0.25441554164532254,0.255348298963932,0.2420710146043941,0.21602931256266372,0.1792839709402817,0.13437885433763305,0.08418731130237875,0.031745840459068614,-0.019915691575644292,-0.06793803188546253,-0.10978201113265723],[-0.13698176393514344,-0.10127808535368477,-0.05761803324395176,-0.00823327044894154,0.044209509361482956,0.09674378883254962,0.14626024334832619,0.18967745729212915,0.22411724822563847,0.24707500803079696,0.256575492104657,0.25130504004127213,0.23071227369415245,0.19507084218595108,0.14549969299473817,0.08393854575868848,0.013078615468659323,-0.06374895250625122,-0.1427221428215067,-0.21970771693043264,-0.29046275344788247,-0.35084804028714445,-0.3970424421347404,-0.42574709936268906,-0.43436863670247905,-0.421171462695804,-0.3853906832849483,-0.32729906443176787,-0.24822376277499153,-0.15051108239111077,-0.03744017720227128,0.08691073780520595,0.21783961811686398,0.35022902170777614,0.47877771528316515,0.5982441516081277,0.7036898157513979,0.7907103570985019,0.8556429685382863,0.8957396184216221,0.9092974268256817,0.8957396184216221,0.8556429685382863,0.7907103570985019,0.7036898157513979,0.5982441516081277,0.47877771528316515,0.35022902170777614,0.21783961811686398,0.08691073780520595,-0.03744017720227128,-0.15051108239111077,-0.24822376277499153,-0.32729906443176787,-0.3853906832849483,-0.421171462695804,-0.43436863670247905,-0.42574709936268906,-0.3970424421347404,-0.35084804028714445,-0.29046275344788247,-0.21970771693043264,-0.1427221428215067,-0.06374895250625122,0.013078615468659323,0.08393854575868848,0.14549969299473817,0.19507084218595108,0.23071227369415245,0.25130504004127213,0.256575492104657,0.24707500803079696,0.22411724822563847,0.18967745729212915,0.14626024334832619,0.09674378883254962,0.044209509361482956,-0.00823327044894154,-0.05761803324395176,-0.10127808535368477],[-0.13096468174943518,-0.09341816596346665,-0.04822085787410071,0.0022716100207446164,0.05528095770522729,0.10774865812501504,0.15649972810645998,0.19841943861188654,0.23063350923189954,0.2506818889186662,0.2566762997375786,0.24743234013685533,0.2225680860000738,0.18256273925541686,0.12877087581897034,0.06339013493636744,-0.010617349295218181,-0.08964697741323371,-0.1696119802323752,-0.24613461781837798,-0.31475910259630246,-0.37117570680030565,-0.41144469052055266,-0.43220845214435083,-0.4308806796227811,-0.40580225753498556,-0.35635521764627226,-0.28302803533990717,-0.187427969950852,-0.0722388011028484,0.05887491198907235,0.20141317105264114,0.35022902170777614,0.49975144871271493,0.6442321103834694,0.7780040258931075,0.8957396184216221,0.992695449836068,1.0649315658049785,1.1094945766040856,1.124555367855928,1.1094945766040856,1.0649315658049785,0.992695449836068,0.8957396184216221,0.7780040258931075,0.6442321103834694,0.49975144871271493,0.35022902170777614,0.20141317105264114,0.05887491198907235,-0.0722388011028484,-0.187427969950852,-0.28302803533990717,-0.35635521764627226,-0.40580225753498556,-0.4308806796227811,-0.43220845214435083,-0.41144469052055266,-0.37117570680030565,-0.31475910259630246,-0.24613461781837798,-0.1696119802323752,-0.08964697741323371,-0.010617349295218181,0.06339013493636744,0.12877087581897034,0.18256273925541686,0.2225680860000738,0.24743234013685533,0.2566762997375786,0.2506818889186662,0.23063350923189954,0.19841943861188654,0.15649972810645998,0.10774865812501504,0.05528095770522729,0.0022716100207446164,-0.04822085787410071,-0.09341816596346665],[-0.1254554756233313,-0.08634370978474622,-0.039868134180728126,0.011507919583092052,0.0649104168254659,0.11720338291232232,0.16515865057394133,0.20563779959612533,0.23577655069724138,0.2531614457800734,0.2559887694405144,0.2431963471432226,0.21456006847846779,0.17074867404778504,0.11333242903336226,0.044743679368913644,-0.03181017613329085,-0.11247819731414006,-0.1929363397545002,-0.268589046149572,-0.33479237619194996,-0.38708768931988075,-0.42143408131469146,-0.43442757176285574,-0.42349546556438716,-0.38705535500366767,-0.324629843053556,-0.23691017597600564,-0.1257644689695074,0.005811034304373925,0.1537963512162099,0.3133036361206578,0.47877771528316515,0.6442321103834694,0.803509484779075,0.9505541014891831,1.0796831610910465,1.1858438330909473,1.2648434125627805,1.3135412961886945,1.3299933154720727,1.3135412961886945,1.2648434125627805,1.1858438330909473,1.0796831610910465,0.9505541014891831,0.803509484779075,0.6442321103834694,0.47877771528316515,0.3133036361206578,0.1537963512162099,0.005811034304373925,-0.1257644689695074,-0.23691017597600564,-0.324629843053556,-0.38705535500366767,-0.42349546556438716,-0.43442757176285574,-0.42143408131469146,-0.38708768931988075,-0.33479237619194996,-0.268589046149572,-0.1929363397545002,-0.11247819731414006,-0.03181017613329085,0.044743679368913644,0.11333242903336226,0.17074867404778504,0.21456006847846779,0.2431963471432226,0.2559887694405144,0.2531614457800734,0.23577655069724138,0.20563779959612533,0.16515865057394133,0.11720338291232232,0.0649104168254659,0.011507919583092052,-0.039868134180728126,-0.08634370978474622],[-0.12058300781296416,-0.08017262722723162,-0.032657564269347995,0.019407660252202565,0.07306884206017318,0.12512633286074154,0.17230988766358785,0.21146505144444128,0.23974108638511749,0.25477004091850136,0.2548267267047997,0.23896010343988033,0.2070878465419809,0.16004763127913005,0.09960082298540655,0.02838670735216783,-0.050171999808914604,-0.132008995765264,-0.2125937105436689,-0.28714197491104243,-0.35084804028714445,-0.3991265770886398,-0.42785247459104203,-0.4335860886421158,-0.4137720534188708,-0.36690087535799776,-0.2926242127644853,-0.19181693290541052,-0.06658162124929747,0.07980593576993696,0.24300880867803662,0.4177941096414197,0.5982441516081277,0.7780040258931075,0.9505541014891831,1.1094945766040856,1.2488284837498442,1.3632295064019535,1.4482816142111579,1.500678835049543,1.518375390968938,1.500678835049543,1.4482816142111579,1.3632295064019535,1.2488284837498442,1.1094945766040856,0.9505541014891831,0.7780040258931075,0.5982441516081277,0.4177941096414197,0.24300880867803662,0.07980593576993696,-0.06658162124929747,-0.19181693290541052,-0.2926242127644853,-0.36690087535799776,-0.4137720534188708,-0.4335860886421158,-0.42785247459104203,-0.3991265770886398,-0.35084804028714445,-0.28714197491104243,-0.2125937105436689,-0.132008995765264,-0.050171999808914604,0.02838670735216783,0.09960082298540655,0.16004763127913005,0.2070878465419809,0.23896010343988033,0.2548267267047997,0.25477004091850136,0.23974108638511749,0.21146505144444128,0.17230988766358785,0.12512633286074154,0.07306884206017318,0.019407660252202565,-0.032657564269347995,-0.08017262722723162],[-0.1164544699167505,-0.0750007897964791,-0.026665677985416577,0.025921773001301992,0.07974244535617742,0.13154597877649798,0.17802983029511174,0.21602931256266372,0.242708395806646,0.2557406839380664,0.25347017586536014,0.23504220166614895,0.20049625055173417,0.15081422331281308,0.08791985781076668,0.014627580006334946,-0.06545830501430487,-0.14809048863531396,-0.22856545626592412,-0.30194177876754097,-0.3632795822101567,-0.407889497747319,-0.43157859884674826,-0.4308806796227811,-0.40325873487122593,-0.3472686537517362,-0.2626748843273063,-0.15051108239111077,-0.0130814139378774,0.14609889758077332,0.32242214992953067,0.5103612401471838,0.7036898157513979,0.8957396184216221,1.0796831610910465,1.2488284837498442,1.3969119972732167,1.518375390968938,1.608613254431116,1.6641794167481594,1.682941969615793,1.6641794167481594,1.608613254431116,1.518375390968938,1.3969119972732167,1.2488284837498442,1.0796831610910465,0.8957396184216221,0.7036898157513979,0.5103612401471838,0.32242214992953067,0.14609889758077332,-0.0130814139378774,-0.15051108239111077,-0.2626748843273063,-0.3472686537517362,-0.40325873487122593,-0.4308806796227811,-0.43157859884674826,-0.407889497747319,-0.3632795822101567,-0.30194177876754097,-0.22856545626592412,-0.14809048863531396,-0.06545830501430487,0.014627580006334946,0.08791985781076668,0.15081422331281308,0.20049625055173417,0.23504220166614895,0.25347017586536014,0.2557406839380664,0.242708395806646,0.21602931256266372,0.17802983029511174,0.13154597877649798,0.07974244535617742,0.025921773001301992,-0.026665677985416577,-0.0750007897964791],[-0.1131560467581887,-0.07090368426500879,-0.021950582012676394,0.031016232090896562,0.08492762656935865,0.13649472168344115,0.18239124981424537,0.21944644111666822,0.24483804991090946,0.2562747828163765,0.252157618714697,0.2317103248693539,0.19507084218595108,0.1433370736825879,0.07856287339249271,0.0037025838949493145,-0.07749482277960204,-0.16063822727306362,-0.24088710992360066,-0.31317589634427284,-0.37245933283868765,-0.41396693622794944,-0.4334537754581445,-0.4274347075936389,-0.39338972722403176,-0.32992927901128904,-0.23691017597600564,-0.11549507625799743,0.03184881503912622,0.20141317105264114,0.38837235101706136,0.5869627944413911,0.7907103570985019,0.992695449836068,1.1858438330909473,1.3632295064019535,1.518375390968938,1.6455374774968983,1.7399588071171015,1.7980810383563555,1.8177033600622243,1.7980810383563555,1.7399588071171015,1.6455374774968983,1.518375390968938,1.3632295064019535,1.1858438330909473,0.992695449836068,0.7907103570985019,0.5869627944413911,0.38837235101706136,0.20141317105264114,0.03184881503912622,-0.11549507625799743,-0.23691017597600564,-0.32992927901128904,-0.39338972722403176,-0.4274347075936389,-0.4334537754581445,-0.41396693622794944,-0.37245933283868765,-0.31317589634427284,-0.24088710992360066,-0.16063822727306362,-0.07749482277960204,0.0037025838949493145,0.07856287339249271,0.1433370736825879,0.19507084218595108,0.2317103248693539,0.252157618714697,0.2562747828163765,0.24483804991090946,0.21944644111666822,0.18239124981424537,0.13649472168344115,0.08492762656935865,0.031016232090896562,-0.021950582012676394,-0.07090368426500879],[-0.1107536917561867,-0.06793803188546253,-0.01855449981019833,0.03466854669458865,0.08862652853638416,0.14000357308347133,0.18545724476618586,0.22181346801290225,0.24626113579560338,0.25653555744366946,0.25108014921898075,0.22917661128094333,0.19103523332295086,0.13783886506830845,0.07173638515428266,-0.004215913110515241,-0.08616386191642225,-0.1696119802323752,-0.24962054293732017,-0.3210343185560354,-0.3787322233669178,-0.417885750201407,-0.434213248547002,-0.42421701152445723,-0.3853906832849483,-0.3163857196862348,-0.21712746254366178,-0.08887373699192957,0.0657883626364726,0.24300880867803662,0.43780226922078175,0.6442321103834694,0.8556429685382863,1.0649315658049785,1.2648434125627805,1.4482816142111579,1.608613254431116,1.7399588071171015,1.8374507397311368,1.8974488797623419,1.917702154416812,1.8974488797623419,1.8374507397311368,1.7399588071171015,1.608613254431116,1.4482816142111579,1.2648434125627805,1.0649315658049785,0.8556429685382863,0.6442321103834694,0.43780226922078175,0.24300880867803662,0.0657883626364726,-0.08887373699192957,-0.21712746254366178,-0.3163857196862348,-0.3853906832849483,-0.42421701152445723,-0.434213248547002,-0.417885750201407,-0.3787322233669178,-0.3210343185560354,-0.24962054293732017,-0.1696119802323752,-0.08616386191642225,-0.004215913110515241,0.07173638515428266,0.13783886506830845,0.19103523332295086,0.22917661128094333,0.25108014921898075,0.25653555744366946,0.24626113579560338,0.22181346801290225,0.18545724476618586,0.14000357308347133,0.08862652853638416,0.03466854669458865,-0.01855449981019833,-0.06793803188546253],[-0.10929387900894774,-0.06614321685638791,-0.016505930263581485,0.03686485131708162,0.09084339726921295,0.14209785531573388,0.18727640924644018,0.2232034254780841,0.24707500803079696,0.2566430509401283,0.25037713957121355,0.22759450814784551,0.18854967763954522,0.134477311926808,0.06758414818694233,-0.009011537058698997,-0.09139170665445415,-0.17499760171649797,-0.254829433326894,-0.32567778292945404,-0.382375848005458,-0.4200602785751461,-0.43442757176285574,-0.42197287899622543,-0.3801986514917913,-0.3077817863653888,-0.20468978410715197,-0.0722388011028484,0.08691073780520595,0.2688222513075441,0.4684129583840573,0.6796406846183429,0.8957396184216221,1.1094945766040856,1.3135412961886945,1.500678835049543,1.6641794167481594,1.7980810383563555,1.8974488797623419,1.9585929762944412,1.9792316740361835,1.9585929762944412,1.8974488797623419,1.7980810383563555,1.6641794167481594,1.500678835049543,1.3135412961886945,1.1094945766040856,0.8957396184216221,0.6796406846183429,0.4684129583840573,0.2688222513075441,0.08691073780520595,-0.0722388011028484,-0.20468978410715197,-0.3077817863653888,-0.3801986514917913,-0.42197287899622543,-0.43442757176285574,-0.4200602785751461,-0.382375848005458,-0.32567778292945404,-0.254829433326894,-0.17499760171649797,-0.09139170665445415,-0.009011537058698997,0.06758414818694233,0.134477311926808,0.18854967763954522,0.22759450814784551,0.25037713957121355,0.2566430509401283,0.24707500803079696,0.2232034254780841,0.18727640924644018,0.14209785531573388,0.09084339726921295,0.03686485131708162,-0.016505930263581485,-0.06614321685638791],[-0.10880422217787396,-0.06554239869174844,-0.015821288518275644,0.03759772656874239,0.09158188560927924,0.14279404657238684,0.18787932061729182,0.22366162672468853,0.24733956165584545,0.2566706526738519,0.25013332713993036,0.2270567942100705,0.18771045677679687,0.1333463922312941,0.0661907655654817,-0.010617349295218181,-0.09313849939964196,-0.17679272260843765,-0.2565601183892334,-0.32721314035298743,-0.3835697098652554,-0.4207548585159486,-0.43445783007337646,-0.421171462695804,-0.3784012476539641,-0.30483270332925,-0.20044755867978276,-0.06658162124929747,0.0940800053732448,0.277571630583514,0.47877771528316515,0.69162061945593,0.9092974268256817,1.124555367855928,1.3299933154720727,1.518375390968938,1.682941969615793,1.8177033600622243,1.917702154416812,1.9792316740361835,null,1.9792316740361835,1.917702154416812,1.8177033600622243,1.682941969615793,1.518375390968938,1.3299933154720727,1.124555367855928,0.9092974268256817,0.69162061945593,0.47877771528316515,0.277571630583514,0.0940800053732448,-0.06658162124929747,-0.20044755867978276,-0.30483270332925,-0.3784012476539641,-0.421171462695804,-0.43445783007337646,-0.4207548585159486,-0.3835697098652554,-0.32721314035298743,-0.2565601183892334,-0.17679272260843765,-0.09313849939964196,-0.010617349295218181,0.0661907655654817,0.1333463922312941,0.18771045677679687,0.2270567942100705,0.25013332713993036,0.2566706526738519,0.24733956165584545,0.22366162672468853,0.18787932061729182,0.14279404657238684,0.09158188560927924,0.03759772656874239,-0.015821288518275644,-0.06554239869174844],[-0.10929387900894774,-0.06614321685638791,-0.016505930263581485,0.03686485131708162,0.09084339726921295,0.14209785531573388,0.18727640924644018,0.2232034254780841,0.24707500803079696,0.2566430509401283,0.25037713957121355,0.22759450814784551,0.18854967763954522,0.134477311926808,0.06758414818694233,-0.009011537058698997,-0.09139170665445415,-0.17499760171649797,-0.254829433326894,-0.32567778292945404,-0.382375848005458,-0.4200602785751461,-0.43442757176285574,-0.42197287899622543,-0.3801986514917913,-0.3077817863653888,-0.20468978410715197,-0.0722388011028484,0.08691073780520595,0.2688222513075441,0.4684129583840573,0.6796406846183429,0.8957396184216221,1.1094945766040856,1.3135412961886945,1.500678835049543,1.6641794167481594,1.7980810383563555,1.8974488797623419,1.9585929762944412,1.9792316740361835,1.9585929762944412,1.8974488797623419,1.7980810383563555,1.6641794167481594,1.500678835049543,1.3135412961886945,1.1094945766040856,0.8957396184216221,0.6796406846183429,0.4684129583840573,0.2688222513075441,0.08691073780520595,-0.0722388011028484,-0.20468978410715197,-0.3077817863653888,-0.3801986514917913,-0.42197287899622543,-0.43442757176285574,-0.4200602785751461,-0.382375848005458,-0.32567778292945404,-0.254829433326894,-0.17499760171649797,-0.09139170665445415,-0.009011537058698997,0.06758414818694233,0.134477311926808,0.18854967763954522,0.22759450814784551,0.25037713957121355,0.2566430509401283,0.24707500803079696,0.2232034254780841,0.18727640924644018,0.14209785531573388,0.09084339726921295,0.03686485131708162,-0.016505930263581485,-0.06614321685638791],[-0.1107536917561867,-0.06793803188546253,-0.01855449981019833,0.03466854669458865,0.08862652853638416,0.14000357308347133,0.18545724476618586,0.22181346801290225,0.24626113579560338,0.25653555744366946,0.25108014921898075,0.22917661128094333,0.19103523332295086,0.13783886506830845,0.07173638515428266,-0.004215913110515241,-0.08616386191642225,-0.1696119802323752,-0.24962054293732017,-0.3210343185560354,-0.3787322233669178,-0.417885750201407,-0.434213248547002,-0.42421701152445723,-0.3853906832849483,-0.3163857196862348,-0.21712746254366178,-0.08887373699192957,0.0657883626364726,0.24300880867803662,0.43780226922078175,0.6442321103834694,0.8556429685382863,1.0649315658049785,1.2648434125627805,1.4482816142111579,1.608613254431116,1.7399588071171015,1.8374507397311368,1.8974488797623419,1.917702154416812,1.8974488797623419,1.8374507397311368,1.7399588071171015,1.608613254431116,1.4482816142111579,1.2648434125627805,1.0649315658049785,0.8556429685382863,0.6442321103834694,0.43780226922078175,0.24300880867803662,0.0657883626364726,-0.08887373699192957,-0.21712746254366178,-0.3163857196862348,-0.3853906832849483,-0.42421701152445723,-0.434213248547002,-0.417885750201407,-0.3787322233669178,-0.3210343185560354,-0.24962054293732017,-0.1696119802323752,-0.08616386191642225,-0.004215913110515241,0.07173638515428266,0.13783886506830845,0.19103523332295086,0.22917661128094333,0.25108014921898075,0.25653555744366946,0.24626113579560338,0.22181346801290225,0.18545724476618586,0.14000357308347133,0.08862652853638416,0.03466854669458865,-0.01855449981019833,-0.06793803188546253],[-0.1131560467581887,-0.07090368426500879,-0.021950582012676394,0.031016232090896562,0.08492762656935865,0.13649472168344115,0.18239124981424537,0.21944644111666822,0.24483804991090946,0.2562747828163765,0.252157618714697,0.2317103248693539,0.19507084218595108,0.1433370736825879,0.07856287339249271,0.0037025838949493145,-0.07749482277960204,-0.16063822727306362,-0.24088710992360066,-0.31317589634427284,-0.37245933283868765,-0.41396693622794944,-0.4334537754581445,-0.4274347075936389,-0.39338972722403176,-0.32992927901128904,-0.23691017597600564,-0.11549507625799743,0.03184881503912622,0.20141317105264114,0.38837235101706136,0.5869627944413911,0.7907103570985019,0.992695449836068,1.1858438330909473,1.3632295064019535,1.518375390968938,1.6455374774968983,1.7399588071171015,1.7980810383563555,1.8177033600622243,1.7980810383563555,1.7399588071171015,1.6455374774968983,1.518375390968938,1.3632295064019535,1.1858438330909473,0.992695449836068,0.7907103570985019,0.5869627944413911,0.38837235101706136,0.20141317105264114,0.03184881503912622,-0.11549507625799743,-0.23691017597600564,-0.32992927901128904,-0.39338972722403176,-0.4274347075936389,-0.4334537754581445,-0.41396693622794944,-0.37245933283868765,-0.31317589634427284,-0.24088710992360066,-0.16063822727306362,-0.07749482277960204,0.0037025838949493145,0.07856287339249271,0.1433370736825879,0.19507084218595108,0.2317103248693539,0.252157618714697,0.2562747828163765,0.24483804991090946,0.21944644111666822,0.18239124981424537,0.13649472168344115,0.08492762656935865,0.031016232090896562,-0.021950582012676394,-0.07090368426500879],[-0.1164544699167505,-0.0750007897964791,-0.026665677985416577,0.025921773001301992,0.07974244535617742,0.13154597877649798,0.17802983029511174,0.21602931256266372,0.242708395806646,0.2557406839380664,0.25347017586536014,0.23504220166614895,0.20049625055173417,0.15081422331281308,0.08791985781076668,0.014627580006334946,-0.06545830501430487,-0.14809048863531396,-0.22856545626592412,-0.30194177876754097,-0.3632795822101567,-0.407889497747319,-0.43157859884674826,-0.4308806796227811,-0.40325873487122593,-0.3472686537517362,-0.2626748843273063,-0.15051108239111077,-0.0130814139378774,0.14609889758077332,0.32242214992953067,0.5103612401471838,0.7036898157513979,0.8957396184216221,1.0796831610910465,1.2488284837498442,1.3969119972732167,1.518375390968938,1.608613254431116,1.6641794167481594,1.682941969615793,1.6641794167481594,1.608613254431116,1.518375390968938,1.3969119972732167,1.2488284837498442,1.0796831610910465,0.8957396184216221,0.7036898157513979,0.5103612401471838,0.32242214992953067,0.14609889758077332,-0.0130814139378774,-0.15051108239111077,-0.2626748843273063,-0.3472686537517362,-0.40325873487122593,-0.4308806796227811,-0.43157859884674826,-0.407889497747319,-0.3632795822101567,-0.30194177876754097,-0.22856545626592412,-0.14809048863531396,-0.06545830501430487,0.014627580006334946,0.08791985781076668,0.15081422331281308,0.20049625055173417,0.23504220166614895,0.25347017586536014,0.2557406839380664,0.242708395806646,0.21602931256266372,0.17802983029511174,0.13154597877649798,0.07974244535617742,0.025921773001301992,-0.026665677985416577,-0.0750007897964791],[-0.12058300781296416,-0.08017262722723162,-0.032657564269347995,0.019407660252202565,0.07306884206017318,0.12512633286074154,0.17230988766358785,0.21146505144444128,0.23974108638511749,0.25477004091850136,0.2548267267047997,0.23896010343988033,0.2070878465419809,0.16004763127913005,0.09960082298540655,0.02838670735216783,-0.050171999808914604,-0.132008995765264,-0.2125937105436689,-0.28714197491104243,-0.35084804028714445,-0.3991265770886398,-0.42785247459104203,-0.4335860886421158,-0.4137720534188708,-0.36690087535799776,-0.2926242127644853,-0.19181693290541052,-0.06658162124929747,0.07980593576993696,0.24300880867803662,0.4177941096414197,0.5982441516081277,0.7780040258931075,0.9505541014891831,1.1094945766040856,1.2488284837498442,1.3632295064019535,1.4482816142111579,1.500678835049543,1.518375390968938,1.500678835049543,1.4482816142111579,1.3632295064019535,1.2488284837498442,1.1094945766040856,0.9505541014891831,0.7780040258931075,0.5982441516081277,0.4177941096414197,0.24300880867803662,0.07980593576993696,-0.06658162124929747,-0.19181693290541052,-0.2926242127644853,-0.36690087535799776,-0.4137720534188708,-0.4335860886421158,-0.42785247459104203,-0.3991265770886398,-0.35084804028714445,-0.28714197491104243,-0.2125937105436689,-0.132008995765264,-0.050171999808914604,0.02838670735216783,0.09960082298540655,0.16004763127913005,0.2070878465419809,0.23896010343988033,0.2548267267047997,0.25477004091850136,0.23974108638511749,0.21146505144444128,0.17230988766358785,0.12512633286074154,0.07306884206017318,0.019407660252202565,-0.032657564269347995,-0.08017262722723162],[-0.1254554756233313,-0.08634370978474622,-0.039868134180728126,0.011507919583092052,0.0649104168254659,0.11720338291232232,0.16515865057394133,0.20563779959612533,0.23577655069724138,0.2531614457800734,0.2559887694405144,0.2431963471432226,0.21456006847846779,0.17074867404778504,0.11333242903336226,0.044743679368913644,-0.03181017613329085,-0.11247819731414006,-0.1929363397545002,-0.268589046149572,-0.33479237619194996,-0.38708768931988075,-0.42143408131469146,-0.43442757176285574,-0.42349546556438716,-0.38705535500366767,-0.324629843053556,-0.23691017597600564,-0.1257644689695074,0.005811034304373925,0.1537963512162099,0.3133036361206578,0.47877771528316515,0.6442321103834694,0.803509484779075,0.9505541014891831,1.0796831610910465,1.1858438330909473,1.2648434125627805,1.3135412961886945,1.3299933154720727,1.3135412961886945,1.2648434125627805,1.1858438330909473,1.0796831610910465,0.9505541014891831,0.803509484779075,0.6442321103834694,0.47877771528316515,0.3133036361206578,0.1537963512162099,0.005811034304373925,-0.1257644689695074,-0.23691017597600564,-0.324629843053556,-0.38705535500366767,-0.42349546556438716,-0.43442757176285574,-0.42143408131469146,-0.38708768931988075,-0.33479237619194996,-0.268589046149572,-0.1929363397545002,-0.11247819731414006,-0.03181017613329085,0.044743679368913644,0.11333242903336226,0.17074867404778504,0.21456006847846779,0.2431963471432226,0.2559887694405144,0.2531614457800734,0.23577655069724138,0.20563779959612533,0.16515865057394133,0.11720338291232232,0.0649104168254659,0.011507919583092052,-0.039868134180728126,-0.08634370978474622],[-0.13096468174943518,-0.09341816596346665,-0.04822085787410071,0.0022716100207446164,0.05528095770522729,0.10774865812501504,0.15649972810645998,0.19841943861188654,0.23063350923189954,0.2506818889186662,0.2566762997375786,0.24743234013685533,0.2225680860000738,0.18256273925541686,0.12877087581897034,0.06339013493636744,-0.010617349295218181,-0.08964697741323371,-0.1696119802323752,-0.24613461781837798,-0.31475910259630246,-0.37117570680030565,-0.41144469052055266,-0.43220845214435083,-0.4308806796227811,-0.40580225753498556,-0.35635521764627226,-0.28302803533990717,-0.187427969950852,-0.0722388011028484,0.05887491198907235,0.20141317105264114,0.35022902170777614,0.49975144871271493,0.6442321103834694,0.7780040258931075,0.8957396184216221,0.992695449836068,1.0649315658049785,1.1094945766040856,1.124555367855928,1.1094945766040856,1.0649315658049785,0.992695449836068,0.8957396184216221,0.7780040258931075,0.6442321103834694,0.49975144871271493,0.35022902170777614,0.20141317105264114,0.05887491198907235,-0.0722388011028484,-0.187427969950852,-0.28302803533990717,-0.35635521764627226,-0.40580225753498556,-0.4308806796227811,-0.43220845214435083,-0.41144469052055266,-0.37117570680030565,-0.31475910259630246,-0.24613461781837798,-0.1696119802323752,-0.08964697741323371,-0.010617349295218181,0.06339013493636744,0.12877087581897034,0.18256273925541686,0.2225680860000738,0.24743234013685533,0.2566762997375786,0.2506818889186662,0.23063350923189954,0.19841943861188654,0.15649972810645998,0.10774865812501504,0.05528095770522729,0.0022716100207446164,-0.04822085787410071,-0.09341816596346665],[-0.13698176393514344,-0.10127808535368477,-0.05761803324395176,-0.00823327044894154,0.044209509361482956,0.09674378883254962,0.14626024334832619,0.18967745729212915,0.22411724822563847,0.24707500803079696,0.256575492104657,0.25130504004127213,0.23071227369415245,0.19507084218595108,0.14549969299473817,0.08393854575868848,0.013078615468659323,-0.06374895250625122,-0.1427221428215067,-0.21970771693043264,-0.29046275344788247,-0.35084804028714445,-0.3970424421347404,-0.42574709936268906,-0.43436863670247905,-0.421171462695804,-0.3853906832849483,-0.32729906443176787,-0.24822376277499153,-0.15051108239111077,-0.03744017720227128,0.08691073780520595,0.21783961811686398,0.35022902170777614,0.47877771528316515,0.5982441516081277,0.7036898157513979,0.7907103570985019,0.8556429685382863,0.8957396184216221,0.9092974268256817,0.8957396184216221,0.8556429685382863,0.7907103570985019,0.7036898157513979,0.5982441516081277,0.47877771528316515,0.35022902170777614,0.21783961811686398,0.08691073780520595,-0.03744017720227128,-0.15051108239111077,-0.24822376277499153,-0.32729906443176787,-0.3853906832849483,-0.421171462695804,-0.43436863670247905,-0.42574709936268906,-0.3970424421347404,-0.35084804028714445,-0.29046275344788247,-0.21970771693043264,-0.1427221428215067,-0.06374895250625122,0.013078615468659323,0.08393854575868848,0.14549969299473817,0.19507084218595108,0.23071227369415245,0.25130504004127213,0.256575492104657,0.24707500803079696,0.22411724822563847,0.18967745729212915,0.14626024334832619,0.09674378883254962,0.044209509361482956,-0.00823327044894154,-0.05761803324395176,-0.10127808535368477],[-0.14335579129849668,-0.10978201113265723,-0.06793803188546253,-0.019915691575644292,0.031745840459068614,0.08418731130237875,0.13437885433763305,0.1792839709402817,0.21602931256266372,0.2420710146043941,0.255348298963932,0.25441554164532254,0.23854497801642713,0.20779364608280457,0.1630299764243758,0.10591753298818528,0.03885568116655977,-0.03512071345143313,-0.11247819731414006,-0.18935183535374994,-0.2617343483375656,-0.32567778292945404,-0.37749737145928347,-0.41396693622794944,-0.43249545715781157,-0.4312752446188071,-0.4093935036702951,-0.36690087535799776,-0.30483270332925,-0.22518118755916025,-0.13081912452072303,-0.025378460035175753,0.08691073780520595,0.20141317105264114,0.3133036361206578,0.4177941096414197,0.5103612401471838,0.5869627944413911,0.6442321103834694,0.6796406846183429,0.69162061945593,0.6796406846183429,0.6442321103834694,0.5869627944413911,0.5103612401471838,0.4177941096414197,0.3133036361206578,0.20141317105264114,0.08691073780520595,-0.025378460035175753,-0.13081912452072303,-0.22518118755916025,-0.30483270332925,-0.36690087535799776,-0.4093935036702951,-0.4312752446188071,-0.43249545715781157,-0.41396693622794944,-0.37749737145928347,-0.32567778292945404,-0.2617343483375656,-0.18935183535374994,-0.11247819731414006,-0.03512071345143313,0.03885568116655977,0.10591753298818528,0.1630299764243758,0.20779364608280457,0.23854497801642713,0.25441554164532254,0.255348298963932,0.2420710146043941,0.21602931256266372,0.1792839709402817,0.13437885433763305,0.08418731130237875,0.031745840459068614,-0.019915691575644292,-0.06793803188546253,-0.10978201113265723],[-0.1499137997580331,-0.11876378051842666,-0.07903277128303789,-0.032657564269347995,0.017966041941118966,0.07010183827093616,0.12081441070397907,0.16712567793535366,0.2061784643801796,0.23539823538075702,0.25264402764959015,0.2563400102730029,0.2455799958764798,0.22019854657881394,0.18080401871815463,0.12877087581897034,0.0661907655654817,-0.004215913110515241,-0.0792240541655952,-0.15525760655490364,-0.22856545626592412,-0.29541051237375787,-0.35226222727992795,-0.39598244357893553,-0.42399466300627076,-0.43442757176285574,-0.42622489689420734,-0.39921534828629784,-0.3541384336243295,-0.2926242127644853,-0.21712746254366178,-0.13081912452072303,-0.03744017720227128,0.05887491198907235,0.1537963512162099,0.24300880867803662,0.32242214992953067,0.38837235101706136,0.43780226922078175,0.4684129583840573,0.47877771528316515,0.4684129583840573,0.43780226922078175,0.38837235101706136,0.32242214992953067,0.24300880867803662,0.1537963512162099,0.05887491198907235,-0.03744017720227128,-0.13081912452072303,-0.21712746254366178,-0.2926242127644853,-0.3541384336243295,-0.39921534828629784,-0.42622489689420734,-0.43442757176285574,-0.42399466300627076,-0.39598244357893553,-0.35226222727992795,-0.29541051237375787,-0.22856545626592412,-0.15525760655490364,-0.0792240541655952,-0.004215913110515241,0.0661907655654817,0.12877087581897034,0.18080401871815463,0.22019854657881394,0.2455799958764798,0.2563400102730029,0.25264402764959015,0.23539823538075702,0.2061784643801796,0.16712567793535366,0.12081441070397907,0.07010183827093616,0.017966041941118966,-0.032657564269347995,-0.07903277128303789,-0.11876378051842666],[-0.15646143337355978,-0.12803192632998142,-0.0907256642328181,-0.046310064114579955,0.0029779491154211806,0.054541276561040686,0.10555493165712146,0.15311446345017118,0.1943926655354523,0.22679610352037188,0.24811283911536614,0.2566430509401283,0.25130504004127213,0.2317103248693539,0.1982031145119569,0.15186131748507978,0.09445829662141196,0.02838670735216783,-0.043452159632214875,-0.1177881852505473,-0.19114437378651342,-0.26001264723920775,-0.3210343185560354,-0.37117570680030565,-0.407889497747319,-0.42925310491460716,-0.434076417833265,-0.42197287899622543,-0.39338972722403176,-0.3495953826561967,-0.2926242127644853,-0.22518118755916025,-0.15051108239111077,-0.0722388011028484,0.005811034304373925,0.07980593576993696,0.14609889758077332,0.20141317105264114,0.24300880867803662,0.2688222513075441,0.277571630583514,0.2688222513075441,0.24300880867803662,0.20141317105264114,0.14609889758077332,0.07980593576993696,0.005811034304373925,-0.0722388011028484,-0.15051108239111077,-0.22518118755916025,-0.2926242127644853,-0.3495953826561967,-0.39338972722403176,-0.42197287899622543,-0.434076417833265,-0.42925310491460716,-0.407889497747319,-0.37117570680030565,-0.3210343185560354,-0.26001264723920775,-0.19114437378651342,-0.1177881852505473,-0.043452159632214875,0.02838670735216783,0.09445829662141196,0.15186131748507978,0.1982031145119569,0.2317103248693539,0.25130504004127213,0.2566430509401283,0.24811283911536614,0.22679610352037188,0.1943926655354523,0.15311446345017118,0.10555493165712146,0.054541276561040686,0.0029779491154211806,-0.046310064114579955,-0.0907256642328181,-0.12803192632998142],[-0.16278435980926842,-0.13736985507049018,-0.10281030706494565,-0.060690608986011814,-0.013073952151520388,0.03759772656874239,0.08862652853638416,0.13719827990417027,0.18053174205108255,0.21602931256266372,0.24142096714711753,0.254893432701845,0.25519727019112654,0.24172565029557566,0.21456006847846779,0.17447999195279823,0.12293536517635703,0.06198291759831892,-0.005810793613848673,-0.07749482277960204,-0.14988136590815446,-0.21970771693043264,-0.2838041182964338,-0.3392585664190622,-0.3835697098652554,-0.4147795406040892,-0.43157859884674826,-0.4333778373354074,-0.4203430458705095,-0.39338972722403176,-0.3541384336243295,-0.30483270332925,-0.24822376277499153,-0.187427969950852,-0.1257644689695074,-0.06658162124929747,-0.0130814139378774,0.03184881503912622,0.0657883626364726,0.08691073780520595,0.0940800053732448,0.08691073780520595,0.0657883626364726,0.03184881503912622,-0.0130814139378774,-0.06658162124929747,-0.1257644689695074,-0.187427969950852,-0.24822376277499153,-0.30483270332925,-0.3541384336243295,-0.39338972722403176,-0.4203430458705095,-0.4333778373354074,-0.43157859884674826,-0.4147795406040892,-0.3835697098652554,-0.3392585664190622,-0.2838041182964338,-0.21970771693043264,-0.14988136590815446,-0.07749482277960204,-0.005810793613848673,0.06198291759831892,0.12293536517635703,0.17447999195279823,0.21456006847846779,0.24172565029557566,0.25519727019112654,0.254893432701845,0.24142096714711753,0.21602931256266372,0.18053174205108255,0.13719827990417027,0.08862652853638416,0.03759772656874239,-0.013073952151520388,-0.060690608986011814,-0.10281030706494565,-0.13736985507049018],[-0.16865061331126227,-0.14653700801271363,-0.11505016730310495,-0.07558080422426758,-0.030004497243790427,0.019407660252202565,0.07010183827093616,0.11937185506223688,0.16450028494360933,0.20290271423033404,0.23226729318028777,0.2506818889186662,0.2567417315441088,0.24963143467045815,0.22917661128094333,0.19586192453391038,0.15081422331281308,0.0957513146109,0.032898814044057145,-0.03512071345143313,-0.10542055787501849,-0.17499760171649797,-0.24088710992360066,-0.3003162506586467,-0.35084804028714445,-0.3905078789395116,-0.417885750201407,-0.43220845214435083,-0.4333778373354074,-0.42197287899622543,-0.39921534828629784,-0.36690087535799776,-0.32729906443176787,-0.28302803533990717,-0.23691017597600564,-0.19181693290541052,-0.15051108239111077,-0.11549507625799743,-0.08887373699192957,-0.0722388011028484,-0.06658162124929747,-0.0722388011028484,-0.08887373699192957,-0.11549507625799743,-0.15051108239111077,-0.19181693290541052,-0.23691017597600564,-0.28302803533990717,-0.32729906443176787,-0.36690087535799776,-0.39921534828629784,-0.42197287899622543,-0.4333778373354074,-0.43220845214435083,-0.417885750201407,-0.3905078789395116,-0.35084804028714445,-0.3003162506586467,-0.24088710992360066,-0.17499760171649797,-0.10542055787501849,-0.03512071345143313,0.032898814044057145,0.0957513146109,0.15081422331281308,0.19586192453391038,0.22917661128094333,0.24963143467045815,0.2567417315441088,0.2506818889186662,0.23226729318028777,0.20290271423033404,0.16450028494360933,0.11937185506223688,0.07010183827093616,0.019407660252202565,-0.030004497243790427,-0.07558080422426758,-0.11505016730310495,-0.14653700801271363],[-0.1738139924448547,-0.15527119023634722,-0.1271795169340972,-0.0907256642328181,-0.04758506314163741,0.0001569493213448689,0.05010748884225075,0.09968670899986165,0.14626024334832619,0.18727640924644018,0.22040074178662336,0.24364050109720906,0.2554522819126627,0.2548267267047997,0.2413455569066888,0.2152076253393881,0.17722237538812438,0.12877087581897034,0.07173638515428266,0.00840808631479302,-0.05863687417657578,-0.12666669235949252,-0.1929363397545002,-0.254829433326894,-0.309992807249447,-0.3564564355250057,-0.39273214882544505,-0.417885750201407,-0.43157859884674826,-0.434076417833265,-0.42622489689420734,-0.4093935036702951,-0.3853906832849483,-0.35635521764627226,-0.324629843053556,-0.2926242127644853,-0.2626748843273063,-0.23691017597600564,-0.21712746254366178,-0.20468978410715197,-0.20044755867978276,-0.20468978410715197,-0.21712746254366178,-0.23691017597600564,-0.2626748843273063,-0.2926242127644853,-0.324629843053556,-0.35635521764627226,-0.3853906832849483,-0.4093935036702951,-0.42622489689420734,-0.434076417833265,-0.43157859884674826,-0.417885750201407,-0.39273214882544505,-0.3564564355250057,-0.309992807249447,-0.254829433326894,-0.1929363397545002,-0.12666669235949252,-0.05863687417657578,0.00840808631479302,0.07173638515428266,0.12877087581897034,0.17722237538812438,0.2152076253393881,0.2413455569066888,0.2548267267047997,0.2554522819126627,0.24364050109720906,0.22040074178662336,0.18727640924644018,0.14626024334832619,0.09968670899986165,0.05010748884225075,0.0001569493213448689,-0.04758506314163741,-0.0907256642328181,-0.1271795169340972,-0.15527119023634722],[-0.17801860199902664,-0.16329221750830802,-0.13890582780165694,-0.10583439818051152,-0.06554239869174844,-0.019915691575644292,0.02883009042098063,0.07825990831739421,0.1258425822940911,0.16908036038891633,0.20563779959612533,0.23346296309158113,0.2508943222213973,0.25674750760048576,0.25037713957121355,0.2317103248693539,0.20124995852555586,0.16004763127913005,0.1096476200446325,0.05200503792795912,-0.010617349295218181,-0.0757679524450742,-0.1409342819269669,-0.2036729142303004,-0.2617343483375656,-0.31317589634427284,-0.3564564355250057,-0.3905078789395116,-0.4147795406040892,-0.42925310491460716,-0.43442757176285574,-0.4312752446188071,-0.421171462695804,-0.40580225753498556,-0.38705535500366767,-0.36690087535799776,-0.3472686537517362,-0.32992927901128904,-0.3163857196862348,-0.3077817863653888,-0.30483270332925,-0.3077817863653888,-0.3163857196862348,-0.32992927901128904,-0.3472686537517362,-0.36690087535799776,-0.38705535500366767,-0.40580225753498556,-0.421171462695804,-0.4312752446188071,-0.43442757176285574,-0.42925310491460716,-0.4147795406040892,-0.3905078789395116,-0.3564564355250057,-0.31317589634427284,-0.2617343483375656,-0.2036729142303004,-0.1409342819269669,-0.0757679524450742,-0.010617349295218181,0.05200503792795912,0.1096476200446325,0.16004763127913005,0.20124995852555586,0.2317103248693539,0.25037713957121355,0.25674750760048576,0.2508943222213973,0.23346296309158113,0.20563779959612533,0.16908036038891633,0.1258425822940911,0.07825990831739421,0.02883009042098063,-0.019915691575644292,-0.06554239869174844,-0.10583439818051152,-0.13890582780165694,-0.16329221750830802],[-0.18100457917857166,-0.17030698199702413,-0.1499137997580331,-0.12058300781296416,-0.08355939645450051,-0.040517266401149735,0.0065202421682302655,0.05528095770522729,0.10335731863015635,0.14832776112580212,0.18787932061729182,0.21992483146863692,0.242708395806646,0.254893432701845,0.25562857790064414,0.24458792842044305,0.22198354690007724,0.18854967763954522,0.14549969299473817,0.09445829662141196,0.037372873633869375,-0.02359098016854476,-0.08616386191642225,-0.14809048863531396,-0.20724458052139974,-0.2617343483375656,-0.309992807249447,-0.35084804028714445,-0.3835697098652554,-0.407889497747319,-0.42399466300627076,-0.43249545715781157,-0.43436863670247905,-0.4308806796227811,-0.42349546556438716,-0.4137720534188708,-0.40325873487122593,-0.39338972722403176,-0.3853906832849483,-0.3801986514917913,-0.3784012476539641,-0.3801986514917913,-0.3853906832849483,-0.39338972722403176,-0.40325873487122593,-0.4137720534188708,-0.42349546556438716,-0.4308806796227811,-0.43436863670247905,-0.43249545715781157,-0.42399466300627076,-0.407889497747319,-0.3835697098652554,-0.35084804028714445,-0.309992807249447,-0.2617343483375656,-0.20724458052139974,-0.14809048863531396,-0.08616386191642225,-0.02359098016854476,0.037372873633869375,0.09445829662141196,0.14549969299473817,0.18854967763954522,0.22198354690007724,0.24458792842044305,0.25562857790064414,0.254893432701845,0.242708395806646,0.21992483146863692,0.18787932061729182,0.14832776112580212,0.10335731863015635,0.05528095770522729,0.0065202421682302655,-0.040517266401149735,-0.08355939645450051,-0.12058300781296416,-0.1499137997580331,-0.17030698199702413],[-0.18251498442862385,-0.1760159755489718,-0.15987112992755653,-0.13461888616197776,-0.10127808535368477,-0.061301442485772274,-0.016505930263581485,0.031016232090896562,0.07900122348247962,0.12512633286074154,0.16712567793535366,0.20290271423033404,0.23063350923189954,0.24885528388828942,0.25653555744366946,0.25311832399967577,0.23854497801642713,0.21324911772700825,0.17812580971586786,0.134477311926808,0.08393854575868848,0.02838670735216783,-0.030159748399708135,-0.08964697741323371,-0.14809048863531396,-0.2036729142303004,-0.254829433326894,-0.3003162506586467,-0.3392585664190622,-0.37117570680030565,-0.39598244357893553,-0.41396693622794944,-0.42574709936268906,-0.43220845214435083,-0.43442757176285574,-0.4335860886421158,-0.4308806796227811,-0.4274347075936389,-0.42421701152445723,-0.42197287899622543,-0.421171462695804,-0.42197287899622543,-0.42421701152445723,-0.4274347075936389,-0.4308806796227811,-0.4335860886421158,-0.43442757176285574,-0.43220845214435083,-0.42574709936268906,-0.41396693622794944,-0.39598244357893553,-0.37117570680030565,-0.3392585664190622,-0.3003162506586467,-0.254829433326894,-0.2036729142303004,-0.14809048863531396,-0.08964697741323371,-0.030159748399708135,0.02838670735216783,0.08393854575868848,0.134477311926808,0.17812580971586786,0.21324911772700825,0.23854497801642713,0.25311832399967577,0.25653555744366946,0.24885528388828942,0.23063350923189954,0.20290271423033404,0.16712567793535366,0.12512633286074154,0.07900122348247962,0.031016232090896562,-0.016505930263581485,-0.061301442485772274,-0.10127808535368477,-0.13461888616197776,-0.15987112992755653,-0.1760159755489718],[-0.18230376872794093,-0.18012123502583363,-0.16843605361995675,-0.14756752732225356,-0.11830504740258321,-0.08187218787401292,-0.039868134180728126,0.0058103924762656495,0.05306249567952219,0.09968670899986165,0.14348926836260514,0.18239124981424537,0.2145288714461612,0.2383416766936446,0.25264402764959015,0.2566762997375786,0.25013332713993036,0.23316893482082693,0.2063767337439853,0.17074867404778504,0.12761407121954643,0.07856287339249271,0.02535776443828009,-0.030159748399708135,-0.08616386191642225,-0.1409342819269669,-0.1929363397545002,-0.24088710992360066,-0.2838041182964338,-0.3210343185560354,-0.35226222727992795,-0.37749737145928347,-0.3970424421347404,-0.41144469052055266,-0.42143408131469146,-0.42785247459104203,-0.43157859884674826,-0.4334537754581445,-0.434213248547002,-0.43442757176285574,-0.43445783007337646,-0.43442757176285574,-0.434213248547002,-0.4334537754581445,-0.43157859884674826,-0.42785247459104203,-0.42143408131469146,-0.41144469052055266,-0.3970424421347404,-0.37749737145928347,-0.35226222727992795,-0.3210343185560354,-0.2838041182964338,-0.24088710992360066,-0.1929363397545002,-0.1409342819269669,-0.08616386191642225,-0.030159748399708135,0.02535776443828009,0.07856287339249271,0.12761407121954643,0.17074867404778504,0.2063767337439853,0.23316893482082693,0.25013332713993036,0.2566762997375786,0.25264402764959015,0.2383416766936446,0.2145288714461612,0.18239124981424537,0.14348926836260514,0.09968670899986165,0.05306249567952219,0.0058103924762656495,-0.039868134180728126,-0.08187218787401292,-0.11830504740258321,-0.14756752732225356,-0.16843605361995675,-0.18012123502583363],[-0.1801446545297837,-0.18233559039097344,-0.1752665961050691,-0.15904136091487175,-0.13421936300715656,-0.10179031338845618,-0.0631265026963309,-0.019915691575644292,0.025921773001301992,0.07232710218505171,0.11720338291232232,0.15851669454452746,0.1943926655354523,0.2232034254780841,0.24364050109720906,0.25477004091850136,0.2560677827399544,0.24743234013685533,0.22917661128094333,0.20199833430642128,0.16693195814109418,0.12528500092613942,0.07856287339249271,0.02838670735216783,-0.02359098016854476,-0.0757679524450742,-0.12666669235949252,-0.17499760171649797,-0.21970771693043264,-0.26001264723920775,-0.29541051237375787,-0.32567778292945404,-0.35084804028714445,-0.37117570680030565,-0.38708768931988075,-0.3991265770886398,-0.407889497747319,-0.41396693622794944,-0.417885750201407,-0.4200602785751461,-0.4207548585159486,-0.4200602785751461,-0.417885750201407,-0.41396693622794944,-0.407889497747319,-0.3991265770886398,-0.38708768931988075,-0.37117570680030565,-0.35084804028714445,-0.32567778292945404,-0.29541051237375787,-0.26001264723920775,-0.21970771693043264,-0.17499760171649797,-0.12666669235949252,-0.0757679524450742,-0.02359098016854476,0.02838670735216783,0.07856287339249271,0.12528500092613942,0.16693195814109418,0.20199833430642128,0.22917661128094333,0.24743234013685533,0.2560677827399544,0.25477004091850136,0.24364050109720906,0.2232034254780841,0.1943926655354523,0.15851669454452746,0.11720338291232232,0.07232710218505171,0.025921773001301992,-0.019915691575644292,-0.0631265026963309,-0.10179031338845618,-0.13421936300715656,-0.15904136091487175,-0.1752665961050691,-0.18233559039097344],[-0.17584069010379264,-0.18239300622958532,-0.1800313728705813,-0.16865061331126227,-0.14858307017251748,-0.12058300781296416,-0.0857896329957062,-0.045670869380806056,-0.001951040868825416,0.043473546354522816,0.08862652853638416,0.13154597877649798,0.17037647050011584,0.20345392533496165,0.22937894091767205,0.24707500803079696,0.25582893038458626,0.2553118000893658,0.2455799958764798,0.2270567942100705,0.20049625055173417,0.16693195814109418,0.12761407121954643,0.08393854575868848,0.037372873633869375,-0.010617349295218181,-0.05863687417657578,-0.10542055787501849,-0.14988136590815446,-0.19114437378651342,-0.22856545626592412,-0.2617343483375656,-0.29046275344788247,-0.31475910259630246,-0.33479237619194996,-0.35084804028714445,-0.3632795822101567,-0.37245933283868765,-0.3787322233669178,-0.382375848005458,-0.3835697098652554,-0.382375848005458,-0.3787322233669178,-0.37245933283868765,-0.3632795822101567,-0.35084804028714445,-0.33479237619194996,-0.31475910259630246,-0.29046275344788247,-0.2617343483375656,-0.22856545626592412,-0.19114437378651342,-0.14988136590815446,-0.10542055787501849,-0.05863687417657578,-0.010617349295218181,0.037372873633869375,0.08393854575868848,0.12761407121954643,0.16693195814109418,0.20049625055173417,0.2270567942100705,0.2455799958764798,0.2553118000893658,0.25582893038458626,0.24707500803079696,0.22937894091767205,0.20345392533496165,0.17037647050011584,0.13154597877649798,0.08862652853638416,0.043473546354522816,-0.001951040868825416,-0.045670869380806056,-0.0857896329957062,-0.12058300781296416,-0.14858307017251748,-0.16865061331126227,-0.1800313728705813,-0.18239300622958532],[-0.16923416092386775,-0.1800597155006458,-0.18242166855756492,-0.1760159755489718,-0.1609539875623888,-0.1377563081818195,-0.10732612754693129,-0.07090368426500879,-0.030004497243790427,0.013655158230898757,0.058241427706856384,0.1018902143955224,0.14279404657238684,0.1792839709402817,0.20990234059772522,0.23346296309158113,0.24909585663212155,0.2562747828163765,0.2548267267047997,0.24492352037505036,0.2270567942100705,0.20199833430642128,0.17074867404778504,0.134477311926808,0.09445829662141196,0.05200503792795912,0.00840808631479302,-0.03512071345143313,-0.07749482277960204,-0.1177881852505473,-0.15525760655490364,-0.18935183535374994,-0.21970771693043264,-0.24613461781837798,-0.268589046149572,-0.28714197491104243,-0.30194177876754097,-0.31317589634427284,-0.3210343185560354,-0.32567778292945404,-0.32721314035298743,-0.32567778292945404,-0.3210343185560354,-0.31317589634427284,-0.30194177876754097,-0.28714197491104243,-0.268589046149572,-0.24613461781837798,-0.21970771693043264,-0.18935183535374994,-0.15525760655490364,-0.1177881852505473,-0.07749482277960204,-0.03512071345143313,0.00840808631479302,0.05200503792795912,0.09445829662141196,0.134477311926808,0.17074867404778504,0.20199833430642128,0.2270567942100705,0.24492352037505036,0.2548267267047997,0.2562747828163765,0.24909585663212155,0.23346296309158113,0.20990234059772522,0.1792839709402817,0.14279404657238684,0.1018902143955224,0.058241427706856384,0.013655158230898757,-0.030004497243790427,-0.07090368426500879,-0.10732612754693129,-0.1377563081818195,-0.1609539875623888,-0.1760159755489718,-0.18242166855756492,-0.1800597155006458],[-0.16021647158282734,-0.1751457556394694,-0.1821644169794075,-0.18078273088932142,-0.17090060569317098,-0.1528102839666787,-0.1271795169340972,-0.0950164022704569,-0.05761803324395176,-0.016505930263581485,0.026648129724923395,0.07010183827093616,0.11212338767979044,0.15106960365711752,0.18545724476618586,0.21402402107025095,0.23577655069724138,0.25002327766855664,0.25639126767027576,0.2548267267047997,0.2455799958764798,0.22917661128094333,0.2063767337439853,0.17812580971586786,0.14549969299473817,0.1096476200446325,0.07173638515428266,0.032898814044057145,-0.005810793613848673,-0.043452159632214875,-0.0792240541655952,-0.11247819731414006,-0.1427221428215067,-0.1696119802323752,-0.1929363397545002,-0.2125937105436689,-0.22856545626592412,-0.24088710992360066,-0.24962054293732017,-0.254829433326894,-0.2565601183892334,-0.254829433326894,-0.24962054293732017,-0.24088710992360066,-0.22856545626592412,-0.2125937105436689,-0.1929363397545002,-0.1696119802323752,-0.1427221428215067,-0.11247819731414006,-0.0792240541655952,-0.043452159632214875,-0.005810793613848673,0.032898814044057145,0.07173638515428266,0.1096476200446325,0.14549969299473817,0.17812580971586786,0.2063767337439853,0.22917661128094333,0.2455799958764798,0.2548267267047997,0.25639126767027576,0.25002327766855664,0.23577655069724138,0.21402402107025095,0.18545724476618586,0.15106960365711752,0.11212338767979044,0.07010183827093616,0.026648129724923395,-0.016505930263581485,-0.05761803324395176,-0.0950164022704569,-0.1271795169340972,-0.1528102839666787,-0.17090060569317098,-0.18078273088932142,-0.1821644169794075,-0.1751457556394694],[-0.1487375524385824,-0.16751643729146143,-0.17903560277058095,-0.1826358700412797,-0.17801860199902664,-0.16525654180237792,-0.14478624788034108,-0.11738288358628372,-0.08411903827788304,-0.046310064114579955,-0.005449066140771361,0.03686485131708162,0.07900122348247962,0.11937185506223688,0.15649972810645998,0.1890798565922851,0.21602931256266372,0.2365243422174828,0.25002327766855664,0.2562747828163765,0.2553118000893658,0.24743234013685533,0.23316893482082693,0.21324911772700825,0.18854967763954522,0.16004763127913005,0.12877087581897034,0.0957513146109,0.06198291759831892,0.02838670735216783,-0.004215913110515241,-0.03512071345143313,-0.06374895250625122,-0.08964697741323371,-0.11247819731414006,-0.132008995765264,-0.14809048863531396,-0.16063822727306362,-0.1696119802323752,-0.17499760171649797,-0.17679272260843765,-0.17499760171649797,-0.1696119802323752,-0.16063822727306362,-0.14809048863531396,-0.132008995765264,-0.11247819731414006,-0.08964697741323371,-0.06374895250625122,-0.03512071345143313,-0.004215913110515241,0.02838670735216783,0.06198291759831892,0.0957513146109,0.12877087581897034,0.16004763127913005,0.18854967763954522,0.21324911772700825,0.23316893482082693,0.24743234013685533,0.2553118000893658,0.2562747828163765,0.25002327766855664,0.2365243422174828,0.21602931256266372,0.1890798565922851,0.15649972810645998,0.11937185506223688,0.07900122348247962,0.03686485131708162,-0.005449066140771361,-0.046310064114579955,-0.08411903827788304,-0.11738288358628372,-0.14478624788034108,-0.16525654180237792,-0.17801860199902664,-0.1826358700412797,-0.17903560277058095,-0.16751643729146143],[-0.13481430178982187,-0.15710321083861073,-0.17287351607260817,-0.18131560690315682,-0.18194839266053625,-0.17463748569481502,-0.15959621882048483,-0.13736985507049018,-0.10880422217787396,-0.0750007897964791,-0.03726086233570953,0.0029779491154211806,0.044209509361482956,0.08492762656935865,0.12369173187889267,0.15918658398472915,0.1902732638436695,0.21602931256266372,0.23577655069724138,0.24909585663212155,0.25582893038458626,0.2560677827399544,0.25013332713993036,0.23854497801642713,0.22198354690007724,0.20124995852555586,0.17722237538812438,0.15081422331281308,0.12293536517635703,0.09445829662141196,0.0661907655654817,0.03885568116655977,0.013078615468659323,-0.010617349295218181,-0.03181017613329085,-0.050171999808914604,-0.06545830501430487,-0.07749482277960204,-0.08616386191642225,-0.09139170665445415,-0.09313849939964196,-0.09139170665445415,-0.08616386191642225,-0.07749482277960204,-0.06545830501430487,-0.050171999808914604,-0.03181017613329085,-0.010617349295218181,0.013078615468659323,0.03885568116655977,0.0661907655654817,0.09445829662141196,0.12293536517635703,0.15081422331281308,0.17722237538812438,0.20124995852555586,0.22198354690007724,0.23854497801642713,0.25013332713993036,0.2560677827399544,0.25582893038458626,0.24909585663212155,0.23577655069724138,0.21602931256266372,0.1902732638436695,0.15918658398472915,0.12369173187889267,0.08492762656935865,0.044209509361482956,0.0029779491154211806,-0.03726086233570953,-0.0750007897964791,-0.10880422217787396,-0.13736985507049018,-0.15959621882048483,-0.17463748569481502,-0.18194839266053625,-0.18131560690315682,-0.17287351607260817,-0.15710321083861073],[-0.11853755153953284,-0.14391335124448024,-0.163591222139663,-0.17663261032673944,-0.18239300622958532,-0.18054660691367944,-0.17109514979541934,-0.1543609103022869,-0.13096468174943518,-0.10179031338845618,-0.06793803188546253,-0.03066927919323432,0.008653858363151095,0.04863139306208121,0.0878871354792479,0.12512633286074154,0.15918658398472915,0.1890798565922851,0.21402402107025095,0.23346296309158113,0.24707500803079696,0.25477004091850136,0.2566762997375786,0.25311832399967577,0.24458792842044305,0.2317103248693539,0.2152076253393881,0.19586192453391038,0.17447999195279823,0.15186131748507978,0.12877087581897034,0.10591753298818528,0.08393854575868848,0.06339013493636744,0.044743679368913644,0.02838670735216783,0.014627580006334946,0.0037025838949493145,-0.004215913110515241,-0.009011537058698997,-0.010617349295218181,-0.009011537058698997,-0.004215913110515241,0.0037025838949493145,0.014627580006334946,0.02838670735216783,0.044743679368913644,0.06339013493636744,0.08393854575868848,0.10591753298818528,0.12877087581897034,0.15186131748507978,0.17447999195279823,0.19586192453391038,0.2152076253393881,0.2317103248693539,0.24458792842044305,0.25311832399967577,0.2566762997375786,0.25477004091850136,0.24707500803079696,0.23346296309158113,0.21402402107025095,0.1890798565922851,0.15918658398472915,0.12512633286074154,0.0878871354792479,0.04863139306208121,0.008653858363151095,-0.03066927919323432,-0.06793803188546253,-0.10179031338845618,-0.13096468174943518,-0.1543609103022869,-0.17109514979541934,-0.18054660691367944,-0.18239300622958532,-0.17663261032673944,-0.163591222139663,-0.14391335124448024],[-0.10007704610444179,-0.12803786284735597,-0.1511875643863488,-0.16848219583369567,-0.17913546063850083,-0.18264893898060253,-0.1788278960809016,-0.16778234479339135,-0.1499137997580331,-0.1258888846262905,-0.09660159075517502,-0.0631265026963309,-0.026665677985416577,0.011507919583092052,0.05010748884225075,0.0878871354792479,0.12369173187889267,0.15649972810645998,0.18545724476618586,0.20990234059772522,0.22937894091767205,0.24364050109720906,0.25264402764959015,0.25653555744366946,0.25562857790064414,0.25037713957121355,0.2413455569066888,0.22917661128094333,0.21456006847846779,0.1982031145119569,0.18080401871815463,0.1630299764243758,0.14549969299473817,0.12877087581897034,0.11333242903336226,0.09960082298540655,0.08791985781076668,0.07856287339249271,0.07173638515428266,0.06758414818694233,0.0661907655654817,0.06758414818694233,0.07173638515428266,0.07856287339249271,0.08791985781076668,0.09960082298540655,0.11333242903336226,0.12877087581897034,0.14549969299473817,0.1630299764243758,0.18080401871815463,0.1982031145119569,0.21456006847846779,0.22917661128094333,0.2413455569066888,0.25037713957121355,0.25562857790064414,0.25653555744366946,0.25264402764959015,0.24364050109720906,0.22937894091767205,0.20990234059772522,0.18545724476618586,0.15649972810645998,0.12369173187889267,0.0878871354792479,0.05010748884225075,0.011507919583092052,-0.026665677985416577,-0.0631265026963309,-0.09660159075517502,-0.1258888846262905,-0.1499137997580331,-0.16778234479339135,-0.1788278960809016,-0.18264893898060253,-0.17913546063850083,-0.16848219583369567,-0.1511875643863488,-0.12803786284735597],[-0.07968395387291566,-0.10965701691843574,-0.13575600794040762,-0.15685668268767797,-0.17205475511311313,-0.1807007071005138,-0.18242166855756492,-0.17712974307464055,-0.16501687105976595,-0.14653700801271363,-0.12237701362727325,-0.09341816596346665,-0.060690608986011814,-0.02532329427921568,0.011507919583092052,0.04863139306208121,0.08492762656935865,0.11937185506223688,0.15106960365711752,0.1792839709402817,0.20345392533496165,0.2232034254780841,0.2383416766936446,0.24885528388828942,0.254893432701845,0.25674750760048576,0.2548267267047997,0.24963143467045815,0.24172565029557566,0.2317103248693539,0.22019854657881394,0.20779364608280457,0.19507084218595108,0.18256273925541686,0.17074867404778504,0.16004763127913005,0.15081422331281308,0.1433370736825879,0.13783886506830845,0.134477311926808,0.1333463922312941,0.134477311926808,0.13783886506830845,0.1433370736825879,0.15081422331281308,0.16004763127913005,0.17074867404778504,0.18256273925541686,0.19507084218595108,0.20779364608280457,0.22019854657881394,0.2317103248693539,0.24172565029557566,0.24963143467045815,0.2548267267047997,0.25674750760048576,0.254893432701845,0.24885528388828942,0.2383416766936446,0.2232034254780841,0.20345392533496165,0.1792839709402817,0.15106960365711752,0.11937185506223688,0.08492762656935865,0.04863139306208121,0.011507919583092052,-0.02532329427921568,-0.060690608986011814,-0.09341816596346665,-0.12237701362727325,-0.14653700801271363,-0.16501687105976595,-0.17712974307464055,-0.18242166855756492,-0.1807007071005138,-0.17205475511311313,-0.15685668268767797,-0.13575600794040762,-0.10965701691843574],[-0.05769048962428924,-0.08904297911487404,-0.11749065565570795,-0.14185512230149663,-0.16113955966514656,-0.17456713788189782,-0.18160802037610754,-0.18199408570471504,-0.17572115154133375,-0.16303912773542587,-0.14443111863131364,-0.12058300781296416,-0.09234546620178369,-0.060690608986011814,-0.026665677985416577,0.008653858363151095,0.044209509361482956,0.07900122348247962,0.11212338767979044,0.14279404657238684,0.17037647050011584,0.1943926655354523,0.2145288714461612,0.23063350923189954,0.242708395806646,0.2508943222213973,0.2554522819126627,0.2567417315441088,0.25519727019112654,0.25130504004127213,0.2455799958764798,0.23854497801642713,0.23071227369415245,0.2225680860000738,0.21456006847846779,0.2070878465419809,0.20049625055173417,0.19507084218595108,0.19103523332295086,0.18854967763954522,0.18771045677679687,0.18854967763954522,0.19103523332295086,0.19507084218595108,0.20049625055173417,0.2070878465419809,0.21456006847846779,0.2225680860000738,0.23071227369415245,0.23854497801642713,0.2455799958764798,0.25130504004127213,0.25519727019112654,0.2567417315441088,0.2554522819126627,0.2508943222213973,0.242708395806646,0.23063350923189954,0.2145288714461612,0.1943926655354523,0.17037647050011584,0.14279404657238684,0.11212338767979044,0.07900122348247962,0.044209509361482956,0.008653858363151095,-0.026665677985416577,-0.060690608986011814,-0.09234546620178369,-0.12058300781296416,-0.14443111863131364,-0.16303912773542587,-0.17572115154133375,-0.18199408570471504,-0.18160802037610754,-0.17456713788189782,-0.16113955966514656,-0.14185512230149663,-0.11749065565570795,-0.08904297911487404],[-0.0345063152690242,-0.06655906279410359,-0.09668883252747353,-0.12368964794720452,-0.1464987033293174,-0.1642373823959323,-0.17624240938958516,-0.18208605074549258,-0.18158488243001691,-0.1747972342928682,-0.16200998595397612,-0.1437158894806465,-0.12058300781296416,-0.09341816596346665,-0.0631265026963309,-0.03066927919323432,0.0029779491154211806,0.03686485131708162,0.07010183827093616,0.1018902143955224,0.13154597877649798,0.15851669454452746,0.18239124981424537,0.20290271423033404,0.21992483146863692,0.23346296309158113,0.24364050109720906,0.2506818889186662,0.254893432701845,0.2566430509401283,0.2563400102730029,0.25441554164532254,0.25130504004127213,0.24743234013685533,0.2431963471432226,0.23896010343988033,0.23504220166614895,0.2317103248693539,0.22917661128094333,0.22759450814784551,0.2270567942100705,0.22759450814784551,0.22917661128094333,0.2317103248693539,0.23504220166614895,0.23896010343988033,0.2431963471432226,0.24743234013685533,0.25130504004127213,0.25441554164532254,0.2563400102730029,0.2566430509401283,0.254893432701845,0.2506818889186662,0.24364050109720906,0.23346296309158113,0.21992483146863692,0.20290271423033404,0.18239124981424537,0.15851669454452746,0.13154597877649798,0.1018902143955224,0.07010183827093616,0.03686485131708162,0.0029779491154211806,-0.03066927919323432,-0.0631265026963309,-0.09341816596346665,-0.12058300781296416,-0.1437158894806465,-0.16200998595397612,-0.1747972342928682,-0.18158488243001691,-0.18208605074549258,-0.17624240938958516,-0.1642373823959323,-0.1464987033293174,-0.12368964794720452,-0.09668883252747353,-0.06655906279410359],[-0.01061150357619211,-0.042655257000177006,-0.07374973820785838,-0.10268778525178764,-0.1283676319466868,-0.14983554931501694,-0.16632015713858264,-0.17725715646546372,-0.18230376872794093,-0.18134271385500067,-0.17447608825271163,-0.16200998595397612,-0.14443111863131364,-0.12237701362727325,-0.09660159075517502,-0.06793803188546253,-0.03726086233570953,-0.005449066140771361,0.026648129724923395,0.058241427706856384,0.08862652853638416,0.11720338291232232,0.14348926836260514,0.16712567793535366,0.18787932061729182,0.20563779959612533,0.22040074178662336,0.23226729318028777,0.24142096714711753,0.24811283911536614,0.25264402764959015,0.255348298963932,0.256575492104657,0.2566762997375786,0.2559887694405144,0.2548267267047997,0.25347017586536014,0.252157618714697,0.25108014921898075,0.25037713957121355,0.25013332713993036,0.25037713957121355,0.25108014921898075,0.252157618714697,0.25347017586536014,0.2548267267047997,0.2559887694405144,0.2566762997375786,0.256575492104657,0.255348298963932,0.25264402764959015,0.24811283911536614,0.24142096714711753,0.23226729318028777,0.22040074178662336,0.20563779959612533,0.18787932061729182,0.16712567793535366,0.14348926836260514,0.11720338291232232,0.08862652853638416,0.058241427706856384,0.026648129724923395,-0.005449066140771361,-0.03726086233570953,-0.06793803188546253,-0.09660159075517502,-0.12237701362727325,-0.14443111863131364,-0.16200998595397612,-0.17447608825271163,-0.18134271385500067,-0.18230376872794093,-0.17725715646546372,-0.16632015713858264,-0.14983554931501694,-0.1283676319466868,-0.10268778525178764,-0.07374973820785838,-0.042655257000177006],[0.013454008098850966,-0.017859822184363938,-0.04916880920228074,-0.07929019757294747,-0.10711012813756442,-0.1316269478872783,-0.15198770280837584,-0.16751643729146143,-0.17773339606034183,-0.18236471957976835,-0.18134271385500067,-0.1747972342928682,-0.16303912773542587,-0.14653700801271363,-0.1258888846262905,-0.10179031338845618,-0.0750007897964791,-0.046310064114579955,-0.016505930263581485,0.013655158230898757,0.043473546354522816,0.07232710218505171,0.09968670899986165,0.12512633286074154,0.14832776112580212,0.16908036038891633,0.18727640924644018,0.20290271423033404,0.21602931256266372,0.22679610352037188,0.23539823538075702,0.2420710146043941,0.24707500803079696,0.2506818889186662,0.2531614457800734,0.25477004091850136,0.2557406839380664,0.2562747828163765,0.25653555744366946,0.2566430509401283,0.2566706526738519,0.2566430509401283,0.25653555744366946,0.2562747828163765,0.2557406839380664,0.25477004091850136,0.2531614457800734,0.2506818889186662,0.24707500803079696,0.2420710146043941,0.23539823538075702,0.22679610352037188,0.21602931256266372,0.20290271423033404,0.18727640924644018,0.16908036038891633,0.14832776112580212,0.12512633286074154,0.09968670899986165,0.07232710218505171,0.043473546354522816,0.013655158230898757,-0.016505930263581485,-0.046310064114579955,-0.0750007897964791,-0.10179031338845618,-0.1258888846262905,-0.14653700801271363,-0.16303912773542587,-0.1747972342928682,-0.18134271385500067,-0.18236471957976835,-0.17773339606034183,-0.16751643729146143,-0.15198770280837584,-0.1316269478872783,-0.10711012813756442,-0.07929019757294747,-0.04916880920228074,-0.017859822184363938],[0.037104384846577534,0.007233082355737275,-0.023527608249201665,-0.054043516875550875,-0.08321475815193494,-0.11001880232017779,-0.13354819579908725,-0.15304146672549196,-0.167906160972842,-0.17773339606034183,-0.18230376872794093,-0.18158488243001691,-0.17572115154133375,-0.16501687105976595,-0.1499137997580331,-0.13096468174943518,-0.10880422217787396,-0.08411903827788304,-0.05761803324395176,-0.030004497243790427,-0.001951040868825416,0.025921773001301992,0.05306249567952219,0.07900122348247962,0.10335731863015635,0.1258425822940911,0.14626024334832619,0.16450028494360933,0.18053174205108255,0.1943926655354523,0.2061784643801796,0.21602931256266372,0.22411724822563847,0.23063350923189954,0.23577655069724138,0.23974108638511749,0.242708395806646,0.24483804991090946,0.24626113579560338,0.24707500803079696,0.24733956165584545,0.24707500803079696,0.24626113579560338,0.24483804991090946,0.242708395806646,0.23974108638511749,0.23577655069724138,0.23063350923189954,0.22411724822563847,0.21602931256266372,0.2061784643801796,0.1943926655354523,0.18053174205108255,0.16450028494360933,0.14626024334832619,0.1258425822940911,0.10335731863015635,0.07900122348247962,0.05306249567952219,0.025921773001301992,-0.001951040868825416,-0.030004497243790427,-0.05761803324395176,-0.08411903827788304,-0.10880422217787396,-0.13096468174943518,-0.1499137997580331,-0.16501687105976595,-0.17572115154133375,-0.18158488243001691,-0.18230376872794093,-0.17773339606034183,-0.167906160972842,-0.15304146672549196,-0.13354819579908725,-0.11001880232017779,-0.08321475815193494,-0.054043516875550875,-0.023527608249201665,0.007233082355737275],[0.059725017515438364,0.03197958453286062,0.0025207381574719806,-0.027588123185645037,-0.0572857273340844,-0.08555491563889543,-0.1114606806231028,-0.13418273806183595,-0.15304146672549196,-0.16751643729146143,-0.17725715646546372,-0.18208605074549258,-0.18199408570471504,-0.17712974307464055,-0.16778234479339135,-0.1543609103022869,-0.13736985507049018,-0.11738288358628372,-0.0950164022704569,-0.07090368426500879,-0.045670869380806056,-0.019915691575644292,0.0058103924762656495,0.031016232090896562,0.05528095770522729,0.07825990831739421,0.09968670899986165,0.11937185506223688,0.13719827990417027,0.15311446345017118,0.16712567793535366,0.1792839709402817,0.18967745729212915,0.19841943861188654,0.20563779959612533,0.21146505144444128,0.21602931256266372,0.21944644111666822,0.22181346801290225,0.2232034254780841,0.22366162672468853,0.2232034254780841,0.22181346801290225,0.21944644111666822,0.21602931256266372,0.21146505144444128,0.20563779959612533,0.19841943861188654,0.18967745729212915,0.1792839709402817,0.16712567793535366,0.15311446345017118,0.13719827990417027,0.11937185506223688,0.09968670899986165,0.07825990831739421,0.05528095770522729,0.031016232090896562,0.0058103924762656495,-0.019915691575644292,-0.045670869380806056,-0.07090368426500879,-0.0950164022704569,-0.11738288358628372,-0.13736985507049018,-0.1543609103022869,-0.16778234479339135,-0.17712974307464055,-0.18199408570471504,-0.18208605074549258,-0.17725715646546372,-0.16751643729146143,-0.15304146672549196,-0.13418273806183595,-0.1114606806231028,-0.08555491563889543,-0.0572857273340844,-0.027588123185645037,0.0025207381574719806,0.03197958453286062],[0.08069235790121831,0.05570574218106777,0.028270310898122826,-0.0006409754282528475,-0.03002807965783915,-0.05890402451081101,-0.08633239590937543,-0.1114606806231028,-0.13354819579908725,-0.15198770280837584,-0.16632015713858264,-0.17624240938958516,-0.18160802037610754,-0.18242166855756492,-0.1788278960809016,-0.17109514979541934,-0.15959621882048483,-0.14478624788034108,-0.1271795169340972,-0.10732612754693129,-0.0857896329957062,-0.0631265026963309,-0.039868134180728126,-0.016505930263581485,0.0065202421682302655,0.02883009042098063,0.05010748884225075,0.07010183827093616,0.08862652853638416,0.10555493165712146,0.12081441070397907,0.13437885433763305,0.14626024334832619,0.15649972810645998,0.16515865057394133,0.17230988766358785,0.17802983029511174,0.18239124981424537,0.18545724476618586,0.18727640924644018,0.18787932061729182,0.18727640924644018,0.18545724476618586,0.18239124981424537,0.17802983029511174,0.17230988766358785,0.16515865057394133,0.15649972810645998,0.14626024334832619,0.13437885433763305,0.12081441070397907,0.10555493165712146,0.08862652853638416,0.07010183827093616,0.05010748884225075,0.02883009042098063,0.0065202421682302655,-0.016505930263581485,-0.039868134180728126,-0.0631265026963309,-0.0857896329957062,-0.10732612754693129,-0.1271795169340972,-0.14478624788034108,-0.15959621882048483,-0.17109514979541934,-0.1788278960809016,-0.18242166855756492,-0.18160802037610754,-0.17624240938958516,-0.16632015713858264,-0.15198770280837584,-0.13354819579908725,-0.1114606806231028,-0.08633239590937543,-0.05890402451081101,-0.03002807965783915,-0.0006409754282528475,0.028270310898122826,0.05570574218106777],[0.0993958462307399,0.07773008237271903,0.05298490441364873,0.026026147564044762,-0.0022274559793407315,-0.030841885736018544,-0.05890402451081101,-0.08555491563889543,-0.11001880232017779,-0.1316269478872783,-0.14983554931501694,-0.1642373823959323,-0.17456713788189782,-0.1807007071005138,-0.18264893898060253,-0.18054660691367944,-0.17463748569481502,-0.16525654180237792,-0.1528102839666787,-0.1377563081818195,-0.12058300781296416,-0.10179031338845618,-0.08187218787401292,-0.061301442485772274,-0.040517266401149735,-0.019915691575644292,0.0001569493213448689,0.019407660252202565,0.03759772656874239,0.054541276561040686,0.07010183827093616,0.08418731130237875,0.09674378883254962,0.10774865812501504,0.11720338291232232,0.12512633286074154,0.13154597877649798,0.13649472168344115,0.14000357308347133,0.14209785531573388,0.14279404657238684,0.14209785531573388,0.14000357308347133,0.13649472168344115,0.13154597877649798,0.12512633286074154,0.11720338291232232,0.10774865812501504,0.09674378883254962,0.08418731130237875,0.07010183827093616,0.054541276561040686,0.03759772656874239,0.019407660252202565,0.0001569493213448689,-0.019915691575644292,-0.040517266401149735,-0.061301442485772274,-0.08187218787401292,-0.10179031338845618,-0.12058300781296416,-0.1377563081818195,-0.1528102839666787,-0.16525654180237792,-0.17463748569481502,-0.18054660691367944,-0.18264893898060253,-0.1807007071005138,-0.17456713788189782,-0.1642373823959323,-0.14983554931501694,-0.1316269478872783,-0.11001880232017779,-0.08555491563889543,-0.05890402451081101,-0.030841885736018544,-0.0022274559793407315,0.026026147564044762,0.05298490441364873,0.07773008237271903],[0.11526115097856117,0.09738828403656238,0.0759235678781371,0.05161237775613617,0.025275083284098894,-0.0022274559793407315,-0.03002807965783915,-0.0572857273340844,-0.08321475815193494,-0.10711012813756442,-0.1283676319466868,-0.1464987033293174,-0.16113955966514656,-0.17205475511311313,-0.17913546063850083,-0.18239300622958532,-0.18194839266053625,-0.17801860199902664,-0.17090060569317098,-0.1609539875623888,-0.14858307017251748,-0.13421936300715656,-0.11830504740258321,-0.10127808535368477,-0.08355939645450051,-0.06554239869174844,-0.04758506314163741,-0.030004497243790427,-0.013073952151520388,0.0029779491154211806,0.017966041941118966,0.031745840459068614,0.044209509361482956,0.05528095770522729,0.0649104168254659,0.07306884206017318,0.07974244535617742,0.08492762656935865,0.08862652853638416,0.09084339726921295,0.09158188560927924,0.09084339726921295,0.08862652853638416,0.08492762656935865,0.07974244535617742,0.07306884206017318,0.0649104168254659,0.05528095770522729,0.044209509361482956,0.031745840459068614,0.017966041941118966,0.0029779491154211806,-0.013073952151520388,-0.030004497243790427,-0.04758506314163741,-0.06554239869174844,-0.08355939645450051,-0.10127808535368477,-0.11830504740258321,-0.13421936300715656,-0.14858307017251748,-0.1609539875623888,-0.17090060569317098,-0.17801860199902664,-0.18194839266053625,-0.18239300622958532,-0.17913546063850083,-0.17205475511311313,-0.16113955966514656,-0.1464987033293174,-0.1283676319466868,-0.10711012813756442,-0.08321475815193494,-0.0572857273340844,-0.03002807965783915,-0.0022274559793407315,0.025275083284098894,0.05161237775613617,0.0759235678781371,0.09738828403656238],[0.12777380562398274,0.11405907878471819,0.09636827159298987,0.07531659368730659,0.05161237775613617,0.026026147564044762,-0.0006409754282528475,-0.027588123185645037,-0.054043516875550875,-0.07929019757294747,-0.10268778525178764,-0.12368964794720452,-0.14185512230149663,-0.15685668268767797,-0.16848219583369567,-0.17663261032673944,-0.18131560690315682,-0.1826358700412797,-0.18078273088932142,-0.1760159755489718,-0.16865061331126227,-0.15904136091487175,-0.14756752732225356,-0.13461888616197776,-0.12058300781296416,-0.10583439818051152,-0.0907256642328181,-0.07558080422426758,-0.060690608986011814,-0.046310064114579955,-0.032657564269347995,-0.019915691575644292,-0.00823327044894154,0.0022716100207446164,0.011507919583092052,0.019407660252202565,0.025921773001301992,0.031016232090896562,0.03466854669458865,0.03686485131708162,0.03759772656874239,0.03686485131708162,0.03466854669458865,0.031016232090896562,0.025921773001301992,0.019407660252202565,0.011507919583092052,0.0022716100207446164,-0.00823327044894154,-0.019915691575644292,-0.032657564269347995,-0.046310064114579955,-0.060690608986011814,-0.07558080422426758,-0.0907256642328181,-0.10583439818051152,-0.12058300781296416,-0.13461888616197776,-0.14756752732225356,-0.15904136091487175,-0.16865061331126227,-0.1760159755489718,-0.18078273088932142,-0.1826358700412797,-0.18131560690315682,-0.17663261032673944,-0.16848219583369567,-0.15685668268767797,-0.14185512230149663,-0.12368964794720452,-0.10268778525178764,-0.07929019757294747,-0.054043516875550875,-0.027588123185645037,-0.0006409754282528475,0.026026147564044762,0.05161237775613617,0.07531659368730659,0.09636827159298987,0.11405907878471819],[0.13650222610828716,0.12719030582037316,0.1136526088802527,0.09636827159298987,0.0759235678781371,0.05298490441364873,0.028270310898122826,0.0025207381574719806,-0.023527608249201665,-0.04916880920228074,-0.07374973820785838,-0.09668883252747353,-0.11749065565570795,-0.13575600794040762,-0.1511875643863488,-0.163591222139663,-0.17287351607260817,-0.17903560277058095,-0.1821644169794075,-0.18242166855756492,-0.1800313728705813,-0.1752665961050691,-0.16843605361995675,-0.15987112992755653,-0.1499137997580331,-0.13890582780165694,-0.1271795169340972,-0.11505016730310495,-0.10281030706494565,-0.0907256642328181,-0.07903277128303789,-0.06793803188546253,-0.05761803324395176,-0.04822085787410071,-0.039868134180728126,-0.032657564269347995,-0.026665677985416577,-0.021950582012676394,-0.01855449981019833,-0.016505930263581485,-0.015821288518275644,-0.016505930263581485,-0.01855449981019833,-0.021950582012676394,-0.026665677985416577,-0.032657564269347995,-0.039868134180728126,-0.04822085787410071,-0.05761803324395176,-0.06793803188546253,-0.07903277128303789,-0.0907256642328181,-0.10281030706494565,-0.11505016730310495,-0.1271795169340972,-0.13890582780165694,-0.1499137997580331,-0.15987112992755653,-0.16843605361995675,-0.1752665961050691,-0.1800313728705813,-0.18242166855756492,-0.1821644169794075,-0.17903560277058095,-0.17287351607260817,-0.163591222139663,-0.1511875643863488,-0.13575600794040762,-0.11749065565570795,-0.09668883252747353,-0.07374973820785838,-0.04916880920228074,-0.023527608249201665,0.0025207381574719806,0.028270310898122826,0.05298490441364873,0.0759235678781371,0.09636827159298987,0.1136526088802527,0.12719030582037316],[0.14111903500315878,0.13632396086944565,0.12719030582037316,0.11405907878471819,0.09738828403656238,0.07773008237271903,0.05570574218106777,0.03197958453286062,0.007233082355737275,-0.017859822184363938,-0.042655257000177006,-0.06655906279410359,-0.08904297911487404,-0.10965701691843574,-0.12803786284735597,-0.14391335124448024,-0.15710321083861073,-0.16751643729146143,-0.1751457556394694,-0.1800597155006458,-0.18239300622958532,-0.18233559039097344,-0.18012123502583363,-0.1760159755489718,-0.17030698199702413,-0.16329221750830802,-0.15527119023634722,-0.14653700801271363,-0.13736985507049018,-0.12803192632998142,-0.11876378051842666,-0.10978201113265723,-0.10127808535368477,-0.09341816596346665,-0.08634370978474622,-0.08017262722723162,-0.0750007897964791,-0.07090368426500879,-0.06793803188546253,-0.06614321685638791,-0.06554239869174844,-0.06614321685638791,-0.06793803188546253,-0.07090368426500879,-0.0750007897964791,-0.08017262722723162,-0.08634370978474622,-0.09341816596346665,-0.10127808535368477,-0.10978201113265723,-0.11876378051842666,-0.12803192632998142,-0.13736985507049018,-0.14653700801271363,-0.15527119023634722,-0.16329221750830802,-0.17030698199702413,-0.1760159755489718,-0.18012123502583363,-0.18233559039097344,-0.18239300622958532,-0.1800597155006458,-0.1751457556394694,-0.16751643729146143,-0.15710321083861073,-0.14391335124448024,-0.12803786284735597,-0.10965701691843574,-0.08904297911487404,-0.06655906279410359,-0.042655257000177006,-0.017859822184363938,0.007233082355737275,0.03197958453286062,0.05570574218106777,0.07773008237271903,0.09738828403656238,0.11405907878471819,0.12719030582037316,0.13632396086944565]],\"type\":\"surface\"}],                        {\"legend\":{\"bgcolor\":\"#F5F6F9\",\"font\":{\"color\":\"#4D5663\"}},\"paper_bgcolor\":\"#F5F6F9\",\"plot_bgcolor\":\"#F5F6F9\",\"template\":{\"data\":{\"barpolar\":[{\"marker\":{\"line\":{\"color\":\"#E5ECF6\",\"width\":0.5},\"pattern\":{\"fillmode\":\"overlay\",\"size\":10,\"solidity\":0.2}},\"type\":\"barpolar\"}],\"bar\":[{\"error_x\":{\"color\":\"#2a3f5f\"},\"error_y\":{\"color\":\"#2a3f5f\"},\"marker\":{\"line\":{\"color\":\"#E5ECF6\",\"width\":0.5},\"pattern\":{\"fillmode\":\"overlay\",\"size\":10,\"solidity\":0.2}},\"type\":\"bar\"}],\"carpet\":[{\"aaxis\":{\"endlinecolor\":\"#2a3f5f\",\"gridcolor\":\"white\",\"linecolor\":\"white\",\"minorgridcolor\":\"white\",\"startlinecolor\":\"#2a3f5f\"},\"baxis\":{\"endlinecolor\":\"#2a3f5f\",\"gridcolor\":\"white\",\"linecolor\":\"white\",\"minorgridcolor\":\"white\",\"startlinecolor\":\"#2a3f5f\"},\"type\":\"carpet\"}],\"choropleth\":[{\"colorbar\":{\"outlinewidth\":0,\"ticks\":\"\"},\"type\":\"choropleth\"}],\"contourcarpet\":[{\"colorbar\":{\"outlinewidth\":0,\"ticks\":\"\"},\"type\":\"contourcarpet\"}],\"contour\":[{\"colorbar\":{\"outlinewidth\":0,\"ticks\":\"\"},\"colorscale\":[[0.0,\"#0d0887\"],[0.1111111111111111,\"#46039f\"],[0.2222222222222222,\"#7201a8\"],[0.3333333333333333,\"#9c179e\"],[0.4444444444444444,\"#bd3786\"],[0.5555555555555556,\"#d8576b\"],[0.6666666666666666,\"#ed7953\"],[0.7777777777777778,\"#fb9f3a\"],[0.8888888888888888,\"#fdca26\"],[1.0,\"#f0f921\"]],\"type\":\"contour\"}],\"heatmapgl\":[{\"colorbar\":{\"outlinewidth\":0,\"ticks\":\"\"},\"colorscale\":[[0.0,\"#0d0887\"],[0.1111111111111111,\"#46039f\"],[0.2222222222222222,\"#7201a8\"],[0.3333333333333333,\"#9c179e\"],[0.4444444444444444,\"#bd3786\"],[0.5555555555555556,\"#d8576b\"],[0.6666666666666666,\"#ed7953\"],[0.7777777777777778,\"#fb9f3a\"],[0.8888888888888888,\"#fdca26\"],[1.0,\"#f0f921\"]],\"type\":\"heatmapgl\"}],\"heatmap\":[{\"colorbar\":{\"outlinewidth\":0,\"ticks\":\"\"},\"colorscale\":[[0.0,\"#0d0887\"],[0.1111111111111111,\"#46039f\"],[0.2222222222222222,\"#7201a8\"],[0.3333333333333333,\"#9c179e\"],[0.4444444444444444,\"#bd3786\"],[0.5555555555555556,\"#d8576b\"],[0.6666666666666666,\"#ed7953\"],[0.7777777777777778,\"#fb9f3a\"],[0.8888888888888888,\"#fdca26\"],[1.0,\"#f0f921\"]],\"type\":\"heatmap\"}],\"histogram2dcontour\":[{\"colorbar\":{\"outlinewidth\":0,\"ticks\":\"\"},\"colorscale\":[[0.0,\"#0d0887\"],[0.1111111111111111,\"#46039f\"],[0.2222222222222222,\"#7201a8\"],[0.3333333333333333,\"#9c179e\"],[0.4444444444444444,\"#bd3786\"],[0.5555555555555556,\"#d8576b\"],[0.6666666666666666,\"#ed7953\"],[0.7777777777777778,\"#fb9f3a\"],[0.8888888888888888,\"#fdca26\"],[1.0,\"#f0f921\"]],\"type\":\"histogram2dcontour\"}],\"histogram2d\":[{\"colorbar\":{\"outlinewidth\":0,\"ticks\":\"\"},\"colorscale\":[[0.0,\"#0d0887\"],[0.1111111111111111,\"#46039f\"],[0.2222222222222222,\"#7201a8\"],[0.3333333333333333,\"#9c179e\"],[0.4444444444444444,\"#bd3786\"],[0.5555555555555556,\"#d8576b\"],[0.6666666666666666,\"#ed7953\"],[0.7777777777777778,\"#fb9f3a\"],[0.8888888888888888,\"#fdca26\"],[1.0,\"#f0f921\"]],\"type\":\"histogram2d\"}],\"histogram\":[{\"marker\":{\"pattern\":{\"fillmode\":\"overlay\",\"size\":10,\"solidity\":0.2}},\"type\":\"histogram\"}],\"mesh3d\":[{\"colorbar\":{\"outlinewidth\":0,\"ticks\":\"\"},\"type\":\"mesh3d\"}],\"parcoords\":[{\"line\":{\"colorbar\":{\"outlinewidth\":0,\"ticks\":\"\"}},\"type\":\"parcoords\"}],\"pie\":[{\"automargin\":true,\"type\":\"pie\"}],\"scatter3d\":[{\"line\":{\"colorbar\":{\"outlinewidth\":0,\"ticks\":\"\"}},\"marker\":{\"colorbar\":{\"outlinewidth\":0,\"ticks\":\"\"}},\"type\":\"scatter3d\"}],\"scattercarpet\":[{\"marker\":{\"colorbar\":{\"outlinewidth\":0,\"ticks\":\"\"}},\"type\":\"scattercarpet\"}],\"scattergeo\":[{\"marker\":{\"colorbar\":{\"outlinewidth\":0,\"ticks\":\"\"}},\"type\":\"scattergeo\"}],\"scattergl\":[{\"marker\":{\"colorbar\":{\"outlinewidth\":0,\"ticks\":\"\"}},\"type\":\"scattergl\"}],\"scattermapbox\":[{\"marker\":{\"colorbar\":{\"outlinewidth\":0,\"ticks\":\"\"}},\"type\":\"scattermapbox\"}],\"scatterpolargl\":[{\"marker\":{\"colorbar\":{\"outlinewidth\":0,\"ticks\":\"\"}},\"type\":\"scatterpolargl\"}],\"scatterpolar\":[{\"marker\":{\"colorbar\":{\"outlinewidth\":0,\"ticks\":\"\"}},\"type\":\"scatterpolar\"}],\"scatter\":[{\"marker\":{\"colorbar\":{\"outlinewidth\":0,\"ticks\":\"\"}},\"type\":\"scatter\"}],\"scatterternary\":[{\"marker\":{\"colorbar\":{\"outlinewidth\":0,\"ticks\":\"\"}},\"type\":\"scatterternary\"}],\"surface\":[{\"colorbar\":{\"outlinewidth\":0,\"ticks\":\"\"},\"colorscale\":[[0.0,\"#0d0887\"],[0.1111111111111111,\"#46039f\"],[0.2222222222222222,\"#7201a8\"],[0.3333333333333333,\"#9c179e\"],[0.4444444444444444,\"#bd3786\"],[0.5555555555555556,\"#d8576b\"],[0.6666666666666666,\"#ed7953\"],[0.7777777777777778,\"#fb9f3a\"],[0.8888888888888888,\"#fdca26\"],[1.0,\"#f0f921\"]],\"type\":\"surface\"}],\"table\":[{\"cells\":{\"fill\":{\"color\":\"#EBF0F8\"},\"line\":{\"color\":\"white\"}},\"header\":{\"fill\":{\"color\":\"#C8D4E3\"},\"line\":{\"color\":\"white\"}},\"type\":\"table\"}]},\"layout\":{\"annotationdefaults\":{\"arrowcolor\":\"#2a3f5f\",\"arrowhead\":0,\"arrowwidth\":1},\"autotypenumbers\":\"strict\",\"coloraxis\":{\"colorbar\":{\"outlinewidth\":0,\"ticks\":\"\"}},\"colorscale\":{\"diverging\":[[0,\"#8e0152\"],[0.1,\"#c51b7d\"],[0.2,\"#de77ae\"],[0.3,\"#f1b6da\"],[0.4,\"#fde0ef\"],[0.5,\"#f7f7f7\"],[0.6,\"#e6f5d0\"],[0.7,\"#b8e186\"],[0.8,\"#7fbc41\"],[0.9,\"#4d9221\"],[1,\"#276419\"]],\"sequential\":[[0.0,\"#0d0887\"],[0.1111111111111111,\"#46039f\"],[0.2222222222222222,\"#7201a8\"],[0.3333333333333333,\"#9c179e\"],[0.4444444444444444,\"#bd3786\"],[0.5555555555555556,\"#d8576b\"],[0.6666666666666666,\"#ed7953\"],[0.7777777777777778,\"#fb9f3a\"],[0.8888888888888888,\"#fdca26\"],[1.0,\"#f0f921\"]],\"sequentialminus\":[[0.0,\"#0d0887\"],[0.1111111111111111,\"#46039f\"],[0.2222222222222222,\"#7201a8\"],[0.3333333333333333,\"#9c179e\"],[0.4444444444444444,\"#bd3786\"],[0.5555555555555556,\"#d8576b\"],[0.6666666666666666,\"#ed7953\"],[0.7777777777777778,\"#fb9f3a\"],[0.8888888888888888,\"#fdca26\"],[1.0,\"#f0f921\"]]},\"colorway\":[\"#636efa\",\"#EF553B\",\"#00cc96\",\"#ab63fa\",\"#FFA15A\",\"#19d3f3\",\"#FF6692\",\"#B6E880\",\"#FF97FF\",\"#FECB52\"],\"font\":{\"color\":\"#2a3f5f\"},\"geo\":{\"bgcolor\":\"white\",\"lakecolor\":\"white\",\"landcolor\":\"#E5ECF6\",\"showlakes\":true,\"showland\":true,\"subunitcolor\":\"white\"},\"hoverlabel\":{\"align\":\"left\"},\"hovermode\":\"closest\",\"mapbox\":{\"style\":\"light\"},\"paper_bgcolor\":\"white\",\"plot_bgcolor\":\"#E5ECF6\",\"polar\":{\"angularaxis\":{\"gridcolor\":\"white\",\"linecolor\":\"white\",\"ticks\":\"\"},\"bgcolor\":\"#E5ECF6\",\"radialaxis\":{\"gridcolor\":\"white\",\"linecolor\":\"white\",\"ticks\":\"\"}},\"scene\":{\"xaxis\":{\"backgroundcolor\":\"#E5ECF6\",\"gridcolor\":\"white\",\"gridwidth\":2,\"linecolor\":\"white\",\"showbackground\":true,\"ticks\":\"\",\"zerolinecolor\":\"white\"},\"yaxis\":{\"backgroundcolor\":\"#E5ECF6\",\"gridcolor\":\"white\",\"gridwidth\":2,\"linecolor\":\"white\",\"showbackground\":true,\"ticks\":\"\",\"zerolinecolor\":\"white\"},\"zaxis\":{\"backgroundcolor\":\"#E5ECF6\",\"gridcolor\":\"white\",\"gridwidth\":2,\"linecolor\":\"white\",\"showbackground\":true,\"ticks\":\"\",\"zerolinecolor\":\"white\"}},\"shapedefaults\":{\"line\":{\"color\":\"#2a3f5f\"}},\"ternary\":{\"aaxis\":{\"gridcolor\":\"white\",\"linecolor\":\"white\",\"ticks\":\"\"},\"baxis\":{\"gridcolor\":\"white\",\"linecolor\":\"white\",\"ticks\":\"\"},\"bgcolor\":\"#E5ECF6\",\"caxis\":{\"gridcolor\":\"white\",\"linecolor\":\"white\",\"ticks\":\"\"}},\"title\":{\"x\":0.05},\"xaxis\":{\"automargin\":true,\"gridcolor\":\"white\",\"linecolor\":\"white\",\"ticks\":\"\",\"title\":{\"standoff\":15},\"zerolinecolor\":\"white\",\"zerolinewidth\":2},\"yaxis\":{\"automargin\":true,\"gridcolor\":\"white\",\"linecolor\":\"white\",\"ticks\":\"\",\"title\":{\"standoff\":15},\"zerolinecolor\":\"white\",\"zerolinewidth\":2}}},\"title\":{\"font\":{\"color\":\"#4D5663\"}},\"xaxis\":{\"gridcolor\":\"#E1E5ED\",\"showgrid\":true,\"tickfont\":{\"color\":\"#4D5663\"},\"title\":{\"font\":{\"color\":\"#4D5663\"},\"text\":\"\"},\"zerolinecolor\":\"#E1E5ED\"},\"yaxis\":{\"gridcolor\":\"#E1E5ED\",\"showgrid\":true,\"tickfont\":{\"color\":\"#4D5663\"},\"title\":{\"font\":{\"color\":\"#4D5663\"},\"text\":\"\"},\"zerolinecolor\":\"#E1E5ED\"}},                        {\"showLink\": true, \"linkText\": \"Export to plot.ly\", \"plotlyServerURL\": \"https://plot.ly\", \"responsive\": true}                    ).then(function(){\n",
       "                            \n",
       "var gd = document.getElementById('f8d8c22c-e8c9-4b2c-97c4-13bea21a96c9');\n",
       "var x = new MutationObserver(function (mutations, observer) {{\n",
       "        var display = window.getComputedStyle(gd).display;\n",
       "        if (!display || display === 'none') {{\n",
       "            console.log([gd, 'removed!']);\n",
       "            Plotly.purge(gd);\n",
       "            observer.disconnect();\n",
       "        }}\n",
       "}});\n",
       "\n",
       "// Listen for the removal of the full notebook cells\n",
       "var notebookContainer = gd.closest('#notebook-container');\n",
       "if (notebookContainer) {{\n",
       "    x.observe(notebookContainer, {childList: true});\n",
       "}}\n",
       "\n",
       "// Listen for the clearing of the current output cell\n",
       "var outputEl = gd.closest('.output');\n",
       "if (outputEl) {{\n",
       "    x.observe(outputEl, {childList: true});\n",
       "}}\n",
       "\n",
       "                        })                };                });            </script>        </div>"
      ]
     },
     "metadata": {},
     "output_type": "display_data"
    }
   ],
   "source": [
    "cf.datagen.sinwave(10,0.25).iplot(kind='surface')"
   ]
  },
  {
   "cell_type": "code",
   "execution_count": 38,
   "id": "90e93733",
   "metadata": {},
   "outputs": [],
   "source": [
    "import plotly.express as px\n",
    "dfiris = px.data.iris()"
   ]
  },
  {
   "cell_type": "code",
   "execution_count": 40,
   "id": "255ae7cb",
   "metadata": {},
   "outputs": [],
   "source": [
    "fig = px.scatter_3d(dfiris, x = 'sepal_length', y = 'sepal_width', z = 'petal_width', color = 'species')"
   ]
  },
  {
   "cell_type": "code",
   "execution_count": 41,
   "id": "3c71389b",
   "metadata": {},
   "outputs": [
    {
     "data": {
      "application/vnd.plotly.v1+json": {
       "config": {
        "plotlyServerURL": "https://plot.ly"
       },
       "data": [
        {
         "hovertemplate": "species=setosa<br>sepal_length=%{x}<br>sepal_width=%{y}<br>petal_width=%{z}<extra></extra>",
         "legendgroup": "setosa",
         "marker": {
          "color": "#636efa",
          "symbol": "circle"
         },
         "mode": "markers",
         "name": "setosa",
         "scene": "scene",
         "showlegend": true,
         "type": "scatter3d",
         "x": [
          5.1,
          4.9,
          4.7,
          4.6,
          5,
          5.4,
          4.6,
          5,
          4.4,
          4.9,
          5.4,
          4.8,
          4.8,
          4.3,
          5.8,
          5.7,
          5.4,
          5.1,
          5.7,
          5.1,
          5.4,
          5.1,
          4.6,
          5.1,
          4.8,
          5,
          5,
          5.2,
          5.2,
          4.7,
          4.8,
          5.4,
          5.2,
          5.5,
          4.9,
          5,
          5.5,
          4.9,
          4.4,
          5.1,
          5,
          4.5,
          4.4,
          5,
          5.1,
          4.8,
          5.1,
          4.6,
          5.3,
          5
         ],
         "y": [
          3.5,
          3,
          3.2,
          3.1,
          3.6,
          3.9,
          3.4,
          3.4,
          2.9,
          3.1,
          3.7,
          3.4,
          3,
          3,
          4,
          4.4,
          3.9,
          3.5,
          3.8,
          3.8,
          3.4,
          3.7,
          3.6,
          3.3,
          3.4,
          3,
          3.4,
          3.5,
          3.4,
          3.2,
          3.1,
          3.4,
          4.1,
          4.2,
          3.1,
          3.2,
          3.5,
          3.1,
          3,
          3.4,
          3.5,
          2.3,
          3.2,
          3.5,
          3.8,
          3,
          3.8,
          3.2,
          3.7,
          3.3
         ],
         "z": [
          0.2,
          0.2,
          0.2,
          0.2,
          0.2,
          0.4,
          0.3,
          0.2,
          0.2,
          0.1,
          0.2,
          0.2,
          0.1,
          0.1,
          0.2,
          0.4,
          0.4,
          0.3,
          0.3,
          0.3,
          0.2,
          0.4,
          0.2,
          0.5,
          0.2,
          0.2,
          0.4,
          0.2,
          0.2,
          0.2,
          0.2,
          0.4,
          0.1,
          0.2,
          0.1,
          0.2,
          0.2,
          0.1,
          0.2,
          0.2,
          0.3,
          0.3,
          0.2,
          0.6,
          0.4,
          0.3,
          0.2,
          0.2,
          0.2,
          0.2
         ]
        },
        {
         "hovertemplate": "species=versicolor<br>sepal_length=%{x}<br>sepal_width=%{y}<br>petal_width=%{z}<extra></extra>",
         "legendgroup": "versicolor",
         "marker": {
          "color": "#EF553B",
          "symbol": "circle"
         },
         "mode": "markers",
         "name": "versicolor",
         "scene": "scene",
         "showlegend": true,
         "type": "scatter3d",
         "x": [
          7,
          6.4,
          6.9,
          5.5,
          6.5,
          5.7,
          6.3,
          4.9,
          6.6,
          5.2,
          5,
          5.9,
          6,
          6.1,
          5.6,
          6.7,
          5.6,
          5.8,
          6.2,
          5.6,
          5.9,
          6.1,
          6.3,
          6.1,
          6.4,
          6.6,
          6.8,
          6.7,
          6,
          5.7,
          5.5,
          5.5,
          5.8,
          6,
          5.4,
          6,
          6.7,
          6.3,
          5.6,
          5.5,
          5.5,
          6.1,
          5.8,
          5,
          5.6,
          5.7,
          5.7,
          6.2,
          5.1,
          5.7
         ],
         "y": [
          3.2,
          3.2,
          3.1,
          2.3,
          2.8,
          2.8,
          3.3,
          2.4,
          2.9,
          2.7,
          2,
          3,
          2.2,
          2.9,
          2.9,
          3.1,
          3,
          2.7,
          2.2,
          2.5,
          3.2,
          2.8,
          2.5,
          2.8,
          2.9,
          3,
          2.8,
          3,
          2.9,
          2.6,
          2.4,
          2.4,
          2.7,
          2.7,
          3,
          3.4,
          3.1,
          2.3,
          3,
          2.5,
          2.6,
          3,
          2.6,
          2.3,
          2.7,
          3,
          2.9,
          2.9,
          2.5,
          2.8
         ],
         "z": [
          1.4,
          1.5,
          1.5,
          1.3,
          1.5,
          1.3,
          1.6,
          1,
          1.3,
          1.4,
          1,
          1.5,
          1,
          1.4,
          1.3,
          1.4,
          1.5,
          1,
          1.5,
          1.1,
          1.8,
          1.3,
          1.5,
          1.2,
          1.3,
          1.4,
          1.4,
          1.7,
          1.5,
          1,
          1.1,
          1,
          1.2,
          1.6,
          1.5,
          1.6,
          1.5,
          1.3,
          1.3,
          1.3,
          1.2,
          1.4,
          1.2,
          1,
          1.3,
          1.2,
          1.3,
          1.3,
          1.1,
          1.3
         ]
        },
        {
         "hovertemplate": "species=virginica<br>sepal_length=%{x}<br>sepal_width=%{y}<br>petal_width=%{z}<extra></extra>",
         "legendgroup": "virginica",
         "marker": {
          "color": "#00cc96",
          "symbol": "circle"
         },
         "mode": "markers",
         "name": "virginica",
         "scene": "scene",
         "showlegend": true,
         "type": "scatter3d",
         "x": [
          6.3,
          5.8,
          7.1,
          6.3,
          6.5,
          7.6,
          4.9,
          7.3,
          6.7,
          7.2,
          6.5,
          6.4,
          6.8,
          5.7,
          5.8,
          6.4,
          6.5,
          7.7,
          7.7,
          6,
          6.9,
          5.6,
          7.7,
          6.3,
          6.7,
          7.2,
          6.2,
          6.1,
          6.4,
          7.2,
          7.4,
          7.9,
          6.4,
          6.3,
          6.1,
          7.7,
          6.3,
          6.4,
          6,
          6.9,
          6.7,
          6.9,
          5.8,
          6.8,
          6.7,
          6.7,
          6.3,
          6.5,
          6.2,
          5.9
         ],
         "y": [
          3.3,
          2.7,
          3,
          2.9,
          3,
          3,
          2.5,
          2.9,
          2.5,
          3.6,
          3.2,
          2.7,
          3,
          2.5,
          2.8,
          3.2,
          3,
          3.8,
          2.6,
          2.2,
          3.2,
          2.8,
          2.8,
          2.7,
          3.3,
          3.2,
          2.8,
          3,
          2.8,
          3,
          2.8,
          3.8,
          2.8,
          2.8,
          2.6,
          3,
          3.4,
          3.1,
          3,
          3.1,
          3.1,
          3.1,
          2.7,
          3.2,
          3.3,
          3,
          2.5,
          3,
          3.4,
          3
         ],
         "z": [
          2.5,
          1.9,
          2.1,
          1.8,
          2.2,
          2.1,
          1.7,
          1.8,
          1.8,
          2.5,
          2,
          1.9,
          2.1,
          2,
          2.4,
          2.3,
          1.8,
          2.2,
          2.3,
          1.5,
          2.3,
          2,
          2,
          1.8,
          2.1,
          1.8,
          1.8,
          1.8,
          2.1,
          1.6,
          1.9,
          2,
          2.2,
          1.5,
          1.4,
          2.3,
          2.4,
          1.8,
          1.8,
          2.1,
          2.4,
          2.3,
          1.9,
          2.3,
          2.5,
          2.3,
          1.9,
          2,
          2.3,
          1.8
         ]
        }
       ],
       "layout": {
        "legend": {
         "title": {
          "text": "species"
         },
         "tracegroupgap": 0
        },
        "margin": {
         "t": 60
        },
        "scene": {
         "domain": {
          "x": [
           0,
           1
          ],
          "y": [
           0,
           1
          ]
         },
         "xaxis": {
          "title": {
           "text": "sepal_length"
          }
         },
         "yaxis": {
          "title": {
           "text": "sepal_width"
          }
         },
         "zaxis": {
          "title": {
           "text": "petal_width"
          }
         }
        },
        "template": {
         "data": {
          "bar": [
           {
            "error_x": {
             "color": "#2a3f5f"
            },
            "error_y": {
             "color": "#2a3f5f"
            },
            "marker": {
             "line": {
              "color": "#E5ECF6",
              "width": 0.5
             },
             "pattern": {
              "fillmode": "overlay",
              "size": 10,
              "solidity": 0.2
             }
            },
            "type": "bar"
           }
          ],
          "barpolar": [
           {
            "marker": {
             "line": {
              "color": "#E5ECF6",
              "width": 0.5
             },
             "pattern": {
              "fillmode": "overlay",
              "size": 10,
              "solidity": 0.2
             }
            },
            "type": "barpolar"
           }
          ],
          "carpet": [
           {
            "aaxis": {
             "endlinecolor": "#2a3f5f",
             "gridcolor": "white",
             "linecolor": "white",
             "minorgridcolor": "white",
             "startlinecolor": "#2a3f5f"
            },
            "baxis": {
             "endlinecolor": "#2a3f5f",
             "gridcolor": "white",
             "linecolor": "white",
             "minorgridcolor": "white",
             "startlinecolor": "#2a3f5f"
            },
            "type": "carpet"
           }
          ],
          "choropleth": [
           {
            "colorbar": {
             "outlinewidth": 0,
             "ticks": ""
            },
            "type": "choropleth"
           }
          ],
          "contour": [
           {
            "colorbar": {
             "outlinewidth": 0,
             "ticks": ""
            },
            "colorscale": [
             [
              0,
              "#0d0887"
             ],
             [
              0.1111111111111111,
              "#46039f"
             ],
             [
              0.2222222222222222,
              "#7201a8"
             ],
             [
              0.3333333333333333,
              "#9c179e"
             ],
             [
              0.4444444444444444,
              "#bd3786"
             ],
             [
              0.5555555555555556,
              "#d8576b"
             ],
             [
              0.6666666666666666,
              "#ed7953"
             ],
             [
              0.7777777777777778,
              "#fb9f3a"
             ],
             [
              0.8888888888888888,
              "#fdca26"
             ],
             [
              1,
              "#f0f921"
             ]
            ],
            "type": "contour"
           }
          ],
          "contourcarpet": [
           {
            "colorbar": {
             "outlinewidth": 0,
             "ticks": ""
            },
            "type": "contourcarpet"
           }
          ],
          "heatmap": [
           {
            "colorbar": {
             "outlinewidth": 0,
             "ticks": ""
            },
            "colorscale": [
             [
              0,
              "#0d0887"
             ],
             [
              0.1111111111111111,
              "#46039f"
             ],
             [
              0.2222222222222222,
              "#7201a8"
             ],
             [
              0.3333333333333333,
              "#9c179e"
             ],
             [
              0.4444444444444444,
              "#bd3786"
             ],
             [
              0.5555555555555556,
              "#d8576b"
             ],
             [
              0.6666666666666666,
              "#ed7953"
             ],
             [
              0.7777777777777778,
              "#fb9f3a"
             ],
             [
              0.8888888888888888,
              "#fdca26"
             ],
             [
              1,
              "#f0f921"
             ]
            ],
            "type": "heatmap"
           }
          ],
          "heatmapgl": [
           {
            "colorbar": {
             "outlinewidth": 0,
             "ticks": ""
            },
            "colorscale": [
             [
              0,
              "#0d0887"
             ],
             [
              0.1111111111111111,
              "#46039f"
             ],
             [
              0.2222222222222222,
              "#7201a8"
             ],
             [
              0.3333333333333333,
              "#9c179e"
             ],
             [
              0.4444444444444444,
              "#bd3786"
             ],
             [
              0.5555555555555556,
              "#d8576b"
             ],
             [
              0.6666666666666666,
              "#ed7953"
             ],
             [
              0.7777777777777778,
              "#fb9f3a"
             ],
             [
              0.8888888888888888,
              "#fdca26"
             ],
             [
              1,
              "#f0f921"
             ]
            ],
            "type": "heatmapgl"
           }
          ],
          "histogram": [
           {
            "marker": {
             "pattern": {
              "fillmode": "overlay",
              "size": 10,
              "solidity": 0.2
             }
            },
            "type": "histogram"
           }
          ],
          "histogram2d": [
           {
            "colorbar": {
             "outlinewidth": 0,
             "ticks": ""
            },
            "colorscale": [
             [
              0,
              "#0d0887"
             ],
             [
              0.1111111111111111,
              "#46039f"
             ],
             [
              0.2222222222222222,
              "#7201a8"
             ],
             [
              0.3333333333333333,
              "#9c179e"
             ],
             [
              0.4444444444444444,
              "#bd3786"
             ],
             [
              0.5555555555555556,
              "#d8576b"
             ],
             [
              0.6666666666666666,
              "#ed7953"
             ],
             [
              0.7777777777777778,
              "#fb9f3a"
             ],
             [
              0.8888888888888888,
              "#fdca26"
             ],
             [
              1,
              "#f0f921"
             ]
            ],
            "type": "histogram2d"
           }
          ],
          "histogram2dcontour": [
           {
            "colorbar": {
             "outlinewidth": 0,
             "ticks": ""
            },
            "colorscale": [
             [
              0,
              "#0d0887"
             ],
             [
              0.1111111111111111,
              "#46039f"
             ],
             [
              0.2222222222222222,
              "#7201a8"
             ],
             [
              0.3333333333333333,
              "#9c179e"
             ],
             [
              0.4444444444444444,
              "#bd3786"
             ],
             [
              0.5555555555555556,
              "#d8576b"
             ],
             [
              0.6666666666666666,
              "#ed7953"
             ],
             [
              0.7777777777777778,
              "#fb9f3a"
             ],
             [
              0.8888888888888888,
              "#fdca26"
             ],
             [
              1,
              "#f0f921"
             ]
            ],
            "type": "histogram2dcontour"
           }
          ],
          "mesh3d": [
           {
            "colorbar": {
             "outlinewidth": 0,
             "ticks": ""
            },
            "type": "mesh3d"
           }
          ],
          "parcoords": [
           {
            "line": {
             "colorbar": {
              "outlinewidth": 0,
              "ticks": ""
             }
            },
            "type": "parcoords"
           }
          ],
          "pie": [
           {
            "automargin": true,
            "type": "pie"
           }
          ],
          "scatter": [
           {
            "marker": {
             "colorbar": {
              "outlinewidth": 0,
              "ticks": ""
             }
            },
            "type": "scatter"
           }
          ],
          "scatter3d": [
           {
            "line": {
             "colorbar": {
              "outlinewidth": 0,
              "ticks": ""
             }
            },
            "marker": {
             "colorbar": {
              "outlinewidth": 0,
              "ticks": ""
             }
            },
            "type": "scatter3d"
           }
          ],
          "scattercarpet": [
           {
            "marker": {
             "colorbar": {
              "outlinewidth": 0,
              "ticks": ""
             }
            },
            "type": "scattercarpet"
           }
          ],
          "scattergeo": [
           {
            "marker": {
             "colorbar": {
              "outlinewidth": 0,
              "ticks": ""
             }
            },
            "type": "scattergeo"
           }
          ],
          "scattergl": [
           {
            "marker": {
             "colorbar": {
              "outlinewidth": 0,
              "ticks": ""
             }
            },
            "type": "scattergl"
           }
          ],
          "scattermapbox": [
           {
            "marker": {
             "colorbar": {
              "outlinewidth": 0,
              "ticks": ""
             }
            },
            "type": "scattermapbox"
           }
          ],
          "scatterpolar": [
           {
            "marker": {
             "colorbar": {
              "outlinewidth": 0,
              "ticks": ""
             }
            },
            "type": "scatterpolar"
           }
          ],
          "scatterpolargl": [
           {
            "marker": {
             "colorbar": {
              "outlinewidth": 0,
              "ticks": ""
             }
            },
            "type": "scatterpolargl"
           }
          ],
          "scatterternary": [
           {
            "marker": {
             "colorbar": {
              "outlinewidth": 0,
              "ticks": ""
             }
            },
            "type": "scatterternary"
           }
          ],
          "surface": [
           {
            "colorbar": {
             "outlinewidth": 0,
             "ticks": ""
            },
            "colorscale": [
             [
              0,
              "#0d0887"
             ],
             [
              0.1111111111111111,
              "#46039f"
             ],
             [
              0.2222222222222222,
              "#7201a8"
             ],
             [
              0.3333333333333333,
              "#9c179e"
             ],
             [
              0.4444444444444444,
              "#bd3786"
             ],
             [
              0.5555555555555556,
              "#d8576b"
             ],
             [
              0.6666666666666666,
              "#ed7953"
             ],
             [
              0.7777777777777778,
              "#fb9f3a"
             ],
             [
              0.8888888888888888,
              "#fdca26"
             ],
             [
              1,
              "#f0f921"
             ]
            ],
            "type": "surface"
           }
          ],
          "table": [
           {
            "cells": {
             "fill": {
              "color": "#EBF0F8"
             },
             "line": {
              "color": "white"
             }
            },
            "header": {
             "fill": {
              "color": "#C8D4E3"
             },
             "line": {
              "color": "white"
             }
            },
            "type": "table"
           }
          ]
         },
         "layout": {
          "annotationdefaults": {
           "arrowcolor": "#2a3f5f",
           "arrowhead": 0,
           "arrowwidth": 1
          },
          "autotypenumbers": "strict",
          "coloraxis": {
           "colorbar": {
            "outlinewidth": 0,
            "ticks": ""
           }
          },
          "colorscale": {
           "diverging": [
            [
             0,
             "#8e0152"
            ],
            [
             0.1,
             "#c51b7d"
            ],
            [
             0.2,
             "#de77ae"
            ],
            [
             0.3,
             "#f1b6da"
            ],
            [
             0.4,
             "#fde0ef"
            ],
            [
             0.5,
             "#f7f7f7"
            ],
            [
             0.6,
             "#e6f5d0"
            ],
            [
             0.7,
             "#b8e186"
            ],
            [
             0.8,
             "#7fbc41"
            ],
            [
             0.9,
             "#4d9221"
            ],
            [
             1,
             "#276419"
            ]
           ],
           "sequential": [
            [
             0,
             "#0d0887"
            ],
            [
             0.1111111111111111,
             "#46039f"
            ],
            [
             0.2222222222222222,
             "#7201a8"
            ],
            [
             0.3333333333333333,
             "#9c179e"
            ],
            [
             0.4444444444444444,
             "#bd3786"
            ],
            [
             0.5555555555555556,
             "#d8576b"
            ],
            [
             0.6666666666666666,
             "#ed7953"
            ],
            [
             0.7777777777777778,
             "#fb9f3a"
            ],
            [
             0.8888888888888888,
             "#fdca26"
            ],
            [
             1,
             "#f0f921"
            ]
           ],
           "sequentialminus": [
            [
             0,
             "#0d0887"
            ],
            [
             0.1111111111111111,
             "#46039f"
            ],
            [
             0.2222222222222222,
             "#7201a8"
            ],
            [
             0.3333333333333333,
             "#9c179e"
            ],
            [
             0.4444444444444444,
             "#bd3786"
            ],
            [
             0.5555555555555556,
             "#d8576b"
            ],
            [
             0.6666666666666666,
             "#ed7953"
            ],
            [
             0.7777777777777778,
             "#fb9f3a"
            ],
            [
             0.8888888888888888,
             "#fdca26"
            ],
            [
             1,
             "#f0f921"
            ]
           ]
          },
          "colorway": [
           "#636efa",
           "#EF553B",
           "#00cc96",
           "#ab63fa",
           "#FFA15A",
           "#19d3f3",
           "#FF6692",
           "#B6E880",
           "#FF97FF",
           "#FECB52"
          ],
          "font": {
           "color": "#2a3f5f"
          },
          "geo": {
           "bgcolor": "white",
           "lakecolor": "white",
           "landcolor": "#E5ECF6",
           "showlakes": true,
           "showland": true,
           "subunitcolor": "white"
          },
          "hoverlabel": {
           "align": "left"
          },
          "hovermode": "closest",
          "mapbox": {
           "style": "light"
          },
          "paper_bgcolor": "white",
          "plot_bgcolor": "#E5ECF6",
          "polar": {
           "angularaxis": {
            "gridcolor": "white",
            "linecolor": "white",
            "ticks": ""
           },
           "bgcolor": "#E5ECF6",
           "radialaxis": {
            "gridcolor": "white",
            "linecolor": "white",
            "ticks": ""
           }
          },
          "scene": {
           "xaxis": {
            "backgroundcolor": "#E5ECF6",
            "gridcolor": "white",
            "gridwidth": 2,
            "linecolor": "white",
            "showbackground": true,
            "ticks": "",
            "zerolinecolor": "white"
           },
           "yaxis": {
            "backgroundcolor": "#E5ECF6",
            "gridcolor": "white",
            "gridwidth": 2,
            "linecolor": "white",
            "showbackground": true,
            "ticks": "",
            "zerolinecolor": "white"
           },
           "zaxis": {
            "backgroundcolor": "#E5ECF6",
            "gridcolor": "white",
            "gridwidth": 2,
            "linecolor": "white",
            "showbackground": true,
            "ticks": "",
            "zerolinecolor": "white"
           }
          },
          "shapedefaults": {
           "line": {
            "color": "#2a3f5f"
           }
          },
          "ternary": {
           "aaxis": {
            "gridcolor": "white",
            "linecolor": "white",
            "ticks": ""
           },
           "baxis": {
            "gridcolor": "white",
            "linecolor": "white",
            "ticks": ""
           },
           "bgcolor": "#E5ECF6",
           "caxis": {
            "gridcolor": "white",
            "linecolor": "white",
            "ticks": ""
           }
          },
          "title": {
           "x": 0.05
          },
          "xaxis": {
           "automargin": true,
           "gridcolor": "white",
           "linecolor": "white",
           "ticks": "",
           "title": {
            "standoff": 15
           },
           "zerolinecolor": "white",
           "zerolinewidth": 2
          },
          "yaxis": {
           "automargin": true,
           "gridcolor": "white",
           "linecolor": "white",
           "ticks": "",
           "title": {
            "standoff": 15
           },
           "zerolinecolor": "white",
           "zerolinewidth": 2
          }
         }
        }
       }
      },
      "text/html": [
       "<div>                            <div id=\"53160939-fdd4-40b3-b2bc-4bf39cd3314a\" class=\"plotly-graph-div\" style=\"height:525px; width:100%;\"></div>            <script type=\"text/javascript\">                require([\"plotly\"], function(Plotly) {                    window.PLOTLYENV=window.PLOTLYENV || {};                                    if (document.getElementById(\"53160939-fdd4-40b3-b2bc-4bf39cd3314a\")) {                    Plotly.newPlot(                        \"53160939-fdd4-40b3-b2bc-4bf39cd3314a\",                        [{\"hovertemplate\":\"species=setosa<br>sepal_length=%{x}<br>sepal_width=%{y}<br>petal_width=%{z}<extra></extra>\",\"legendgroup\":\"setosa\",\"marker\":{\"color\":\"#636efa\",\"symbol\":\"circle\"},\"mode\":\"markers\",\"name\":\"setosa\",\"scene\":\"scene\",\"showlegend\":true,\"x\":[5.1,4.9,4.7,4.6,5.0,5.4,4.6,5.0,4.4,4.9,5.4,4.8,4.8,4.3,5.8,5.7,5.4,5.1,5.7,5.1,5.4,5.1,4.6,5.1,4.8,5.0,5.0,5.2,5.2,4.7,4.8,5.4,5.2,5.5,4.9,5.0,5.5,4.9,4.4,5.1,5.0,4.5,4.4,5.0,5.1,4.8,5.1,4.6,5.3,5.0],\"y\":[3.5,3.0,3.2,3.1,3.6,3.9,3.4,3.4,2.9,3.1,3.7,3.4,3.0,3.0,4.0,4.4,3.9,3.5,3.8,3.8,3.4,3.7,3.6,3.3,3.4,3.0,3.4,3.5,3.4,3.2,3.1,3.4,4.1,4.2,3.1,3.2,3.5,3.1,3.0,3.4,3.5,2.3,3.2,3.5,3.8,3.0,3.8,3.2,3.7,3.3],\"z\":[0.2,0.2,0.2,0.2,0.2,0.4,0.3,0.2,0.2,0.1,0.2,0.2,0.1,0.1,0.2,0.4,0.4,0.3,0.3,0.3,0.2,0.4,0.2,0.5,0.2,0.2,0.4,0.2,0.2,0.2,0.2,0.4,0.1,0.2,0.1,0.2,0.2,0.1,0.2,0.2,0.3,0.3,0.2,0.6,0.4,0.3,0.2,0.2,0.2,0.2],\"type\":\"scatter3d\"},{\"hovertemplate\":\"species=versicolor<br>sepal_length=%{x}<br>sepal_width=%{y}<br>petal_width=%{z}<extra></extra>\",\"legendgroup\":\"versicolor\",\"marker\":{\"color\":\"#EF553B\",\"symbol\":\"circle\"},\"mode\":\"markers\",\"name\":\"versicolor\",\"scene\":\"scene\",\"showlegend\":true,\"x\":[7.0,6.4,6.9,5.5,6.5,5.7,6.3,4.9,6.6,5.2,5.0,5.9,6.0,6.1,5.6,6.7,5.6,5.8,6.2,5.6,5.9,6.1,6.3,6.1,6.4,6.6,6.8,6.7,6.0,5.7,5.5,5.5,5.8,6.0,5.4,6.0,6.7,6.3,5.6,5.5,5.5,6.1,5.8,5.0,5.6,5.7,5.7,6.2,5.1,5.7],\"y\":[3.2,3.2,3.1,2.3,2.8,2.8,3.3,2.4,2.9,2.7,2.0,3.0,2.2,2.9,2.9,3.1,3.0,2.7,2.2,2.5,3.2,2.8,2.5,2.8,2.9,3.0,2.8,3.0,2.9,2.6,2.4,2.4,2.7,2.7,3.0,3.4,3.1,2.3,3.0,2.5,2.6,3.0,2.6,2.3,2.7,3.0,2.9,2.9,2.5,2.8],\"z\":[1.4,1.5,1.5,1.3,1.5,1.3,1.6,1.0,1.3,1.4,1.0,1.5,1.0,1.4,1.3,1.4,1.5,1.0,1.5,1.1,1.8,1.3,1.5,1.2,1.3,1.4,1.4,1.7,1.5,1.0,1.1,1.0,1.2,1.6,1.5,1.6,1.5,1.3,1.3,1.3,1.2,1.4,1.2,1.0,1.3,1.2,1.3,1.3,1.1,1.3],\"type\":\"scatter3d\"},{\"hovertemplate\":\"species=virginica<br>sepal_length=%{x}<br>sepal_width=%{y}<br>petal_width=%{z}<extra></extra>\",\"legendgroup\":\"virginica\",\"marker\":{\"color\":\"#00cc96\",\"symbol\":\"circle\"},\"mode\":\"markers\",\"name\":\"virginica\",\"scene\":\"scene\",\"showlegend\":true,\"x\":[6.3,5.8,7.1,6.3,6.5,7.6,4.9,7.3,6.7,7.2,6.5,6.4,6.8,5.7,5.8,6.4,6.5,7.7,7.7,6.0,6.9,5.6,7.7,6.3,6.7,7.2,6.2,6.1,6.4,7.2,7.4,7.9,6.4,6.3,6.1,7.7,6.3,6.4,6.0,6.9,6.7,6.9,5.8,6.8,6.7,6.7,6.3,6.5,6.2,5.9],\"y\":[3.3,2.7,3.0,2.9,3.0,3.0,2.5,2.9,2.5,3.6,3.2,2.7,3.0,2.5,2.8,3.2,3.0,3.8,2.6,2.2,3.2,2.8,2.8,2.7,3.3,3.2,2.8,3.0,2.8,3.0,2.8,3.8,2.8,2.8,2.6,3.0,3.4,3.1,3.0,3.1,3.1,3.1,2.7,3.2,3.3,3.0,2.5,3.0,3.4,3.0],\"z\":[2.5,1.9,2.1,1.8,2.2,2.1,1.7,1.8,1.8,2.5,2.0,1.9,2.1,2.0,2.4,2.3,1.8,2.2,2.3,1.5,2.3,2.0,2.0,1.8,2.1,1.8,1.8,1.8,2.1,1.6,1.9,2.0,2.2,1.5,1.4,2.3,2.4,1.8,1.8,2.1,2.4,2.3,1.9,2.3,2.5,2.3,1.9,2.0,2.3,1.8],\"type\":\"scatter3d\"}],                        {\"template\":{\"data\":{\"bar\":[{\"error_x\":{\"color\":\"#2a3f5f\"},\"error_y\":{\"color\":\"#2a3f5f\"},\"marker\":{\"line\":{\"color\":\"#E5ECF6\",\"width\":0.5},\"pattern\":{\"fillmode\":\"overlay\",\"size\":10,\"solidity\":0.2}},\"type\":\"bar\"}],\"barpolar\":[{\"marker\":{\"line\":{\"color\":\"#E5ECF6\",\"width\":0.5},\"pattern\":{\"fillmode\":\"overlay\",\"size\":10,\"solidity\":0.2}},\"type\":\"barpolar\"}],\"carpet\":[{\"aaxis\":{\"endlinecolor\":\"#2a3f5f\",\"gridcolor\":\"white\",\"linecolor\":\"white\",\"minorgridcolor\":\"white\",\"startlinecolor\":\"#2a3f5f\"},\"baxis\":{\"endlinecolor\":\"#2a3f5f\",\"gridcolor\":\"white\",\"linecolor\":\"white\",\"minorgridcolor\":\"white\",\"startlinecolor\":\"#2a3f5f\"},\"type\":\"carpet\"}],\"choropleth\":[{\"colorbar\":{\"outlinewidth\":0,\"ticks\":\"\"},\"type\":\"choropleth\"}],\"contour\":[{\"colorbar\":{\"outlinewidth\":0,\"ticks\":\"\"},\"colorscale\":[[0.0,\"#0d0887\"],[0.1111111111111111,\"#46039f\"],[0.2222222222222222,\"#7201a8\"],[0.3333333333333333,\"#9c179e\"],[0.4444444444444444,\"#bd3786\"],[0.5555555555555556,\"#d8576b\"],[0.6666666666666666,\"#ed7953\"],[0.7777777777777778,\"#fb9f3a\"],[0.8888888888888888,\"#fdca26\"],[1.0,\"#f0f921\"]],\"type\":\"contour\"}],\"contourcarpet\":[{\"colorbar\":{\"outlinewidth\":0,\"ticks\":\"\"},\"type\":\"contourcarpet\"}],\"heatmap\":[{\"colorbar\":{\"outlinewidth\":0,\"ticks\":\"\"},\"colorscale\":[[0.0,\"#0d0887\"],[0.1111111111111111,\"#46039f\"],[0.2222222222222222,\"#7201a8\"],[0.3333333333333333,\"#9c179e\"],[0.4444444444444444,\"#bd3786\"],[0.5555555555555556,\"#d8576b\"],[0.6666666666666666,\"#ed7953\"],[0.7777777777777778,\"#fb9f3a\"],[0.8888888888888888,\"#fdca26\"],[1.0,\"#f0f921\"]],\"type\":\"heatmap\"}],\"heatmapgl\":[{\"colorbar\":{\"outlinewidth\":0,\"ticks\":\"\"},\"colorscale\":[[0.0,\"#0d0887\"],[0.1111111111111111,\"#46039f\"],[0.2222222222222222,\"#7201a8\"],[0.3333333333333333,\"#9c179e\"],[0.4444444444444444,\"#bd3786\"],[0.5555555555555556,\"#d8576b\"],[0.6666666666666666,\"#ed7953\"],[0.7777777777777778,\"#fb9f3a\"],[0.8888888888888888,\"#fdca26\"],[1.0,\"#f0f921\"]],\"type\":\"heatmapgl\"}],\"histogram\":[{\"marker\":{\"pattern\":{\"fillmode\":\"overlay\",\"size\":10,\"solidity\":0.2}},\"type\":\"histogram\"}],\"histogram2d\":[{\"colorbar\":{\"outlinewidth\":0,\"ticks\":\"\"},\"colorscale\":[[0.0,\"#0d0887\"],[0.1111111111111111,\"#46039f\"],[0.2222222222222222,\"#7201a8\"],[0.3333333333333333,\"#9c179e\"],[0.4444444444444444,\"#bd3786\"],[0.5555555555555556,\"#d8576b\"],[0.6666666666666666,\"#ed7953\"],[0.7777777777777778,\"#fb9f3a\"],[0.8888888888888888,\"#fdca26\"],[1.0,\"#f0f921\"]],\"type\":\"histogram2d\"}],\"histogram2dcontour\":[{\"colorbar\":{\"outlinewidth\":0,\"ticks\":\"\"},\"colorscale\":[[0.0,\"#0d0887\"],[0.1111111111111111,\"#46039f\"],[0.2222222222222222,\"#7201a8\"],[0.3333333333333333,\"#9c179e\"],[0.4444444444444444,\"#bd3786\"],[0.5555555555555556,\"#d8576b\"],[0.6666666666666666,\"#ed7953\"],[0.7777777777777778,\"#fb9f3a\"],[0.8888888888888888,\"#fdca26\"],[1.0,\"#f0f921\"]],\"type\":\"histogram2dcontour\"}],\"mesh3d\":[{\"colorbar\":{\"outlinewidth\":0,\"ticks\":\"\"},\"type\":\"mesh3d\"}],\"parcoords\":[{\"line\":{\"colorbar\":{\"outlinewidth\":0,\"ticks\":\"\"}},\"type\":\"parcoords\"}],\"pie\":[{\"automargin\":true,\"type\":\"pie\"}],\"scatter\":[{\"marker\":{\"colorbar\":{\"outlinewidth\":0,\"ticks\":\"\"}},\"type\":\"scatter\"}],\"scatter3d\":[{\"line\":{\"colorbar\":{\"outlinewidth\":0,\"ticks\":\"\"}},\"marker\":{\"colorbar\":{\"outlinewidth\":0,\"ticks\":\"\"}},\"type\":\"scatter3d\"}],\"scattercarpet\":[{\"marker\":{\"colorbar\":{\"outlinewidth\":0,\"ticks\":\"\"}},\"type\":\"scattercarpet\"}],\"scattergeo\":[{\"marker\":{\"colorbar\":{\"outlinewidth\":0,\"ticks\":\"\"}},\"type\":\"scattergeo\"}],\"scattergl\":[{\"marker\":{\"colorbar\":{\"outlinewidth\":0,\"ticks\":\"\"}},\"type\":\"scattergl\"}],\"scattermapbox\":[{\"marker\":{\"colorbar\":{\"outlinewidth\":0,\"ticks\":\"\"}},\"type\":\"scattermapbox\"}],\"scatterpolar\":[{\"marker\":{\"colorbar\":{\"outlinewidth\":0,\"ticks\":\"\"}},\"type\":\"scatterpolar\"}],\"scatterpolargl\":[{\"marker\":{\"colorbar\":{\"outlinewidth\":0,\"ticks\":\"\"}},\"type\":\"scatterpolargl\"}],\"scatterternary\":[{\"marker\":{\"colorbar\":{\"outlinewidth\":0,\"ticks\":\"\"}},\"type\":\"scatterternary\"}],\"surface\":[{\"colorbar\":{\"outlinewidth\":0,\"ticks\":\"\"},\"colorscale\":[[0.0,\"#0d0887\"],[0.1111111111111111,\"#46039f\"],[0.2222222222222222,\"#7201a8\"],[0.3333333333333333,\"#9c179e\"],[0.4444444444444444,\"#bd3786\"],[0.5555555555555556,\"#d8576b\"],[0.6666666666666666,\"#ed7953\"],[0.7777777777777778,\"#fb9f3a\"],[0.8888888888888888,\"#fdca26\"],[1.0,\"#f0f921\"]],\"type\":\"surface\"}],\"table\":[{\"cells\":{\"fill\":{\"color\":\"#EBF0F8\"},\"line\":{\"color\":\"white\"}},\"header\":{\"fill\":{\"color\":\"#C8D4E3\"},\"line\":{\"color\":\"white\"}},\"type\":\"table\"}]},\"layout\":{\"annotationdefaults\":{\"arrowcolor\":\"#2a3f5f\",\"arrowhead\":0,\"arrowwidth\":1},\"autotypenumbers\":\"strict\",\"coloraxis\":{\"colorbar\":{\"outlinewidth\":0,\"ticks\":\"\"}},\"colorscale\":{\"diverging\":[[0,\"#8e0152\"],[0.1,\"#c51b7d\"],[0.2,\"#de77ae\"],[0.3,\"#f1b6da\"],[0.4,\"#fde0ef\"],[0.5,\"#f7f7f7\"],[0.6,\"#e6f5d0\"],[0.7,\"#b8e186\"],[0.8,\"#7fbc41\"],[0.9,\"#4d9221\"],[1,\"#276419\"]],\"sequential\":[[0.0,\"#0d0887\"],[0.1111111111111111,\"#46039f\"],[0.2222222222222222,\"#7201a8\"],[0.3333333333333333,\"#9c179e\"],[0.4444444444444444,\"#bd3786\"],[0.5555555555555556,\"#d8576b\"],[0.6666666666666666,\"#ed7953\"],[0.7777777777777778,\"#fb9f3a\"],[0.8888888888888888,\"#fdca26\"],[1.0,\"#f0f921\"]],\"sequentialminus\":[[0.0,\"#0d0887\"],[0.1111111111111111,\"#46039f\"],[0.2222222222222222,\"#7201a8\"],[0.3333333333333333,\"#9c179e\"],[0.4444444444444444,\"#bd3786\"],[0.5555555555555556,\"#d8576b\"],[0.6666666666666666,\"#ed7953\"],[0.7777777777777778,\"#fb9f3a\"],[0.8888888888888888,\"#fdca26\"],[1.0,\"#f0f921\"]]},\"colorway\":[\"#636efa\",\"#EF553B\",\"#00cc96\",\"#ab63fa\",\"#FFA15A\",\"#19d3f3\",\"#FF6692\",\"#B6E880\",\"#FF97FF\",\"#FECB52\"],\"font\":{\"color\":\"#2a3f5f\"},\"geo\":{\"bgcolor\":\"white\",\"lakecolor\":\"white\",\"landcolor\":\"#E5ECF6\",\"showlakes\":true,\"showland\":true,\"subunitcolor\":\"white\"},\"hoverlabel\":{\"align\":\"left\"},\"hovermode\":\"closest\",\"mapbox\":{\"style\":\"light\"},\"paper_bgcolor\":\"white\",\"plot_bgcolor\":\"#E5ECF6\",\"polar\":{\"angularaxis\":{\"gridcolor\":\"white\",\"linecolor\":\"white\",\"ticks\":\"\"},\"bgcolor\":\"#E5ECF6\",\"radialaxis\":{\"gridcolor\":\"white\",\"linecolor\":\"white\",\"ticks\":\"\"}},\"scene\":{\"xaxis\":{\"backgroundcolor\":\"#E5ECF6\",\"gridcolor\":\"white\",\"gridwidth\":2,\"linecolor\":\"white\",\"showbackground\":true,\"ticks\":\"\",\"zerolinecolor\":\"white\"},\"yaxis\":{\"backgroundcolor\":\"#E5ECF6\",\"gridcolor\":\"white\",\"gridwidth\":2,\"linecolor\":\"white\",\"showbackground\":true,\"ticks\":\"\",\"zerolinecolor\":\"white\"},\"zaxis\":{\"backgroundcolor\":\"#E5ECF6\",\"gridcolor\":\"white\",\"gridwidth\":2,\"linecolor\":\"white\",\"showbackground\":true,\"ticks\":\"\",\"zerolinecolor\":\"white\"}},\"shapedefaults\":{\"line\":{\"color\":\"#2a3f5f\"}},\"ternary\":{\"aaxis\":{\"gridcolor\":\"white\",\"linecolor\":\"white\",\"ticks\":\"\"},\"baxis\":{\"gridcolor\":\"white\",\"linecolor\":\"white\",\"ticks\":\"\"},\"bgcolor\":\"#E5ECF6\",\"caxis\":{\"gridcolor\":\"white\",\"linecolor\":\"white\",\"ticks\":\"\"}},\"title\":{\"x\":0.05},\"xaxis\":{\"automargin\":true,\"gridcolor\":\"white\",\"linecolor\":\"white\",\"ticks\":\"\",\"title\":{\"standoff\":15},\"zerolinecolor\":\"white\",\"zerolinewidth\":2},\"yaxis\":{\"automargin\":true,\"gridcolor\":\"white\",\"linecolor\":\"white\",\"ticks\":\"\",\"title\":{\"standoff\":15},\"zerolinecolor\":\"white\",\"zerolinewidth\":2}}},\"scene\":{\"domain\":{\"x\":[0.0,1.0],\"y\":[0.0,1.0]},\"xaxis\":{\"title\":{\"text\":\"sepal_length\"}},\"yaxis\":{\"title\":{\"text\":\"sepal_width\"}},\"zaxis\":{\"title\":{\"text\":\"petal_width\"}}},\"legend\":{\"title\":{\"text\":\"species\"},\"tracegroupgap\":0},\"margin\":{\"t\":60}},                        {\"responsive\": true}                    ).then(function(){\n",
       "                            \n",
       "var gd = document.getElementById('53160939-fdd4-40b3-b2bc-4bf39cd3314a');\n",
       "var x = new MutationObserver(function (mutations, observer) {{\n",
       "        var display = window.getComputedStyle(gd).display;\n",
       "        if (!display || display === 'none') {{\n",
       "            console.log([gd, 'removed!']);\n",
       "            Plotly.purge(gd);\n",
       "            observer.disconnect();\n",
       "        }}\n",
       "}});\n",
       "\n",
       "// Listen for the removal of the full notebook cells\n",
       "var notebookContainer = gd.closest('#notebook-container');\n",
       "if (notebookContainer) {{\n",
       "    x.observe(notebookContainer, {childList: true});\n",
       "}}\n",
       "\n",
       "// Listen for the clearing of the current output cell\n",
       "var outputEl = gd.closest('.output');\n",
       "if (outputEl) {{\n",
       "    x.observe(outputEl, {childList: true});\n",
       "}}\n",
       "\n",
       "                        })                };                });            </script>        </div>"
      ]
     },
     "metadata": {},
     "output_type": "display_data"
    }
   ],
   "source": [
    "fig.show()"
   ]
  },
  {
   "cell_type": "code",
   "execution_count": null,
   "id": "db30d060",
   "metadata": {},
   "outputs": [],
   "source": []
  }
 ],
 "metadata": {
  "kernelspec": {
   "display_name": "Python 3",
   "language": "python",
   "name": "python3"
  },
  "language_info": {
   "codemirror_mode": {
    "name": "ipython",
    "version": 3
   },
   "file_extension": ".py",
   "mimetype": "text/x-python",
   "name": "python",
   "nbconvert_exporter": "python",
   "pygments_lexer": "ipython3",
   "version": "3.9.5"
  }
 },
 "nbformat": 4,
 "nbformat_minor": 5
}
