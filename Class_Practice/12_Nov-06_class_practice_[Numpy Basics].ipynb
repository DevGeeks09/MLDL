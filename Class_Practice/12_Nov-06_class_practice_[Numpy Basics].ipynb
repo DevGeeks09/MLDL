{
 "cells": [
  {
   "cell_type": "code",
   "execution_count": 1,
   "id": "9b55d966",
   "metadata": {},
   "outputs": [],
   "source": [
    "import numpy as np"
   ]
  },
  {
   "cell_type": "code",
   "execution_count": 2,
   "id": "2e8e780d",
   "metadata": {},
   "outputs": [],
   "source": [
    "l = [3,4,5,6,'data','end']\n",
    "ll = [[1,2],\n",
    "      [3,4]]"
   ]
  },
  {
   "cell_type": "markdown",
   "id": "55320114",
   "metadata": {},
   "source": [
    "### Conversion to array using numpy"
   ]
  },
  {
   "cell_type": "markdown",
   "id": "4d6cbe26",
   "metadata": {},
   "source": [
    "#### Using the array() method"
   ]
  },
  {
   "cell_type": "code",
   "execution_count": null,
   "id": "00906daf",
   "metadata": {},
   "outputs": [],
   "source": [
    "arr1 = np.array(l)\n",
    "darr = np.array(ll)\n",
    "\n",
    "display(arr1)\n",
    "display(np.array(l, ndmin = 4))\n",
    "display(np.array([[2,3,4,5]]))\n",
    "display(np.array([[[2,3,4,5]]]))\n",
    "display(np.array([[2,3,4,5],[7,8,9,0]]))\n",
    "display(arr1[0])\n",
    "display(arr1[3::2])\n",
    "display(darr[1][1])\n",
    "display(darr[1,1])"
   ]
  },
  {
   "cell_type": "markdown",
   "id": "e6829195",
   "metadata": {},
   "source": [
    "#### Using the asarray() method"
   ]
  },
  {
   "cell_type": "code",
   "execution_count": null,
   "id": "3f21af46",
   "metadata": {},
   "outputs": [],
   "source": [
    "display(np.asarray([3,4,5,6,7,8], dtype = np.float64))"
   ]
  },
  {
   "cell_type": "markdown",
   "id": "df7a40aa",
   "metadata": {},
   "source": [
    "#### Using the fromfunction() method"
   ]
  },
  {
   "cell_type": "code",
   "execution_count": 12,
   "id": "b5c8296d",
   "metadata": {},
   "outputs": [
    {
     "data": {
      "text/plain": [
       "array([[0, 0],\n",
       "       [0, 1]])"
      ]
     },
     "metadata": {},
     "output_type": "display_data"
    },
    {
     "data": {
      "text/plain": [
       "array([[[0, 1, 2],\n",
       "        [1, 2, 3]],\n",
       "\n",
       "       [[1, 2, 3],\n",
       "        [2, 3, 4]]])"
      ]
     },
     "metadata": {},
     "output_type": "display_data"
    },
    {
     "data": {
      "text/plain": [
       "array([[[0, 1]]])"
      ]
     },
     "metadata": {},
     "output_type": "display_data"
    }
   ],
   "source": [
    "display(np.fromfunction(lambda i,j: i*j, (2,2), dtype = int))\n",
    "display(np.fromfunction(lambda i,j,k: i+j+k, (2,2,3), dtype = int))\n",
    "display(np.fromfunction(lambda i,j,k: i+j+k, (1,1,2), dtype = int))"
   ]
  },
  {
   "cell_type": "markdown",
   "id": "2d69f50f",
   "metadata": {},
   "source": [
    "#### Using the fromiter() and fromstring() method"
   ]
  },
  {
   "cell_type": "code",
   "execution_count": null,
   "id": "abf3a5e4",
   "metadata": {},
   "outputs": [],
   "source": [
    "display(np.fromiter([1,2,3,4,5,6], dtype=int))\n",
    "\n",
    "display(np.fromstring(\"1,2,3,4,5,6\", sep=\",\"))"
   ]
  },
  {
   "cell_type": "markdown",
   "id": "e6ae58e9",
   "metadata": {},
   "source": [
    "#### Other methods"
   ]
  },
  {
   "cell_type": "code",
   "execution_count": null,
   "id": "247a91ec",
   "metadata": {},
   "outputs": [],
   "source": [
    "darr1 = np.fromfunction(lambda i,j,k: i*j*k, (2,2,1), dtype = int)\n",
    "ele1 = np.random.randint(2,10,(2,2))\n",
    "ele2 = np.random.randint(2,10,(2,2))\n",
    "ele3 = np.random.randint(2,10,(2,3))\n",
    "\n",
    "display(darr1.ndim)\n",
    "display(darr1.size)\n",
    "display(darr1.shape)\n",
    "display(darr1.dtype)\n",
    "display(darr1.max())\n",
    "\n",
    "display(np.arange(0,4.6,2.1))\n",
    "display(np.linspace(1,5,10))\n",
    "display(np.zeros(5))\n",
    "display(np.zeros((2,4)))\n",
    "display(np.ones(4))\n",
    "display(np.ones((2,4)))\n",
    "display(np.empty((2,3)))\n",
    "# eye() method will generate a 2D array with 1 on the diagonal positions and 0 elsewhere\n",
    "display(np.eye(5))\n",
    "# generate a array of random given size\n",
    "display(np.random.rand(2,3,3))\n",
    "# generate a array of random given size whose mean will be 1 or standard deviation will be normal\n",
    "display(np.random.randn(2,3,3))\n",
    "display(np.random.randint(3,10, size = 10))\n",
    "display(np.random.randint(3,10, (2,2)))\n",
    "display(darr1.reshape(2,2))\n",
    "\n",
    "#multiplication element wise\n",
    "display(ele1*ele2)\n",
    "#multiplication matrix type\n",
    "display(ele1@ele2)\n",
    "\n",
    "#rotate the array\n",
    "display(ele3,ele3.T)"
   ]
  },
  {
   "cell_type": "markdown",
   "id": "911fd929",
   "metadata": {},
   "source": [
    "### Conversion to matrix using numpy"
   ]
  },
  {
   "cell_type": "code",
   "execution_count": null,
   "id": "73826a63",
   "metadata": {},
   "outputs": [],
   "source": [
    "mat1 = np.mat(np.random.randint(2,10,(2,2)))\n",
    "mat2 = np.mat(np.random.randint(2,10,(2,2)))\n",
    "\n",
    "display(np.mat([l]))\n",
    "display(mat1)\n",
    "display(mat2)\n",
    "display(mat1*mat2)\n",
    "display(mat1@mat2)"
   ]
  },
  {
   "cell_type": "markdown",
   "id": "a75fa4c4",
   "metadata": {},
   "source": [
    "### Other numpy methods"
   ]
  },
  {
   "cell_type": "code",
   "execution_count": null,
   "id": "80bbb945",
   "metadata": {},
   "outputs": [],
   "source": [
    "display(np.log10(ele1))\n",
    "display(np.sqrt(ele1))\n",
    "display(np.pi)"
   ]
  },
  {
   "cell_type": "code",
   "execution_count": null,
   "id": "8c2fc5ae",
   "metadata": {},
   "outputs": [],
   "source": []
  }
 ],
 "metadata": {
  "kernelspec": {
   "display_name": "Python 3",
   "language": "python",
   "name": "python3"
  },
  "language_info": {
   "codemirror_mode": {
    "name": "ipython",
    "version": 3
   },
   "file_extension": ".py",
   "mimetype": "text/x-python",
   "name": "python",
   "nbconvert_exporter": "python",
   "pygments_lexer": "ipython3",
   "version": "3.9.5"
  }
 },
 "nbformat": 4,
 "nbformat_minor": 5
}
