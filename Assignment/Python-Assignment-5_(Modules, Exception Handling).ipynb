{
 "cells": [
  {
   "cell_type": "code",
   "execution_count": null,
   "metadata": {},
   "outputs": [],
   "source": [
    "\"\"\"1. function to compute 5/0 and use try/except to catch the exceptions\"\"\"\n",
    "\n",
    "def compute(a,b):\n",
    "    try:\n",
    "        a/b\n",
    "    except ZeroDivisionError as e:\n",
    "        print(\"Division by Zero is not allowed\")\n",
    "    except Exception as e:\n",
    "        print(\"Some Exception occurred: \",e)\n",
    "    else:\n",
    "        print(\"Computation completed successfully\")"
   ]
  },
  {
   "cell_type": "code",
   "execution_count": null,
   "metadata": {},
   "outputs": [],
   "source": [
    "compute(5,0)\n",
    "compute(0,0)\n",
    "compute(0,1)\n",
    "compute(5,5)"
   ]
  },
  {
   "cell_type": "code",
   "execution_count": 8,
   "metadata": {},
   "outputs": [
    {
     "name": "stdout",
     "output_type": "stream",
     "text": [
      "Enter the subjects, type end to stop the input Americans\n",
      "Enter the subjects, type end to stop the input Indians\n",
      "Enter the subjects, type end to stop the input end\n",
      "Enter the verbs, type end to stop the input play\n",
      "Enter the verbs, type end to stop the input watch\n",
      "Enter the verbs, type end to stop the input end\n",
      "Enter the objects, type end to stop the input football\n",
      "Enter the objects, type end to stop the input cricket\n",
      "Enter the objects, type end to stop the input end\n",
      "\n",
      "Americans play football.\n",
      "Americans play cricket.\n",
      "Americans watch football.\n",
      "Americans watch cricket.\n",
      "Indians play football.\n",
      "Indians play cricket.\n",
      "Indians watch football.\n",
      "Indians watch cricket.\n"
     ]
    }
   ],
   "source": [
    "\"\"\"2. generate all sentences\"\"\"\n",
    "\n",
    "def takeUserInput(msg):\n",
    "    data = str()\n",
    "    dataList = list()\n",
    "    while data != 'end':\n",
    "        data = input(\"Enter the %s, type end to stop the input \" %(msg))\n",
    "        if data != 'end':\n",
    "            dataList.append(data)\n",
    "    return dataList\n",
    "\n",
    "def generateSentences(subList,verbList,objList):\n",
    "    output = list()\n",
    "    for i in subList:\n",
    "        for j in verbList:\n",
    "            for k in objList:\n",
    "                output.append(\"%s %s %s.\" %(i,j,k))\n",
    "    return output\n",
    "\n",
    "subjects = takeUserInput(\"subjects\")\n",
    "verbs = takeUserInput(\"verbs\")\n",
    "objects = takeUserInput(\"objects\")\n",
    "\n",
    "result = generateSentences(subjects,verbs,objects)\n",
    "\n",
    "print(\"\")\n",
    "for x in result:\n",
    "    print(x)\n"
   ]
  }
 ],
 "metadata": {
  "kernelspec": {
   "display_name": "Python 3",
   "language": "python",
   "name": "python3"
  },
  "language_info": {
   "codemirror_mode": {
    "name": "ipython",
    "version": 3
   },
   "file_extension": ".py",
   "mimetype": "text/x-python",
   "name": "python",
   "nbconvert_exporter": "python",
   "pygments_lexer": "ipython3",
   "version": "3.8.5"
  }
 },
 "nbformat": 4,
 "nbformat_minor": 4
}
