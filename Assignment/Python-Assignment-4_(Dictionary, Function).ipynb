{
 "cells": [
  {
   "cell_type": "code",
   "execution_count": 46,
   "metadata": {},
   "outputs": [],
   "source": [
    "\"\"\"1.1 find the area of the triangle\"\"\"\n",
    "\n",
    "class triangle:\n",
    "    def __init__(self):\n",
    "        self._sideA = float(input(\"Enter length of side A: \"))\n",
    "        self._sideB = float(input(\"Enter length of side B: \"))\n",
    "        self._sideC = float(input(\"Enter length of side C: \"))\n",
    "\n",
    "class area(triangle):\n",
    "    def calculateArea(self):\n",
    "        s = (self._sideA + self._sideB + self._sideC) / 2\n",
    "        \n",
    "        self._area = (s*(s-self._sideA)*(s-self._sideB)*(s-self._sideC))**0.5\n",
    "        \n",
    "    def __str__(self):\n",
    "        return \"The area of the triangle is %f\" %(self._area)"
   ]
  },
  {
   "cell_type": "code",
   "execution_count": 47,
   "metadata": {},
   "outputs": [
    {
     "name": "stdout",
     "output_type": "stream",
     "text": [
      "Enter length of side A: 2\n",
      "Enter length of side B: 3\n",
      "Enter length of side C: 4\n",
      "The area of the triangle is 2.904738\n"
     ]
    }
   ],
   "source": [
    "a = area()\n",
    "a.calculateArea()\n",
    "print(a)"
   ]
  },
  {
   "cell_type": "code",
   "execution_count": 49,
   "metadata": {},
   "outputs": [],
   "source": [
    "\"\"\"1.2 filter_long_words() takes a list of words and an integer n and returns list of words that are longer than n.\"\"\"\n",
    "\n",
    "def filter_long_words(wordList,n):\n",
    "    output = list()\n",
    "    for word in wordList:\n",
    "        if len(word) > n:\n",
    "            output.append(word)\n",
    "    return output   "
   ]
  },
  {
   "cell_type": "code",
   "execution_count": 50,
   "metadata": {},
   "outputs": [
    {
     "name": "stdout",
     "output_type": "stream",
     "text": [
      "Scenario 1:  ['acds', 'sdsa', 'asd']\n",
      "Scenario 2:  ['adsfsdf', 'acds', 'sdsa', 'as', 'asd']\n",
      "Scenario 3:  []\n"
     ]
    }
   ],
   "source": [
    "print(\"Scenario 1: \",filter_long_words([\"a\",\"acds\",\"sdsa\",\"as\",\"asd\"],2))\n",
    "print(\"Scenario 2: \",filter_long_words([\"adsfsdf\",\"acds\",\"sdsa\",\"as\",\"asd\"],0))\n",
    "print(\"Scenario 3: \",filter_long_words([\"a\",\"acds\",\"sdsa\",\"as\",\"asd\"],10))"
   ]
  },
  {
   "cell_type": "code",
   "execution_count": 54,
   "metadata": {},
   "outputs": [],
   "source": [
    "\"\"\"2.1 map list of words into a list of integers representing the lengths of the corresponding words.\"\"\"\n",
    "\n",
    "def calculateLength(lst):\n",
    "    output = list()\n",
    "    for x in lst:\n",
    "        output.append(len(x))\n",
    "        \n",
    "    return output"
   ]
  },
  {
   "cell_type": "code",
   "execution_count": 55,
   "metadata": {},
   "outputs": [
    {
     "data": {
      "text/plain": [
       "[2, 3, 4]"
      ]
     },
     "execution_count": 55,
     "metadata": {},
     "output_type": "execute_result"
    }
   ],
   "source": [
    "calculateLength([\"ab\",\"cde\",\"erty\"])"
   ]
  },
  {
   "cell_type": "code",
   "execution_count": 64,
   "metadata": {},
   "outputs": [],
   "source": [
    "\"\"\"2.2 take character and return True if it is a vowel, False otherwise\"\"\"\n",
    "\n",
    "def isVowel(char):\n",
    "    vowels = ('a','e','i','o','u')\n",
    "    \n",
    "    if len(char) > 1:\n",
    "        return \"More than length of 1 character is not allowed\"\n",
    "\n",
    "    for a in vowels:\n",
    "        if a == char:\n",
    "            return True\n",
    "    \n",
    "    return False"
   ]
  },
  {
   "cell_type": "code",
   "execution_count": 65,
   "metadata": {},
   "outputs": [
    {
     "name": "stdout",
     "output_type": "stream",
     "text": [
      "False\n",
      "True\n",
      "True\n",
      "True\n",
      "True\n",
      "True\n",
      "False\n",
      "More than length of 1 character is not allowed\n"
     ]
    }
   ],
   "source": [
    "print(isVowel('s'))\n",
    "print(isVowel('a'))\n",
    "print(isVowel('e'))\n",
    "print(isVowel('i'))\n",
    "print(isVowel('o'))\n",
    "print(isVowel('u'))\n",
    "print(isVowel('d'))\n",
    "print(isVowel('as'))"
   ]
  },
  {
   "cell_type": "code",
   "execution_count": null,
   "metadata": {},
   "outputs": [],
   "source": []
  }
 ],
 "metadata": {
  "kernelspec": {
   "display_name": "Python 3",
   "language": "python",
   "name": "python3"
  },
  "language_info": {
   "codemirror_mode": {
    "name": "ipython",
    "version": 3
   },
   "file_extension": ".py",
   "mimetype": "text/x-python",
   "name": "python",
   "nbconvert_exporter": "python",
   "pygments_lexer": "ipython3",
   "version": "3.8.5"
  }
 },
 "nbformat": 4,
 "nbformat_minor": 4
}
