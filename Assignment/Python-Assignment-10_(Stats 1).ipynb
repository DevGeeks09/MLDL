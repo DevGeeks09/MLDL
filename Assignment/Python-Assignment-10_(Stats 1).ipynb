{
 "cells": [
  {
   "cell_type": "code",
   "execution_count": 1,
   "id": "753211d4",
   "metadata": {},
   "outputs": [],
   "source": [
    "import pandas as pd\n",
    "import numpy as np\n",
    "import matplotlib.pyplot as plt\n",
    "import seaborn as sns\n",
    "from math import comb\n",
    "from scipy.stats import binom"
   ]
  },
  {
   "cell_type": "markdown",
   "id": "0fe4f0ae",
   "metadata": {},
   "source": [
    "### Calculate the mean, median, mode and standard deviation"
   ]
  },
  {
   "cell_type": "markdown",
   "id": "b926ab4f",
   "metadata": {},
   "source": [
    "##### Problem Statement 1:\n",
    "\n",
    "    The marks awarded for an assignment set for a Year 8 class of 20 students were as\n",
    "    follows:   [  6 7 5 7 7 8 7 6 9 7 4 10 6 8 8 9 5 6 4 8  ]"
   ]
  },
  {
   "cell_type": "code",
   "execution_count": 2,
   "id": "a7024fe2",
   "metadata": {},
   "outputs": [],
   "source": [
    "data = pd.DataFrame('6 7 5 7 7 8 7 6 9 7 4 10 6 8 8 9 5 6 4 8'.split(' '),columns=['Marks'], index=range(1,21))\n",
    "data['Marks'] =  data['Marks'].astype(int)"
   ]
  },
  {
   "cell_type": "code",
   "execution_count": 3,
   "id": "31634529",
   "metadata": {},
   "outputs": [
    {
     "name": "stdout",
     "output_type": "stream",
     "text": [
      "Mean -> 6.85\n",
      "Mode -> 7\n",
      "Median -> 7.0\n",
      "Standard deviation -> 1.6311119875071343\n"
     ]
    },
    {
     "data": {
      "image/png": "[encoded data removed]",
      "text/plain": [
       "<Figure size 432x288 with 1 Axes>"
      ]
     },
     "metadata": {
      "needs_background": "light"
     },
     "output_type": "display_data"
    }
   ],
   "source": [
    "plt.hist(data, density=True, color='k', histtype = 'step', label='Data')\n",
    "plt.axvline(data.mean().values[0], color='c', linestyle='-', label='Mean')\n",
    "plt.axvline(data.mode().values[0], color='r', linestyle='--',linewidth=3, label='Mode')\n",
    "plt.axvline(data.median().values[0], color='y', linestyle='-', label='Median')\n",
    "#plt.axvline(data.std().values[0], color='g', linestyle='-', label='std')\n",
    "plt.title(\"Measure of central tendency graph\", size=15)\n",
    "plt.xlabel(\"Marks\")\n",
    "plt.legend(loc='upper right')\n",
    "\n",
    "print(\"Mean -> \"+str(data.mean().values[0]),\n",
    "      \"Mode -> \"+str(data.mode().values[0,0]),\n",
    "      \"Median -> \"+str(data.median().values[0]),\n",
    "      \"Standard deviation -> \"+str(data.std().values[0]),sep=\"\\n\")"
   ]
  },
  {
   "cell_type": "markdown",
   "id": "f0b7fdcb",
   "metadata": {},
   "source": [
    "##### Problem Statement 2:\n",
    "    \n",
    "    The number of calls from motorists per day for roadside service was recorded for a particular month:\n",
    "        [  28, 122, 217, 130, 120, 86, 80, 90, 140, 120, 70, 40, 145, 113, 90, 68, 174, 194, 170, 100, 75, 104, 97, 75,\n",
    "           123, 100, 75, 104, 97, 75, 123, 100, 89, 120, 109 ]"
   ]
  },
  {
   "cell_type": "code",
   "execution_count": 4,
   "id": "336a2d24",
   "metadata": {},
   "outputs": [],
   "source": [
    "data1 = pd.DataFrame([28, 122, 217, 130, 120, 86, 80, 90, 140, 120, 70, 40, 145, 113, 90, 68, 174, 194, 170,\n",
    "100, 75, 104, 97, 75, 123, 100, 75, 104, 97, 75, 123, 100, 89, 120, 109], columns=['No of calls'])"
   ]
  },
  {
   "cell_type": "code",
   "execution_count": 5,
   "id": "9174ee01",
   "metadata": {},
   "outputs": [
    {
     "name": "stdout",
     "output_type": "stream",
     "text": [
      "Mean -> 107.51428571428572\n",
      "Mode -> 75\n",
      "Median -> 100.0\n",
      "Standard deviation -> 39.33892805484412\n"
     ]
    },
    {
     "data": {
      "image/png": "[encoded data removed]",
      "text/plain": [
       "<Figure size 432x288 with 1 Axes>"
      ]
     },
     "metadata": {
      "needs_background": "light"
     },
     "output_type": "display_data"
    }
   ],
   "source": [
    "plt.hist(data1, density=True, color='k', histtype = 'step', label='Data')\n",
    "plt.axvline(data1.mean().values[0], color='c', linestyle='-', label='Mean')\n",
    "plt.axvline(data1.mode().values[0], color='r', linestyle='--',linewidth=3, label='Mode')\n",
    "plt.axvline(data1.median().values[0], color='y', linestyle='-', label='Median')\n",
    "#plt.axvline(data1.std().values[0], color='g', linestyle='-', label='std')\n",
    "plt.title(\"Measure of central tendency graph\",size=15)\n",
    "plt.xlabel(\"Number of calls from motorists per day\")\n",
    "plt.legend(loc='upper right')\n",
    "\n",
    "print(\"Mean -> \"+str(data1.mean().values[0]),\n",
    "      \"Mode -> \"+str(data1.mode().values[0,0]),\n",
    "      \"Median -> \"+str(data1.median().values[0]),\n",
    "      \"Standard deviation -> \"+str(data1.std().values[0]),sep=\"\\n\")"
   ]
  },
  {
   "cell_type": "markdown",
   "id": "c989428f",
   "metadata": {},
   "source": [
    "##### Problem Statement 3:\n",
    "\n",
    "    The number of times I go to the gym in weekdays, are given below along with its associated probability:\n",
    "        x = 0, 1, 2, 3, 4, 5\n",
    "        f(x) = 0.09, 0.15, 0.40, 0.25, 0.10, 0.01\n",
    "    Calculate the mean no. of workouts in a week. Also evaluate the variance involved in it.\n",
    "    \n",
    "   | No of times I go to gym in weekdays | ProbDistribution F(x) |\n",
    "   | --- | --- |\n",
    "   | 0 | 0.09 |\n",
    "   | 1 | 0.15 |\n",
    "   | 2 | 0.40 |\n",
    "   | 3 | 0.25 |\n",
    "   | 4 | 0.10 |\n",
    "   | 5 | 0.01 |\n",
    "   \n",
    "   $$\\text{Formula for mean is:} \\sum_{i=1}^{n} x_{i}*f(x_{i})\n",
    "   \\\\\n",
    "   \\text{Formula for variance is:} \\sum_{i=1}^{n} (Mean - x_{i})^{2}*f(x_{i})\n",
    "   $$"
   ]
  },
  {
   "cell_type": "code",
   "execution_count": 6,
   "id": "5103c32a",
   "metadata": {},
   "outputs": [],
   "source": [
    "x = [0, 1, 2, 3, 4, 5]\n",
    "fx = [0.09, 0.15, 0.40, 0.25, 0.10, 0.01]"
   ]
  },
  {
   "cell_type": "code",
   "execution_count": 7,
   "id": "da4db94c",
   "metadata": {},
   "outputs": [],
   "source": [
    "data2 = pd.DataFrame({'Weekday':x,'Probability':fx})\n",
    "mean_d2 = 0\n",
    "for i in range(len(x)):\n",
    "    mean_d2 = mean_d2 + (x[i]*fx[i])\n",
    "\n",
    "var = 0\n",
    "for i in range(len(x)):\n",
    "    var = var + ((mean_d2-x[i])**2)*fx[i]"
   ]
  },
  {
   "cell_type": "code",
   "execution_count": 8,
   "id": "bd1ba89c",
   "metadata": {},
   "outputs": [
    {
     "name": "stdout",
     "output_type": "stream",
     "text": [
      "Mean -> 2.15\n",
      "Variance -> 1.2275\n"
     ]
    },
    {
     "name": "stderr",
     "output_type": "stream",
     "text": [
      "c:\\users\\acer\\appdata\\local\\programs\\python\\python39\\lib\\site-packages\\seaborn\\distributions.py:2619: FutureWarning: `distplot` is a deprecated function and will be removed in a future version. Please adapt your code to use either `displot` (a figure-level function with similar flexibility) or `histplot` (an axes-level function for histograms).\n",
      "  warnings.warn(msg, FutureWarning)\n"
     ]
    },
    {
     "data": {
      "text/plain": [
       "<AxesSubplot:title={'center':'PDF graph with Mean and Variance'}, xlabel='Probability', ylabel='Density'>"
      ]
     },
     "execution_count": 8,
     "metadata": {},
     "output_type": "execute_result"
    },
    {
     "data": {
      "image/png": "[encoded data removed]",
      "text/plain": [
       "<Figure size 432x288 with 1 Axes>"
      ]
     },
     "metadata": {
      "needs_background": "light"
     },
     "output_type": "display_data"
    }
   ],
   "source": [
    "print(\"Mean -> \"+str(mean_d2),\n",
    "      \"Variance -> \"+str(var),sep=\"\\n\")\n",
    "#plt.plot(x,fx)\n",
    "plt.axhline(mean_d2, label='Mean', color='r', linestyle='--')\n",
    "plt.axhline(var, label='Variance', color='k', linestyle='--')\n",
    "plt.title(\"PDF graph with Mean and Variance\", size=15)\n",
    "plt.xlabel(\"Probability\")\n",
    "plt.legend()\n",
    "\n",
    "sns.distplot(fx, color='blue', hist_kws={'edgecolor':'black'}, kde_kws={'linewidth': 4})"
   ]
  },
  {
   "cell_type": "markdown",
   "id": "c798aaac",
   "metadata": {},
   "source": [
    "##### Problem Statement 4:\n",
    "\n",
    "    Let the continuous random variable D denote the diameter of the hole drilled in an aluminum sheet. The target diameter \n",
    "    to be achieved is 12.5mm. Random disturbances in the process often result in inaccuracy. Historical data shows that the\n",
    "    distribution of D can be modelled by the PDF (d) =20e−20(d−12.5), d ≥ 12.5. If a part with diameter > 12.6 mm needs to\n",
    "    be scrapped,what is the proportion of those parts? What is the CDF when the diameter is of 11mm? What is your conclusion\n",
    "    regarding the proportion of scraps?\n",
    "    \n",
    "    \n",
    "**Answer:** <br>\n",
    "> 1. For Part 1, to calculate the proportion for those parts with diameter > 12.6, we will follow below steps:  \n",
    ">  -  Perform Integration on the PDF function to calculate the area under the curve.\n",
    "\\begin{equation}\n",
    "P(X)= \\int_{12.6}^{\\infty} 20e^{-20(x-12.5)} dx = \\left[-e^{-20(x-12.5)}\\right]_{12.6}^{\\infty}\n",
    "\\end{equation}\n",
    ">  -  To calculate AUC from ∞ to 12.6 put the values in the above calculated formula\n",
    "\\begin{equation}\n",
    "P(X>12.6) = [-e^{-20({\\infty}-12.5)}] - [-e^{-20(12.6-12.5)}]\n",
    "\\\\\n",
    " = [-e^{\\infty}] - [-e^{-20(0.1)}]\n",
    "\\\\\n",
    " = 0 - [-e^{-2}] = \\textbf{0.135}\n",
    "\\end{equation}\n",
    "\n",
    "> 2. For Part 2, the CDF will be 0 as the density function is only valid for values d >= 12.5.\n",
    "> 3. Conclusion for proportion of scraps is:\n",
    "\\begin{equation}\n",
    "  F(x)=\\begin{cases}\n",
    "    0, & \\text{if $x<12.5$}.\\\\\n",
    "    1-e^{-20(x-12.5)}, & \\text{for x>=12.5}.\n",
    "  \\end{cases} \n",
    "  \\\\\n",
    "  \\text{where F(x) is P(12.5 < X < x)}\n",
    "\\end{equation}"
   ]
  },
  {
   "cell_type": "code",
   "execution_count": 14,
   "id": "0e7957c9",
   "metadata": {},
   "outputs": [],
   "source": [
    "def diameter_pdf(a):\n",
    "    if a>12.49:\n",
    "        return 20*np.exp(250-(20*a))\n",
    "    else:\n",
    "        return 0\n",
    "\n",
    "def normalize_Data(aa):\n",
    "    maxval = max(aa)\n",
    "    minval = min(aa)\n",
    "    \n",
    "    return [(k-minval)/(maxval-minval) for k in aa]"
   ]
  },
  {
   "cell_type": "code",
   "execution_count": 15,
   "id": "ed33f8d3",
   "metadata": {},
   "outputs": [
    {
     "data": {
      "text/plain": [
       "Text(0.5, 1.0, 'Probability Density Function')"
      ]
     },
     "execution_count": 15,
     "metadata": {},
     "output_type": "execute_result"
    },
    {
     "data": {
      "image/png": "[encoded data removed]",
      "text/plain": [
       "<Figure size 432x288 with 1 Axes>"
      ]
     },
     "metadata": {
      "needs_background": "light"
     },
     "output_type": "display_data"
    }
   ],
   "source": [
    "arr = np.arange(10.5,15.5,step=0.1)\n",
    "d_pdf = [diameter_pdf(val) for val in arr]\n",
    "\n",
    "newData = pd.DataFrame({'Diameter':arr,'Probability_PDF':normalize_Data(d_pdf)})\n",
    "\n",
    "fig = plt.figure()\n",
    "fig.subplots_adjust(hspace=1, wspace=2)\n",
    "pdf = sns.lineplot(data = newData, x='Diameter',y='Probability_PDF')\n",
    "pdf.set_title(\"Probability Density Function\", fontdict={'fontsize': 15})"
   ]
  },
  {
   "cell_type": "markdown",
   "id": "ee6908ca",
   "metadata": {},
   "source": [
    "##### Problem Statement 5:\n",
    "    A company manufactures LED bulbs with a faulty rate of 30%. If I randomly select 6 chosen LEDs, what is the probability\n",
    "    of having 2 faulty LEDs in my sample? Calculate the average value of this process. Also evaluate the standard deviation\n",
    "    associated with it.\n",
    "\n",
    "**Part 1:What is the probability of having 2 faulty LEDs in my sample?\n",
    "<br>Answer**:\n",
    "$$\\begin{equation} P(X) = {n \\choose x}{p^x}{q^{n-x}} \\end{equation}\\\\ \n",
    "\\\\\n",
    "\\text {where n = no of total events}\n",
    "\\\\\n",
    "\\text{x = no of required events to occur}\n",
    "\\\\\n",
    "\\text{p = probability of success}\n",
    "\\\\\n",
    "\\text{q = probability of failure}\n",
    "$$\n",
    "\n",
    "Using the above formula we can calculate the probability of 2 faulty LEDs occurring.\n",
    "$$\\begin{equation} P(X) = {6 \\choose 2}{ 0.3^ {(2)}}{0.7^{ (6-2)}}\n",
    "\\\\\n",
    "P(X) = {15 * 0.09 * 0.2401}\n",
    "\\\\\n",
    "P(X) = {0.324135}\n",
    "\\end{equation}\n",
    "$$\n",
    "\n",
    "**Part 2:Calculate the average value of this process. Also evaluate the standard deviation associated with it?\n",
    "<br>Answer**:\n",
    "The Mean and standard deviation are calculated using the below formulas:\n",
    "\n",
    "$$\\begin{equation}\\text {Mean }(\\mu) = {n*p} => {(6*0.3)} ==> {1.8}\n",
    "\\\\\n",
    "\\text {Std }(\\sigma) = {\\sqrt{n*p*q}} => {\\sqrt{6*0.3*0.7}} ==> {1.12249}\n",
    "\\end{equation}\n",
    "$$"
   ]
  },
  {
   "cell_type": "code",
   "execution_count": 16,
   "id": "591b71dd",
   "metadata": {},
   "outputs": [
    {
     "name": "stderr",
     "output_type": "stream",
     "text": [
      "c:\\users\\acer\\appdata\\local\\programs\\python\\python39\\lib\\site-packages\\seaborn\\distributions.py:385: UserWarning: `bins` cannot be 'auto' when using weights. Setting `bins=10`, but you will likely want to adjust.\n",
      "  warnings.warn(msg, UserWarning)\n"
     ]
    },
    {
     "data": {
      "text/plain": [
       "<AxesSubplot:xlabel='X', ylabel='Probability'>"
      ]
     },
     "execution_count": 16,
     "metadata": {},
     "output_type": "execute_result"
    },
    {
     "data": {
      "image/png": "[encoded data removed]",
      "text/plain": [
       "<Figure size 432x288 with 1 Axes>"
      ]
     },
     "metadata": {
      "needs_background": "light"
     },
     "output_type": "display_data"
    }
   ],
   "source": [
    "x1 = list(range(6))\n",
    "fx1 = [comb(6,j)*(0.3**j)*(0.7**(6-j)) for j in x1] #fx is the list of probability of faulty LEDs in the choosen 6 bulbs\n",
    "\n",
    "data3 = pd.DataFrame({'X':x1,'Probability of event occurring':fx1})\n",
    "sns.histplot(data=data3,x='X',weights='Probability of event occurring', kde=True, stat='probability')\n",
    "\n"
   ]
  },
  {
   "cell_type": "code",
   "execution_count": null,
   "id": "6b90ff1a",
   "metadata": {},
   "outputs": [],
   "source": []
  },
  {
   "cell_type": "code",
   "execution_count": null,
   "id": "0037b3c8",
   "metadata": {},
   "outputs": [],
   "source": []
  }
 ],
 "metadata": {
  "kernelspec": {
   "display_name": "Python 3",
   "language": "python",
   "name": "python3"
  },
  "language_info": {
   "codemirror_mode": {
    "name": "ipython",
    "version": 3
   },
   "file_extension": ".py",
   "mimetype": "text/x-python",
   "name": "python",
   "nbconvert_exporter": "python",
   "pygments_lexer": "ipython3",
   "version": "3.9.5"
  }
 },
 "nbformat": 4,
 "nbformat_minor": 5
}
