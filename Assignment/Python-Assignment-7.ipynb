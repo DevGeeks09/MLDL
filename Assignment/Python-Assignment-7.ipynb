{
 "cells": [
  {
   "cell_type": "code",
   "execution_count": 29,
   "id": "f9cc48b9",
   "metadata": {},
   "outputs": [],
   "source": [
    "import numpy as np"
   ]
  },
  {
   "cell_type": "code",
   "execution_count": 30,
   "id": "36256b0e",
   "metadata": {},
   "outputs": [],
   "source": [
    "\"\"\"Write a function so that the columns of the output matrix are powers of the input\n",
    "vector.\"\"\"\n",
    "\n",
    "def matrixVande(arr,yaxis,increasing=False):\n",
    "    lst = list()\n",
    "    xaxis = len(list(arr))\n",
    "    for i in range(xaxis):\n",
    "        for j in range(yaxis):\n",
    "            if increasing == False:\n",
    "                lst.append(arr[i]**(yaxis-j-1))\n",
    "            else:\n",
    "                lst.append(arr[i]**(j))\n",
    "            \n",
    "    mat = np.array(lst)\n",
    "    return mat.reshape(xaxis,yaxis)"
   ]
  },
  {
   "cell_type": "markdown",
   "id": "9e5ecd54",
   "metadata": {},
   "source": [
    "### Test cases for the function matrixVande"
   ]
  },
  {
   "cell_type": "code",
   "execution_count": 31,
   "id": "d2232df7",
   "metadata": {},
   "outputs": [
    {
     "data": {
      "text/plain": [
       "'Matrix generated with increasing as False'"
      ]
     },
     "metadata": {},
     "output_type": "display_data"
    },
    {
     "data": {
      "text/plain": [
       "array([[ 1,  1,  1],\n",
       "       [ 4,  2,  1],\n",
       "       [ 9,  3,  1],\n",
       "       [25,  5,  1]])"
      ]
     },
     "metadata": {},
     "output_type": "display_data"
    },
    {
     "data": {
      "text/plain": [
       "array([[ 1,  1,  1],\n",
       "       [16,  4,  1]])"
      ]
     },
     "metadata": {},
     "output_type": "display_data"
    },
    {
     "data": {
      "text/plain": [
       "array([[     1,      1,      1,      1,      1],\n",
       "       [   625,    125,     25,      5,      1],\n",
       "       [ 10000,   1000,    100,     10,      1],\n",
       "       [ 50625,   3375,    225,     15,      1],\n",
       "       [160000,   8000,    400,     20,      1]])"
      ]
     },
     "metadata": {},
     "output_type": "display_data"
    },
    {
     "data": {
      "text/plain": [
       "'Matrix generated with increasing as True'"
      ]
     },
     "metadata": {},
     "output_type": "display_data"
    },
    {
     "data": {
      "text/plain": [
       "array([[ 1,  1,  1],\n",
       "       [ 1,  2,  4],\n",
       "       [ 1,  3,  9],\n",
       "       [ 1,  5, 25]])"
      ]
     },
     "metadata": {},
     "output_type": "display_data"
    },
    {
     "data": {
      "text/plain": [
       "array([[ 1,  1,  1],\n",
       "       [ 1,  4, 16]])"
      ]
     },
     "metadata": {},
     "output_type": "display_data"
    },
    {
     "data": {
      "text/plain": [
       "array([[     1,      1,      1,      1,      1],\n",
       "       [     1,      5,     25,    125,    625],\n",
       "       [     1,     10,    100,   1000,  10000],\n",
       "       [     1,     15,    225,   3375,  50625],\n",
       "       [     1,     20,    400,   8000, 160000]])"
      ]
     },
     "metadata": {},
     "output_type": "display_data"
    }
   ],
   "source": [
    "arr_sce_1, k_sce_1 = [1,2,3,5],3\n",
    "arr_sce_2, k_sce_2 = [1,4],3\n",
    "arr_sce_3, k_sce_3 = [1,5,10,15,20],5\n",
    "\n",
    "display(\"Matrix generated with increasing as False\")\n",
    "display(matrixVande(arr_sce_1,k_sce_1))\n",
    "display(matrixVande(arr_sce_2,k_sce_2))\n",
    "display(matrixVande(arr_sce_3,k_sce_3))\n",
    "\n",
    "display(\"Matrix generated with increasing as True\")\n",
    "display(matrixVande(arr_sce_1,k_sce_1,increasing = True))\n",
    "display(matrixVande(arr_sce_2,k_sce_2,increasing = True))\n",
    "display(matrixVande(arr_sce_3,k_sce_3,increasing = True))"
   ]
  },
  {
   "cell_type": "code",
   "execution_count": 32,
   "id": "49d2d55a",
   "metadata": {},
   "outputs": [],
   "source": [
    "\"\"\"Write a function to find moving average in an array over a window\"\"\"\n",
    "\n",
    "def movingSeqGenerator(arr, window):\n",
    "    sequence = list()\n",
    "    arrLen = len(list(arr))\n",
    "    for i in range(arrLen-window+1):\n",
    "        sum = arr[i]\n",
    "        for j in range(window-1):\n",
    "            sum = sum + arr[i+j+1]\n",
    "        sequence.append(sum/window)\n",
    "        \n",
    "    return sequence"
   ]
  },
  {
   "cell_type": "markdown",
   "id": "a9779c16",
   "metadata": {},
   "source": [
    "### Test cases for the function movingSeqGenerator"
   ]
  },
  {
   "cell_type": "code",
   "execution_count": 33,
   "id": "56c5d2ec",
   "metadata": {},
   "outputs": [
    {
     "data": {
      "text/plain": [
       "[25.0, 35.0, 45.0, 55.0, 65.0, 75.0, 85.0]"
      ]
     },
     "metadata": {},
     "output_type": "display_data"
    },
    {
     "data": {
      "text/plain": [
       "[5.0,\n",
       " 4.666666666666667,\n",
       " 5.666666666666667,\n",
       " 6.666666666666667,\n",
       " 9.666666666666666,\n",
       " 28.666666666666668,\n",
       " 49.333333333333336,\n",
       " 72.66666666666667,\n",
       " 84.0,\n",
       " 93.33333333333333,\n",
       " 116.33333333333333]"
      ]
     },
     "metadata": {},
     "output_type": "display_data"
    }
   ],
   "source": [
    "display(movingSeqGenerator(range(10,101,10),4))\n",
    "display(movingSeqGenerator([3, 5, 7, 2, 8, 10, 11, 65, 72, 81, 99, 100, 150],3))"
   ]
  }
 ],
 "metadata": {
  "kernelspec": {
   "display_name": "Python 3",
   "language": "python",
   "name": "python3"
  },
  "language_info": {
   "codemirror_mode": {
    "name": "ipython",
    "version": 3
   },
   "file_extension": ".py",
   "mimetype": "text/x-python",
   "name": "python",
   "nbconvert_exporter": "python",
   "pygments_lexer": "ipython3",
   "version": "3.9.5"
  }
 },
 "nbformat": 4,
 "nbformat_minor": 5
}
