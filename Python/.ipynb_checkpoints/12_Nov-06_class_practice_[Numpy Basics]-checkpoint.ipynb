{
 "cells": [
  {
   "cell_type": "code",
   "execution_count": 1,
   "id": "9b55d966",
   "metadata": {},
   "outputs": [],
   "source": [
    "import numpy as np"
   ]
  },
  {
   "cell_type": "code",
   "execution_count": 68,
   "id": "2e8e780d",
   "metadata": {},
   "outputs": [],
   "source": [
    "l = [3,4,5,6,'data','end']\n",
    "ll = [[1,2],\n",
    "      [3,4]]"
   ]
  },
  {
   "cell_type": "markdown",
   "id": "55320114",
   "metadata": {},
   "source": [
    "### Conversion to array using numpy"
   ]
  },
  {
   "cell_type": "markdown",
   "id": "4d6cbe26",
   "metadata": {},
   "source": [
    "#### Using the array() method"
   ]
  },
  {
   "cell_type": "code",
   "execution_count": 43,
   "id": "00906daf",
   "metadata": {},
   "outputs": [
    {
     "data": {
      "text/plain": [
       "array(['3', '4', '5', '6', 'data', 'end'], dtype='<U11')"
      ]
     },
     "metadata": {},
     "output_type": "display_data"
    },
    {
     "data": {
      "text/plain": [
       "array([[[['3', '4', '5', '6', 'data', 'end']]]], dtype='<U11')"
      ]
     },
     "metadata": {},
     "output_type": "display_data"
    },
    {
     "data": {
      "text/plain": [
       "array([[2, 3, 4, 5]])"
      ]
     },
     "metadata": {},
     "output_type": "display_data"
    },
    {
     "data": {
      "text/plain": [
       "array([[[2, 3, 4, 5]]])"
      ]
     },
     "metadata": {},
     "output_type": "display_data"
    },
    {
     "data": {
      "text/plain": [
       "array([[2, 3, 4, 5],\n",
       "       [7, 8, 9, 0]])"
      ]
     },
     "metadata": {},
     "output_type": "display_data"
    },
    {
     "data": {
      "text/plain": [
       "'3'"
      ]
     },
     "metadata": {},
     "output_type": "display_data"
    },
    {
     "data": {
      "text/plain": [
       "array(['6', 'end'], dtype='<U11')"
      ]
     },
     "metadata": {},
     "output_type": "display_data"
    },
    {
     "data": {
      "text/plain": [
       "4"
      ]
     },
     "metadata": {},
     "output_type": "display_data"
    },
    {
     "data": {
      "text/plain": [
       "4"
      ]
     },
     "metadata": {},
     "output_type": "display_data"
    }
   ],
   "source": [
    "arr1 = np.array(l)\n",
    "darr = np.array(ll)\n",
    "\n",
    "display(arr1)\n",
    "display(np.array(l, ndmin = 4))\n",
    "display(np.array([[2,3,4,5]]))\n",
    "display(np.array([[[2,3,4,5]]]))\n",
    "display(np.array([[2,3,4,5],[7,8,9,0]]))\n",
    "display(arr1[0])\n",
    "display(arr1[3::2])\n",
    "display(darr[1][1])\n",
    "display(darr[1,1])"
   ]
  },
  {
   "cell_type": "markdown",
   "id": "e6829195",
   "metadata": {},
   "source": [
    "#### Using the asarray() method"
   ]
  },
  {
   "cell_type": "code",
   "execution_count": 40,
   "id": "3f21af46",
   "metadata": {},
   "outputs": [
    {
     "data": {
      "text/plain": [
       "array([3., 4., 5., 6., 7., 8.])"
      ]
     },
     "metadata": {},
     "output_type": "display_data"
    }
   ],
   "source": [
    "display(np.asarray([3,4,5,6,7,8], dtype = np.float64))"
   ]
  },
  {
   "cell_type": "markdown",
   "id": "df7a40aa",
   "metadata": {},
   "source": [
    "#### Using the fromfunction() method"
   ]
  },
  {
   "cell_type": "code",
   "execution_count": 57,
   "id": "b5c8296d",
   "metadata": {},
   "outputs": [
    {
     "data": {
      "text/plain": [
       "array([[0, 0],\n",
       "       [0, 1]])"
      ]
     },
     "metadata": {},
     "output_type": "display_data"
    },
    {
     "data": {
      "text/plain": [
       "array([[[0, 1, 2],\n",
       "        [1, 2, 3]],\n",
       "\n",
       "       [[1, 2, 3],\n",
       "        [2, 3, 4]]])"
      ]
     },
     "metadata": {},
     "output_type": "display_data"
    },
    {
     "data": {
      "text/plain": [
       "array([[[0]],\n",
       "\n",
       "       [[1]]])"
      ]
     },
     "metadata": {},
     "output_type": "display_data"
    }
   ],
   "source": [
    "display(np.fromfunction(lambda i,j: i*j, (2,2), dtype = int))\n",
    "display(np.fromfunction(lambda i,j,k: i+j+k, (2,2,3), dtype = int))\n",
    "display(np.fromfunction(lambda i,j,k: i+j+k, (2,1,1), dtype = int))"
   ]
  },
  {
   "cell_type": "markdown",
   "id": "2d69f50f",
   "metadata": {},
   "source": [
    "#### Using the fromiter() and fromstring() method"
   ]
  },
  {
   "cell_type": "code",
   "execution_count": 77,
   "id": "abf3a5e4",
   "metadata": {},
   "outputs": [
    {
     "data": {
      "text/plain": [
       "array([1, 2, 3, 4, 5, 6])"
      ]
     },
     "metadata": {},
     "output_type": "display_data"
    },
    {
     "data": {
      "text/plain": [
       "array([1., 2., 3., 4., 5., 6.])"
      ]
     },
     "metadata": {},
     "output_type": "display_data"
    }
   ],
   "source": [
    "display(np.fromiter([1,2,3,4,5,6], dtype=int))\n",
    "\n",
    "display(np.fromstring(\"1,2,3,4,5,6\", sep=\",\"))"
   ]
  },
  {
   "cell_type": "markdown",
   "id": "e6ae58e9",
   "metadata": {},
   "source": [
    "#### Other methods"
   ]
  },
  {
   "cell_type": "code",
   "execution_count": 123,
   "id": "247a91ec",
   "metadata": {},
   "outputs": [
    {
     "data": {
      "text/plain": [
       "3"
      ]
     },
     "metadata": {},
     "output_type": "display_data"
    },
    {
     "data": {
      "text/plain": [
       "4"
      ]
     },
     "metadata": {},
     "output_type": "display_data"
    },
    {
     "data": {
      "text/plain": [
       "(2, 2, 1)"
      ]
     },
     "metadata": {},
     "output_type": "display_data"
    },
    {
     "data": {
      "text/plain": [
       "dtype('int32')"
      ]
     },
     "metadata": {},
     "output_type": "display_data"
    },
    {
     "data": {
      "text/plain": [
       "0"
      ]
     },
     "metadata": {},
     "output_type": "display_data"
    },
    {
     "data": {
      "text/plain": [
       "array([0. , 2.1, 4.2])"
      ]
     },
     "metadata": {},
     "output_type": "display_data"
    },
    {
     "data": {
      "text/plain": [
       "array([1.        , 1.44444444, 1.88888889, 2.33333333, 2.77777778,\n",
       "       3.22222222, 3.66666667, 4.11111111, 4.55555556, 5.        ])"
      ]
     },
     "metadata": {},
     "output_type": "display_data"
    },
    {
     "data": {
      "text/plain": [
       "array([0., 0., 0., 0., 0.])"
      ]
     },
     "metadata": {},
     "output_type": "display_data"
    },
    {
     "data": {
      "text/plain": [
       "array([[0., 0., 0., 0.],\n",
       "       [0., 0., 0., 0.]])"
      ]
     },
     "metadata": {},
     "output_type": "display_data"
    },
    {
     "data": {
      "text/plain": [
       "array([1., 1., 1., 1.])"
      ]
     },
     "metadata": {},
     "output_type": "display_data"
    },
    {
     "data": {
      "text/plain": [
       "array([[1., 1., 1., 1.],\n",
       "       [1., 1., 1., 1.]])"
      ]
     },
     "metadata": {},
     "output_type": "display_data"
    },
    {
     "data": {
      "text/plain": [
       "array([[0.00000000e+000, 2.12199579e-314, 2.12199579e-314],\n",
       "       [2.12199579e-314, 0.00000000e+000, 0.00000000e+000]])"
      ]
     },
     "metadata": {},
     "output_type": "display_data"
    },
    {
     "data": {
      "text/plain": [
       "array([[1., 0., 0., 0., 0.],\n",
       "       [0., 1., 0., 0., 0.],\n",
       "       [0., 0., 1., 0., 0.],\n",
       "       [0., 0., 0., 1., 0.],\n",
       "       [0., 0., 0., 0., 1.]])"
      ]
     },
     "metadata": {},
     "output_type": "display_data"
    },
    {
     "data": {
      "text/plain": [
       "array([[[0.33193658, 0.68222385, 0.47627324],\n",
       "        [0.27226151, 0.55557067, 0.66991356],\n",
       "        [0.11986026, 0.44955093, 0.07332296]],\n",
       "\n",
       "       [[0.81721216, 0.41757877, 0.69657071],\n",
       "        [0.46975796, 0.58740746, 0.67801619],\n",
       "        [0.46973792, 0.30581953, 0.54152967]]])"
      ]
     },
     "metadata": {},
     "output_type": "display_data"
    },
    {
     "data": {
      "text/plain": [
       "array([[[-0.23848844, -0.29798469,  0.23845502],\n",
       "        [-0.63641774, -0.27033274,  0.67688374],\n",
       "        [-1.17653214, -0.29527913,  1.36101461]],\n",
       "\n",
       "       [[-1.39004954,  0.14779664, -1.06957936],\n",
       "        [-0.28601082,  1.17767996, -0.62030992],\n",
       "        [-0.79825193, -0.68566708, -1.15998918]]])"
      ]
     },
     "metadata": {},
     "output_type": "display_data"
    },
    {
     "data": {
      "text/plain": [
       "array([8, 6, 6, 6, 3, 6, 9, 7, 6, 9])"
      ]
     },
     "metadata": {},
     "output_type": "display_data"
    },
    {
     "data": {
      "text/plain": [
       "array([[9, 9],\n",
       "       [4, 5]])"
      ]
     },
     "metadata": {},
     "output_type": "display_data"
    },
    {
     "data": {
      "text/plain": [
       "array([[0, 0],\n",
       "       [0, 0]])"
      ]
     },
     "metadata": {},
     "output_type": "display_data"
    },
    {
     "data": {
      "text/plain": [
       "array([[36, 35],\n",
       "       [27, 28]])"
      ]
     },
     "metadata": {},
     "output_type": "display_data"
    },
    {
     "data": {
      "text/plain": [
       "array([[81, 83],\n",
       "       [75, 49]])"
      ]
     },
     "metadata": {},
     "output_type": "display_data"
    },
    {
     "data": {
      "text/plain": [
       "array([[9, 9, 5],\n",
       "       [2, 7, 6]])"
      ]
     },
     "metadata": {},
     "output_type": "display_data"
    },
    {
     "data": {
      "text/plain": [
       "array([[9, 2],\n",
       "       [9, 7],\n",
       "       [5, 6]])"
      ]
     },
     "metadata": {},
     "output_type": "display_data"
    }
   ],
   "source": [
    "darr1 = np.fromfunction(lambda i,j,k: i*j*k, (2,2,1), dtype = int)\n",
    "ele1 = np.random.randint(2,10,(2,2))\n",
    "ele2 = np.random.randint(2,10,(2,2))\n",
    "ele3 = np.random.randint(2,10,(2,3))\n",
    "\n",
    "display(darr1.ndim)\n",
    "display(darr1.size)\n",
    "display(darr1.shape)\n",
    "display(darr1.dtype)\n",
    "display(darr1.max())\n",
    "\n",
    "display(np.arange(0,4.6,2.1))\n",
    "display(np.linspace(1,5,10))\n",
    "display(np.zeros(5))\n",
    "display(np.zeros((2,4)))\n",
    "display(np.ones(4))\n",
    "display(np.ones((2,4)))\n",
    "display(np.empty((2,3)))\n",
    "# eye() method will generate a 2D array with 1 on the diagonal positions and 0 elsewhere\n",
    "display(np.eye(5))\n",
    "# generate a array of random given size\n",
    "display(np.random.rand(2,3,3))\n",
    "# generate a array of random given size whose mean will be 1 or standard deviation will be normal\n",
    "display(np.random.randn(2,3,3))\n",
    "display(np.random.randint(3,10, size = 10))\n",
    "display(np.random.randint(3,10, (2,2)))\n",
    "display(darr1.reshape(2,2))\n",
    "\n",
    "#multiplication element wise\n",
    "display(ele1*ele2)\n",
    "#multiplication matrix type\n",
    "display(ele1@ele2)\n",
    "\n",
    "#rotate the array\n",
    "display(ele3,ele3.T)"
   ]
  },
  {
   "cell_type": "markdown",
   "id": "911fd929",
   "metadata": {},
   "source": [
    "### Conversion to matrix using numpy"
   ]
  },
  {
   "cell_type": "code",
   "execution_count": 119,
   "id": "73826a63",
   "metadata": {},
   "outputs": [
    {
     "data": {
      "text/plain": [
       "matrix([['3', '4', '5', '6', 'data', 'end']], dtype='<U11')"
      ]
     },
     "metadata": {},
     "output_type": "display_data"
    },
    {
     "data": {
      "text/plain": [
       "matrix([[4, 8],\n",
       "        [5, 4]])"
      ]
     },
     "metadata": {},
     "output_type": "display_data"
    },
    {
     "data": {
      "text/plain": [
       "matrix([[6, 8],\n",
       "        [3, 3]])"
      ]
     },
     "metadata": {},
     "output_type": "display_data"
    },
    {
     "data": {
      "text/plain": [
       "matrix([[48, 56],\n",
       "        [42, 52]])"
      ]
     },
     "metadata": {},
     "output_type": "display_data"
    },
    {
     "data": {
      "text/plain": [
       "matrix([[48, 56],\n",
       "        [42, 52]])"
      ]
     },
     "metadata": {},
     "output_type": "display_data"
    }
   ],
   "source": [
    "mat1 = np.mat(np.random.randint(2,10,(2,2)))\n",
    "mat2 = np.mat(np.random.randint(2,10,(2,2)))\n",
    "\n",
    "display(np.mat([l]))\n",
    "display(mat1)\n",
    "display(mat2)\n",
    "display(mat1*mat2)\n",
    "display(mat1@mat2)"
   ]
  },
  {
   "cell_type": "markdown",
   "id": "a75fa4c4",
   "metadata": {},
   "source": [
    "### Other numpy methods"
   ]
  },
  {
   "cell_type": "code",
   "execution_count": 125,
   "id": "80bbb945",
   "metadata": {},
   "outputs": [
    {
     "data": {
      "text/plain": [
       "array([[0.95424251, 0.69897   ],\n",
       "       [0.47712125, 0.84509804]])"
      ]
     },
     "metadata": {},
     "output_type": "display_data"
    },
    {
     "data": {
      "text/plain": [
       "array([[3.        , 2.23606798],\n",
       "       [1.73205081, 2.64575131]])"
      ]
     },
     "metadata": {},
     "output_type": "display_data"
    },
    {
     "data": {
      "text/plain": [
       "3.141592653589793"
      ]
     },
     "metadata": {},
     "output_type": "display_data"
    }
   ],
   "source": [
    "display(np.log10(ele1))\n",
    "display(np.sqrt(ele1))\n",
    "display(np.pi)"
   ]
  },
  {
   "cell_type": "code",
   "execution_count": null,
   "id": "8c2fc5ae",
   "metadata": {},
   "outputs": [],
   "source": []
  }
 ],
 "metadata": {
  "kernelspec": {
   "display_name": "Python 3",
   "language": "python",
   "name": "python3"
  },
  "language_info": {
   "codemirror_mode": {
    "name": "ipython",
    "version": 3
   },
   "file_extension": ".py",
   "mimetype": "text/x-python",
   "name": "python",
   "nbconvert_exporter": "python",
   "pygments_lexer": "ipython3",
   "version": "3.9.5"
  }
 },
 "nbformat": 4,
 "nbformat_minor": 5
}
