{
 "cells": [
  {
   "cell_type": "code",
   "execution_count": 3,
   "metadata": {},
   "outputs": [
    {
     "name": "stdout",
     "output_type": "stream",
     "text": [
      "{1, 2, 3}\n",
      "{3, 4, 5, 6, 7}\n"
     ]
    }
   ],
   "source": [
    "\"\"\"set is a collection that holds unique values only. indexing is not supported in set\"\"\"\n",
    "\n",
    "s = set()\n",
    "s.add(1)\n",
    "s.add(1)\n",
    "s.add(2)\n",
    "s.add(3)\n",
    "\n",
    "print(s)\n",
    "\n",
    "s = {3,4,5,6,6,7,7,3}\n",
    "print(s)"
   ]
  },
  {
   "cell_type": "code",
   "execution_count": 4,
   "metadata": {},
   "outputs": [
    {
     "name": "stdout",
     "output_type": "stream",
     "text": [
      "[3, 4, 5, 6, 7]\n",
      "(3, 4, 5, 6, 7)\n"
     ]
    }
   ],
   "source": [
    "print(list(s))\n",
    "print(tuple(s))"
   ]
  },
  {
   "cell_type": "code",
   "execution_count": 7,
   "metadata": {},
   "outputs": [
    {
     "name": "stdout",
     "output_type": "stream",
     "text": [
      "<class 'dict'>\n",
      "<class 'dict'>\n",
      "<class 'set'>\n",
      "<class 'dict'>\n"
     ]
    }
   ],
   "source": [
    "\"\"\"dictionary is collection that holds value as key-value pair. key should be unique\"\"\"\n",
    "\n",
    "s = {}\n",
    "d = {}\n",
    "\n",
    "print(type(s))\n",
    "print(type(d))\n",
    "\n",
    "s = {1,2,3}\n",
    "d = {\"key\": \"value\"}\n",
    "\n",
    "print(type(s))\n",
    "print(type(d))"
   ]
  },
  {
   "cell_type": "code",
   "execution_count": 8,
   "metadata": {},
   "outputs": [
    {
     "name": "stdout",
     "output_type": "stream",
     "text": [
      "{4: 'valu', 'x1': [1, 2, 3, 45], 'x2': (2, 3, 4, 5)}\n"
     ]
    }
   ],
   "source": [
    "d = {4:\"valu\",\"x1\":[1,2,3,45], \"x2\":(2,3,4,5)}\n",
    "print(d)"
   ]
  },
  {
   "cell_type": "code",
   "execution_count": 21,
   "metadata": {},
   "outputs": [],
   "source": [
    "x = {3:\"4\", (1,2,3):\"x1\", _:45}\n",
    "_ = 3423"
   ]
  },
  {
   "cell_type": "code",
   "execution_count": 22,
   "metadata": {},
   "outputs": [
    {
     "data": {
      "text/plain": [
       "'x1'"
      ]
     },
     "execution_count": 22,
     "metadata": {},
     "output_type": "execute_result"
    }
   ],
   "source": [
    "x[(1,2,3)]"
   ]
  },
  {
   "cell_type": "code",
   "execution_count": 23,
   "metadata": {},
   "outputs": [
    {
     "data": {
      "text/plain": [
       "{'k1': 234, 'k2': 23894, 'k3': 4935, 'k4': {1: 'a', 2: 'b', 3: 'c'}}"
      ]
     },
     "execution_count": 23,
     "metadata": {},
     "output_type": "execute_result"
    }
   ],
   "source": [
    "d = {\"k1\":234, \"k2\":23894, \"k3\":4935, \"k4\":{1:\"a\",2:\"b\",3:\"c\"}}\n",
    "d"
   ]
  },
  {
   "cell_type": "code",
   "execution_count": 27,
   "metadata": {},
   "outputs": [
    {
     "name": "stdout",
     "output_type": "stream",
     "text": [
      "k1\n",
      "k2\n",
      "k3\n",
      "k4\n",
      "dict_keys(['k1', 'k2', 'k3', 'k4'])\n",
      "dict_values([234, 23894, 4935, {1: 'a', 2: 'b', 3: 'c'}])\n",
      "dict_items([('k1', 234), ('k2', 23894), ('k3', 4935), ('k4', {1: 'a', 2: 'b', 3: 'c'})])\n",
      "k1 234\n",
      "k2 23894\n",
      "k3 4935\n",
      "k4 {1: 'a', 2: 'b', 3: 'c'}\n"
     ]
    }
   ],
   "source": [
    "for i in d:\n",
    "    print(i)\n",
    "    \n",
    "print(d.keys())\n",
    "print(d.values())\n",
    "print(d.items())\n",
    "\n",
    "for i in d.keys():\n",
    "    print(i,d[i])"
   ]
  },
  {
   "cell_type": "code",
   "execution_count": 30,
   "metadata": {},
   "outputs": [
    {
     "data": {
      "text/plain": [
       "{0: 0, 1: 1, 2: 4, 3: 9, 4: 16, 5: 25, 6: 36, 7: 49, 8: 64, 9: 81, 10: 100}"
      ]
     },
     "execution_count": 30,
     "metadata": {},
     "output_type": "execute_result"
    }
   ],
   "source": [
    "{i:i**2 for i in range(11)}"
   ]
  },
  {
   "cell_type": "code",
   "execution_count": 31,
   "metadata": {},
   "outputs": [
    {
     "data": {
      "text/plain": [
       "{'i': 'ineuron',\n",
       " 'n': 'ineuron',\n",
       " 'e': 'ineuron',\n",
       " 'u': 'ineuron',\n",
       " 'r': 'ineuron',\n",
       " 'o': 'ineuron'}"
      ]
     },
     "execution_count": 31,
     "metadata": {},
     "output_type": "execute_result"
    }
   ],
   "source": [
    "{i:\"ineuron\" for i in \"ineuron\"}"
   ]
  },
  {
   "cell_type": "code",
   "execution_count": 39,
   "metadata": {},
   "outputs": [
    {
     "name": "stdout",
     "output_type": "stream",
     "text": [
      "90\n"
     ]
    }
   ],
   "source": [
    "d = {\"ineuron\":{\"a\":23, \"b\":34, \"c\":56}, \"course\":{\"d\":45, \"e\":12}, \"g\":[23,45,21], \"k\":(76,66), \"l\":{56,90}, \"j\":True, \"o\":509.09}\n",
    "\n",
    "x = 0\n",
    "for i in d.values():\n",
    "    if type(i) == dict:\n",
    "        for j in i.values():\n",
    "            if x<j:\n",
    "                x = j\n",
    "    elif type(i) == int:\n",
    "        if x<i:\n",
    "            x = i\n",
    "    elif type(i) == list or type(i) == set or type(i) == tuple:\n",
    "        for j in i:\n",
    "            if x < j:\n",
    "                x = j\n",
    "            \n",
    "print(x)"
   ]
  },
  {
   "cell_type": "code",
   "execution_count": null,
   "metadata": {},
   "outputs": [],
   "source": []
  }
 ],
 "metadata": {
  "kernelspec": {
   "display_name": "Python 3",
   "language": "python",
   "name": "python3"
  },
  "language_info": {
   "codemirror_mode": {
    "name": "ipython",
    "version": 3
   },
   "file_extension": ".py",
   "mimetype": "text/x-python",
   "name": "python",
   "nbconvert_exporter": "python",
   "pygments_lexer": "ipython3",
   "version": "3.8.5"
  }
 },
 "nbformat": 4,
 "nbformat_minor": 4
}
