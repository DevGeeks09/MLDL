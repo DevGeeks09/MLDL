{
 "cells": [
  {
   "cell_type": "code",
   "execution_count": 1,
   "metadata": {},
   "outputs": [
    {
     "name": "stdout",
     "output_type": "stream",
     "text": [
      "1\n",
      "2\n",
      "3\n",
      "4\n",
      "false condition\n"
     ]
    }
   ],
   "source": [
    "i = 1\n",
    "n = 5\n",
    "while i < n:\n",
    "    print(i)\n",
    "    i = i+1\n",
    "else:\n",
    "    print(\"false condition\")"
   ]
  },
  {
   "cell_type": "code",
   "execution_count": 2,
   "metadata": {},
   "outputs": [
    {
     "name": "stdout",
     "output_type": "stream",
     "text": [
      "1\n",
      "2\n",
      "3\n",
      "4\n",
      "5\n"
     ]
    }
   ],
   "source": [
    "x = 1\n",
    "while x < 10:\n",
    "    print(x)\n",
    "    if x == 5:\n",
    "        break\n",
    "    x = x+1"
   ]
  },
  {
   "cell_type": "code",
   "execution_count": 4,
   "metadata": {},
   "outputs": [
    {
     "name": "stdout",
     "output_type": "stream",
     "text": [
      "Enter name animal\n",
      "a\n"
     ]
    }
   ],
   "source": [
    "s = input(\"Enter name \")\n",
    "for i in s:\n",
    "    print(i)\n",
    "    if i == \"a\":\n",
    "        break"
   ]
  },
  {
   "cell_type": "code",
   "execution_count": 14,
   "metadata": {},
   "outputs": [
    {
     "name": "stdout",
     "output_type": "stream",
     "text": [
      "Enter name ankita\n",
      "a\n",
      "n\n",
      "i\n",
      "t\n",
      "a\n"
     ]
    }
   ],
   "source": [
    "l = input(\"Enter name \")\n",
    "i = 0\n",
    "while i < len(l):\n",
    "    i = i+1\n",
    "    if i == 3:\n",
    "        continue\n",
    "    print(l[i-1])"
   ]
  },
  {
   "cell_type": "code",
   "execution_count": 29,
   "metadata": {},
   "outputs": [
    {
     "name": "stdout",
     "output_type": "stream",
     "text": [
      "1\n",
      "-1\n",
      "2\n",
      "0\n",
      "['Ine', 'ron']\n",
      "INEURON\n",
      "ineuron\n",
      "iNEURON\n",
      "Ankita\n",
      "['a', 't', 'i', 'k', 'n', 'a']\n"
     ]
    },
    {
     "data": {
      "text/plain": [
       "'ccccccwelcomeccccccc'"
      ]
     },
     "execution_count": 29,
     "metadata": {},
     "output_type": "execute_result"
    }
   ],
   "source": [
    "str = \"Ineuron\"\n",
    "print(str.find(\"n\"))\n",
    "print(str.find('ni'))\n",
    "print(str.count('n'))\n",
    "print(str.count('b'))\n",
    "print(str.split('u'))\n",
    "print(str.upper())\n",
    "print(str.lower())\n",
    "print(str.swapcase())\n",
    "print(\"ankita\".capitalize())\n",
    "\n",
    "s = \"ankita\"\n",
    "print(list(reversed(s)))\n",
    "\n",
    "\" an \".join(\"welcome\")\n",
    "\"welcome\".center(20,'c')"
   ]
  },
  {
   "cell_type": "code",
   "execution_count": 30,
   "metadata": {},
   "outputs": [
    {
     "data": {
      "text/plain": [
       "'ank     sharma'"
      ]
     },
     "execution_count": 30,
     "metadata": {},
     "output_type": "execute_result"
    }
   ],
   "source": [
    "\"ank\\tsharma\".expandtabs()"
   ]
  },
  {
   "cell_type": "code",
   "execution_count": 31,
   "metadata": {},
   "outputs": [
    {
     "data": {
      "text/plain": [
       "'my name is ankita'"
      ]
     },
     "execution_count": 31,
     "metadata": {},
     "output_type": "execute_result"
    }
   ],
   "source": [
    "a = \"my name is {}\"\n",
    "a.format(\"ankita\")"
   ]
  },
  {
   "cell_type": "code",
   "execution_count": 32,
   "metadata": {},
   "outputs": [
    {
     "data": {
      "text/plain": [
       "'my name is ankita and my department is computer science'"
      ]
     },
     "execution_count": 32,
     "metadata": {},
     "output_type": "execute_result"
    }
   ],
   "source": [
    "a = \"my name is {} and my department is {}\"\n",
    "a.format(\"ankita\",\"computer science\")"
   ]
  },
  {
   "cell_type": "code",
   "execution_count": 46,
   "metadata": {},
   "outputs": [
    {
     "name": "stdout",
     "output_type": "stream",
     "text": [
      "True\n"
     ]
    }
   ],
   "source": [
    "l = [\"ank\", 1, True, 2, 3.5, \"sharma\"]\n",
    "print(\"sharma\" in l)"
   ]
  },
  {
   "cell_type": "code",
   "execution_count": 47,
   "metadata": {},
   "outputs": [
    {
     "name": "stdout",
     "output_type": "stream",
     "text": [
      "['ank', 1, True, 2, 3.5, 'sharma', 'ineuron']\n",
      "ineuron\n",
      "True\n",
      "['sharma', 3.5, 2, 1, 'ank']\n",
      "['sharma', 3.5, True, 2, 1, 'ank']\n"
     ]
    }
   ],
   "source": [
    "l.append(\"ineuron\")\n",
    "print(l)\n",
    "print(l.pop())\n",
    "print(l.pop(2))\n",
    "\n",
    "l.reverse()\n",
    "print(l)\n",
    "l.insert(2,True)\n",
    "print(l)"
   ]
  },
  {
   "cell_type": "code",
   "execution_count": 50,
   "metadata": {},
   "outputs": [
    {
     "name": "stdout",
     "output_type": "stream",
     "text": [
      "[1, 2, 3, 4, 45, 56, 67]\n",
      "[1, 2, 3, 4, [45, 56, 67]]\n",
      "[1, 2, 3, 4, [45, 56, 67], [45, 56, 67]]\n",
      "[1, 2, 3, 4, [45, 56, 67], [45, 56, 67], 45, 56, 67]\n"
     ]
    }
   ],
   "source": [
    "l = [1,2,3,4]\n",
    "l1 = [45,56,67]\n",
    "\n",
    "print(l+l1)\n",
    "l.append(l1)\n",
    "print(l)\n",
    "l.insert(-1,l1)\n",
    "print(l)\n",
    "l.extend(l1)\n",
    "print(l)"
   ]
  },
  {
   "cell_type": "code",
   "execution_count": 51,
   "metadata": {},
   "outputs": [
    {
     "data": {
      "text/plain": [
       "[1, 4, 9, 16, 25]"
      ]
     },
     "execution_count": 51,
     "metadata": {},
     "output_type": "execute_result"
    }
   ],
   "source": [
    "s = [1,2,3,4,5]\n",
    "[i**2 for i in s]"
   ]
  },
  {
   "cell_type": "code",
   "execution_count": 53,
   "metadata": {},
   "outputs": [
    {
     "data": {
      "text/plain": [
       "['w', 'e', 'l', 'c', 'o', 'm', 'e']"
      ]
     },
     "execution_count": 53,
     "metadata": {},
     "output_type": "execute_result"
    }
   ],
   "source": [
    "s = \"welcome\"\n",
    "[i for i in s]"
   ]
  },
  {
   "cell_type": "code",
   "execution_count": 58,
   "metadata": {},
   "outputs": [
    {
     "name": "stdout",
     "output_type": "stream",
     "text": [
      "[0, 2, 4, 6, 8, 10, 12, 14, 16, 18]\n",
      "[1, 3, 5, 7, 9, 11, 13, 15, 17, 19]\n",
      "[1, 5, 9, 13, 17, 21, 25, 29, 33, 37]\n"
     ]
    }
   ],
   "source": [
    "even = [a for a in range(20) if a%2==0]\n",
    "odd = [a for a in range(20) if a%2!=0]\n",
    "sum = [even[x]+odd[x] for x in range(10)]\n",
    "\n",
    "print(even)\n",
    "print(odd)\n",
    "print(sum)"
   ]
  },
  {
   "cell_type": "code",
   "execution_count": null,
   "metadata": {},
   "outputs": [],
   "source": []
  }
 ],
 "metadata": {
  "kernelspec": {
   "display_name": "Python 3",
   "language": "python",
   "name": "python3"
  },
  "language_info": {
   "codemirror_mode": {
    "name": "ipython",
    "version": 3
   },
   "file_extension": ".py",
   "mimetype": "text/x-python",
   "name": "python",
   "nbconvert_exporter": "python",
   "pygments_lexer": "ipython3",
   "version": "3.9.5"
  }
 },
 "nbformat": 4,
 "nbformat_minor": 4
}
