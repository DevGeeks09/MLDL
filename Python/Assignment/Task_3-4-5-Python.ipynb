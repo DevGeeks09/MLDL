{
 "cells": [
  {
   "cell_type": "code",
   "execution_count": 4,
   "metadata": {},
   "outputs": [
    {
     "name": "stdout",
     "output_type": "stream",
     "text": [
      "['A', 'B', 'C', 'D', 'E', 'F', 'G', 'H', 'I', 'J', 'K', 'L', 'M', 'N', 'O', 'P', 'Q', 'R', 'S', 'T', 'U', 'V', 'W', 'X', 'Y', 'Z']\n",
      "['a', 'b', 'c', 'd', 'e', 'f', 'g', 'h', 'i', 'j', 'k', 'l', 'm', 'n', 'o', 'p', 'q', 'r', 's', 't', 'u', 'v', 'w', 'x', 'y', 'z']\n"
     ]
    }
   ],
   "source": [
    "\"\"\"Task 3: write a list comprehension operation for generating all the list if alphabetical character in upper and lwer case\"\"\"\n",
    "str = \"abcdefghijklmnopqrstuvwxyz\"\n",
    "upr = [i.upper() for i in str]\n",
    "low = [i.lower() for i in upr]\n",
    "\n",
    "print(upr)\n",
    "print(low)"
   ]
  },
  {
   "cell_type": "code",
   "execution_count": 11,
   "metadata": {},
   "outputs": [
    {
     "name": "stdout",
     "output_type": "stream",
     "text": [
      "Enter number123432\n",
      "not a  palindrome number\n"
     ]
    }
   ],
   "source": [
    "\"\"\"Task 4: write a code for palindrome by using while statement\"\"\"\n",
    "\n",
    "num = int(input(\"Enter number\"))\n",
    "revnum = 0\n",
    "i = num\n",
    "while i>0:\n",
    "    lastnum = i%10\n",
    "    revnum = revnum*10+lastnum\n",
    "    i = i//10\n",
    "else:\n",
    "    pass\n",
    "\n",
    "if revnum == num:\n",
    "    print(\"palindrome number\")\n",
    "else:\n",
    "    print(\"not a  palindrome number\")\n",
    "\n",
    "    "
   ]
  },
  {
   "cell_type": "code",
   "execution_count": 15,
   "metadata": {},
   "outputs": [
    {
     "name": "stdout",
     "output_type": "stream",
     "text": [
      "Enter stringjkbsdaa\n",
      "aabdjks\n"
     ]
    }
   ],
   "source": [
    "\"\"\"Task 5: write a code to sort your string in alphabetical order\"\"\"\n",
    "\n",
    "word = input(\"Enter string\")\n",
    "str = word\n",
    "alphaOrder = \"abcdefghijklmnopqrstuvwxyz\"\n",
    "\n",
    "sortedStr = \"\"\n",
    "\n",
    "while i<len(alphaOrder):\n",
    "    index = str.find(alphaOrder[i])\n",
    "    if index != -1:\n",
    "        sortedStr = sortedStr+alphaOrder[i]\n",
    "        str = str[:index] + str[index+1:]\n",
    "        \n",
    "    if len(sortedStr) == len(word):\n",
    "        break\n",
    "        \n",
    "    if str.find(alphaOrder[i]) == -1:\n",
    "        i = i + 1\n",
    "        \n",
    "print(sortedStr)\n",
    "    "
   ]
  },
  {
   "cell_type": "code",
   "execution_count": null,
   "metadata": {},
   "outputs": [],
   "source": []
  }
 ],
 "metadata": {
  "kernelspec": {
   "display_name": "Python 3",
   "language": "python",
   "name": "python3"
  },
  "language_info": {
   "codemirror_mode": {
    "name": "ipython",
    "version": 3
   },
   "file_extension": ".py",
   "mimetype": "text/x-python",
   "name": "python",
   "nbconvert_exporter": "python",
   "pygments_lexer": "ipython3",
   "version": "3.8.5"
  }
 },
 "nbformat": 4,
 "nbformat_minor": 4
}
