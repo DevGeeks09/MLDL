{
 "cells": [
  {
   "cell_type": "code",
   "execution_count": 9,
   "metadata": {},
   "outputs": [
    {
     "name": "stdout",
     "output_type": "stream",
     "text": [
      "Enter number: 6\n",
      "      * \n",
      "     * * \n",
      "    * * * \n",
      "   * * * * \n",
      "  * * * * * \n",
      " * * * * * * \n",
      "  * * * * * \n",
      "   * * * * \n",
      "    * * * \n",
      "     * * \n",
      "      * \n"
     ]
    }
   ],
   "source": [
    "\"\"\"Task 1\"\"\"\n",
    "a = int(input(\"Enter number: \"))\n",
    "for i in range(a):\n",
    "    j = a-i\n",
    "    for m in range(j):\n",
    "        print(\" \",end=\"\")\n",
    "    for n in range(i+1):\n",
    "        print(\"* \",end=\"\")\n",
    "    print(\"\")\n",
    "\n",
    "for i in range(1,a):\n",
    "    j = a-i\n",
    "    for m in range(i+1):\n",
    "        print(\" \",end=\"\")\n",
    "    for n in range(j):\n",
    "        print(\"* \",end=\"\")\n",
    "    print(\"\")\n",
    "    "
   ]
  },
  {
   "cell_type": "code",
   "execution_count": 8,
   "metadata": {},
   "outputs": [
    {
     "name": "stdout",
     "output_type": "stream",
     "text": [
      "Nested loop:  1->2\n",
      "Nested loop:  2->2\n",
      "Nested loop:  3->2\n",
      "Nested loop:  2->3\n",
      "Nested loop:  8->2\n"
     ]
    }
   ],
   "source": [
    "\"\"\"Task 2\"\"\"\n",
    "l = [[1,1,2,2,3,3],[2,4,2,2,5],[1,5,8,8,2]]\n",
    "\n",
    "for i in l:\n",
    "    result = []\n",
    "    for j in i:\n",
    "        m = 0\n",
    "        for n in i:\n",
    "            if j == n:\n",
    "                m = m+1\n",
    "        \n",
    "        value=str(j)+\"->\"+str(m)\n",
    "        present = False\n",
    "        \n",
    "        for n in result:\n",
    "            if n == value:\n",
    "                present = True\n",
    "                \n",
    "        if m>1 and not present:\n",
    "            result.append(value)\n",
    "            print(\"Nested loop: \",value)\n",
    "                "
   ]
  }
 ],
 "metadata": {
  "kernelspec": {
   "display_name": "Python 3",
   "language": "python",
   "name": "python3"
  },
  "language_info": {
   "codemirror_mode": {
    "name": "ipython",
    "version": 3
   },
   "file_extension": ".py",
   "mimetype": "text/x-python",
   "name": "python",
   "nbconvert_exporter": "python",
   "pygments_lexer": "ipython3",
   "version": "3.8.5"
  }
 },
 "nbformat": 4,
 "nbformat_minor": 4
}
